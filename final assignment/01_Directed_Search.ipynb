{
 "cells": [
  {
   "cell_type": "markdown",
   "id": "42f44fb8",
   "metadata": {},
   "source": [
    "**Imports and Setup**"
   ]
  },
  {
   "cell_type": "code",
   "execution_count": 1,
   "outputs": [],
   "source": [
    "pf_id = 2\n",
    "# n_objectives = 3\n",
    "n_scenarios = 5"
   ],
   "metadata": {
    "collapsed": false,
    "pycharm": {
     "name": "#%%\n"
    }
   }
  },
  {
   "cell_type": "code",
   "execution_count": 2,
   "id": "7e43de4e",
   "metadata": {},
   "outputs": [],
   "source": [
    "import functools\n",
    "import pandas as pd\n",
    "from ema_workbench import (Model, RealParameter, ScalarOutcome,\n",
    "                           MultiprocessingEvaluator, ema_logging,\n",
    "                           Constant, SequentialEvaluator)\n",
    "from ema_workbench import Samplers\n",
    "from ema_workbench.em_framework.optimization import (HyperVolume,\n",
    "                                                     EpsilonProgress)\n",
    "\n",
    "import numpy as np"
   ]
  },
  {
   "cell_type": "code",
   "execution_count": 3,
   "id": "81dbe6b2",
   "metadata": {
    "pycharm": {
     "name": "#%%\n"
    }
   },
   "outputs": [
    {
     "data": {
      "text/plain": "[Policy({'0_RfR 0': 0, '0_RfR 1': 0, '0_RfR 2': 0, '1_RfR 0': 0, '1_RfR 1': 0, '1_RfR 2': 0, '2_RfR 0': 0, '2_RfR 1': 0, '2_RfR 2': 0, '3_RfR 0': 0, '3_RfR 1': 0, '3_RfR 2': 0, '4_RfR 0': 0, '4_RfR 1': 0, '4_RfR 2': 0, 'EWS_DaysToThreat': 0, 'A.1_DikeIncrease 0': 0, 'A.1_DikeIncrease 1': 0, 'A.1_DikeIncrease 2': 0, 'A.2_DikeIncrease 0': 0, 'A.2_DikeIncrease 1': 0, 'A.2_DikeIncrease 2': 0, 'A.3_DikeIncrease 0': 0, 'A.3_DikeIncrease 1': 0, 'A.3_DikeIncrease 2': 0, 'A.4_DikeIncrease 0': 0, 'A.4_DikeIncrease 1': 0, 'A.4_DikeIncrease 2': 0, 'A.5_DikeIncrease 0': 0, 'A.5_DikeIncrease 1': 0, 'A.5_DikeIncrease 2': 0})]"
     },
     "execution_count": 3,
     "metadata": {},
     "output_type": "execute_result"
    }
   ],
   "source": [
    "from problem_formulation import get_model_for_problem_formulation\n",
    "from ema_workbench.util import ema_logging\n",
    "from ema_workbench import Policy\n",
    "\n",
    "ema_logging.log_to_stderr(ema_logging.INFO)\n",
    "\n",
    "model, planning_steps = get_model_for_problem_formulation(pf_id) #changes for each file\n",
    "\n",
    "def get_do_nothing_policies(l_bol = 0, policy_id = 0):\n",
    "    return [Policy('policy %s'%policy_id, **{l.name:l_bol for l in model.levers})]\n",
    "\n",
    "policies = get_do_nothing_policies()\n",
    "policies"
   ]
  },
  {
   "cell_type": "code",
   "execution_count": 4,
   "id": "61b89d2a",
   "metadata": {},
   "outputs": [],
   "source": [
    "\n",
    "# with SequentialEvaluator(model) as evaluator:\n",
    "#     results = evaluator.perform_experiments(scenarios=n_scenarios,               #500\n",
    "#                                             policies=4,\n",
    "#                                             uncertainty_sampling= Samplers.MC) #monty (python) carlo"
   ]
  },
  {
   "cell_type": "code",
   "execution_count": 5,
   "id": "04bacad2",
   "metadata": {
    "pycharm": {
     "name": "#%%\n"
    }
   },
   "outputs": [
    {
     "name": "stderr",
     "output_type": "stream",
     "text": [
      "  0%|                                                  | 0/100 [00:00<?, ?it/s][MainProcess/ERROR] 'DikeIncrease 0'\n",
      "Traceback (most recent call last):\n",
      "  File \"C:\\Users\\Michiel\\anaconda3\\envs\\gds\\lib\\site-packages\\ema_workbench\\em_framework\\experiment_runner.py\", line 92, in run_experiment\n",
      "    model.run_model(scenario, policy)\n",
      "  File \"C:\\Users\\Michiel\\anaconda3\\envs\\gds\\lib\\site-packages\\ema_workbench\\util\\ema_logging.py\", line 152, in wrapper\n",
      "    res = func(*args, **kwargs)\n",
      "  File \"C:\\Users\\Michiel\\anaconda3\\envs\\gds\\lib\\site-packages\\ema_workbench\\em_framework\\model.py\", line 350, in run_model\n",
      "    outputs = self.run_experiment(experiment)\n",
      "  File \"C:\\Users\\Michiel\\anaconda3\\envs\\gds\\lib\\site-packages\\ema_workbench\\util\\ema_logging.py\", line 152, in wrapper\n",
      "    res = func(*args, **kwargs)\n",
      "  File \"C:\\Users\\Michiel\\anaconda3\\envs\\gds\\lib\\site-packages\\ema_workbench\\em_framework\\model.py\", line 403, in run_experiment\n",
      "    model_output = self.function(**experiment)\n",
      "  File \"C:\\Users\\Michiel\\Documents\\GitHub\\MBDM\\final assignment\\dike_model_function.py\", line 160, in __call__\n",
      "    self.progressive_height_and_costs(G, dikelist, self.planning_steps)\n",
      "  File \"C:\\Users\\Michiel\\Documents\\GitHub\\MBDM\\final assignment\\dike_model_function.py\", line 95, in progressive_height_and_costs\n",
      "    node[f'DikeIncrease {s}'] *= self.dh\n",
      "KeyError: 'DikeIncrease 0'\n"
     ]
    },
    {
     "ename": "EMAError",
     "evalue": "exception in run_model\nCaused by: KeyError: 'DikeIncrease 0'",
     "output_type": "error",
     "traceback": [
      "\u001B[1;31m---------------------------------------------------------------------------\u001B[0m",
      "\u001B[1;31mKeyError\u001B[0m                                  Traceback (most recent call last)",
      "\u001B[1;32m~\\anaconda3\\envs\\gds\\lib\\site-packages\\ema_workbench\\em_framework\\experiment_runner.py\u001B[0m in \u001B[0;36mrun_experiment\u001B[1;34m(self, experiment)\u001B[0m\n\u001B[0;32m     91\u001B[0m         \u001B[1;32mtry\u001B[0m\u001B[1;33m:\u001B[0m\u001B[1;33m\u001B[0m\u001B[1;33m\u001B[0m\u001B[0m\n\u001B[1;32m---> 92\u001B[1;33m             \u001B[0mmodel\u001B[0m\u001B[1;33m.\u001B[0m\u001B[0mrun_model\u001B[0m\u001B[1;33m(\u001B[0m\u001B[0mscenario\u001B[0m\u001B[1;33m,\u001B[0m \u001B[0mpolicy\u001B[0m\u001B[1;33m)\u001B[0m\u001B[1;33m\u001B[0m\u001B[1;33m\u001B[0m\u001B[0m\n\u001B[0m\u001B[0;32m     93\u001B[0m         \u001B[1;32mexcept\u001B[0m \u001B[0mCaseError\u001B[0m \u001B[1;32mas\u001B[0m \u001B[0me\u001B[0m\u001B[1;33m:\u001B[0m\u001B[1;33m\u001B[0m\u001B[1;33m\u001B[0m\u001B[0m\n",
      "\u001B[1;32m~\\anaconda3\\envs\\gds\\lib\\site-packages\\ema_workbench\\util\\ema_logging.py\u001B[0m in \u001B[0;36mwrapper\u001B[1;34m(*args, **kwargs)\u001B[0m\n\u001B[0;32m    151\u001B[0m             \u001B[0mlogger\u001B[0m\u001B[1;33m.\u001B[0m\u001B[0mdebug\u001B[0m\u001B[1;33m(\u001B[0m\u001B[1;34mf\"calling {func.__name__} on {classname}\"\u001B[0m\u001B[1;33m)\u001B[0m\u001B[1;33m\u001B[0m\u001B[1;33m\u001B[0m\u001B[0m\n\u001B[1;32m--> 152\u001B[1;33m             \u001B[0mres\u001B[0m \u001B[1;33m=\u001B[0m \u001B[0mfunc\u001B[0m\u001B[1;33m(\u001B[0m\u001B[1;33m*\u001B[0m\u001B[0margs\u001B[0m\u001B[1;33m,\u001B[0m \u001B[1;33m**\u001B[0m\u001B[0mkwargs\u001B[0m\u001B[1;33m)\u001B[0m\u001B[1;33m\u001B[0m\u001B[1;33m\u001B[0m\u001B[0m\n\u001B[0m\u001B[0;32m    153\u001B[0m             \u001B[0mlogger\u001B[0m\u001B[1;33m.\u001B[0m\u001B[0mdebug\u001B[0m\u001B[1;33m(\u001B[0m\u001B[1;34mf\"completed calling {func.__name__} on {classname}\"\u001B[0m\u001B[1;33m)\u001B[0m\u001B[1;33m\u001B[0m\u001B[1;33m\u001B[0m\u001B[0m\n",
      "\u001B[1;32m~\\anaconda3\\envs\\gds\\lib\\site-packages\\ema_workbench\\em_framework\\model.py\u001B[0m in \u001B[0;36mrun_model\u001B[1;34m(self, scenario, policy)\u001B[0m\n\u001B[0;32m    349\u001B[0m \u001B[1;33m\u001B[0m\u001B[0m\n\u001B[1;32m--> 350\u001B[1;33m         \u001B[0moutputs\u001B[0m \u001B[1;33m=\u001B[0m \u001B[0mself\u001B[0m\u001B[1;33m.\u001B[0m\u001B[0mrun_experiment\u001B[0m\u001B[1;33m(\u001B[0m\u001B[0mexperiment\u001B[0m\u001B[1;33m)\u001B[0m\u001B[1;33m\u001B[0m\u001B[1;33m\u001B[0m\u001B[0m\n\u001B[0m\u001B[0;32m    351\u001B[0m \u001B[1;33m\u001B[0m\u001B[0m\n",
      "\u001B[1;32m~\\anaconda3\\envs\\gds\\lib\\site-packages\\ema_workbench\\util\\ema_logging.py\u001B[0m in \u001B[0;36mwrapper\u001B[1;34m(*args, **kwargs)\u001B[0m\n\u001B[0;32m    151\u001B[0m             \u001B[0mlogger\u001B[0m\u001B[1;33m.\u001B[0m\u001B[0mdebug\u001B[0m\u001B[1;33m(\u001B[0m\u001B[1;34mf\"calling {func.__name__} on {classname}\"\u001B[0m\u001B[1;33m)\u001B[0m\u001B[1;33m\u001B[0m\u001B[1;33m\u001B[0m\u001B[0m\n\u001B[1;32m--> 152\u001B[1;33m             \u001B[0mres\u001B[0m \u001B[1;33m=\u001B[0m \u001B[0mfunc\u001B[0m\u001B[1;33m(\u001B[0m\u001B[1;33m*\u001B[0m\u001B[0margs\u001B[0m\u001B[1;33m,\u001B[0m \u001B[1;33m**\u001B[0m\u001B[0mkwargs\u001B[0m\u001B[1;33m)\u001B[0m\u001B[1;33m\u001B[0m\u001B[1;33m\u001B[0m\u001B[0m\n\u001B[0m\u001B[0;32m    153\u001B[0m             \u001B[0mlogger\u001B[0m\u001B[1;33m.\u001B[0m\u001B[0mdebug\u001B[0m\u001B[1;33m(\u001B[0m\u001B[1;34mf\"completed calling {func.__name__} on {classname}\"\u001B[0m\u001B[1;33m)\u001B[0m\u001B[1;33m\u001B[0m\u001B[1;33m\u001B[0m\u001B[0m\n",
      "\u001B[1;32m~\\anaconda3\\envs\\gds\\lib\\site-packages\\ema_workbench\\em_framework\\model.py\u001B[0m in \u001B[0;36mrun_experiment\u001B[1;34m(self, experiment)\u001B[0m\n\u001B[0;32m    402\u001B[0m         \"\"\"\n\u001B[1;32m--> 403\u001B[1;33m         \u001B[0mmodel_output\u001B[0m \u001B[1;33m=\u001B[0m \u001B[0mself\u001B[0m\u001B[1;33m.\u001B[0m\u001B[0mfunction\u001B[0m\u001B[1;33m(\u001B[0m\u001B[1;33m**\u001B[0m\u001B[0mexperiment\u001B[0m\u001B[1;33m)\u001B[0m\u001B[1;33m\u001B[0m\u001B[1;33m\u001B[0m\u001B[0m\n\u001B[0m\u001B[0;32m    404\u001B[0m \u001B[1;33m\u001B[0m\u001B[0m\n",
      "\u001B[1;32m~\\Documents\\GitHub\\MBDM\\final assignment\\dike_model_function.py\u001B[0m in \u001B[0;36m__call__\u001B[1;34m(self, timestep, **kwargs)\u001B[0m\n\u001B[0;32m    159\u001B[0m \u001B[1;33m\u001B[0m\u001B[0m\n\u001B[1;32m--> 160\u001B[1;33m         \u001B[0mself\u001B[0m\u001B[1;33m.\u001B[0m\u001B[0mprogressive_height_and_costs\u001B[0m\u001B[1;33m(\u001B[0m\u001B[0mG\u001B[0m\u001B[1;33m,\u001B[0m \u001B[0mdikelist\u001B[0m\u001B[1;33m,\u001B[0m \u001B[0mself\u001B[0m\u001B[1;33m.\u001B[0m\u001B[0mplanning_steps\u001B[0m\u001B[1;33m)\u001B[0m\u001B[1;33m\u001B[0m\u001B[1;33m\u001B[0m\u001B[0m\n\u001B[0m\u001B[0;32m    161\u001B[0m \u001B[1;33m\u001B[0m\u001B[0m\n",
      "\u001B[1;32m~\\Documents\\GitHub\\MBDM\\final assignment\\dike_model_function.py\u001B[0m in \u001B[0;36mprogressive_height_and_costs\u001B[1;34m(self, G, dikenodes, steps)\u001B[0m\n\u001B[0;32m     94\u001B[0m             \u001B[1;32mfor\u001B[0m \u001B[0ms\u001B[0m \u001B[1;32min\u001B[0m \u001B[0msteps\u001B[0m\u001B[1;33m:\u001B[0m\u001B[1;33m\u001B[0m\u001B[1;33m\u001B[0m\u001B[0m\n\u001B[1;32m---> 95\u001B[1;33m                 \u001B[0mnode\u001B[0m\u001B[1;33m[\u001B[0m\u001B[1;34mf'DikeIncrease {s}'\u001B[0m\u001B[1;33m]\u001B[0m \u001B[1;33m*=\u001B[0m \u001B[0mself\u001B[0m\u001B[1;33m.\u001B[0m\u001B[0mdh\u001B[0m\u001B[1;33m\u001B[0m\u001B[1;33m\u001B[0m\u001B[0m\n\u001B[0m\u001B[0;32m     96\u001B[0m                 \u001B[1;31m# 1 Initialize fragility curve\u001B[0m\u001B[1;33m\u001B[0m\u001B[1;33m\u001B[0m\u001B[1;33m\u001B[0m\u001B[0m\n",
      "\u001B[1;31mKeyError\u001B[0m: 'DikeIncrease 0'",
      "\nDuring handling of the above exception, another exception occurred:\n",
      "\u001B[1;31mEMAError\u001B[0m                                  Traceback (most recent call last)",
      "\u001B[1;32m~\\AppData\\Local\\Temp/ipykernel_3208/3273455853.py\u001B[0m in \u001B[0;36m<module>\u001B[1;34m\u001B[0m\n\u001B[0;32m      1\u001B[0m \u001B[1;32mwith\u001B[0m \u001B[0mSequentialEvaluator\u001B[0m\u001B[1;33m(\u001B[0m\u001B[0mmodel\u001B[0m\u001B[1;33m)\u001B[0m \u001B[1;32mas\u001B[0m \u001B[0mevaluator\u001B[0m\u001B[1;33m:\u001B[0m\u001B[1;33m\u001B[0m\u001B[1;33m\u001B[0m\u001B[0m\n\u001B[1;32m----> 2\u001B[1;33m     \u001B[0mresults\u001B[0m\u001B[1;33m,\u001B[0m \u001B[0mconvergence\u001B[0m \u001B[1;33m=\u001B[0m \u001B[0mevaluator\u001B[0m\u001B[1;33m.\u001B[0m\u001B[0moptimize\u001B[0m\u001B[1;33m(\u001B[0m\u001B[0mnfe\u001B[0m\u001B[1;33m=\u001B[0m\u001B[1;36m100\u001B[0m\u001B[1;33m,\u001B[0m \u001B[0msearchover\u001B[0m\u001B[1;33m=\u001B[0m\u001B[1;34m'uncertainties'\u001B[0m\u001B[1;33m,\u001B[0m \u001B[0mpolicies\u001B[0m\u001B[1;33m=\u001B[0m\u001B[0mpolicies\u001B[0m\u001B[1;33m,\u001B[0m \u001B[0mepsilons\u001B[0m\u001B[1;33m=\u001B[0m\u001B[1;33m[\u001B[0m\u001B[1;36m0.001\u001B[0m\u001B[1;33m,\u001B[0m \u001B[1;36m0.001\u001B[0m\u001B[1;33m,\u001B[0m \u001B[1;36m0.001\u001B[0m\u001B[1;33m,\u001B[0m \u001B[1;36m0.001\u001B[0m\u001B[1;33m,\u001B[0m \u001B[1;36m0.001\u001B[0m\u001B[1;33m]\u001B[0m\u001B[1;33m)\u001B[0m\u001B[1;33m\u001B[0m\u001B[1;33m\u001B[0m\u001B[0m\n\u001B[0m\u001B[0;32m      3\u001B[0m \u001B[1;33m\u001B[0m\u001B[0m\n",
      "\u001B[1;32m~\\anaconda3\\envs\\gds\\lib\\site-packages\\ema_workbench\\em_framework\\evaluators.py\u001B[0m in \u001B[0;36moptimize\u001B[1;34m(self, scenarios, policies, reporting_interval, reporting_frequency, uncertainty_union, lever_union, outcome_union, uncertainty_sampling, lever_sampling, callback, combine, algorithm, nfe, searchover, reference, constraints, convergence_freq, logging_freq, **kwargs)\u001B[0m\n\u001B[0;32m    253\u001B[0m \u001B[1;33m\u001B[0m\u001B[0m\n\u001B[0;32m    254\u001B[0m         \"\"\"\n\u001B[1;32m--> 255\u001B[1;33m         return optimize(\n\u001B[0m\u001B[0;32m    256\u001B[0m             \u001B[0mself\u001B[0m\u001B[1;33m.\u001B[0m\u001B[0m_msis\u001B[0m\u001B[1;33m,\u001B[0m\u001B[1;33m\u001B[0m\u001B[1;33m\u001B[0m\u001B[0m\n\u001B[0;32m    257\u001B[0m             \u001B[0mscenarios\u001B[0m\u001B[1;33m=\u001B[0m\u001B[0mscenarios\u001B[0m\u001B[1;33m,\u001B[0m\u001B[1;33m\u001B[0m\u001B[1;33m\u001B[0m\u001B[0m\n",
      "\u001B[1;32m~\\anaconda3\\envs\\gds\\lib\\site-packages\\ema_workbench\\em_framework\\evaluators.py\u001B[0m in \u001B[0;36moptimize\u001B[1;34m(models, algorithm, nfe, searchover, evaluator, reference, convergence, constraints, convergence_freq, logging_freq, **kwargs)\u001B[0m\n\u001B[0;32m    770\u001B[0m         \u001B[0mevaluator\u001B[0m \u001B[1;33m=\u001B[0m \u001B[0mSequentialEvaluator\u001B[0m\u001B[1;33m(\u001B[0m\u001B[0mmodels\u001B[0m\u001B[1;33m)\u001B[0m\u001B[1;33m\u001B[0m\u001B[1;33m\u001B[0m\u001B[0m\n\u001B[0;32m    771\u001B[0m \u001B[1;33m\u001B[0m\u001B[0m\n\u001B[1;32m--> 772\u001B[1;33m     return _optimize(\n\u001B[0m\u001B[0;32m    773\u001B[0m         \u001B[0mproblem\u001B[0m\u001B[1;33m,\u001B[0m\u001B[1;33m\u001B[0m\u001B[1;33m\u001B[0m\u001B[0m\n\u001B[0;32m    774\u001B[0m         \u001B[0mevaluator\u001B[0m\u001B[1;33m,\u001B[0m\u001B[1;33m\u001B[0m\u001B[1;33m\u001B[0m\u001B[0m\n",
      "\u001B[1;32m~\\anaconda3\\envs\\gds\\lib\\site-packages\\ema_workbench\\em_framework\\optimization.py\u001B[0m in \u001B[0;36m_optimize\u001B[1;34m(problem, evaluator, algorithm, convergence, nfe, convergence_freq, logging_freq, **kwargs)\u001B[0m\n\u001B[0;32m    863\u001B[0m \u001B[1;33m\u001B[0m\u001B[0m\n\u001B[0;32m    864\u001B[0m     \u001B[1;32mwith\u001B[0m \u001B[0mtemporary_filter\u001B[0m\u001B[1;33m(\u001B[0m\u001B[0mname\u001B[0m\u001B[1;33m=\u001B[0m\u001B[1;33m[\u001B[0m\u001B[0mcallbacks\u001B[0m\u001B[1;33m.\u001B[0m\u001B[0m__name__\u001B[0m\u001B[1;33m,\u001B[0m \u001B[0mevaluators\u001B[0m\u001B[1;33m.\u001B[0m\u001B[0m__name__\u001B[0m\u001B[1;33m]\u001B[0m\u001B[1;33m,\u001B[0m \u001B[0mlevel\u001B[0m\u001B[1;33m=\u001B[0m\u001B[0mINFO\u001B[0m\u001B[1;33m)\u001B[0m\u001B[1;33m:\u001B[0m\u001B[1;33m\u001B[0m\u001B[1;33m\u001B[0m\u001B[0m\n\u001B[1;32m--> 865\u001B[1;33m         \u001B[0moptimizer\u001B[0m\u001B[1;33m.\u001B[0m\u001B[0mrun\u001B[0m\u001B[1;33m(\u001B[0m\u001B[0mnfe\u001B[0m\u001B[1;33m)\u001B[0m\u001B[1;33m\u001B[0m\u001B[1;33m\u001B[0m\u001B[0m\n\u001B[0m\u001B[0;32m    866\u001B[0m \u001B[1;33m\u001B[0m\u001B[0m\n\u001B[0;32m    867\u001B[0m     \u001B[0mconvergence\u001B[0m\u001B[1;33m(\u001B[0m\u001B[0moptimizer\u001B[0m\u001B[1;33m)\u001B[0m\u001B[1;33m\u001B[0m\u001B[1;33m\u001B[0m\u001B[0m\n",
      "\u001B[1;32m~\\anaconda3\\envs\\gds\\lib\\site-packages\\platypus\\core.py\u001B[0m in \u001B[0;36mrun\u001B[1;34m(self, condition, callback)\u001B[0m\n\u001B[0;32m    406\u001B[0m \u001B[1;33m\u001B[0m\u001B[0m\n\u001B[0;32m    407\u001B[0m         \u001B[1;32mwhile\u001B[0m \u001B[1;32mnot\u001B[0m \u001B[0mcondition\u001B[0m\u001B[1;33m(\u001B[0m\u001B[0mself\u001B[0m\u001B[1;33m)\u001B[0m\u001B[1;33m:\u001B[0m\u001B[1;33m\u001B[0m\u001B[1;33m\u001B[0m\u001B[0m\n\u001B[1;32m--> 408\u001B[1;33m             \u001B[0mself\u001B[0m\u001B[1;33m.\u001B[0m\u001B[0mstep\u001B[0m\u001B[1;33m(\u001B[0m\u001B[1;33m)\u001B[0m\u001B[1;33m\u001B[0m\u001B[1;33m\u001B[0m\u001B[0m\n\u001B[0m\u001B[0;32m    409\u001B[0m \u001B[1;33m\u001B[0m\u001B[0m\n\u001B[0;32m    410\u001B[0m             \u001B[1;32mif\u001B[0m \u001B[0mself\u001B[0m\u001B[1;33m.\u001B[0m\u001B[0mlog_frequency\u001B[0m \u001B[1;32mis\u001B[0m \u001B[1;32mnot\u001B[0m \u001B[1;32mNone\u001B[0m \u001B[1;32mand\u001B[0m \u001B[0mself\u001B[0m\u001B[1;33m.\u001B[0m\u001B[0mnfe\u001B[0m \u001B[1;33m>=\u001B[0m \u001B[0mlast_log\u001B[0m \u001B[1;33m+\u001B[0m \u001B[0mself\u001B[0m\u001B[1;33m.\u001B[0m\u001B[0mlog_frequency\u001B[0m\u001B[1;33m:\u001B[0m\u001B[1;33m\u001B[0m\u001B[1;33m\u001B[0m\u001B[0m\n",
      "\u001B[1;32m~\\anaconda3\\envs\\gds\\lib\\site-packages\\platypus\\algorithms.py\u001B[0m in \u001B[0;36mstep\u001B[1;34m(self)\u001B[0m\n\u001B[0;32m   1520\u001B[0m \u001B[1;33m\u001B[0m\u001B[0m\n\u001B[0;32m   1521\u001B[0m     \u001B[1;32mdef\u001B[0m \u001B[0mstep\u001B[0m\u001B[1;33m(\u001B[0m\u001B[0mself\u001B[0m\u001B[1;33m)\u001B[0m\u001B[1;33m:\u001B[0m\u001B[1;33m\u001B[0m\u001B[1;33m\u001B[0m\u001B[0m\n\u001B[1;32m-> 1522\u001B[1;33m         \u001B[0mself\u001B[0m\u001B[1;33m.\u001B[0m\u001B[0malgorithm\u001B[0m\u001B[1;33m.\u001B[0m\u001B[0mstep\u001B[0m\u001B[1;33m(\u001B[0m\u001B[1;33m)\u001B[0m\u001B[1;33m\u001B[0m\u001B[1;33m\u001B[0m\u001B[0m\n\u001B[0m\u001B[0;32m   1523\u001B[0m         \u001B[0mself\u001B[0m\u001B[1;33m.\u001B[0m\u001B[0miteration\u001B[0m \u001B[1;33m+=\u001B[0m \u001B[1;36m1\u001B[0m\u001B[1;33m\u001B[0m\u001B[1;33m\u001B[0m\u001B[0m\n\u001B[0;32m   1524\u001B[0m         \u001B[0mself\u001B[0m\u001B[1;33m.\u001B[0m\u001B[0mnfe\u001B[0m \u001B[1;33m=\u001B[0m \u001B[0mself\u001B[0m\u001B[1;33m.\u001B[0m\u001B[0malgorithm\u001B[0m\u001B[1;33m.\u001B[0m\u001B[0mnfe\u001B[0m\u001B[1;33m\u001B[0m\u001B[1;33m\u001B[0m\u001B[0m\n",
      "\u001B[1;32m~\\anaconda3\\envs\\gds\\lib\\site-packages\\platypus\\algorithms.py\u001B[0m in \u001B[0;36mstep\u001B[1;34m(self)\u001B[0m\n\u001B[0;32m    179\u001B[0m     \u001B[1;32mdef\u001B[0m \u001B[0mstep\u001B[0m\u001B[1;33m(\u001B[0m\u001B[0mself\u001B[0m\u001B[1;33m)\u001B[0m\u001B[1;33m:\u001B[0m\u001B[1;33m\u001B[0m\u001B[1;33m\u001B[0m\u001B[0m\n\u001B[0;32m    180\u001B[0m         \u001B[1;32mif\u001B[0m \u001B[0mself\u001B[0m\u001B[1;33m.\u001B[0m\u001B[0mnfe\u001B[0m \u001B[1;33m==\u001B[0m \u001B[1;36m0\u001B[0m\u001B[1;33m:\u001B[0m\u001B[1;33m\u001B[0m\u001B[1;33m\u001B[0m\u001B[0m\n\u001B[1;32m--> 181\u001B[1;33m             \u001B[0mself\u001B[0m\u001B[1;33m.\u001B[0m\u001B[0minitialize\u001B[0m\u001B[1;33m(\u001B[0m\u001B[1;33m)\u001B[0m\u001B[1;33m\u001B[0m\u001B[1;33m\u001B[0m\u001B[0m\n\u001B[0m\u001B[0;32m    182\u001B[0m         \u001B[1;32melse\u001B[0m\u001B[1;33m:\u001B[0m\u001B[1;33m\u001B[0m\u001B[1;33m\u001B[0m\u001B[0m\n\u001B[0;32m    183\u001B[0m             \u001B[0mself\u001B[0m\u001B[1;33m.\u001B[0m\u001B[0miterate\u001B[0m\u001B[1;33m(\u001B[0m\u001B[1;33m)\u001B[0m\u001B[1;33m\u001B[0m\u001B[1;33m\u001B[0m\u001B[0m\n",
      "\u001B[1;32m~\\anaconda3\\envs\\gds\\lib\\site-packages\\platypus\\algorithms.py\u001B[0m in \u001B[0;36minitialize\u001B[1;34m(self)\u001B[0m\n\u001B[0;32m    189\u001B[0m \u001B[1;33m\u001B[0m\u001B[0m\n\u001B[0;32m    190\u001B[0m     \u001B[1;32mdef\u001B[0m \u001B[0minitialize\u001B[0m\u001B[1;33m(\u001B[0m\u001B[0mself\u001B[0m\u001B[1;33m)\u001B[0m\u001B[1;33m:\u001B[0m\u001B[1;33m\u001B[0m\u001B[1;33m\u001B[0m\u001B[0m\n\u001B[1;32m--> 191\u001B[1;33m         \u001B[0msuper\u001B[0m\u001B[1;33m(\u001B[0m\u001B[0mNSGAII\u001B[0m\u001B[1;33m,\u001B[0m \u001B[0mself\u001B[0m\u001B[1;33m)\u001B[0m\u001B[1;33m.\u001B[0m\u001B[0minitialize\u001B[0m\u001B[1;33m(\u001B[0m\u001B[1;33m)\u001B[0m\u001B[1;33m\u001B[0m\u001B[1;33m\u001B[0m\u001B[0m\n\u001B[0m\u001B[0;32m    192\u001B[0m \u001B[1;33m\u001B[0m\u001B[0m\n\u001B[0;32m    193\u001B[0m         \u001B[1;32mif\u001B[0m \u001B[0mself\u001B[0m\u001B[1;33m.\u001B[0m\u001B[0marchive\u001B[0m \u001B[1;32mis\u001B[0m \u001B[1;32mnot\u001B[0m \u001B[1;32mNone\u001B[0m\u001B[1;33m:\u001B[0m\u001B[1;33m\u001B[0m\u001B[1;33m\u001B[0m\u001B[0m\n",
      "\u001B[1;32m~\\anaconda3\\envs\\gds\\lib\\site-packages\\platypus\\algorithms.py\u001B[0m in \u001B[0;36minitialize\u001B[1;34m(self)\u001B[0m\n\u001B[0;32m     70\u001B[0m     \u001B[1;32mdef\u001B[0m \u001B[0minitialize\u001B[0m\u001B[1;33m(\u001B[0m\u001B[0mself\u001B[0m\u001B[1;33m)\u001B[0m\u001B[1;33m:\u001B[0m\u001B[1;33m\u001B[0m\u001B[1;33m\u001B[0m\u001B[0m\n\u001B[0;32m     71\u001B[0m         \u001B[0mself\u001B[0m\u001B[1;33m.\u001B[0m\u001B[0mpopulation\u001B[0m \u001B[1;33m=\u001B[0m \u001B[1;33m[\u001B[0m\u001B[0mself\u001B[0m\u001B[1;33m.\u001B[0m\u001B[0mgenerator\u001B[0m\u001B[1;33m.\u001B[0m\u001B[0mgenerate\u001B[0m\u001B[1;33m(\u001B[0m\u001B[0mself\u001B[0m\u001B[1;33m.\u001B[0m\u001B[0mproblem\u001B[0m\u001B[1;33m)\u001B[0m \u001B[1;32mfor\u001B[0m \u001B[0m_\u001B[0m \u001B[1;32min\u001B[0m \u001B[0mrange\u001B[0m\u001B[1;33m(\u001B[0m\u001B[0mself\u001B[0m\u001B[1;33m.\u001B[0m\u001B[0mpopulation_size\u001B[0m\u001B[1;33m)\u001B[0m\u001B[1;33m]\u001B[0m\u001B[1;33m\u001B[0m\u001B[1;33m\u001B[0m\u001B[0m\n\u001B[1;32m---> 72\u001B[1;33m         \u001B[0mself\u001B[0m\u001B[1;33m.\u001B[0m\u001B[0mevaluate_all\u001B[0m\u001B[1;33m(\u001B[0m\u001B[0mself\u001B[0m\u001B[1;33m.\u001B[0m\u001B[0mpopulation\u001B[0m\u001B[1;33m)\u001B[0m\u001B[1;33m\u001B[0m\u001B[1;33m\u001B[0m\u001B[0m\n\u001B[0m\u001B[0;32m     73\u001B[0m \u001B[1;33m\u001B[0m\u001B[0m\n\u001B[0;32m     74\u001B[0m     \u001B[1;33m@\u001B[0m\u001B[0mabstractmethod\u001B[0m\u001B[1;33m\u001B[0m\u001B[1;33m\u001B[0m\u001B[0m\n",
      "\u001B[1;32m~\\anaconda3\\envs\\gds\\lib\\site-packages\\platypus\\core.py\u001B[0m in \u001B[0;36mevaluate_all\u001B[1;34m(self, solutions)\u001B[0m\n\u001B[0;32m    379\u001B[0m \u001B[1;33m\u001B[0m\u001B[0m\n\u001B[0;32m    380\u001B[0m         \u001B[0mjobs\u001B[0m \u001B[1;33m=\u001B[0m \u001B[1;33m[\u001B[0m\u001B[0m_EvaluateJob\u001B[0m\u001B[1;33m(\u001B[0m\u001B[0ms\u001B[0m\u001B[1;33m)\u001B[0m \u001B[1;32mfor\u001B[0m \u001B[0ms\u001B[0m \u001B[1;32min\u001B[0m \u001B[0munevaluated\u001B[0m\u001B[1;33m]\u001B[0m\u001B[1;33m\u001B[0m\u001B[1;33m\u001B[0m\u001B[0m\n\u001B[1;32m--> 381\u001B[1;33m         \u001B[0mresults\u001B[0m \u001B[1;33m=\u001B[0m \u001B[0mself\u001B[0m\u001B[1;33m.\u001B[0m\u001B[0mevaluator\u001B[0m\u001B[1;33m.\u001B[0m\u001B[0mevaluate_all\u001B[0m\u001B[1;33m(\u001B[0m\u001B[0mjobs\u001B[0m\u001B[1;33m)\u001B[0m\u001B[1;33m\u001B[0m\u001B[1;33m\u001B[0m\u001B[0m\n\u001B[0m\u001B[0;32m    382\u001B[0m \u001B[1;33m\u001B[0m\u001B[0m\n\u001B[0;32m    383\u001B[0m         \u001B[1;31m# if needed, update the original solution with the results\u001B[0m\u001B[1;33m\u001B[0m\u001B[1;33m\u001B[0m\u001B[1;33m\u001B[0m\u001B[0m\n",
      "\u001B[1;32m~\\anaconda3\\envs\\gds\\lib\\site-packages\\ema_workbench\\em_framework\\evaluators.py\u001B[0m in \u001B[0;36mevaluate_all\u001B[1;34m(self, jobs, **kwargs)\u001B[0m\n\u001B[0;32m    170\u001B[0m \u001B[1;33m\u001B[0m\u001B[0m\n\u001B[0;32m    171\u001B[0m         \u001B[1;31m# overwrite the default 10 progress reports  with 5 reports\u001B[0m\u001B[1;33m\u001B[0m\u001B[1;33m\u001B[0m\u001B[1;33m\u001B[0m\u001B[0m\n\u001B[1;32m--> 172\u001B[1;33m         callback = perform_experiments(\n\u001B[0m\u001B[0;32m    173\u001B[0m             \u001B[0mself\u001B[0m\u001B[1;33m.\u001B[0m\u001B[0m_msis\u001B[0m\u001B[1;33m,\u001B[0m\u001B[1;33m\u001B[0m\u001B[1;33m\u001B[0m\u001B[0m\n\u001B[0;32m    174\u001B[0m             \u001B[0mevaluator\u001B[0m\u001B[1;33m=\u001B[0m\u001B[0mself\u001B[0m\u001B[1;33m,\u001B[0m\u001B[1;33m\u001B[0m\u001B[1;33m\u001B[0m\u001B[0m\n",
      "\u001B[1;32m~\\anaconda3\\envs\\gds\\lib\\site-packages\\ema_workbench\\em_framework\\evaluators.py\u001B[0m in \u001B[0;36mperform_experiments\u001B[1;34m(models, scenarios, policies, evaluator, reporting_interval, reporting_frequency, uncertainty_union, lever_union, outcome_union, uncertainty_sampling, lever_sampling, callback, return_callback, combine, log_progress)\u001B[0m\n\u001B[0;32m    593\u001B[0m         \u001B[0mevaluator\u001B[0m \u001B[1;33m=\u001B[0m \u001B[0mSequentialEvaluator\u001B[0m\u001B[1;33m(\u001B[0m\u001B[0mmodels\u001B[0m\u001B[1;33m)\u001B[0m\u001B[1;33m\u001B[0m\u001B[1;33m\u001B[0m\u001B[0m\n\u001B[0;32m    594\u001B[0m \u001B[1;33m\u001B[0m\u001B[0m\n\u001B[1;32m--> 595\u001B[1;33m     \u001B[0mevaluator\u001B[0m\u001B[1;33m.\u001B[0m\u001B[0mevaluate_experiments\u001B[0m\u001B[1;33m(\u001B[0m\u001B[0mscenarios\u001B[0m\u001B[1;33m,\u001B[0m \u001B[0mpolicies\u001B[0m\u001B[1;33m,\u001B[0m \u001B[0mcallback\u001B[0m\u001B[1;33m,\u001B[0m \u001B[0mcombine\u001B[0m\u001B[1;33m=\u001B[0m\u001B[0mcombine\u001B[0m\u001B[1;33m)\u001B[0m\u001B[1;33m\u001B[0m\u001B[1;33m\u001B[0m\u001B[0m\n\u001B[0m\u001B[0;32m    596\u001B[0m \u001B[1;33m\u001B[0m\u001B[0m\n\u001B[0;32m    597\u001B[0m     \u001B[1;32mif\u001B[0m \u001B[0mcallback\u001B[0m\u001B[1;33m.\u001B[0m\u001B[0mi\u001B[0m \u001B[1;33m!=\u001B[0m \u001B[0mnr_of_exp\u001B[0m\u001B[1;33m:\u001B[0m\u001B[1;33m\u001B[0m\u001B[1;33m\u001B[0m\u001B[0m\n",
      "\u001B[1;32m~\\anaconda3\\envs\\gds\\lib\\site-packages\\ema_workbench\\em_framework\\evaluators.py\u001B[0m in \u001B[0;36mevaluate_experiments\u001B[1;34m(self, scenarios, policies, callback, combine)\u001B[0m\n\u001B[0;32m    326\u001B[0m \u001B[1;33m\u001B[0m\u001B[0m\n\u001B[0;32m    327\u001B[0m         \u001B[1;32mfor\u001B[0m \u001B[0mexperiment\u001B[0m \u001B[1;32min\u001B[0m \u001B[0mex_gen\u001B[0m\u001B[1;33m:\u001B[0m\u001B[1;33m\u001B[0m\u001B[1;33m\u001B[0m\u001B[0m\n\u001B[1;32m--> 328\u001B[1;33m             \u001B[0moutcomes\u001B[0m \u001B[1;33m=\u001B[0m \u001B[0mrunner\u001B[0m\u001B[1;33m.\u001B[0m\u001B[0mrun_experiment\u001B[0m\u001B[1;33m(\u001B[0m\u001B[0mexperiment\u001B[0m\u001B[1;33m)\u001B[0m\u001B[1;33m\u001B[0m\u001B[1;33m\u001B[0m\u001B[0m\n\u001B[0m\u001B[0;32m    329\u001B[0m             \u001B[0mcallback\u001B[0m\u001B[1;33m(\u001B[0m\u001B[0mexperiment\u001B[0m\u001B[1;33m,\u001B[0m \u001B[0moutcomes\u001B[0m\u001B[1;33m)\u001B[0m\u001B[1;33m\u001B[0m\u001B[1;33m\u001B[0m\u001B[0m\n\u001B[0;32m    330\u001B[0m         \u001B[0mrunner\u001B[0m\u001B[1;33m.\u001B[0m\u001B[0mcleanup\u001B[0m\u001B[1;33m(\u001B[0m\u001B[1;33m)\u001B[0m\u001B[1;33m\u001B[0m\u001B[1;33m\u001B[0m\u001B[0m\n",
      "\u001B[1;32m~\\anaconda3\\envs\\gds\\lib\\site-packages\\ema_workbench\\util\\ema_logging.py\u001B[0m in \u001B[0;36mwrapper\u001B[1;34m(*args, **kwargs)\u001B[0m\n\u001B[0;32m    150\u001B[0m             \u001B[1;31m# object instance as first arguments in args\u001B[0m\u001B[1;33m\u001B[0m\u001B[1;33m\u001B[0m\u001B[1;33m\u001B[0m\u001B[0m\n\u001B[0;32m    151\u001B[0m             \u001B[0mlogger\u001B[0m\u001B[1;33m.\u001B[0m\u001B[0mdebug\u001B[0m\u001B[1;33m(\u001B[0m\u001B[1;34mf\"calling {func.__name__} on {classname}\"\u001B[0m\u001B[1;33m)\u001B[0m\u001B[1;33m\u001B[0m\u001B[1;33m\u001B[0m\u001B[0m\n\u001B[1;32m--> 152\u001B[1;33m             \u001B[0mres\u001B[0m \u001B[1;33m=\u001B[0m \u001B[0mfunc\u001B[0m\u001B[1;33m(\u001B[0m\u001B[1;33m*\u001B[0m\u001B[0margs\u001B[0m\u001B[1;33m,\u001B[0m \u001B[1;33m**\u001B[0m\u001B[0mkwargs\u001B[0m\u001B[1;33m)\u001B[0m\u001B[1;33m\u001B[0m\u001B[1;33m\u001B[0m\u001B[0m\n\u001B[0m\u001B[0;32m    153\u001B[0m             \u001B[0mlogger\u001B[0m\u001B[1;33m.\u001B[0m\u001B[0mdebug\u001B[0m\u001B[1;33m(\u001B[0m\u001B[1;34mf\"completed calling {func.__name__} on {classname}\"\u001B[0m\u001B[1;33m)\u001B[0m\u001B[1;33m\u001B[0m\u001B[1;33m\u001B[0m\u001B[0m\n\u001B[0;32m    154\u001B[0m             \u001B[1;32mreturn\u001B[0m \u001B[0mres\u001B[0m\u001B[1;33m\u001B[0m\u001B[1;33m\u001B[0m\u001B[0m\n",
      "\u001B[1;32m~\\anaconda3\\envs\\gds\\lib\\site-packages\\ema_workbench\\em_framework\\experiment_runner.py\u001B[0m in \u001B[0;36mrun_experiment\u001B[1;34m(self, experiment)\u001B[0m\n\u001B[0;32m    106\u001B[0m \u001B[1;33m\u001B[0m\u001B[0m\n\u001B[0;32m    107\u001B[0m             \u001B[0merrortype\u001B[0m \u001B[1;33m=\u001B[0m \u001B[0mtype\u001B[0m\u001B[1;33m(\u001B[0m\u001B[0me\u001B[0m\u001B[1;33m)\u001B[0m\u001B[1;33m.\u001B[0m\u001B[0m__name__\u001B[0m\u001B[1;33m\u001B[0m\u001B[1;33m\u001B[0m\u001B[0m\n\u001B[1;32m--> 108\u001B[1;33m             \u001B[1;32mraise\u001B[0m \u001B[0mEMAError\u001B[0m\u001B[1;33m(\u001B[0m\u001B[1;34mf\"exception in run_model\\nCaused by: {errortype}: {str(e)}\"\u001B[0m\u001B[1;33m)\u001B[0m\u001B[1;33m\u001B[0m\u001B[1;33m\u001B[0m\u001B[0m\n\u001B[0m\u001B[0;32m    109\u001B[0m \u001B[1;33m\u001B[0m\u001B[0m\n\u001B[0;32m    110\u001B[0m         \u001B[0moutcomes\u001B[0m \u001B[1;33m=\u001B[0m \u001B[0mmodel\u001B[0m\u001B[1;33m.\u001B[0m\u001B[0moutcomes_output\u001B[0m\u001B[1;33m\u001B[0m\u001B[1;33m\u001B[0m\u001B[0m\n",
      "\u001B[1;31mEMAError\u001B[0m: exception in run_model\nCaused by: KeyError: 'DikeIncrease 0'"
     ]
    }
   ],
   "source": [
    "\n",
    "with SequentialEvaluator(model) as evaluator:\n",
    "    results, convergence = evaluator.optimize(nfe=100, searchover='uncertainties', policies=policies, epsilons=[0.001, 0.001, 0.001, 0.001, 0.001])\n"
   ]
  },
  {
   "cell_type": "markdown",
   "id": "37161558",
   "metadata": {},
   "source": [
    "***Save Outputs***"
   ]
  },
  {
   "cell_type": "code",
   "execution_count": null,
   "id": "2d745a0b",
   "metadata": {},
   "outputs": [],
   "source": []
  },
  {
   "cell_type": "markdown",
   "id": "7ebe88c9",
   "metadata": {},
   "source": [
    "**Narrow Down Using epsilon progress and hypervolume**"
   ]
  },
  {
   "cell_type": "code",
   "execution_count": null,
   "id": "d6426cc2",
   "metadata": {
    "pycharm": {
     "name": "#%%\n"
    }
   },
   "outputs": [],
   "source": [
    "model.outcomes = [ScalarOutcome('Expected Annual Damage', kind=ScalarOutcome.MINIMIZE,\n",
    "                                     expected_range=(0,5)),\n",
    "                       ScalarOutcome('Dike Investment Costs', kind=ScalarOutcome.MINIMIZE,\n",
    "                                     expected_range=(0,2)),\n",
    "                       ScalarOutcome('RfR Investment Costs', kind=ScalarOutcome.MINIMIZE,\n",
    "                                    expected_range=(0,1)),\n",
    "                       ScalarOutcome('Evacuation Costs', kind=ScalarOutcome.MINIMIZE,\n",
    "                                     expected_range=(0,1)),\n",
    "                    ScalarOutcome('Expected Number of Deaths', kind=ScalarOutcome.MINIMIZE,\n",
    "                                     expected_range=(0,1))]\n"
   ]
  },
  {
   "cell_type": "code",
   "execution_count": null,
   "id": "a9cc23c8",
   "metadata": {},
   "outputs": [],
   "source": [
    "convergence = [HyperVolume(minimum=[0,0,0,0,0], maximum=[1, 1, 1, 1, 1]),\n",
    "               EpsilonProgress()]"
   ]
  },
  {
   "cell_type": "markdown",
   "id": "f2171c6e",
   "metadata": {},
   "source": [
    "**Robustness**"
   ]
  },
  {
   "cell_type": "markdown",
   "id": "70afa21a",
   "metadata": {},
   "source": [
    "**Robustness Function**"
   ]
  },
  {
   "cell_type": "code",
   "execution_count": null,
   "id": "065142c9",
   "metadata": {},
   "outputs": [],
   "source": [
    "import functools\n",
    "import pandas as pd\n",
    "\n",
    "def robustness(direction, threshold, data):\n",
    "    if direction == SMALLER:\n",
    "        return np.sum(data<=threshold)/data.shape[0]\n",
    "    else:\n",
    "        return np.sum(data>=threshold)/data.shape[0]\n",
    "\n",
    "SMALLER = 'SMALLER'\n",
    "\n",
    "Expected_Annual_Damage = functools.partial(robustness, SMALLER, 1000) #THOSE NUMBERS NEED TO BE SPECIFIED AGAINS\n",
    "Dike_Investment_Costs = functools.partial(robustness, SMALLER, 1000)\n",
    "RfR_Investment_Costs = functools.partial(robustness, SMALLER, 1000)\n",
    "Evacuation_Costs = functools.partial(robustness, SMALLER, 1000)\n",
    "Expected_Number_of_Deaths = functools.partial(robustness, SMALLER, 0.000001) #not ok"
   ]
  },
  {
   "cell_type": "code",
   "execution_count": null,
   "id": "c7c00e57",
   "metadata": {},
   "outputs": [],
   "source": [
    "import matplotlib.pyplot as plt\n",
    "import numpy as np\n",
    "fig, axes = plt.subplots(ncols=2, nrows=3, figsize=(10,10),\n",
    "                        sharex=True)\n",
    "axes = [axes[0,0],axes[0,1],axes[1,0],axes[1,1]]                             #axes[1,1]\n",
    "\n",
    "robustness_funcs = {\"Expected Annual Damage\": Expected_Annual_Damage,\n",
    "                    \"Dike Investment Costs\": Dike_Investment_Costs,\n",
    "                    \"RfR Investment Costs\": RfR_Investment_Costs,\n",
    "                    \"Evacuation Costs\": Evacuation_Costs,\n",
    "                    \"Expected Number of Deaths\": Expected_Number_of_Deaths}\n",
    "\n",
    "experiments, outcomes = results\n",
    "\n",
    "for ax, (outcome, value) in zip(axes, outcomes.items()):\n",
    "    for policy in np.unique(experiments['policy']):\n",
    "        logical = experiments['policy'] == policy\n",
    "        data = value[logical]\n",
    "        \n",
    "        robustness = []\n",
    "      \n",
    "        for i in range(1, data.shape[0]):\n",
    "            robustness.append(robustness_funcs[outcome](data[0:i]))\n",
    "        ax.plot(robustness, label=policy)\n",
    "\n",
    "    ax.set_xlabel(\"# experiments\")\n",
    "    ax.set_ylabel(outcome)"
   ]
  },
  {
   "cell_type": "code",
   "execution_count": null,
   "id": "135cc4e5",
   "metadata": {},
   "outputs": [],
   "source": []
  },
  {
   "cell_type": "code",
   "execution_count": null,
   "id": "bff63227",
   "metadata": {},
   "outputs": [],
   "source": []
  }
 ],
 "metadata": {
  "kernelspec": {
   "display_name": "Python 3 (ipykernel)",
   "language": "python",
   "name": "python3"
  },
  "language_info": {
   "codemirror_mode": {
    "name": "ipython",
    "version": 3
   },
   "file_extension": ".py",
   "mimetype": "text/x-python",
   "name": "python",
   "nbconvert_exporter": "python",
   "pygments_lexer": "ipython3",
   "version": "3.8.10"
  }
 },
 "nbformat": 4,
 "nbformat_minor": 5
}