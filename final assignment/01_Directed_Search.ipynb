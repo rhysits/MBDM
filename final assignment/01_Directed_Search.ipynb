{
 "cells": [
  {
   "cell_type": "markdown",
   "id": "3ff75a28",
   "metadata": {},
   "source": [
    "**Imports and Setup**"
   ]
  },
  {
   "cell_type": "code",
   "execution_count": 7,
   "id": "064a16b3",
   "metadata": {
    "collapsed": false,
    "jupyter": {
     "outputs_hidden": false
    },
    "pycharm": {
     "name": "#%%\n"
    }
   },
   "outputs": [],
   "source": [
    "pf_id = 2\n",
    "# n_objectives = 3\n",
    "n_scenarios = 5"
   ]
  },
  {
   "cell_type": "code",
   "execution_count": 8,
   "id": "967a8edf",
   "metadata": {},
   "outputs": [],
   "source": [
    "import functools\n",
    "import pandas as pd\n",
    "from ema_workbench import (Model, RealParameter, ScalarOutcome,\n",
    "                           MultiprocessingEvaluator, ema_logging,\n",
    "                           Constant, SequentialEvaluator)\n",
    "from ema_workbench import Samplers\n",
    "from ema_workbench.em_framework.optimization import (HyperVolume,\n",
    "                                                     EpsilonProgress)\n",
    "\n",
    "import numpy as np"
   ]
  },
  {
   "cell_type": "code",
   "execution_count": 9,
   "id": "e2a20e31",
   "metadata": {
    "pycharm": {
     "name": "#%%\n"
    }
   },
   "outputs": [],
   "source": [
    "from problem_formulation import get_model_for_problem_formulation\n",
    "from ema_workbench.util import ema_logging\n",
    "from ema_workbench import Policy\n",
    "from dike_model_function import DikeNetwork\n",
    "from ema_workbench import (Model, CategoricalParameter,\n",
    "                           ScalarOutcome, IntegerParameter, RealParameter)\n",
    "\n",
    "ema_logging.log_to_stderr(ema_logging.INFO)\n",
    "\n",
    "model, planning_steps = get_model_for_problem_formulation(pf_id) #changes for each file\n",
    "\n",
    "# def get_do_nothing_policies(l_bol = 0, policy_id = 0):\n",
    "#     return [Policy('policy %s'%policy_id, **{l.name:l_bol for l in model.levers})]\n",
    "\n",
    "# policies = get_do_nothing_policies()\n",
    "# policies\n",
    "uncertainties = []"
   ]
  },
  {
   "cell_type": "code",
   "execution_count": 10,
   "outputs": [],
   "source": [
    "# # Load the model:\n",
    "# function = DikeNetwork()\n",
    "# # workbench model:\n",
    "# dike_model = Model('dikesnet', function=function)\n",
    "\n",
    "# # Specify uncertainties range:\n",
    "# Real_uncert = {'Bmax': [30, 350], 'pfail': [0, 1]}  # m and [.]\n",
    "# # breach growth rate [m/day]\n",
    "# cat_uncert_loc = {'Brate': (1., 1.5, 10)}\n",
    "\n",
    "# cat_uncert = {f'discount rate {n}': (1.5, 2.5, 3.5, 4.5)\n",
    "#                 for n in function.planning_steps}\n",
    "\n",
    "# Int_uncert = {'A.0_ID flood wave shape': [0, 132]}\n",
    "# # Range of dike heightening:\n",
    "# dike_lev = {'DikeIncrease': [0, 10]}    # dm\n",
    "\n",
    "# # Series of five Room for the River projects:\n",
    "# rfr_lev = [f'{project_id}_RfR' for project_id in range(0, 5)]\n",
    "\n",
    "# EWS_lev = {'EWS_DaysToThreat': [0, 4]}  # days\n",
    "\n",
    "# uncertainties = []\n",
    "# levers = []\n",
    "\n",
    "# for uncert_name in cat_uncert.keys():\n",
    "#     categories = cat_uncert[uncert_name]\n",
    "#     uncertainties.append(CategoricalParameter(uncert_name, categories))\n",
    "\n",
    "# for uncert_name in Int_uncert.keys():\n",
    "#     uncertainties.append(IntegerParameter(uncert_name, \n",
    "#                                           Int_uncert[uncert_name][0],\n",
    "#                                           Int_uncert[uncert_name][1]))    \n",
    "\n",
    "# for dike in function.dikelist:\n",
    "#     # uncertainties in the form: locationName_uncertaintyName\n",
    "#     for uncert_name in Real_uncert.keys():\n",
    "#         name = f\"{dike}_{uncert_name}\"\n",
    "#         lower, upper = Real_uncert[uncert_name]\n",
    "#         uncertainties.append(RealParameter(name, lower, upper))\n",
    "\n",
    "#     for uncert_name in cat_uncert_loc.keys():\n",
    "#         name = f\"{dike}_{uncert_name}\"\n",
    "#         categories = cat_uncert_loc[uncert_name]\n",
    "#         uncertainties.append(CategoricalParameter(name, categories))\n",
    "\n",
    "#     # location-related levers in the form: locationName_leversName\n",
    "#     for lev_name in dike_lev.keys():\n",
    "#         for n in function.planning_steps:\n",
    "#             name = f\"{dike}_{lev_name} {n}\"\n",
    "#             levers.append(IntegerParameter(name, dike_lev[lev_name][0],\n",
    "#                                        dike_lev[lev_name][1]))\n",
    "\n",
    "# # load uncertainties and levers in dike_model:\n",
    "# model.uncertainties = uncertainties\n",
    "# model.levers = levers\n",
    "\n",
    "# # Problem formulations:\n",
    "# # Outcomes are all costs, thus they have to minimized:\n",
    "# direction = ScalarOutcome.MINIMIZE\n"
   ],
   "metadata": {
    "collapsed": false,
    "pycharm": {
     "name": "#%%\n"
    }
   }
  },
  {
   "cell_type": "code",
   "execution_count": 11,
   "outputs": [],
   "source": [
    "# don't @ me it has to be set up this way to work\n",
    "from ema_workbench import Policy\n",
    "policies = [Policy('policy 0', **{'0_RfR 0':0,\n",
    "                                  '0_RfR 1':0,\n",
    "                                  '0_RfR 2':0,\n",
    "                                  'A.1_DikeIncrease 0':0,\n",
    "                                  'A.1_DikeIncrease 1':0,\n",
    "                                  'A.1_DikeIncrease 2':0,\n",
    "                                  '1_RfR 0':0,\n",
    "                                  '1_RfR 1':0,\n",
    "                                  '1_RfR 2':0,\n",
    "                                  'A.2_DikeIncrease 0':0,\n",
    "                                  'A.2_DikeIncrease 1':0,\n",
    "                                  'A.2_DikeIncrease 2':0,\n",
    "                                  '2_RfR 0':0,\n",
    "                                  '2_RfR 1':0,\n",
    "                                  '2_RfR 2':0,\n",
    "                                  'A.3_DikeIncrease 0':0,\n",
    "                                  'A.3_DikeIncrease 1':0,\n",
    "                                  'A.3_DikeIncrease 2':0,\n",
    "                                  '3_RfR 0':0,\n",
    "                                  '3_RfR 1':0,\n",
    "                                  '3_RfR 2':0,\n",
    "                                  'A.4_DikeIncrease 0':0,\n",
    "                                  'A.4_DikeIncrease 1':0,\n",
    "                                  'A.4_DikeIncrease 2':0,\n",
    "                                  '4_RfR 0':0,\n",
    "                                  '4_RfR 1':0,\n",
    "                                  '4_RfR 2':0,\n",
    "                                  'A.5_DikeIncrease 0':0,\n",
    "                                  'A.5_DikeIncrease 1':0,\n",
    "                                  'A.5_DikeIncrease 2':0,\n",
    "                                  'EWS_DaysToThreat':0\n",
    "                                  })]"
   ],
   "metadata": {
    "collapsed": false,
    "pycharm": {
     "name": "#%%\n"
    }
   }
  },
  {
   "cell_type": "markdown",
   "source": [
    "reference; If we are searching over levers, what values should we assume for the uncertainties? Reference allows us to specify this. If searchover is set to levers, reference should be a Scenario or None, while if searchover is uncertainties, reference should be a Policy or None. In case of a None, the default values of the underlying model are unchanged"
   ],
   "metadata": {
    "collapsed": false,
    "pycharm": {
     "name": "#%% md\n"
    }
   }
  },
  {
   "cell_type": "code",
   "execution_count": 12,
   "outputs": [
    {
     "ename": "AssertionError",
     "evalue": "",
     "output_type": "error",
     "traceback": [
      "\u001B[1;31m---------------------------------------------------------------------------\u001B[0m",
      "\u001B[1;31mAssertionError\u001B[0m                            Traceback (most recent call last)",
      "\u001B[1;32m~\\AppData\\Local\\Temp/ipykernel_3208/3438259559.py\u001B[0m in \u001B[0;36m<module>\u001B[1;34m\u001B[0m\n\u001B[0;32m      1\u001B[0m \u001B[1;32mwith\u001B[0m \u001B[0mSequentialEvaluator\u001B[0m\u001B[1;33m(\u001B[0m\u001B[0mmodel\u001B[0m\u001B[1;33m)\u001B[0m \u001B[1;32mas\u001B[0m \u001B[0mevaluator\u001B[0m\u001B[1;33m:\u001B[0m\u001B[1;33m\u001B[0m\u001B[1;33m\u001B[0m\u001B[0m\n\u001B[1;32m----> 2\u001B[1;33m     \u001B[0mresults\u001B[0m\u001B[1;33m,\u001B[0m \u001B[0mconvergence\u001B[0m \u001B[1;33m=\u001B[0m \u001B[0mevaluator\u001B[0m\u001B[1;33m.\u001B[0m\u001B[0moptimize\u001B[0m\u001B[1;33m(\u001B[0m\u001B[0mnfe\u001B[0m\u001B[1;33m=\u001B[0m\u001B[1;36m100\u001B[0m\u001B[1;33m,\u001B[0m \u001B[0msearchover\u001B[0m\u001B[1;33m=\u001B[0m\u001B[1;34m'uncertainties'\u001B[0m\u001B[1;33m,\u001B[0m \u001B[0mreference\u001B[0m\u001B[1;33m=\u001B[0m\u001B[0mpolicies\u001B[0m\u001B[1;33m,\u001B[0m \u001B[0mepsilons\u001B[0m\u001B[1;33m=\u001B[0m\u001B[1;33m[\u001B[0m\u001B[1;36m0.001\u001B[0m\u001B[1;33m,\u001B[0m \u001B[1;36m0.001\u001B[0m\u001B[1;33m,\u001B[0m \u001B[1;36m0.001\u001B[0m\u001B[1;33m,\u001B[0m \u001B[1;36m0.001\u001B[0m\u001B[1;33m,\u001B[0m \u001B[1;36m0.001\u001B[0m\u001B[1;33m]\u001B[0m\u001B[1;33m)\u001B[0m\u001B[1;33m\u001B[0m\u001B[1;33m\u001B[0m\u001B[0m\n\u001B[0m\u001B[0;32m      3\u001B[0m \u001B[1;33m\u001B[0m\u001B[0m\n",
      "\u001B[1;32m~\\anaconda3\\envs\\gds\\lib\\site-packages\\ema_workbench\\em_framework\\evaluators.py\u001B[0m in \u001B[0;36moptimize\u001B[1;34m(self, scenarios, policies, reporting_interval, reporting_frequency, uncertainty_union, lever_union, outcome_union, uncertainty_sampling, lever_sampling, callback, combine, algorithm, nfe, searchover, reference, constraints, convergence_freq, logging_freq, **kwargs)\u001B[0m\n\u001B[0;32m    253\u001B[0m \u001B[1;33m\u001B[0m\u001B[0m\n\u001B[0;32m    254\u001B[0m         \"\"\"\n\u001B[1;32m--> 255\u001B[1;33m         return optimize(\n\u001B[0m\u001B[0;32m    256\u001B[0m             \u001B[0mself\u001B[0m\u001B[1;33m.\u001B[0m\u001B[0m_msis\u001B[0m\u001B[1;33m,\u001B[0m\u001B[1;33m\u001B[0m\u001B[1;33m\u001B[0m\u001B[0m\n\u001B[0;32m    257\u001B[0m             \u001B[0mscenarios\u001B[0m\u001B[1;33m=\u001B[0m\u001B[0mscenarios\u001B[0m\u001B[1;33m,\u001B[0m\u001B[1;33m\u001B[0m\u001B[1;33m\u001B[0m\u001B[0m\n",
      "\u001B[1;32m~\\anaconda3\\envs\\gds\\lib\\site-packages\\ema_workbench\\em_framework\\evaluators.py\u001B[0m in \u001B[0;36moptimize\u001B[1;34m(models, algorithm, nfe, searchover, evaluator, reference, convergence, constraints, convergence_freq, logging_freq, **kwargs)\u001B[0m\n\u001B[0;32m    762\u001B[0m         \u001B[1;32mpass\u001B[0m\u001B[1;33m\u001B[0m\u001B[1;33m\u001B[0m\u001B[0m\n\u001B[0;32m    763\u001B[0m \u001B[1;33m\u001B[0m\u001B[0m\n\u001B[1;32m--> 764\u001B[1;33m     problem = to_problem(\n\u001B[0m\u001B[0;32m    765\u001B[0m         \u001B[0mmodels\u001B[0m\u001B[1;33m,\u001B[0m \u001B[0msearchover\u001B[0m\u001B[1;33m,\u001B[0m \u001B[0mconstraints\u001B[0m\u001B[1;33m=\u001B[0m\u001B[0mconstraints\u001B[0m\u001B[1;33m,\u001B[0m \u001B[0mreference\u001B[0m\u001B[1;33m=\u001B[0m\u001B[0mreference\u001B[0m\u001B[1;33m\u001B[0m\u001B[1;33m\u001B[0m\u001B[0m\n\u001B[0;32m    766\u001B[0m     )\n",
      "\u001B[1;32m~\\anaconda3\\envs\\gds\\lib\\site-packages\\ema_workbench\\em_framework\\optimization.py\u001B[0m in \u001B[0;36mto_problem\u001B[1;34m(model, searchover, reference, constraints)\u001B[0m\n\u001B[0;32m    177\u001B[0m         )\n\u001B[0;32m    178\u001B[0m \u001B[1;33m\u001B[0m\u001B[0m\n\u001B[1;32m--> 179\u001B[1;33m     problem = Problem(\n\u001B[0m\u001B[0;32m    180\u001B[0m         \u001B[0msearchover\u001B[0m\u001B[1;33m,\u001B[0m \u001B[0mdecision_variables\u001B[0m\u001B[1;33m,\u001B[0m \u001B[0moutcome_names\u001B[0m\u001B[1;33m,\u001B[0m \u001B[0mconstraints\u001B[0m\u001B[1;33m,\u001B[0m \u001B[0mreference\u001B[0m\u001B[1;33m=\u001B[0m\u001B[0mreference\u001B[0m\u001B[1;33m\u001B[0m\u001B[1;33m\u001B[0m\u001B[0m\n\u001B[0;32m    181\u001B[0m     )\n",
      "\u001B[1;32m~\\anaconda3\\envs\\gds\\lib\\site-packages\\ema_workbench\\em_framework\\optimization.py\u001B[0m in \u001B[0;36m__init__\u001B[1;34m(self, searchover, parameters, outcome_names, constraints, reference)\u001B[0m\n\u001B[0;32m    121\u001B[0m             \u001B[1;32massert\u001B[0m \u001B[1;32mnot\u001B[0m \u001B[0mreference\u001B[0m \u001B[1;32mor\u001B[0m \u001B[0misinstance\u001B[0m\u001B[1;33m(\u001B[0m\u001B[0mreference\u001B[0m\u001B[1;33m,\u001B[0m \u001B[0mScenario\u001B[0m\u001B[1;33m)\u001B[0m\u001B[1;33m\u001B[0m\u001B[1;33m\u001B[0m\u001B[0m\n\u001B[0;32m    122\u001B[0m         \u001B[1;32melif\u001B[0m \u001B[0msearchover\u001B[0m \u001B[1;33m==\u001B[0m \u001B[1;34m\"uncertainties\"\u001B[0m\u001B[1;33m:\u001B[0m\u001B[1;33m\u001B[0m\u001B[1;33m\u001B[0m\u001B[0m\n\u001B[1;32m--> 123\u001B[1;33m             \u001B[1;32massert\u001B[0m \u001B[1;32mnot\u001B[0m \u001B[0mreference\u001B[0m \u001B[1;32mor\u001B[0m \u001B[0misinstance\u001B[0m\u001B[1;33m(\u001B[0m\u001B[0mreference\u001B[0m\u001B[1;33m,\u001B[0m \u001B[0mPolicy\u001B[0m\u001B[1;33m)\u001B[0m\u001B[1;33m\u001B[0m\u001B[1;33m\u001B[0m\u001B[0m\n\u001B[0m\u001B[0;32m    124\u001B[0m         \u001B[1;32melse\u001B[0m\u001B[1;33m:\u001B[0m\u001B[1;33m\u001B[0m\u001B[1;33m\u001B[0m\u001B[0m\n\u001B[0;32m    125\u001B[0m             \u001B[1;32massert\u001B[0m \u001B[1;32mnot\u001B[0m \u001B[0mreference\u001B[0m\u001B[1;33m\u001B[0m\u001B[1;33m\u001B[0m\u001B[0m\n",
      "\u001B[1;31mAssertionError\u001B[0m: "
     ]
    }
   ],
   "source": [
    "\n",
    "with SequentialEvaluator(model) as evaluator:\n",
    "    results, convergence = evaluator.optimize(nfe=100, searchover='uncertainties', reference=policies, epsilons=[0.001, 0.001, 0.001, 0.001, 0.001])\n"
   ],
   "metadata": {
    "collapsed": false,
    "pycharm": {
     "name": "#%%\n"
    }
   }
  },
  {
   "cell_type": "markdown",
   "id": "4f35075a",
   "metadata": {},
   "source": [
    "***Save Outputs***"
   ]
  },
  {
   "cell_type": "code",
   "execution_count": null,
   "id": "03e601cc",
   "metadata": {},
   "outputs": [],
   "source": []
  },
  {
   "cell_type": "markdown",
   "id": "867d356d",
   "metadata": {},
   "source": [
    "**Narrow Down Using epsilon progress and hypervolume**"
   ]
  },
  {
   "cell_type": "code",
   "execution_count": null,
   "id": "83ae157e",
   "metadata": {
    "pycharm": {
     "name": "#%%\n"
    }
   },
   "outputs": [],
   "source": [
    "model.outcomes = [ScalarOutcome('Expected Annual Damage', kind=ScalarOutcome.MINIMIZE,\n",
    "                                     expected_range=(0,5)),\n",
    "                       ScalarOutcome('Dike Investment Costs', kind=ScalarOutcome.MINIMIZE,\n",
    "                                     expected_range=(0,2)),\n",
    "                       ScalarOutcome('RfR Investment Costs', kind=ScalarOutcome.MINIMIZE,\n",
    "                                    expected_range=(0,1)),\n",
    "                       ScalarOutcome('Evacuation Costs', kind=ScalarOutcome.MINIMIZE,\n",
    "                                     expected_range=(0,1)),\n",
    "                    ScalarOutcome('Expected Number of Deaths', kind=ScalarOutcome.MINIMIZE,\n",
    "                                     expected_range=(0,1))]\n"
   ]
  },
  {
   "cell_type": "code",
   "execution_count": null,
   "id": "2c618cfd",
   "metadata": {},
   "outputs": [],
   "source": [
    "convergence = [HyperVolume(minimum=[0,0,0,0,0], maximum=[1, 1, 1, 1, 1]),\n",
    "               EpsilonProgress()]"
   ]
  },
  {
   "cell_type": "markdown",
   "id": "e25b24ed",
   "metadata": {},
   "source": [
    "**Robustness**"
   ]
  },
  {
   "cell_type": "markdown",
   "id": "468f524f",
   "metadata": {},
   "source": [
    "**Robustness Function**"
   ]
  },
  {
   "cell_type": "code",
   "execution_count": null,
   "id": "5097283e",
   "metadata": {},
   "outputs": [],
   "source": [
    "import functools\n",
    "import pandas as pd\n",
    "\n",
    "def robustness(direction, threshold, data):\n",
    "    if direction == SMALLER:\n",
    "        return np.sum(data<=threshold)/data.shape[0]\n",
    "    else:\n",
    "        return np.sum(data>=threshold)/data.shape[0]\n",
    "\n",
    "SMALLER = 'SMALLER'\n",
    "\n",
    "Expected_Annual_Damage = functools.partial(robustness, SMALLER, 1000) #THOSE NUMBERS NEED TO BE SPECIFIED AGAINS\n",
    "Dike_Investment_Costs = functools.partial(robustness, SMALLER, 1000)\n",
    "RfR_Investment_Costs = functools.partial(robustness, SMALLER, 1000)\n",
    "Evacuation_Costs = functools.partial(robustness, SMALLER, 1000)\n",
    "Expected_Number_of_Deaths = functools.partial(robustness, SMALLER, 0.000001) #not ok"
   ]
  },
  {
   "cell_type": "code",
   "execution_count": null,
   "id": "885a342e",
   "metadata": {},
   "outputs": [],
   "source": [
    "import matplotlib.pyplot as plt\n",
    "import numpy as np\n",
    "fig, axes = plt.subplots(ncols=2, nrows=3, figsize=(10,10),\n",
    "                        sharex=True)\n",
    "axes = [axes[0,0],axes[0,1],axes[1,0],axes[1,1]]                             #axes[1,1]\n",
    "\n",
    "robustness_funcs = {\"Expected Annual Damage\": Expected_Annual_Damage,\n",
    "                    \"Dike Investment Costs\": Dike_Investment_Costs,\n",
    "                    \"RfR Investment Costs\": RfR_Investment_Costs,\n",
    "                    \"Evacuation Costs\": Evacuation_Costs,\n",
    "                    \"Expected Number of Deaths\": Expected_Number_of_Deaths}\n",
    "\n",
    "experiments, outcomes = results\n",
    "\n",
    "for ax, (outcome, value) in zip(axes, outcomes.items()):\n",
    "    for policy in np.unique(experiments['policy']):\n",
    "        logical = experiments['policy'] == policy\n",
    "        data = value[logical]\n",
    "        \n",
    "        robustness = []\n",
    "      \n",
    "        for i in range(1, data.shape[0]):\n",
    "            robustness.append(robustness_funcs[outcome](data[0:i]))\n",
    "        ax.plot(robustness, label=policy)\n",
    "\n",
    "    ax.set_xlabel(\"# experiments\")\n",
    "    ax.set_ylabel(outcome)"
   ]
  },
  {
   "cell_type": "code",
   "execution_count": null,
   "id": "00b91ec0",
   "metadata": {},
   "outputs": [],
   "source": []
  },
  {
   "cell_type": "code",
   "execution_count": null,
   "id": "66737d80",
   "metadata": {},
   "outputs": [],
   "source": []
  }
 ],
 "metadata": {
  "kernelspec": {
   "display_name": "Python 3 (ipykernel)",
   "language": "python",
   "name": "python3"
  },
  "language_info": {
   "codemirror_mode": {
    "name": "ipython",
    "version": 3
   },
   "file_extension": ".py",
   "mimetype": "text/x-python",
   "name": "python",
   "nbconvert_exporter": "python",
   "pygments_lexer": "ipython3",
   "version": "3.8.10"
  }
 },
 "nbformat": 4,
 "nbformat_minor": 5
}