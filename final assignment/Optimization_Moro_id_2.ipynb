{
 "cells": [
  {
   "cell_type": "markdown",
   "metadata": {
    "pycharm": {
     "name": "#%% md\n"
    }
   },
   "source": [
    "# 1.MORO OPTIMIZATION"
   ]
  },
  {
   "cell_type": "markdown",
   "source": [
    "## Searching for candidate solutions\n",
    "Set up the robust optimization problem using the robustness functions you have specified. Assume that you will need 50 for estimating the robustness. Use $\\epsilon$-progress and hypervolume to track convergence. Solve the optimization problem. As $\\epsilon$ values, you can assume 0.05 for each of the four robustness metrics.\n",
    "\n",
    "*note: this optimization problem is computationally very expensive. Develop and test your code using a sequential evaluator, a low number of function evaluations (e.g., 200), and a low number of scenarios (e.g., 5). Once everything seems to be working replace the sequential evaluator with an multiprocessing or ipyparallel evaluator, and increase the number of nfe and scenarios*.\n"
   ],
   "metadata": {
    "collapsed": false,
    "pycharm": {
     "name": "#%% md\n"
    }
   }
  },
  {
   "cell_type": "markdown",
   "metadata": {
    "pycharm": {
     "name": "#%% md\n"
    }
   },
   "source": [
    "# 1.1 Generate random policies"
   ]
  },
  {
   "cell_type": "code",
   "execution_count": 20,
   "outputs": [],
   "source": [
    "#pip install git+https://github.com/quaquel/EMAworkbench #if you haven't run it already..."
   ],
   "metadata": {
    "collapsed": false,
    "pycharm": {
     "name": "#%%\n"
    }
   }
  },
  {
   "cell_type": "code",
   "execution_count": 21,
   "outputs": [],
   "source": [
    "n_scenarios = 2 # 10 # assumption made from lab 10"
   ],
   "metadata": {
    "collapsed": false,
    "pycharm": {
     "name": "#%%\n"
    }
   }
  },
  {
   "cell_type": "code",
   "execution_count": 22,
   "outputs": [],
   "source": [
    "import functools\n",
    "import pandas as pd\n",
    "\n",
    "def robustness(direction, threshold, data):\n",
    "    if direction == SMALLER:\n",
    "        return np.sum(data<=threshold)/data.shape[0]\n",
    "    else:\n",
    "        return np.sum(data>=threshold)/data.shape[0]\n",
    "\n",
    "SMALLER = 'SMALLER'\n",
    "\n",
    "Expected_Annual_Damage = functools.partial(robustness, SMALLER, 1000) #THOSE NUMBERS NEED TO BE SPECIFIED AGAINS\n",
    "Dike_Investment_Costs = functools.partial(robustness, SMALLER, 1000)\n",
    "RfR_Investment_Costs = functools.partial(robustness, SMALLER, 1000)\n",
    "Evacuation_Costs = functools.partial(robustness, SMALLER, 1000)\n",
    "Expected_Number_of_Deaths = functools.partial(robustness, SMALLER, 0.000001) #not ok"
   ],
   "metadata": {
    "collapsed": false,
    "pycharm": {
     "name": "#%%\n"
    }
   }
  },
  {
   "cell_type": "code",
   "execution_count": null,
   "outputs": [],
   "source": [
    "import functools\n",
    "\n",
    "def robustness(direction, threshold, data):\n",
    "    if direction == SMALLER:\n",
    "        return np.sum(data<=threshold)/data.shape[0]\n",
    "    else:\n",
    "        return np.sum(data>=threshold)/data.shape[0]\n",
    "\n",
    "SMALLER = 'SMALLER'\n",
    "\n",
    "Expected_Annual_Damage = functools.partial(robustness, SMALLER, 1000) #THOSE NUMBERS NEED TO BE SPECIFIED AGAINS\n",
    "Dike_Investment_Costs = functools.partial(robustness, SMALLER, 1000)\n",
    "RfR_Investment_Costs = functools.partial(robustness, SMALLER, 1000)\n",
    "Evacuation_Costs = functools.partial(robustness, SMALLER, 1000)\n",
    "Expected_Number_of_Deaths = functools.partial(robustness, SMALLER, 0.000001) #not ok"
   ],
   "metadata": {
    "collapsed": false,
    "pycharm": {
     "name": "#%%\n"
    }
   }
  },
  {
   "cell_type": "code",
   "execution_count": null,
   "outputs": [],
   "source": [
    "from problem_formulation import get_model_for_problem_formulation\n",
    "\n",
    "model, planning_steps = get_model_for_problem_formulation(2)\n",
    "n_objectives = 3"
   ],
   "metadata": {
    "collapsed": false,
    "pycharm": {
     "name": "#%%\n"
    }
   }
  },
  {
   "cell_type": "code",
   "execution_count": null,
   "outputs": [],
   "source": [
    "from ema_workbench import ema_logging, MultiprocessingEvaluator\n",
    "from ema_workbench import Samplers\n",
    "import numpy as np\n",
    "ema_logging.log_to_stderr(ema_logging.INFO)\n",
    "\n",
    "with MultiprocessingEvaluator(model) as evaluator:\n",
    "    results = evaluator.perform_experiments(scenarios=n_scenarios,               #500\n",
    "                                            policies=4,\n",
    "                                            uncertainty_sampling= Samplers.MC) #monty (python) carlo"
   ],
   "metadata": {
    "collapsed": false,
    "pycharm": {
     "name": "#%%\n"
    }
   }
  },
  {
   "cell_type": "code",
   "execution_count": null,
   "outputs": [],
   "source": [
    "import matplotlib.pyplot as plt\n",
    "import numpy as np\n",
    "fig, axes = plt.subplots(ncols=3, nrows=3, figsize=(8,8),\n",
    "                        sharex=True)\n",
    "axes = [axes[0,0],axes[0,1],axes[1,0],axes[1,1]]                             #axes[1,1]\n",
    "\n",
    "robustness_funcs = {\"Expected Annual Damage\": Expected_Annual_Damage,\n",
    "                    \"Dike Investment Costs\": Dike_Investment_Costs,\n",
    "                    \"RfR Investment Costs\": RfR_Investment_Costs,\n",
    "                    \"Evacuation Costs\": Evacuation_Costs,\n",
    "                    \"Expected Number of Deaths\": Expected_Number_of_Deaths}\n",
    "\n",
    "experiments, outcomes = results\n",
    "\n",
    "for ax, (outcome, value) in zip(axes, outcomes.items()):\n",
    "    for policy in np.unique(experiments['policy']):\n",
    "        logical = experiments['policy'] == policy\n",
    "        data = value[logical]\n",
    "        \n",
    "        robustness = []\n",
    "      \n",
    "        for i in range(1, data.shape[0]):\n",
    "            robustness.append(robustness_funcs[outcome](data[0:i]))\n",
    "        ax.plot(robustness, label=policy)\n",
    "    ax.set_xlabel(\"# experiments\")\n",
    "    ax.set_ylabel(outcome)"
   ],
   "metadata": {
    "collapsed": false,
    "pycharm": {
     "name": "#%%\n"
    }
   }
  },
  {
   "cell_type": "markdown",
   "source": [
    "# 1.2 Search for candidate solutions\n",
    "\n",
    "the fundamental problem is fine tuning the robustness functions. To do this, rather than run optimizaitons many times, why not first generate a test set with a bunch of policies, apply robustness functions and visualize the results?\n",
    "\n",
    "This gives us much faster feedback on reasonble cutoff values. \n"
   ],
   "metadata": {
    "collapsed": false,
    "pycharm": {
     "name": "#%% md\n"
    }
   }
  },
  {
   "cell_type": "code",
   "execution_count": null,
   "outputs": [],
   "source": [
    "from ema_workbench.em_framework import sample_uncertainties\n",
    "#n_scenarios = 10\n",
    "scenarios = sample_uncertainties(model, n_scenarios)\n",
    "#nfe = int(100)"
   ],
   "metadata": {
    "collapsed": false,
    "pycharm": {
     "name": "#%%\n"
    }
   }
  },
  {
   "cell_type": "code",
   "execution_count": null,
   "outputs": [],
   "source": [
    "from ema_workbench import (Model, CategoricalParameter,\n",
    "                           ScalarOutcome, IntegerParameter, RealParameter)\n"
   ],
   "metadata": {
    "collapsed": false,
    "pycharm": {
     "name": "#%%\n"
    }
   }
  },
  {
   "cell_type": "code",
   "execution_count": null,
   "outputs": [],
   "source": [
    "with MultiprocessingEvaluator(model) as evaluator:\n",
    "    results = evaluator.perform_experiments(scenarios=n_scenarios,              \n",
    "                                            policies=10)"
   ],
   "metadata": {
    "collapsed": false,
    "pycharm": {
     "name": "#%%\n"
    }
   }
  },
  {
   "cell_type": "code",
   "execution_count": null,
   "outputs": [],
   "source": [
    "import pandas as pd\n",
    "import seaborn as sns\n",
    "data = pd.DataFrame(outcomes)\n",
    "data['policy'] = experiments['policy']\n",
    "sns.violinplot(data=data, y='Expected Annual Damage')\n",
    "plt.show()"
   ],
   "metadata": {
    "collapsed": false,
    "pycharm": {
     "name": "#%%\n"
    }
   }
  },
  {
   "cell_type": "code",
   "execution_count": null,
   "outputs": [],
   "source": [
    "data = pd.DataFrame(outcomes)\n",
    "data['policy'] = experiments['policy']\n",
    "ax = sns.violinplot(data=data, y='Dike Investment Costs')\n",
    "ax.set_yscale('log')\n",
    "plt.show()"
   ],
   "metadata": {
    "collapsed": false,
    "pycharm": {
     "name": "#%%\n"
    }
   }
  },
  {
   "cell_type": "code",
   "execution_count": null,
   "outputs": [],
   "source": [
    "data = pd.DataFrame(outcomes)\n",
    "data['policy'] = experiments['policy']\n",
    "ax = sns.violinplot(data=data, y='RfR Investment Costs')\n",
    "ax.set_yscale('log')\n",
    "plt.show()"
   ],
   "metadata": {
    "collapsed": false,
    "pycharm": {
     "name": "#%%\n"
    }
   }
  },
  {
   "cell_type": "code",
   "execution_count": null,
   "outputs": [],
   "source": [
    "data = pd.DataFrame(outcomes)\n",
    "data['policy'] = experiments['policy']\n",
    "ax = sns.violinplot(data=data, y='Evacuation Costs')\n",
    "ax.set_yscale('log')\n",
    "plt.show()"
   ],
   "metadata": {
    "collapsed": false,
    "pycharm": {
     "name": "#%%\n"
    }
   }
  },
  {
   "cell_type": "code",
   "execution_count": null,
   "outputs": [],
   "source": [
    "data = pd.DataFrame(outcomes)\n",
    "data['policy'] = experiments['policy']\n",
    "ax = sns.violinplot(data=data, y='Expected Number of Deaths')\n",
    "ax.set_yscale('log')\n",
    "plt.show()"
   ],
   "metadata": {
    "collapsed": false,
    "pycharm": {
     "name": "#%%\n"
    }
   }
  },
  {
   "cell_type": "code",
   "execution_count": null,
   "outputs": [],
   "source": [
    "import functools\n",
    "\n",
    "def robustness(direction, threshold, data):\n",
    "    if direction == SMALLER:\n",
    "        return np.sum(data<=threshold)/data.shape[0]\n",
    "    else:\n",
    "        return np.sum(data>=threshold)/data.shape[0]\n",
    "\n",
    "SMALLER = 'SMALLER'\n",
    "\n",
    "Expected_Annual_Damage = functools.partial(robustness, SMALLER, 1e-5) #THOSE NUMBERS NEED TO BE SPECIFIED AGAINS\n",
    "Dike_Investment_Costs = functools.partial(robustness, SMALLER, 1e4)\n",
    "RfR_Investment_Costs = functools.partial(robustness, SMALLER, 6e8)\n",
    "Evacuation_Costs = functools.partial(robustness, SMALLER, 6e8)\n",
    "Expected_Number_of_Deaths = functools.partial(robustness, SMALLER, 6e8) #not ok"
   ],
   "metadata": {
    "collapsed": false,
    "pycharm": {
     "name": "#%%\n"
    }
   }
  },
  {
   "cell_type": "code",
   "execution_count": null,
   "outputs": [],
   "source": [
    "from ema_workbench.analysis import parcoords\n",
    "\n",
    "experiments, outcomes = results\n",
    "\n",
    "funcs = {\"Expected Annual Damage\": Expected_Annual_Damage,\n",
    "         \"Dike Investment Costs\": Dike_Investment_Costs,\n",
    "         \"RfR Investment Costs\": RfR_Investment_Costs,\n",
    "         \"Evacuation Costs\": Evacuation_Costs,\n",
    "         \"Expected Number of Deaths\": Expected_Number_of_Deaths}\n",
    "\n",
    "total_scores = {}\n",
    "for policy in np.unique(experiments['policy']):\n",
    "    scores = {}\n",
    "    logical = experiments['policy'] == policy\n",
    "    \n",
    "    temp_outcomes = {k:v[logical] for k,v in outcomes.items()}\n",
    "    \n",
    "    for k, v in temp_outcomes.items():\n",
    "        score = funcs[k](v)\n",
    "        scores[k] = score\n",
    "    total_scores[policy] = scores\n",
    "\n",
    "data = pd.DataFrame(total_scores).T.reset_index(drop=True)\n",
    "limits = parcoords.get_limits(data)\n",
    "limits.loc[0, :] = 0\n",
    "limits.loc[1, :] = 1\n",
    "\n",
    "paraxes = parcoords.ParallelAxes(limits)\n",
    "paraxes.plot(data)\n",
    "plt.show()"
   ],
   "metadata": {
    "collapsed": false,
    "pycharm": {
     "name": "#%%\n"
    }
   }
  },
  {
   "cell_type": "code",
   "execution_count": null,
   "outputs": [],
   "source": [
    "# moved from below\n",
    "\n",
    "MAXIMIZE = ScalarOutcome.MAXIMIZE\n",
    "MINIMIZE = ScalarOutcome.MINIMIZE\n",
    "\n",
    "funcs = {\"Expected Annual Damage\": Expected_Annual_Damage,\n",
    "         \"Dike Investment Costs\": Dike_Investment_Costs,\n",
    "         \"RfR Investment Costs\": RfR_Investment_Costs,\n",
    "         \"Evacuation Costs\": Evacuation_Costs,\n",
    "         \"Expected Number of Deaths\": Expected_Number_of_Deaths}\n",
    "\n",
    "robustnes_functions = [ScalarOutcome('Expected Annual Damage', kind=MINIMIZE,\n",
    "                                     function=Expected_Annual_Damage),\n",
    "                       ScalarOutcome('Dike Investment Costs', kind=MINIMIZE,\n",
    "                                     function=Dike_Investment_Costs),\n",
    "                       ScalarOutcome('RfR Investment Costs', kind=MINIMIZE,\n",
    "                                     function=RfR_Investment_Costs),\n",
    "                       ScalarOutcome('Evacuation Costs', kind=MINIMIZE,\n",
    "                                     function=Evacuation_Costs),\n",
    "                       ScalarOutcome('Expected Number of Deaths', kind=MINIMIZE,\n",
    "                                     function=Expected_Number_of_Deaths)\n",
    "                       ]"
   ],
   "metadata": {
    "collapsed": false,
    "pycharm": {
     "name": "#%%\n"
    }
   }
  },
  {
   "cell_type": "code",
   "execution_count": null,
   "outputs": [],
   "source": [
    "from ema_workbench import (MultiprocessingEvaluator, ema_logging, \n",
    "                           perform_experiments, SequentialEvaluator)\n",
    "from ema_workbench.em_framework.optimization import (HyperVolume, \n",
    "                                                     EpsilonProgress)\n",
    "from ema_workbench.em_framework.evaluators import BaseEvaluator\n",
    "import numpy as np\n",
    "\n",
    "BaseEvaluator.reporting_frequency = 0.1\n",
    "\n",
    "ema_logging.log_to_stderr(ema_logging.INFO)\n",
    "\n",
    "\n",
    "# there is a bit of problem with platypus, so using 1.1. gives \n",
    "# cleaner hypervolume results.\n",
    "convergence = [HyperVolume(minimum=[0,0,0,0,0], maximum=[1.1, 1.1, 1.1, 1.1, 1.1]), EpsilonProgress()]\n",
    "\n",
    "#convergence = [EpsilonProgress()]\n",
    "\n",
    "epsilons=[0.05,]*len(robustnes_functions)  #final value of epsilon should be much lower.Just for experiment purposes is 1\n",
    "#nfe = 200\n",
    "with MultiprocessingEvaluator(model) as evaluator:\n",
    "    results = evaluator.robust_optimize(robustnes_functions, scenarios,#nfe=nfe,\n",
    "                                                     convergence=convergence, epsilons=epsilons)\n",
    "archive, convergence = results\n",
    "\n",
    "#start = time.time()\n",
    "#end = time.time()\n",
    "\n",
    "#print('Processing time:',(end-start)/60,'Minutes')"
   ],
   "metadata": {
    "collapsed": false,
    "pycharm": {
     "name": "#%%\n"
    }
   }
  },
  {
   "cell_type": "code",
   "execution_count": 38,
   "outputs": [
    {
     "name": "stderr",
     "output_type": "stream",
     "text": [
      "\n",
      "  0%|                                                | 0/10000 [00:00<?, ?it/s]\u001B[A\n",
      "  1%|▎                                   | 100/10000 [01:25<2:20:27,  1.17it/s]\u001B[A\n",
      "  2%|▋                                   | 200/10000 [02:50<2:18:54,  1.18it/s]\u001B[A\n",
      "  3%|█                                   | 300/10000 [04:14<2:17:11,  1.18it/s]\u001B[A\n",
      "  4%|█▍                                  | 400/10000 [05:39<2:15:34,  1.18it/s]\u001B[A\n",
      "  5%|█▊                                  | 500/10000 [07:03<2:13:50,  1.18it/s]\u001B[A\n",
      "  6%|██▏                                 | 600/10000 [08:27<2:12:08,  1.19it/s]\u001B[A\n",
      "  7%|██▌                                 | 700/10000 [09:51<2:10:45,  1.19it/s]\u001B[A\n",
      "  8%|██▉                                 | 799/10000 [11:16<2:09:48,  1.18it/s]\u001B[A\n",
      "  9%|███▏                                | 899/10000 [12:40<2:08:03,  1.18it/s]\u001B[A\n",
      " 10%|███▌                                | 999/10000 [14:03<2:06:19,  1.19it/s]\u001B[A\n",
      " 11%|███▊                               | 1098/10000 [15:28<2:05:38,  1.18it/s]\u001B[A\n",
      " 12%|████▏                              | 1196/10000 [16:52<2:04:45,  1.18it/s]\u001B[A\n",
      " 13%|████▌                              | 1296/10000 [18:18<2:03:36,  1.17it/s]\u001B[A\n",
      " 14%|████▉                              | 1395/10000 [19:43<2:02:25,  1.17it/s]\u001B[A\n",
      " 15%|█████▏                             | 1495/10000 [21:08<2:01:02,  1.17it/s]\u001B[A\n",
      " 16%|█████▌                             | 1595/10000 [22:33<1:59:29,  1.17it/s]\u001B[A\n",
      " 17%|█████▉                             | 1695/10000 [24:00<1:58:46,  1.17it/s]\u001B[A\n",
      " 18%|██████▎                            | 1795/10000 [25:21<1:55:21,  1.19it/s]\u001B[A\n",
      " 19%|██████▋                            | 1894/10000 [26:45<1:53:55,  1.19it/s]\u001B[A\n",
      " 20%|██████▉                            | 1994/10000 [28:06<1:51:24,  1.20it/s]\u001B[A\n",
      " 21%|███████▎                           | 2094/10000 [29:31<1:50:18,  1.19it/s]\u001B[A\n",
      " 22%|███████▋                           | 2192/10000 [30:53<1:49:08,  1.19it/s]\u001B[A\n",
      " 23%|████████                           | 2292/10000 [32:13<1:46:21,  1.21it/s]\u001B[A\n",
      " 24%|████████▎                          | 2392/10000 [33:32<1:43:20,  1.23it/s]\u001B[A\n",
      " 25%|████████▋                          | 2492/10000 [34:52<1:41:22,  1.23it/s]\u001B[A\n",
      " 26%|█████████                          | 2592/10000 [36:10<1:38:49,  1.25it/s]\u001B[A\n",
      " 27%|█████████▍                         | 2692/10000 [37:28<1:36:46,  1.26it/s]\u001B[A\n",
      " 28%|█████████▊                         | 2792/10000 [38:45<1:34:48,  1.27it/s]\u001B[A\n",
      " 29%|██████████                         | 2890/10000 [40:02<1:33:12,  1.27it/s]\u001B[A\n",
      " 30%|██████████▍                        | 2989/10000 [41:20<1:31:54,  1.27it/s]\u001B[A\n",
      " 31%|██████████▊                        | 3089/10000 [42:33<1:28:39,  1.30it/s]\u001B[A\n",
      " 32%|███████████▏                       | 3188/10000 [43:45<1:25:57,  1.32it/s]\u001B[A\n",
      " 33%|███████████▌                       | 3286/10000 [44:58<1:24:28,  1.32it/s]\u001B[A\n",
      " 34%|███████████▊                       | 3386/10000 [46:15<1:23:40,  1.32it/s]\u001B[A\n",
      " 35%|████████████▏                      | 3486/10000 [47:32<1:22:48,  1.31it/s]\u001B[A\n",
      " 36%|████████████▌                      | 3586/10000 [48:50<1:21:51,  1.31it/s]\u001B[A\n",
      " 37%|████████████▉                      | 3686/10000 [50:06<1:20:33,  1.31it/s]\u001B[A\n",
      " 38%|█████████████▎                     | 3786/10000 [51:25<1:20:06,  1.29it/s]\u001B[A\n",
      " 39%|█████████████▌                     | 3886/10000 [52:47<1:20:14,  1.27it/s]\u001B[A\n",
      " 40%|█████████████▉                     | 3986/10000 [54:09<1:19:51,  1.26it/s]\u001B[A\n",
      " 41%|██████████████▎                    | 4085/10000 [55:30<1:19:11,  1.24it/s]\u001B[A\n",
      " 42%|██████████████▋                    | 4184/10000 [56:53<1:18:55,  1.23it/s]\u001B[A\n",
      " 43%|██████████████▉                    | 4283/10000 [58:15<1:17:51,  1.22it/s]\u001B[A\n",
      " 44%|███████████████▎                   | 4383/10000 [59:38<1:16:54,  1.22it/s]\u001B[A\n",
      " 45%|██████████████▊                  | 4483/10000 [1:01:00<1:15:21,  1.22it/s]\u001B[A\n",
      " 46%|███████████████                  | 4582/10000 [1:02:21<1:14:12,  1.22it/s]\u001B[A\n",
      " 47%|███████████████▍                 | 4681/10000 [1:03:41<1:12:21,  1.23it/s]\u001B[A\n",
      " 48%|███████████████▊                 | 4781/10000 [1:04:58<1:09:49,  1.25it/s]\u001B[A\n",
      " 49%|████████████████                 | 4881/10000 [1:06:17<1:08:13,  1.25it/s]\u001B[A\n",
      " 50%|████████████████▍                | 4981/10000 [1:07:35<1:06:11,  1.26it/s]\u001B[A\n",
      " 51%|████████████████▊                | 5079/10000 [1:08:54<1:05:19,  1.26it/s]\u001B[A\n",
      " 52%|█████████████████                | 5177/10000 [1:10:14<1:04:30,  1.25it/s]\u001B[A\n",
      " 53%|█████████████████▍               | 5276/10000 [1:11:35<1:03:39,  1.24it/s]\u001B[A\n",
      " 54%|█████████████████▋               | 5376/10000 [1:12:58<1:02:41,  1.23it/s]\u001B[A\n",
      " 55%|██████████████████               | 5476/10000 [1:14:21<1:01:42,  1.22it/s]\u001B[A\n",
      " 56%|██████████████████▍              | 5575/10000 [1:15:42<1:00:25,  1.22it/s]\u001B[A\n",
      " 57%|███████████████████▊               | 5673/10000 [1:17:02<59:06,  1.22it/s]\u001B[A\n",
      " 58%|████████████████████▏              | 5773/10000 [1:18:25<57:46,  1.22it/s]\u001B[A\n",
      " 59%|████████████████████▌              | 5873/10000 [1:19:48<56:36,  1.22it/s]\u001B[A\n",
      " 60%|████████████████████▉              | 5972/10000 [1:21:09<55:09,  1.22it/s]\u001B[A\n",
      " 61%|█████████████████████▎             | 6072/10000 [1:22:31<53:47,  1.22it/s]\u001B[A\n",
      " 62%|█████████████████████▌             | 6172/10000 [1:23:54<52:33,  1.21it/s]\u001B[A\n",
      " 63%|█████████████████████▉             | 6272/10000 [1:25:17<51:17,  1.21it/s]\u001B[A\n",
      " 64%|██████████████████████▎            | 6372/10000 [1:26:39<49:51,  1.21it/s]\u001B[A\n",
      " 65%|██████████████████████▋            | 6472/10000 [1:28:02<48:32,  1.21it/s]\u001B[A\n",
      " 66%|███████████████████████            | 6572/10000 [1:29:25<47:20,  1.21it/s]\u001B[A\n",
      " 67%|███████████████████████▎           | 6670/10000 [1:30:46<45:52,  1.21it/s]\u001B[A\n",
      " 68%|███████████████████████▋           | 6770/10000 [1:32:08<44:26,  1.21it/s]\u001B[A\n",
      " 69%|████████████████████████           | 6870/10000 [1:33:31<43:10,  1.21it/s]\u001B[A\n",
      " 70%|████████████████████████▍          | 6970/10000 [1:34:54<41:46,  1.21it/s]\u001B[A\n",
      " 71%|████████████████████████▋          | 7070/10000 [1:36:17<40:27,  1.21it/s]\u001B[A\n",
      " 72%|█████████████████████████          | 7170/10000 [1:37:40<39:04,  1.21it/s]\u001B[A\n",
      " 73%|█████████████████████████▍         | 7269/10000 [1:39:01<37:38,  1.21it/s]\u001B[A\n",
      " 74%|█████████████████████████▊         | 7369/10000 [1:40:24<36:17,  1.21it/s]\u001B[A\n",
      " 75%|██████████████████████████▏        | 7469/10000 [1:41:47<34:51,  1.21it/s]\u001B[A\n",
      " 76%|██████████████████████████▍        | 7569/10000 [1:43:09<33:27,  1.21it/s]\u001B[A\n",
      " 77%|██████████████████████████▊        | 7669/10000 [1:44:32<32:04,  1.21it/s]\u001B[A\n",
      " 78%|███████████████████████████▏       | 7768/10000 [1:45:54<30:49,  1.21it/s]\u001B[A\n",
      " 79%|███████████████████████████▌       | 7868/10000 [1:47:17<29:24,  1.21it/s]\u001B[A\n",
      " 80%|███████████████████████████▉       | 7968/10000 [1:48:39<28:00,  1.21it/s]\u001B[A\n",
      " 81%|████████████████████████████▏      | 8068/10000 [1:50:02<26:34,  1.21it/s]\u001B[A\n",
      " 82%|████████████████████████████▌      | 8168/10000 [1:51:25<25:18,  1.21it/s]\u001B[A\n",
      " 83%|████████████████████████████▉      | 8268/10000 [1:52:49<23:57,  1.20it/s]\u001B[A\n",
      " 84%|█████████████████████████████▎     | 8368/10000 [1:54:11<22:32,  1.21it/s]\u001B[A\n",
      " 85%|█████████████████████████████▋     | 8467/10000 [1:55:34<21:12,  1.20it/s]\u001B[A\n",
      " 86%|█████████████████████████████▉     | 8567/10000 [1:56:57<19:52,  1.20it/s]\u001B[A\n",
      " 87%|██████████████████████████████▎    | 8667/10000 [1:58:20<18:27,  1.20it/s]\u001B[A\n",
      " 88%|██████████████████████████████▋    | 8767/10000 [1:59:43<17:04,  1.20it/s]\u001B[A\n",
      " 89%|███████████████████████████████    | 8866/10000 [2:01:05<15:41,  1.20it/s]\u001B[A\n",
      " 90%|███████████████████████████████▍   | 8966/10000 [2:02:28<14:17,  1.21it/s]\u001B[A\n",
      " 91%|███████████████████████████████▋   | 9066/10000 [2:03:50<12:52,  1.21it/s]\u001B[A\n",
      " 92%|████████████████████████████████   | 9166/10000 [2:05:13<11:29,  1.21it/s]\u001B[A\n",
      " 93%|████████████████████████████████▍  | 9265/10000 [2:06:35<10:07,  1.21it/s]\u001B[A\n",
      " 94%|████████████████████████████████▊  | 9365/10000 [2:07:57<08:44,  1.21it/s]\u001B[A\n",
      " 95%|█████████████████████████████████▏ | 9465/10000 [2:09:20<07:22,  1.21it/s]\u001B[A\n",
      " 96%|█████████████████████████████████▍ | 9565/10000 [2:10:43<05:59,  1.21it/s]\u001B[A\n",
      " 97%|█████████████████████████████████▊ | 9665/10000 [2:12:05<04:36,  1.21it/s]\u001B[A\n",
      " 98%|██████████████████████████████████▏| 9765/10000 [2:13:28<03:14,  1.21it/s]\u001B[A\n",
      " 99%|██████████████████████████████████▌| 9865/10000 [2:14:51<01:51,  1.21it/s]\u001B[A\n",
      "100%|██████████████████████████████████▉| 9965/10000 [2:16:14<00:28,  1.21it/s]\u001B[A\n",
      "10065it [2:17:36,  1.22it/s]                                                   \u001B[A\n",
      "[MainProcess/INFO] optimization completed, found 1 solutions\n"
     ]
    }
   ],
   "source": [
    "from ema_workbench import (MultiprocessingEvaluator, ema_logging, \n",
    "                           perform_experiments, SequentialEvaluator)\n",
    "from ema_workbench.em_framework.optimization import (HyperVolume, \n",
    "                                                     EpsilonProgress)\n",
    "from ema_workbench.em_framework.evaluators import BaseEvaluator\n",
    "import numpy as np\n",
    "\n",
    "BaseEvaluator.reporting_frequency = 0.1\n",
    "\n",
    "ema_logging.log_to_stderr(ema_logging.INFO)\n",
    "\n",
    "\n",
    "# there is a bit of problem with platypus, so using 1.1. gives \n",
    "# cleaner hypervolume results.\n",
    "convergence = [HyperVolume(minimum=[0,0,0,0,0], maximum=[1.1, 1.1, 1.1, 1.1, 1.1]), EpsilonProgress()]\n",
    "\n",
    "#convergence = [EpsilonProgress()]\n",
    "\n",
    "epsilons=[0.05,]*len(robustnes_functions)  #final value of epsilon should be much lower.Just for experiment purposes is 1\n",
    "#nfe = 200\n",
    "with MultiprocessingEvaluator(model) as evaluator:\n",
    "    results = evaluator.robust_optimize(robustnes_functions, scenarios,#nfe=nfe,\n",
    "                                                     convergence=convergence, epsilons=epsilons)\n",
    "archive, convergence = results\n",
    "\n",
    "#start = time.time()\n",
    "#end = time.time()\n",
    "\n",
    "#print('Processing time:',(end-start)/60,'Minutes')"
   ],
   "metadata": {
    "collapsed": false,
    "pycharm": {
     "name": "#%%\n"
    }
   }
  },
  {
   "cell_type": "code",
   "execution_count": 40,
   "outputs": [
    {
     "data": {
      "text/plain": "(   0_RfR 0  0_RfR 1  0_RfR 2  1_RfR 0  1_RfR 1  1_RfR 2  2_RfR 0  2_RfR 1  \\\n 0        0        0        1        0        0        0        0        0   \n \n    2_RfR 2  3_RfR 0  ...  A.4_DikeIncrease 1  A.4_DikeIncrease 2  \\\n 0        1        1  ...                   6                   3   \n \n    A.5_DikeIncrease 0  A.5_DikeIncrease 1  A.5_DikeIncrease 2  \\\n 0                   6                   9                   4   \n \n    Expected Annual Damage  Dike Investment Costs  RfR Investment Costs  \\\n 0                     0.0                    0.0                   0.0   \n \n    Evacuation Costs  Expected Number of Deaths  \n 0               1.0                        1.0  \n \n [1 rows x 36 columns],\n     hypervolume  epsilon_progress   nfe\n 0      0.000000                 0     0\n 1      0.008264                 0   100\n 2      0.008264                 0  1196\n 3      0.008264                 0  2292\n 4      0.008264                 0  3386\n 5      0.008264                 0  4483\n 6      0.008264                 0  5575\n 7      0.008264                 0  6670\n 8      0.008264                 0  7768\n 9      0.008264                 0  8866\n 10     0.008264                 0  9965)"
     },
     "execution_count": 40,
     "metadata": {},
     "output_type": "execute_result"
    }
   ],
   "source": [
    "results\n"
   ],
   "metadata": {
    "collapsed": false,
    "pycharm": {
     "name": "#%%\n"
    }
   }
  },
  {
   "cell_type": "markdown",
   "source": [
    "### Save Results"
   ],
   "metadata": {
    "collapsed": false,
    "pycharm": {
     "name": "#%% md\n"
    }
   }
  },
  {
   "cell_type": "code",
   "execution_count": 39,
   "outputs": [
    {
     "ename": "KeyError",
     "evalue": "'hypervolume'",
     "output_type": "error",
     "traceback": [
      "\u001B[1;31m---------------------------------------------------------------------------\u001B[0m",
      "\u001B[1;31mKeyError\u001B[0m                                  Traceback (most recent call last)",
      "\u001B[1;32m~\\AppData\\Local\\Temp/ipykernel_2788/2732074842.py\u001B[0m in \u001B[0;36m<module>\u001B[1;34m\u001B[0m\n\u001B[0;32m      1\u001B[0m \u001B[1;32mfrom\u001B[0m \u001B[0mema_workbench\u001B[0m \u001B[1;32mimport\u001B[0m \u001B[0msave_results\u001B[0m\u001B[1;33m\u001B[0m\u001B[1;33m\u001B[0m\u001B[0m\n\u001B[0;32m      2\u001B[0m \u001B[0mexperiment_number\u001B[0m \u001B[1;33m=\u001B[0m \u001B[1;36m1\u001B[0m\u001B[1;33m\u001B[0m\u001B[1;33m\u001B[0m\u001B[0m\n\u001B[1;32m----> 3\u001B[1;33m \u001B[0msave_results\u001B[0m\u001B[1;33m(\u001B[0m\u001B[0mresults\u001B[0m\u001B[1;33m,\u001B[0m \u001B[1;34m'./output/optimization_moro/Optimization_Moro_id_%s.tar.gz'\u001B[0m\u001B[1;33m%\u001B[0m\u001B[0mexperiment_number\u001B[0m\u001B[1;33m)\u001B[0m\u001B[1;33m\u001B[0m\u001B[1;33m\u001B[0m\u001B[0m\n\u001B[0m",
      "\u001B[1;32m~\\anaconda3\\lib\\site-packages\\ema_workbench\\util\\utilities.py\u001B[0m in \u001B[0;36msave_results\u001B[1;34m(results, file_name)\u001B[0m\n\u001B[0;32m    219\u001B[0m         \u001B[0moutcomes_metadata\u001B[0m \u001B[1;33m=\u001B[0m \u001B[1;33m[\u001B[0m\u001B[1;33m]\u001B[0m\u001B[1;33m\u001B[0m\u001B[1;33m\u001B[0m\u001B[0m\n\u001B[0;32m    220\u001B[0m         \u001B[1;32mfor\u001B[0m \u001B[0mkey\u001B[0m\u001B[1;33m,\u001B[0m \u001B[0mvalue\u001B[0m \u001B[1;32min\u001B[0m \u001B[0moutcomes\u001B[0m\u001B[1;33m.\u001B[0m\u001B[0mitems\u001B[0m\u001B[1;33m(\u001B[0m\u001B[1;33m)\u001B[0m\u001B[1;33m:\u001B[0m\u001B[1;33m\u001B[0m\u001B[1;33m\u001B[0m\u001B[0m\n\u001B[1;32m--> 221\u001B[1;33m             \u001B[0mklass\u001B[0m \u001B[1;33m=\u001B[0m \u001B[0mregister\u001B[0m\u001B[1;33m.\u001B[0m\u001B[0moutcomes\u001B[0m\u001B[1;33m[\u001B[0m\u001B[0mkey\u001B[0m\u001B[1;33m]\u001B[0m\u001B[1;33m\u001B[0m\u001B[1;33m\u001B[0m\u001B[0m\n\u001B[0m\u001B[0;32m    222\u001B[0m             \u001B[0mstream\u001B[0m\u001B[1;33m,\u001B[0m \u001B[0mfilename\u001B[0m \u001B[1;33m=\u001B[0m \u001B[0mregister\u001B[0m\u001B[1;33m.\u001B[0m\u001B[0mserialize\u001B[0m\u001B[1;33m(\u001B[0m\u001B[0mkey\u001B[0m\u001B[1;33m,\u001B[0m \u001B[0mvalue\u001B[0m\u001B[1;33m)\u001B[0m\u001B[1;33m\u001B[0m\u001B[1;33m\u001B[0m\u001B[0m\n\u001B[0;32m    223\u001B[0m             \u001B[0madd_file\u001B[0m\u001B[1;33m(\u001B[0m\u001B[0mz\u001B[0m\u001B[1;33m,\u001B[0m \u001B[0mstream\u001B[0m\u001B[1;33m,\u001B[0m \u001B[0mfilename\u001B[0m\u001B[1;33m)\u001B[0m\u001B[1;33m\u001B[0m\u001B[1;33m\u001B[0m\u001B[0m\n",
      "\u001B[1;31mKeyError\u001B[0m: 'hypervolume'"
     ]
    }
   ],
   "source": [
    "from ema_workbench import save_results\n",
    "experiment_number = 1\n",
    "save_results(results, './output/optimization_moro/Optimization_Moro_id_%s.tar.gz'%experiment_number)"
   ],
   "metadata": {
    "collapsed": false,
    "pycharm": {
     "name": "#%%\n"
    }
   }
  },
  {
   "cell_type": "code",
   "execution_count": 41,
   "outputs": [],
   "source": [
    "try:\n",
    "    archive.to_csv('./output/optimization_moro/Optimization_Moro_id_%s_archive.csv'%experiment_number, index=False)\n",
    "    pd.DataFrame.from_dict(convergence).to_csv('./output/optimization_moro/Optimization_Moro_id_%s_convergence.csv'%experiment_number, index=False)\n",
    "except:\n",
    "    print(\"Unable to save as csv files\")"
   ],
   "metadata": {
    "collapsed": false,
    "pycharm": {
     "name": "#%%\n"
    }
   }
  },
  {
   "cell_type": "markdown",
   "source": [
    "### Visualization"
   ],
   "metadata": {
    "collapsed": false,
    "pycharm": {
     "name": "#%% md\n"
    }
   }
  },
  {
   "cell_type": "code",
   "execution_count": 42,
   "outputs": [
    {
     "data": {
      "text/plain": "<Figure size 576x288 with 2 Axes>",
      "image/png": "[encoded data removed]"
     },
     "metadata": {},
     "output_type": "display_data"
    }
   ],
   "source": [
    "fig, (ax1, ax2) = plt.subplots(ncols=2, sharex=True, figsize=(8,4))\n",
    "ax1.plot(convergence.nfe, convergence.epsilon_progress)\n",
    "ax1.set_ylabel('$\\epsilon$-progress')\n",
    "ax2.plot(convergence.nfe, convergence.hypervolume)\n",
    "ax2.set_ylabel('hypervolume')\n",
    "\n",
    "ax1.set_xlabel('number of function evaluations')\n",
    "ax2.set_xlabel('number of function evaluations')\n",
    "plt.show()"
   ],
   "metadata": {
    "collapsed": false,
    "pycharm": {
     "name": "#%%\n"
    }
   }
  },
  {
   "cell_type": "code",
   "execution_count": 43,
   "outputs": [
    {
     "data": {
      "text/plain": "<Figure size 432x288 with 4 Axes>",
      "image/png": "[encoded data removed]"
     },
     "metadata": {},
     "output_type": "display_data"
    }
   ],
   "source": [
    "from ema_workbench.analysis import parcoords\n",
    "\n",
    "data = archive.loc[:, [o.name for o in robustnes_functions]]\n",
    "limits = parcoords.get_limits(data)\n",
    "limits.loc[0, :] = 0\n",
    "limits.loc[1, :] = 1\n",
    "\n",
    "paraxes = parcoords.ParallelAxes(limits)\n",
    "paraxes.plot(data)\n",
    "plt.show()"
   ],
   "metadata": {
    "collapsed": false,
    "pycharm": {
     "name": "#%%\n"
    }
   }
  },
  {
   "cell_type": "markdown",
   "source": [
    "This is a bit better but not much. \n",
    "\n",
    "Now, observe the following: you are using a domain criterion as your sole measure of robustness. That is, you look at the fraction of scenarios above or below a threshold. The costs however do not vary accross scenarios. Thus this objective can only be 0 or 1. This is not particularly useful for optimization. \n",
    "\n",
    "We might thus want to consider another metric for costs. Why not simply use the raw costs itself?\n"
   ],
   "metadata": {
    "collapsed": false,
    "pycharm": {
     "name": "#%% md\n"
    }
   }
  },
  {
   "cell_type": "code",
   "execution_count": 44,
   "outputs": [],
   "source": [
    "import functools\n",
    "\n",
    "def robustness(direction, threshold, data):\n",
    "    if direction == SMALLER:\n",
    "        return np.sum(data<=threshold)/data.shape[0]\n",
    "    else:\n",
    "        return np.sum(data>=threshold)/data.shape[0]\n",
    "\n",
    "def costs(data):\n",
    "    return data[0]/1e9 # makes numbers nicer\n",
    "    \n",
    "SMALLER = 'SMALLER'\n",
    "\n",
    "Expected_Annual_Damage = functools.partial(robustness, SMALLER, 1e-5) #THOSE NUMBERS NEED TO BE SPECIFIED AGAINS\n",
    "Dike_Investment_Costs = costs\n",
    "RfR_Investment_Costs = costs\n",
    "Evacuation_Costs = costs\n",
    "Expected_Number_of_Deaths = functools.partial(robustness, SMALLER, 6e8) #not ok\n"
   ],
   "metadata": {
    "collapsed": false,
    "pycharm": {
     "name": "#%%\n"
    }
   }
  },
  {
   "cell_type": "code",
   "execution_count": 45,
   "outputs": [
    {
     "ename": "KeyError",
     "evalue": "'policy'",
     "output_type": "error",
     "traceback": [
      "\u001B[1;31m---------------------------------------------------------------------------\u001B[0m",
      "\u001B[1;31mKeyError\u001B[0m                                  Traceback (most recent call last)",
      "\u001B[1;32m~\\anaconda3\\lib\\site-packages\\pandas\\core\\indexes\\base.py\u001B[0m in \u001B[0;36mget_loc\u001B[1;34m(self, key, method, tolerance)\u001B[0m\n\u001B[0;32m   3360\u001B[0m             \u001B[1;32mtry\u001B[0m\u001B[1;33m:\u001B[0m\u001B[1;33m\u001B[0m\u001B[1;33m\u001B[0m\u001B[0m\n\u001B[1;32m-> 3361\u001B[1;33m                 \u001B[1;32mreturn\u001B[0m \u001B[0mself\u001B[0m\u001B[1;33m.\u001B[0m\u001B[0m_engine\u001B[0m\u001B[1;33m.\u001B[0m\u001B[0mget_loc\u001B[0m\u001B[1;33m(\u001B[0m\u001B[0mcasted_key\u001B[0m\u001B[1;33m)\u001B[0m\u001B[1;33m\u001B[0m\u001B[1;33m\u001B[0m\u001B[0m\n\u001B[0m\u001B[0;32m   3362\u001B[0m             \u001B[1;32mexcept\u001B[0m \u001B[0mKeyError\u001B[0m \u001B[1;32mas\u001B[0m \u001B[0merr\u001B[0m\u001B[1;33m:\u001B[0m\u001B[1;33m\u001B[0m\u001B[1;33m\u001B[0m\u001B[0m\n",
      "\u001B[1;32m~\\anaconda3\\lib\\site-packages\\pandas\\_libs\\index.pyx\u001B[0m in \u001B[0;36mpandas._libs.index.IndexEngine.get_loc\u001B[1;34m()\u001B[0m\n",
      "\u001B[1;32m~\\anaconda3\\lib\\site-packages\\pandas\\_libs\\index.pyx\u001B[0m in \u001B[0;36mpandas._libs.index.IndexEngine.get_loc\u001B[1;34m()\u001B[0m\n",
      "\u001B[1;32mpandas\\_libs\\hashtable_class_helper.pxi\u001B[0m in \u001B[0;36mpandas._libs.hashtable.PyObjectHashTable.get_item\u001B[1;34m()\u001B[0m\n",
      "\u001B[1;32mpandas\\_libs\\hashtable_class_helper.pxi\u001B[0m in \u001B[0;36mpandas._libs.hashtable.PyObjectHashTable.get_item\u001B[1;34m()\u001B[0m\n",
      "\u001B[1;31mKeyError\u001B[0m: 'policy'",
      "\nThe above exception was the direct cause of the following exception:\n",
      "\u001B[1;31mKeyError\u001B[0m                                  Traceback (most recent call last)",
      "\u001B[1;32m~\\AppData\\Local\\Temp/ipykernel_2788/46908072.py\u001B[0m in \u001B[0;36m<module>\u001B[1;34m\u001B[0m\n\u001B[0;32m     10\u001B[0m \u001B[1;33m\u001B[0m\u001B[0m\n\u001B[0;32m     11\u001B[0m \u001B[0mtotal_scores\u001B[0m \u001B[1;33m=\u001B[0m \u001B[1;33m{\u001B[0m\u001B[1;33m}\u001B[0m\u001B[1;33m\u001B[0m\u001B[1;33m\u001B[0m\u001B[0m\n\u001B[1;32m---> 12\u001B[1;33m \u001B[1;32mfor\u001B[0m \u001B[0mpolicy\u001B[0m \u001B[1;32min\u001B[0m \u001B[0mnp\u001B[0m\u001B[1;33m.\u001B[0m\u001B[0munique\u001B[0m\u001B[1;33m(\u001B[0m\u001B[0mexperiments\u001B[0m\u001B[1;33m[\u001B[0m\u001B[1;34m'policy'\u001B[0m\u001B[1;33m]\u001B[0m\u001B[1;33m)\u001B[0m\u001B[1;33m:\u001B[0m\u001B[1;33m\u001B[0m\u001B[1;33m\u001B[0m\u001B[0m\n\u001B[0m\u001B[0;32m     13\u001B[0m     \u001B[0mscores\u001B[0m \u001B[1;33m=\u001B[0m \u001B[1;33m{\u001B[0m\u001B[1;33m}\u001B[0m\u001B[1;33m\u001B[0m\u001B[1;33m\u001B[0m\u001B[0m\n\u001B[0;32m     14\u001B[0m     \u001B[0mlogical\u001B[0m \u001B[1;33m=\u001B[0m \u001B[0mexperiments\u001B[0m\u001B[1;33m[\u001B[0m\u001B[1;34m'policy'\u001B[0m\u001B[1;33m]\u001B[0m \u001B[1;33m==\u001B[0m \u001B[0mpolicy\u001B[0m\u001B[1;33m\u001B[0m\u001B[1;33m\u001B[0m\u001B[0m\n",
      "\u001B[1;32m~\\anaconda3\\lib\\site-packages\\pandas\\core\\frame.py\u001B[0m in \u001B[0;36m__getitem__\u001B[1;34m(self, key)\u001B[0m\n\u001B[0;32m   3456\u001B[0m             \u001B[1;32mif\u001B[0m \u001B[0mself\u001B[0m\u001B[1;33m.\u001B[0m\u001B[0mcolumns\u001B[0m\u001B[1;33m.\u001B[0m\u001B[0mnlevels\u001B[0m \u001B[1;33m>\u001B[0m \u001B[1;36m1\u001B[0m\u001B[1;33m:\u001B[0m\u001B[1;33m\u001B[0m\u001B[1;33m\u001B[0m\u001B[0m\n\u001B[0;32m   3457\u001B[0m                 \u001B[1;32mreturn\u001B[0m \u001B[0mself\u001B[0m\u001B[1;33m.\u001B[0m\u001B[0m_getitem_multilevel\u001B[0m\u001B[1;33m(\u001B[0m\u001B[0mkey\u001B[0m\u001B[1;33m)\u001B[0m\u001B[1;33m\u001B[0m\u001B[1;33m\u001B[0m\u001B[0m\n\u001B[1;32m-> 3458\u001B[1;33m             \u001B[0mindexer\u001B[0m \u001B[1;33m=\u001B[0m \u001B[0mself\u001B[0m\u001B[1;33m.\u001B[0m\u001B[0mcolumns\u001B[0m\u001B[1;33m.\u001B[0m\u001B[0mget_loc\u001B[0m\u001B[1;33m(\u001B[0m\u001B[0mkey\u001B[0m\u001B[1;33m)\u001B[0m\u001B[1;33m\u001B[0m\u001B[1;33m\u001B[0m\u001B[0m\n\u001B[0m\u001B[0;32m   3459\u001B[0m             \u001B[1;32mif\u001B[0m \u001B[0mis_integer\u001B[0m\u001B[1;33m(\u001B[0m\u001B[0mindexer\u001B[0m\u001B[1;33m)\u001B[0m\u001B[1;33m:\u001B[0m\u001B[1;33m\u001B[0m\u001B[1;33m\u001B[0m\u001B[0m\n\u001B[0;32m   3460\u001B[0m                 \u001B[0mindexer\u001B[0m \u001B[1;33m=\u001B[0m \u001B[1;33m[\u001B[0m\u001B[0mindexer\u001B[0m\u001B[1;33m]\u001B[0m\u001B[1;33m\u001B[0m\u001B[1;33m\u001B[0m\u001B[0m\n",
      "\u001B[1;32m~\\anaconda3\\lib\\site-packages\\pandas\\core\\indexes\\base.py\u001B[0m in \u001B[0;36mget_loc\u001B[1;34m(self, key, method, tolerance)\u001B[0m\n\u001B[0;32m   3361\u001B[0m                 \u001B[1;32mreturn\u001B[0m \u001B[0mself\u001B[0m\u001B[1;33m.\u001B[0m\u001B[0m_engine\u001B[0m\u001B[1;33m.\u001B[0m\u001B[0mget_loc\u001B[0m\u001B[1;33m(\u001B[0m\u001B[0mcasted_key\u001B[0m\u001B[1;33m)\u001B[0m\u001B[1;33m\u001B[0m\u001B[1;33m\u001B[0m\u001B[0m\n\u001B[0;32m   3362\u001B[0m             \u001B[1;32mexcept\u001B[0m \u001B[0mKeyError\u001B[0m \u001B[1;32mas\u001B[0m \u001B[0merr\u001B[0m\u001B[1;33m:\u001B[0m\u001B[1;33m\u001B[0m\u001B[1;33m\u001B[0m\u001B[0m\n\u001B[1;32m-> 3363\u001B[1;33m                 \u001B[1;32mraise\u001B[0m \u001B[0mKeyError\u001B[0m\u001B[1;33m(\u001B[0m\u001B[0mkey\u001B[0m\u001B[1;33m)\u001B[0m \u001B[1;32mfrom\u001B[0m \u001B[0merr\u001B[0m\u001B[1;33m\u001B[0m\u001B[1;33m\u001B[0m\u001B[0m\n\u001B[0m\u001B[0;32m   3364\u001B[0m \u001B[1;33m\u001B[0m\u001B[0m\n\u001B[0;32m   3365\u001B[0m         \u001B[1;32mif\u001B[0m \u001B[0mis_scalar\u001B[0m\u001B[1;33m(\u001B[0m\u001B[0mkey\u001B[0m\u001B[1;33m)\u001B[0m \u001B[1;32mand\u001B[0m \u001B[0misna\u001B[0m\u001B[1;33m(\u001B[0m\u001B[0mkey\u001B[0m\u001B[1;33m)\u001B[0m \u001B[1;32mand\u001B[0m \u001B[1;32mnot\u001B[0m \u001B[0mself\u001B[0m\u001B[1;33m.\u001B[0m\u001B[0mhasnans\u001B[0m\u001B[1;33m:\u001B[0m\u001B[1;33m\u001B[0m\u001B[1;33m\u001B[0m\u001B[0m\n",
      "\u001B[1;31mKeyError\u001B[0m: 'policy'"
     ]
    }
   ],
   "source": [
    "from ema_workbench.analysis import parcoords\n",
    "\n",
    "experiments, outcomes = results\n",
    "\n",
    "funcs = {\"Expected Annual Damage\": Expected_Annual_Damage,\n",
    "         \"Dike Investment Costs\": Dike_Investment_Costs,\n",
    "         \"RfR Investment Costs\": RfR_Investment_Costs,\n",
    "         \"Evacuation Costs\": Evacuation_Costs,\n",
    "         \"Expected Number of Deaths\": Expected_Number_of_Deaths}\n",
    "\n",
    "total_scores = {}\n",
    "for policy in np.unique(experiments['policy']):\n",
    "    scores = {}\n",
    "    logical = experiments['policy'] == policy\n",
    "    \n",
    "    temp_outcomes = {k:v[logical] for k,v in outcomes.items()}\n",
    "    \n",
    "    for k, v in temp_outcomes.items():\n",
    "        score = funcs[k](v)\n",
    "        scores[k] = score\n",
    "    total_scores[policy] = scores\n",
    "\n",
    "data = pd.DataFrame(total_scores).T.reset_index(drop=True)\n",
    "limits = parcoords.get_limits(data)\n",
    "limits.loc[0, :] = 0\n",
    "limits.loc[1, :] = 1\n",
    "\n",
    "paraxes = parcoords.ParallelAxes(limits)\n",
    "paraxes.plot(data)\n",
    "plt.show()"
   ],
   "metadata": {
    "collapsed": false,
    "pycharm": {
     "name": "#%%\n"
    }
   }
  },
  {
   "cell_type": "markdown",
   "source": [
    "This already looks much nicer."
   ],
   "metadata": {
    "collapsed": false,
    "pycharm": {
     "name": "#%% md\n"
    }
   }
  },
  {
   "cell_type": "code",
   "execution_count": 46,
   "outputs": [],
   "source": [
    "MAXIMIZE = ScalarOutcome.MAXIMIZE\n",
    "MINIMIZE = ScalarOutcome.MINIMIZE\n",
    "\n",
    "funcs = {\"Expected Annual Damage\": Expected_Annual_Damage,\n",
    "         \"Dike Investment Costs\": Dike_Investment_Costs,\n",
    "         \"RfR Investment Costs\": RfR_Investment_Costs,\n",
    "         \"Evacuation Costs\": Evacuation_Costs,\n",
    "         \"Expected Number of Deaths\": Expected_Number_of_Deaths}\n",
    "\n",
    "robustnes_functions = [ScalarOutcome('Expected Annual Damage', kind=MINIMIZE,\n",
    "                                     function=Expected_Annual_Damage),\n",
    "                       ScalarOutcome('Dike Investment Costs', kind=MINIMIZE,\n",
    "                                     function=Dike_Investment_Costs),\n",
    "                       ScalarOutcome('RfR Investment Costs', kind=MINIMIZE,\n",
    "                                     function=RfR_Investment_Costs),\n",
    "                       ScalarOutcome('Evacuation Costs', kind=MINIMIZE,\n",
    "                                     function=Evacuation_Costs),\n",
    "                       ScalarOutcome('Expected Number of Deaths', kind=MINIMIZE,\n",
    "                                     function=Expected_Number_of_Deaths)\n",
    "                       ]"
   ],
   "metadata": {
    "collapsed": false,
    "pycharm": {
     "name": "#%%\n"
    }
   }
  },
  {
   "cell_type": "code",
   "execution_count": 47,
   "outputs": [
    {
     "name": "stderr",
     "output_type": "stream",
     "text": [
      "\n",
      "  1%|▎                            | 100/10000 [17:56:44<1776:37:13, 646.04s/it]\u001B[A\n",
      "\n",
      " 50%|████████████████████                    | 100/200 [01:21<01:21,  1.23it/s]\u001B[A\n",
      "100%|████████████████████████████████████████| 200/200 [02:51<00:00,  1.16it/s]\u001B[A\n",
      "[MainProcess/INFO] optimization completed, found 3 solutions\n"
     ]
    }
   ],
   "source": [
    "# we have to change the plausible max for total investment costs\n",
    "convergence = [HyperVolume(minimum=[0,0,0,0,0], maximum=[1, 1, 1, 1, 1]),\n",
    "               EpsilonProgress()]\n",
    "nfe = 200\n",
    "epsilons=[0.05,]*len(robustnes_functions)  #final value of epsilon should be much lower.Just for experiment purposes is 1\n",
    "with MultiprocessingEvaluator(model) as evaluator:\n",
    "    results = evaluator.robust_optimize(robustnes_functions, scenarios, nfe=nfe,\n",
    "                                                     convergence=convergence, epsilons=epsilons)\n",
    "archive, convergence = results"
   ],
   "metadata": {
    "collapsed": false,
    "pycharm": {
     "name": "#%%\n"
    }
   }
  },
  {
   "cell_type": "markdown",
   "source": [
    "### Save Results"
   ],
   "metadata": {
    "collapsed": false,
    "pycharm": {
     "name": "#%% md\n"
    }
   }
  },
  {
   "cell_type": "code",
   "execution_count": 48,
   "outputs": [
    {
     "ename": "KeyError",
     "evalue": "'hypervolume'",
     "output_type": "error",
     "traceback": [
      "\u001B[1;31m---------------------------------------------------------------------------\u001B[0m",
      "\u001B[1;31mKeyError\u001B[0m                                  Traceback (most recent call last)",
      "\u001B[1;32m~\\AppData\\Local\\Temp/ipykernel_2788/1507554353.py\u001B[0m in \u001B[0;36m<module>\u001B[1;34m\u001B[0m\n\u001B[0;32m      1\u001B[0m \u001B[1;32mfrom\u001B[0m \u001B[0mema_workbench\u001B[0m \u001B[1;32mimport\u001B[0m \u001B[0msave_results\u001B[0m\u001B[1;33m\u001B[0m\u001B[1;33m\u001B[0m\u001B[0m\n\u001B[0;32m      2\u001B[0m \u001B[0mexperiment_number\u001B[0m \u001B[1;33m=\u001B[0m \u001B[1;36m2\u001B[0m\u001B[1;33m\u001B[0m\u001B[1;33m\u001B[0m\u001B[0m\n\u001B[1;32m----> 3\u001B[1;33m \u001B[0msave_results\u001B[0m\u001B[1;33m(\u001B[0m\u001B[0mresults\u001B[0m\u001B[1;33m,\u001B[0m \u001B[1;34m'./output/optimization_moro/Optimization_Moro_id_%s.tar.gz'\u001B[0m\u001B[1;33m%\u001B[0m\u001B[0mexperiment_number\u001B[0m\u001B[1;33m)\u001B[0m\u001B[1;33m\u001B[0m\u001B[1;33m\u001B[0m\u001B[0m\n\u001B[0m",
      "\u001B[1;32m~\\anaconda3\\lib\\site-packages\\ema_workbench\\util\\utilities.py\u001B[0m in \u001B[0;36msave_results\u001B[1;34m(results, file_name)\u001B[0m\n\u001B[0;32m    219\u001B[0m         \u001B[0moutcomes_metadata\u001B[0m \u001B[1;33m=\u001B[0m \u001B[1;33m[\u001B[0m\u001B[1;33m]\u001B[0m\u001B[1;33m\u001B[0m\u001B[1;33m\u001B[0m\u001B[0m\n\u001B[0;32m    220\u001B[0m         \u001B[1;32mfor\u001B[0m \u001B[0mkey\u001B[0m\u001B[1;33m,\u001B[0m \u001B[0mvalue\u001B[0m \u001B[1;32min\u001B[0m \u001B[0moutcomes\u001B[0m\u001B[1;33m.\u001B[0m\u001B[0mitems\u001B[0m\u001B[1;33m(\u001B[0m\u001B[1;33m)\u001B[0m\u001B[1;33m:\u001B[0m\u001B[1;33m\u001B[0m\u001B[1;33m\u001B[0m\u001B[0m\n\u001B[1;32m--> 221\u001B[1;33m             \u001B[0mklass\u001B[0m \u001B[1;33m=\u001B[0m \u001B[0mregister\u001B[0m\u001B[1;33m.\u001B[0m\u001B[0moutcomes\u001B[0m\u001B[1;33m[\u001B[0m\u001B[0mkey\u001B[0m\u001B[1;33m]\u001B[0m\u001B[1;33m\u001B[0m\u001B[1;33m\u001B[0m\u001B[0m\n\u001B[0m\u001B[0;32m    222\u001B[0m             \u001B[0mstream\u001B[0m\u001B[1;33m,\u001B[0m \u001B[0mfilename\u001B[0m \u001B[1;33m=\u001B[0m \u001B[0mregister\u001B[0m\u001B[1;33m.\u001B[0m\u001B[0mserialize\u001B[0m\u001B[1;33m(\u001B[0m\u001B[0mkey\u001B[0m\u001B[1;33m,\u001B[0m \u001B[0mvalue\u001B[0m\u001B[1;33m)\u001B[0m\u001B[1;33m\u001B[0m\u001B[1;33m\u001B[0m\u001B[0m\n\u001B[0;32m    223\u001B[0m             \u001B[0madd_file\u001B[0m\u001B[1;33m(\u001B[0m\u001B[0mz\u001B[0m\u001B[1;33m,\u001B[0m \u001B[0mstream\u001B[0m\u001B[1;33m,\u001B[0m \u001B[0mfilename\u001B[0m\u001B[1;33m)\u001B[0m\u001B[1;33m\u001B[0m\u001B[1;33m\u001B[0m\u001B[0m\n",
      "\u001B[1;31mKeyError\u001B[0m: 'hypervolume'"
     ]
    }
   ],
   "source": [
    "from ema_workbench import save_results\n",
    "experiment_number = 2\n",
    "save_results(results, './output/optimization_moro/Optimization_Moro_id_%s.tar.gz'%experiment_number)"
   ],
   "metadata": {
    "collapsed": false,
    "pycharm": {
     "name": "#%%\n"
    }
   }
  },
  {
   "cell_type": "code",
   "execution_count": 49,
   "outputs": [],
   "source": [
    "try:\n",
    "    archive.to_csv('./output/optimization_moro/Optimization_Moro_id_%s_archive.csv'%experiment_number, index=False)\n",
    "    pd.DataFrame.from_dict(convergence).to_csv('./output/optimization_moro/Optimization_Moro_id_%s_convergence.csv'%experiment_number, index=False)\n",
    "except:\n",
    "    print(\"Unable to save as csv files\")"
   ],
   "metadata": {
    "collapsed": false,
    "pycharm": {
     "name": "#%%\n"
    }
   }
  },
  {
   "cell_type": "markdown",
   "source": [
    "### Visualization"
   ],
   "metadata": {
    "collapsed": false,
    "pycharm": {
     "name": "#%% md\n"
    }
   }
  },
  {
   "cell_type": "code",
   "execution_count": 50,
   "outputs": [
    {
     "data": {
      "text/plain": "<Figure size 576x288 with 2 Axes>",
      "image/png": "[encoded data removed]"
     },
     "metadata": {},
     "output_type": "display_data"
    }
   ],
   "source": [
    "fig, (ax1, ax2) = plt.subplots(ncols=2, sharex=True, figsize=(8,4))\n",
    "ax1.plot(convergence.nfe, convergence.epsilon_progress)\n",
    "ax1.set_ylabel('$\\epsilon$-progress')\n",
    "ax2.plot(convergence.nfe, convergence.hypervolume)\n",
    "ax2.set_ylabel('hypervolume')\n",
    "\n",
    "ax1.set_xlabel('number of function evaluations')\n",
    "ax2.set_xlabel('number of function evaluations')\n",
    "plt.show()"
   ],
   "metadata": {
    "collapsed": false,
    "pycharm": {
     "name": "#%%\n"
    }
   }
  },
  {
   "cell_type": "code",
   "execution_count": 51,
   "outputs": [
    {
     "data": {
      "text/plain": "<Figure size 432x288 with 4 Axes>",
      "image/png": "[encoded data removed]"
     },
     "metadata": {},
     "output_type": "display_data"
    }
   ],
   "source": [
    "data = archive.loc[:, [o.name for o in robustnes_functions]]\n",
    "limits = parcoords.get_limits(data)\n",
    "limits.loc[0, :] = 0\n",
    "limits.loc[1, :] = 1\n",
    "\n",
    "paraxes = parcoords.ParallelAxes(limits)\n",
    "paraxes.plot(data)\n",
    "plt.show()"
   ],
   "metadata": {
    "collapsed": false,
    "pycharm": {
     "name": "#%%\n"
    }
   }
  },
  {
   "cell_type": "markdown",
   "source": [
    "# 1.3 Re-evaluate candidate solutions under uncertainty"
   ],
   "metadata": {
    "collapsed": false,
    "pycharm": {
     "name": "#%% md\n"
    }
   }
  },
  {
   "cell_type": "code",
   "execution_count": 52,
   "outputs": [],
   "source": [
    "from ema_workbench import Policy\n",
    "\n",
    "policies = archive.drop([o.name for o in robustnes_functions], axis=1)\n",
    "policies_to_evaluate = []\n",
    "\n",
    "for i, policy in policies.iterrows():\n",
    "    policies_to_evaluate.append(Policy(\"moro {}\".format(i), **policy.to_dict()))"
   ],
   "metadata": {
    "collapsed": false,
    "pycharm": {
     "name": "#%%\n"
    }
   }
  },
  {
   "cell_type": "code",
   "execution_count": 53,
   "outputs": [
    {
     "name": "stderr",
     "output_type": "stream",
     "text": [
      "100%|██████████████████████████████████████████| 30/30 [00:10<00:00,  2.73it/s]\n"
     ]
    }
   ],
   "source": [
    "n_scenarios = 10\n",
    "with MultiprocessingEvaluator(model) as evaluator:\n",
    "    results = evaluator.perform_experiments(n_scenarios,\n",
    "                                            policies_to_evaluate)\n",
    "\n",
    "#start = time.time()\n",
    "#end = time.time()\n",
    "\n",
    "#print('Processing time:',(end-start)/60,'Minutes')"
   ],
   "metadata": {
    "collapsed": false,
    "pycharm": {
     "name": "#%%\n"
    }
   }
  },
  {
   "cell_type": "code",
   "execution_count": 54,
   "outputs": [
    {
     "name": "stderr",
     "output_type": "stream",
     "text": [
      "[MainProcess/INFO] results saved successfully to C:\\Users\\python\\Documents\\GitHub\\MBDM\\final assignment\\output\\MORO_id_2_reevaluation.tar.gz\n"
     ]
    }
   ],
   "source": [
    "from ema_workbench import save_results\n",
    "\n",
    "save_results(results, 'output\\MORO_id_2_reevaluation.tar.gz')"
   ],
   "metadata": {
    "collapsed": false,
    "pycharm": {
     "name": "#%%\n"
    }
   }
  },
  {
   "cell_type": "code",
   "execution_count": 55,
   "outputs": [],
   "source": [
    "policies.to_csv('output\\moro_id_2_polices.csv')"
   ],
   "metadata": {
    "collapsed": false,
    "pycharm": {
     "name": "#%%\n"
    }
   }
  },
  {
   "cell_type": "code",
   "execution_count": 56,
   "outputs": [
    {
     "data": {
      "text/plain": "        Expected Annual Damage  Dike Investment Costs  RfR Investment Costs  \\\nmoro 0                     0.1                    0.0                   0.0   \nmoro 1                     0.0                    0.0                   0.0   \nmoro 2                     0.0                    0.0                   0.0   \n\n        Evacuation Costs  Expected Number of Deaths  \nmoro 0               0.6                        0.1  \nmoro 1               0.3                        0.0  \nmoro 2               0.1                        0.0  ",
      "text/html": "<div>\n<style scoped>\n    .dataframe tbody tr th:only-of-type {\n        vertical-align: middle;\n    }\n\n    .dataframe tbody tr th {\n        vertical-align: top;\n    }\n\n    .dataframe thead th {\n        text-align: right;\n    }\n</style>\n<table border=\"1\" class=\"dataframe\">\n  <thead>\n    <tr style=\"text-align: right;\">\n      <th></th>\n      <th>Expected Annual Damage</th>\n      <th>Dike Investment Costs</th>\n      <th>RfR Investment Costs</th>\n      <th>Evacuation Costs</th>\n      <th>Expected Number of Deaths</th>\n    </tr>\n  </thead>\n  <tbody>\n    <tr>\n      <th>moro 0</th>\n      <td>0.1</td>\n      <td>0.0</td>\n      <td>0.0</td>\n      <td>0.6</td>\n      <td>0.1</td>\n    </tr>\n    <tr>\n      <th>moro 1</th>\n      <td>0.0</td>\n      <td>0.0</td>\n      <td>0.0</td>\n      <td>0.3</td>\n      <td>0.0</td>\n    </tr>\n    <tr>\n      <th>moro 2</th>\n      <td>0.0</td>\n      <td>0.0</td>\n      <td>0.0</td>\n      <td>0.1</td>\n      <td>0.0</td>\n    </tr>\n  </tbody>\n</table>\n</div>"
     },
     "execution_count": 56,
     "metadata": {},
     "output_type": "execute_result"
    }
   ],
   "source": [
    "import pandas as pd\n",
    "experiments, outcomes = results\n",
    "\n",
    "overall_robustness = {}\n",
    "for policy in np.unique(experiments['policy']):\n",
    "    policy_robustness = {}\n",
    "\n",
    "    logical = experiments['policy'] == policy\n",
    "    \n",
    "    for outcome, values in outcomes.items():\n",
    "        values = values[logical]\n",
    "        policy_robustness[outcome] = robustness_funcs[outcome](values)\n",
    "    overall_robustness[policy] = policy_robustness\n",
    "overall_robustness = pd.DataFrame.from_dict(overall_robustness).T\n",
    "overall_robustness"
   ],
   "metadata": {
    "collapsed": false,
    "pycharm": {
     "name": "#%%\n"
    }
   }
  },
  {
   "cell_type": "code",
   "execution_count": 57,
   "outputs": [
    {
     "data": {
      "text/plain": "<Figure size 432x288 with 4 Axes>",
      "image/png": "[encoded data removed]"
     },
     "metadata": {},
     "output_type": "display_data"
    }
   ],
   "source": [
    "\n",
    "data = overall_robustness.loc[:,\n",
    "       list(overall_robustness.columns)] #['Expected Number of Deaths', 'Expected Annual Damage', 'Total Investment Costs']]\n",
    "limits = parcoords.get_limits(data)\n",
    "limits.loc[0, :] = 0\n",
    "limits.loc[1, :] = 1\n",
    "\n",
    "paraxes = parcoords.ParallelAxes(limits)\n",
    "paraxes.plot(data)\n",
    "plt.show()"
   ],
   "metadata": {
    "collapsed": false,
    "pycharm": {
     "name": "#%%\n"
    }
   }
  },
  {
   "cell_type": "code",
   "execution_count": 58,
   "outputs": [
    {
     "data": {
      "text/plain": "<Figure size 432x288 with 4 Axes>",
      "image/png": "[encoded data removed]"
     },
     "metadata": {},
     "output_type": "display_data"
    }
   ],
   "source": [
    "\n",
    "data = overall_robustness.loc[:,\n",
    "       list(overall_robustness.columns)] #['Expected Number of Deaths', 'Expected Annual Damage', 'Total Investment Costs']]\n",
    "limits = parcoords.get_limits(data)\n",
    "limits.loc[0, :] = 0\n",
    "limits.loc[1, :] = 1\n",
    "\n",
    "paraxes = parcoords.ParallelAxes(limits)\n",
    "paraxes.plot(data)\n",
    "plt.show()"
   ],
   "metadata": {
    "collapsed": false,
    "pycharm": {
     "name": "#%%\n"
    }
   }
  },
  {
   "cell_type": "code",
   "execution_count": null,
   "outputs": [],
   "source": [],
   "metadata": {
    "collapsed": false,
    "pycharm": {
     "name": "#%%\n"
    }
   }
  }
 ],
 "metadata": {
  "kernelspec": {
   "display_name": "Python 3 (ipykernel)",
   "language": "python",
   "name": "python3"
  },
  "language_info": {
   "codemirror_mode": {
    "name": "ipython",
    "version": 3
   },
   "file_extension": ".py",
   "mimetype": "text/x-python",
   "name": "python",
   "nbconvert_exporter": "python",
   "pygments_lexer": "ipython3",
   "version": "3.8.10"
  }
 },
 "nbformat": 4,
 "nbformat_minor": 4
}