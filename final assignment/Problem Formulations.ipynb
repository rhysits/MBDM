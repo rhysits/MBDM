{
 "cells": [
  {
   "cell_type": "code",
   "execution_count": 1,
   "metadata": {},
   "outputs": [],
   "source": [
    "import numpy as np\n",
    "import scipy as sp\n",
    "import pandas as pd\n",
    "import matplotlib.pyplot as plt\n",
    "import seaborn as sns\n",
    "import networkx as nx"
   ]
  },
  {
   "cell_type": "code",
   "execution_count": 2,
   "metadata": {},
   "outputs": [
    {
     "name": "stdout",
     "output_type": "stream",
     "text": [
      "1.3.4\n",
      "2.6.3\n"
     ]
    }
   ],
   "source": [
    "# make sure pandas is version 1.0 or higher\n",
    "# make sure networkx is verion 2.4 or higher\n",
    "print(pd.__version__)\n",
    "print(nx.__version__)"
   ]
  },
  {
   "cell_type": "code",
   "execution_count": 3,
   "metadata": {
    "scrolled": true
   },
   "outputs": [],
   "source": [
    "from ema_workbench import (Model, CategoricalParameter,\n",
    "                           ScalarOutcome, IntegerParameter, RealParameter)\n",
    "from dike_model_function import DikeNetwork  # @UnresolvedImport\n",
    "\n",
    "\n",
    "def sum_over(*args):\n",
    "    return sum(args)"
   ]
  },
  {
   "cell_type": "code",
   "execution_count": 4,
   "metadata": {},
   "outputs": [],
   "source": [
    "from ema_workbench import (Model, MultiprocessingEvaluator, Policy, Scenario)\n",
    "\n",
    "from ema_workbench.em_framework.evaluators import perform_experiments\n",
    "from ema_workbench.em_framework.samplers import sample_uncertainties\n",
    "from ema_workbench.util import ema_logging\n",
    "import time\n",
    "from problem_formulation import get_model_for_problem_formulation\n",
    "\n",
    "\n",
    "ema_logging.log_to_stderr(ema_logging.INFO)\n",
    "\n",
    "#choose problem formulation number, between 0-5\n",
    "#each problem formulation has its own list of outcomes\n",
    "dike_model, planning_steps = get_model_for_problem_formulation(3)"
   ]
  },
  {
   "cell_type": "code",
   "execution_count": 5,
   "metadata": {},
   "outputs": [
    {
     "name": "stdout",
     "output_type": "stream",
     "text": [
      "CategoricalParameter('discount rate 0', [0, 1, 2, 3])\n",
      "CategoricalParameter('discount rate 1', [0, 1, 2, 3])\n",
      "CategoricalParameter('discount rate 2', [0, 1, 2, 3])\n",
      "<ema_workbench.em_framework.parameters.IntegerParameter object at 0x000002CA80250730>\n",
      "<ema_workbench.em_framework.parameters.RealParameter object at 0x000002CA8022EB20>\n",
      "<ema_workbench.em_framework.parameters.RealParameter object at 0x000002CA802A6190>\n",
      "CategoricalParameter('A.1_Brate', [0, 1, 2])\n",
      "<ema_workbench.em_framework.parameters.RealParameter object at 0x000002CA802A6370>\n",
      "<ema_workbench.em_framework.parameters.RealParameter object at 0x000002CA80260A60>\n",
      "CategoricalParameter('A.2_Brate', [0, 1, 2])\n",
      "<ema_workbench.em_framework.parameters.RealParameter object at 0x000002CA80260A90>\n",
      "<ema_workbench.em_framework.parameters.RealParameter object at 0x000002CA802C2670>\n",
      "CategoricalParameter('A.3_Brate', [0, 1, 2])\n",
      "<ema_workbench.em_framework.parameters.RealParameter object at 0x000002CA802C5C40>\n",
      "<ema_workbench.em_framework.parameters.RealParameter object at 0x000002CA802CC9A0>\n",
      "CategoricalParameter('A.4_Brate', [0, 1, 2])\n",
      "<ema_workbench.em_framework.parameters.RealParameter object at 0x000002CA802C2070>\n",
      "<ema_workbench.em_framework.parameters.RealParameter object at 0x000002CA802D09A0>\n",
      "CategoricalParameter('A.5_Brate', [0, 1, 2])\n"
     ]
    }
   ],
   "source": [
    "#enlisting uncertainties, their types (RealParameter/IntegerParameter/CategoricalParameter), lower boundary, and upper boundary\n",
    "for unc in dike_model.uncertainties:\n",
    "    print(repr(unc))\n",
    "    \n",
    "uncertainties = dike_model.uncertainties\n",
    "\n",
    "import copy\n",
    "uncertainties = copy.deepcopy(dike_model.uncertainties)"
   ]
  },
  {
   "cell_type": "code",
   "execution_count": 6,
   "metadata": {},
   "outputs": [
    {
     "name": "stdout",
     "output_type": "stream",
     "text": [
      "<ema_workbench.em_framework.parameters.IntegerParameter object at 0x000002CA8022FE20>\n",
      "<ema_workbench.em_framework.parameters.IntegerParameter object at 0x000002CA8022E880>\n",
      "<ema_workbench.em_framework.parameters.IntegerParameter object at 0x000002CA8022FEE0>\n",
      "<ema_workbench.em_framework.parameters.IntegerParameter object at 0x000002CA8022EE80>\n",
      "<ema_workbench.em_framework.parameters.IntegerParameter object at 0x000002CA8022FD90>\n",
      "<ema_workbench.em_framework.parameters.IntegerParameter object at 0x000002CA80241D60>\n",
      "<ema_workbench.em_framework.parameters.IntegerParameter object at 0x000002CA8022FC70>\n",
      "<ema_workbench.em_framework.parameters.IntegerParameter object at 0x000002CA80260640>\n",
      "<ema_workbench.em_framework.parameters.IntegerParameter object at 0x000002CA8017FD00>\n",
      "<ema_workbench.em_framework.parameters.IntegerParameter object at 0x000002CA802607F0>\n",
      "<ema_workbench.em_framework.parameters.IntegerParameter object at 0x000002CA8023AA00>\n",
      "<ema_workbench.em_framework.parameters.IntegerParameter object at 0x000002CA802A6DF0>\n",
      "<ema_workbench.em_framework.parameters.IntegerParameter object at 0x000002CA80273B80>\n",
      "<ema_workbench.em_framework.parameters.IntegerParameter object at 0x000002CA802A60D0>\n",
      "<ema_workbench.em_framework.parameters.IntegerParameter object at 0x000002CA8017B220>\n",
      "<ema_workbench.em_framework.parameters.IntegerParameter object at 0x000002CA8022FA00>\n",
      "<ema_workbench.em_framework.parameters.IntegerParameter object at 0x000002CA80260370>\n",
      "<ema_workbench.em_framework.parameters.IntegerParameter object at 0x000002CA802C24F0>\n",
      "<ema_workbench.em_framework.parameters.IntegerParameter object at 0x000002CA80260F10>\n",
      "<ema_workbench.em_framework.parameters.IntegerParameter object at 0x000002CA80260C10>\n",
      "<ema_workbench.em_framework.parameters.IntegerParameter object at 0x000002CA802C5490>\n",
      "<ema_workbench.em_framework.parameters.IntegerParameter object at 0x000002CA8022ECD0>\n",
      "<ema_workbench.em_framework.parameters.IntegerParameter object at 0x000002CA802CC4C0>\n",
      "<ema_workbench.em_framework.parameters.IntegerParameter object at 0x000002CA802C5C10>\n",
      "<ema_workbench.em_framework.parameters.IntegerParameter object at 0x000002CA802CC580>\n",
      "<ema_workbench.em_framework.parameters.IntegerParameter object at 0x000002CA802D0460>\n",
      "<ema_workbench.em_framework.parameters.IntegerParameter object at 0x000002CA802C2460>\n",
      "<ema_workbench.em_framework.parameters.IntegerParameter object at 0x000002CA802D0520>\n",
      "<ema_workbench.em_framework.parameters.IntegerParameter object at 0x000002CA802D7400>\n",
      "<ema_workbench.em_framework.parameters.IntegerParameter object at 0x000002CA802CCA60>\n",
      "<ema_workbench.em_framework.parameters.IntegerParameter object at 0x000002CA802D74C0>\n"
     ]
    }
   ],
   "source": [
    "#enlisting policy levers, their types (RealParameter/IntegerParameter), lower boundary, and upper boundary\n",
    "for policy in dike_model.levers:\n",
    "    print(repr(policy))\n",
    "    \n",
    "levers = dike_model.levers \n",
    "\n",
    "import copy\n",
    "levers = copy.deepcopy(dike_model.levers)"
   ]
  },
  {
   "cell_type": "code",
   "execution_count": 7,
   "metadata": {},
   "outputs": [
    {
     "name": "stdout",
     "output_type": "stream",
     "text": [
      "ScalarOutcome('A.1 Total Costs', variable_name=('A.1_Expected Annual Damage 0', 'A.1_Expected Annual Damage 1', 'A.1_Expected Annual Damage 2', 'A.1_Dike Investment Costs 0', 'A.1_Dike Investment Costs 1', 'A.1_Dike Investment Costs 2'), function=<function sum_over at 0x000002CAFFB37CA0>)\n",
      "ScalarOutcome('A.1_Expected Number of Deaths', variable_name=('A.1_Expected Number of Deaths 0', 'A.1_Expected Number of Deaths 1', 'A.1_Expected Number of Deaths 2'), function=<function sum_over at 0x000002CAFFB37CA0>)\n",
      "ScalarOutcome('A.2 Total Costs', variable_name=('A.2_Expected Annual Damage 0', 'A.2_Expected Annual Damage 1', 'A.2_Expected Annual Damage 2', 'A.2_Dike Investment Costs 0', 'A.2_Dike Investment Costs 1', 'A.2_Dike Investment Costs 2'), function=<function sum_over at 0x000002CAFFB37CA0>)\n",
      "ScalarOutcome('A.2_Expected Number of Deaths', variable_name=('A.2_Expected Number of Deaths 0', 'A.2_Expected Number of Deaths 1', 'A.2_Expected Number of Deaths 2'), function=<function sum_over at 0x000002CAFFB37CA0>)\n",
      "ScalarOutcome('A.3 Total Costs', variable_name=('A.3_Expected Annual Damage 0', 'A.3_Expected Annual Damage 1', 'A.3_Expected Annual Damage 2', 'A.3_Dike Investment Costs 0', 'A.3_Dike Investment Costs 1', 'A.3_Dike Investment Costs 2'), function=<function sum_over at 0x000002CAFFB37CA0>)\n",
      "ScalarOutcome('A.3_Expected Number of Deaths', variable_name=('A.3_Expected Number of Deaths 0', 'A.3_Expected Number of Deaths 1', 'A.3_Expected Number of Deaths 2'), function=<function sum_over at 0x000002CAFFB37CA0>)\n",
      "ScalarOutcome('A.4 Total Costs', variable_name=('A.4_Expected Annual Damage 0', 'A.4_Expected Annual Damage 1', 'A.4_Expected Annual Damage 2', 'A.4_Dike Investment Costs 0', 'A.4_Dike Investment Costs 1', 'A.4_Dike Investment Costs 2'), function=<function sum_over at 0x000002CAFFB37CA0>)\n",
      "ScalarOutcome('A.4_Expected Number of Deaths', variable_name=('A.4_Expected Number of Deaths 0', 'A.4_Expected Number of Deaths 1', 'A.4_Expected Number of Deaths 2'), function=<function sum_over at 0x000002CAFFB37CA0>)\n",
      "ScalarOutcome('A.5 Total Costs', variable_name=('A.5_Expected Annual Damage 0', 'A.5_Expected Annual Damage 1', 'A.5_Expected Annual Damage 2', 'A.5_Dike Investment Costs 0', 'A.5_Dike Investment Costs 1', 'A.5_Dike Investment Costs 2'), function=<function sum_over at 0x000002CAFFB37CA0>)\n",
      "ScalarOutcome('A.5_Expected Number of Deaths', variable_name=('A.5_Expected Number of Deaths 0', 'A.5_Expected Number of Deaths 1', 'A.5_Expected Number of Deaths 2'), function=<function sum_over at 0x000002CAFFB37CA0>)\n",
      "ScalarOutcome('RfR Total Costs', variable_name=('RfR Total Costs 0', 'RfR Total Costs 1', 'RfR Total Costs 2'), function=<function sum_over at 0x000002CAFFB37CA0>)\n",
      "ScalarOutcome('Expected Evacuation Costs', variable_name=('Expected Evacuation Costs 0', 'Expected Evacuation Costs 1', 'Expected Evacuation Costs 2'), function=<function sum_over at 0x000002CAFFB37CA0>)\n"
     ]
    }
   ],
   "source": [
    "#enlisting outcomes\n",
    "for outcome in dike_model.outcomes:\n",
    "    print(repr(outcome))"
   ]
  },
  {
   "cell_type": "code",
   "execution_count": null,
   "metadata": {
    "pycharm": {
     "is_executing": true
    }
   },
   "outputs": [
    {
     "name": "stderr",
     "output_type": "stream",
     "text": [
      "[MainProcess/INFO] performing 50 scenarios * 4 policies * 1 model(s) = 200 experiments\n",
      "  0%|                                                  | 0/200 [00:00<?, ?it/s][MainProcess/INFO] performing experiments sequentially\n",
      "  6%|██▍                                      | 12/200 [00:23<06:17,  2.01s/it]"
     ]
    }
   ],
   "source": [
    "#running the model through EMA workbench\n",
    "from ema_workbench import (MultiprocessingEvaluator, ema_logging,\n",
    "                           perform_experiments, SequentialEvaluator)\n",
    "ema_logging.log_to_stderr(ema_logging.INFO)\n",
    " \n",
    "with SequentialEvaluator(dike_model) as evaluator:\n",
    "    results = evaluator.perform_experiments(scenarios=50, policies=4)"
   ]
  },
  {
   "cell_type": "code",
   "execution_count": null,
   "metadata": {
    "scrolled": true,
    "pycharm": {
     "is_executing": true
    }
   },
   "outputs": [],
   "source": [
    "#observing the simulation runs\n",
    "experiments, outcomes = results\n",
    "print(outcomes.keys())\n",
    "experiments"
   ]
  },
  {
   "cell_type": "code",
   "execution_count": null,
   "metadata": {
    "pycharm": {
     "is_executing": true
    }
   },
   "outputs": [],
   "source": [
    "#defining specific policies\n",
    "#for example, policy 1 is about extra protection in upper boundary\n",
    "#policy 2 is about extra protection in lower boundary\n",
    "#policy 3 is extra protection in random locations\n",
    "from ema_workbench import Policy\n",
    "\n",
    "policies = [Policy('policy 1', **{'0_RfR 0':1,\n",
    "                                  '0_RfR 1':1,\n",
    "                                  '0_RfR 2':1,\n",
    "                                  'A.1_DikeIncrease 0':5}),\n",
    "           Policy('policy 2', **{'4_RfR 0':1,\n",
    "                                  '4_RfR 1':1,\n",
    "                                  '4_RfR 2':1,\n",
    "                                  'A.5_DikeIncrease 0':5}),\n",
    "           Policy('policy 3', **{'1_RfR 0':1,\n",
    "                                  '2_RfR 1':1,\n",
    "                                  '3_RfR 2':1,\n",
    "                                  'A.3_DikeIncrease 0':5})]"
   ]
  },
  {
   "cell_type": "code",
   "execution_count": null,
   "metadata": {
    "pycharm": {
     "is_executing": true
    }
   },
   "outputs": [],
   "source": [
    "#pass the policies list to EMA workbench experiment runs\n",
    "n_scenarios = 100\n",
    "with MultiprocessingEvaluator(dike_model) as evaluator:\n",
    "    results = evaluator.perform_experiments(n_scenarios,\n",
    "                                            policies)"
   ]
  },
  {
   "cell_type": "code",
   "execution_count": null,
   "metadata": {
    "collapsed": true,
    "jupyter": {
     "outputs_hidden": true
    },
    "pycharm": {
     "is_executing": true
    }
   },
   "outputs": [],
   "source": [
    "print(results)"
   ]
  },
  {
   "cell_type": "code",
   "execution_count": null,
   "outputs": [],
   "source": [],
   "metadata": {
    "collapsed": false,
    "pycharm": {
     "name": "#%%\n",
     "is_executing": true
    }
   }
  }
 ],
 "metadata": {
  "kernelspec": {
   "display_name": "Python 3",
   "language": "python",
   "name": "python3"
  },
  "language_info": {
   "codemirror_mode": {
    "name": "ipython",
    "version": 3
   },
   "file_extension": ".py",
   "mimetype": "text/x-python",
   "name": "python",
   "nbconvert_exporter": "python",
   "pygments_lexer": "ipython3",
   "version": "3.8.5"
  }
 },
 "nbformat": 4,
 "nbformat_minor": 4
}