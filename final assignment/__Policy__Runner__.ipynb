{
 "cells": [
  {
   "cell_type": "markdown",
   "metadata": {
    "pycharm": {
     "name": "#%% md\n"
    }
   },
   "source": [
    "# Import Stuff"
   ]
  },
  {
   "cell_type": "code",
   "execution_count": 85,
   "metadata": {
    "pycharm": {
     "name": "#%%\n"
    }
   },
   "outputs": [],
   "source": [
    "import numpy as np\n",
    "import scipy as sp\n",
    "import pandas as pd\n",
    "import matplotlib.pyplot as plt\n",
    "import seaborn as sns\n",
    "import networkx as nx"
   ]
  },
  {
   "cell_type": "markdown",
   "metadata": {
    "pycharm": {
     "name": "#%% md\n"
    }
   },
   "source": [
    "# Default Code, Don't Edit This"
   ]
  },
  {
   "cell_type": "code",
   "execution_count": 86,
   "metadata": {
    "pycharm": {
     "name": "#%%\n"
    },
    "scrolled": true
   },
   "outputs": [],
   "source": [
    "from ema_workbench import (Model, CategoricalParameter,\n",
    "                           ScalarOutcome, IntegerParameter, RealParameter)\n",
    "from dike_model_function import DikeNetwork  # @UnresolvedImport\n",
    "\n",
    "def sum_over(*args):\n",
    "    return sum(args)"
   ]
  },
  {
   "cell_type": "code",
   "execution_count": 87,
   "metadata": {
    "pycharm": {
     "name": "#%%\n"
    }
   },
   "outputs": [],
   "source": [
    "from ema_workbench import (Model, MultiprocessingEvaluator, Policy, Scenario, SequentialEvaluator)\n",
    "\n",
    "from ema_workbench.em_framework.evaluators import perform_experiments\n",
    "from ema_workbench.em_framework.samplers import sample_uncertainties\n",
    "from ema_workbench.util import ema_logging\n",
    "import time\n",
    "from problem_formulation import get_model_for_problem_formulation\n",
    "\n",
    "\n",
    "ema_logging.log_to_stderr(ema_logging.INFO)\n",
    "\n",
    "#choose problem formulation number, between 0-5\n",
    "#each problem formulation has its own list of outcomes\n",
    "dike_model, planning_steps = get_model_for_problem_formulation(3)"
   ]
  },
  {
   "cell_type": "code",
   "execution_count": 88,
   "metadata": {
    "pycharm": {
     "name": "#%%\n"
    }
   },
   "outputs": [],
   "source": [
    "#enlisting uncertainties, their types (RealParameter/IntegerParameter/CategoricalParameter), lower boundary, and upper boundary\n",
    "#for unc in dike_model.uncertainties:\n",
    "    #print(repr(unc))\n",
    "    \n",
    "uncertainties = dike_model.uncertainties\n",
    "\n",
    "import copy\n",
    "uncertainties = copy.deepcopy(dike_model.uncertainties)"
   ]
  },
  {
   "cell_type": "code",
   "execution_count": 89,
   "metadata": {
    "pycharm": {
     "name": "#%%\n"
    }
   },
   "outputs": [],
   "source": [
    "#enlisting policy levers, their types (RealParameter/IntegerParameter), lower boundary, and upper boundary\n",
    "#for policy in dike_model.levers:\n",
    "    #print(repr(policy))\n",
    "    \n",
    "levers = dike_model.levers \n",
    "\n",
    "import copy\n",
    "levers = copy.deepcopy(dike_model.levers)"
   ]
  },
  {
   "cell_type": "code",
   "execution_count": 90,
   "metadata": {
    "pycharm": {
     "name": "#%%\n"
    }
   },
   "outputs": [],
   "source": [
    "#enlisting outcomes\n",
    "#for outcome in dike_model.outcomes:\n",
    "    #print(repr(outcome))"
   ]
  },
  {
   "cell_type": "markdown",
   "metadata": {
    "pycharm": {
     "name": "#%% md\n"
    }
   },
   "source": [
    "# Creating the Policies\n",
    "### Edit this stuff"
   ]
  },
  {
   "cell_type": "code",
   "execution_count": 91,
   "metadata": {
    "pycharm": {
     "name": "#%%\n"
    }
   },
   "outputs": [],
   "source": [
    "#defining specific policies\n",
    "#for example, policy 1 is about extra protection in upper boundary\n",
    "#policy 2 is about extra protection in lower boundary\n",
    "#policy 3 is extra protection in random locations\n",
    "from ema_workbench import Policy\n",
    "#testing Secnario 0 - Baseline\n",
    "policies = [Policy('policy 0', **{'0_RfR 0':0,\n",
    "                                  '0_RfR 1':0,\n",
    "                                  '0_RfR 2':0,\n",
    "                                  'A.1_DikeIncrease 0':9,\n",
    "                                  'A.1_DikeIncrease 1':9,\n",
    "                                  'A.1_DikeIncrease 2':9,\n",
    "                                  '1_RfR 0':0,\n",
    "                                  '1_RfR 1':0,\n",
    "                                  '1_RfR 2':0,\n",
    "                                  'A.2_DikeIncrease 0':9,\n",
    "                                  'A.2_DikeIncrease 1':9,\n",
    "                                  'A.2_DikeIncrease 2':9,\n",
    "                                  '2_RfR 0':0,\n",
    "                                  '2_RfR 1':0,\n",
    "                                  '2_RfR 2':0,\n",
    "                                  'A.3_DikeIncrease 0':9,\n",
    "                                  'A.3_DikeIncrease 1':9,\n",
    "                                  'A.3_DikeIncrease 2':9,\n",
    "                                  '3_RfR 0':0,\n",
    "                                  '3_RfR 1':0,\n",
    "                                  '3_RfR 2':0,\n",
    "                                  'A.4_DikeIncrease 0':9,\n",
    "                                  'A.4_DikeIncrease 1':9,\n",
    "                                  'A.4_DikeIncrease 2':9,\n",
    "                                  '4_RfR 0':0,\n",
    "                                  '4_RfR 1':0,\n",
    "                                  '4_RfR 2':0,\n",
    "                                  'A.5_DikeIncrease 0':9,\n",
    "                                  'A.5_DikeIncrease 1':9,\n",
    "                                  'A.5_DikeIncrease 2':9,\n",
    "                                  'EWS_DaysToThreat':0\n",
    "                                  })]"
   ]
  },
  {
   "cell_type": "markdown",
   "metadata": {
    "pycharm": {
     "name": "#%% md\n"
    }
   },
   "source": [
    "# Running the Model\n",
    "### You can edit the number of scenarios to help adjust runtime, more is kind of better"
   ]
  },
  {
   "cell_type": "code",
   "execution_count": 92,
   "metadata": {
    "pycharm": {
     "name": "#%%\n"
    }
   },
   "outputs": [
    {
     "name": "stderr",
     "output_type": "stream",
     "text": [
      "[MainProcess/INFO] pool started with 8 workers\n",
      "[MainProcess/INFO] performing 1000 scenarios * 1 policies * 1 model(s) = 1000 experiments\n",
      "100%|██████████████████████████████████████| 1000/1000 [14:17<00:00,  1.17it/s]\n",
      "[MainProcess/INFO] experiments finished\n",
      "[MainProcess/INFO] terminating pool\n"
     ]
    }
   ],
   "source": [
    "#pass the policies list to EMA workbench experiment runs\n",
    "n_scenarios = 1000\n",
    "with MultiprocessingEvaluator(dike_model) as evaluator:\n",
    "    results = evaluator.perform_experiments(n_scenarios, policies)"
   ]
  },
  {
   "cell_type": "code",
   "execution_count": null,
   "metadata": {
    "pycharm": {
     "name": "#%%\n"
    },
    "tags": []
   },
   "outputs": [],
   "source": []
  },
  {
   "cell_type": "code",
   "execution_count": 93,
   "metadata": {
    "collapsed": false,
    "jupyter": {
     "outputs_hidden": false
    },
    "pycharm": {
     "name": "#%%\n"
    }
   },
   "outputs": [],
   "source": [
    "experiments, outcomes = results\n",
    "experiments.to_csv('./output/00_Policy_0_Experiments.csv', index=False)\n",
    "pd.DataFrame.from_dict(outcomes).to_csv('./output/00_Policy_0_Outcomes.csv', index=False)"
   ]
  },
  {
   "cell_type": "markdown",
   "metadata": {
    "pycharm": {
     "name": "#%% md\n"
    }
   },
   "source": [
    "### Edit the column for outcome to see different results"
   ]
  },
  {
   "cell_type": "code",
   "execution_count": 94,
   "metadata": {
    "collapsed": false,
    "jupyter": {
     "outputs_hidden": false
    },
    "pycharm": {
     "name": "#%%\n"
    }
   },
   "outputs": [
    {
     "ename": "AssertionError",
     "evalue": "",
     "output_type": "error",
     "traceback": [
      "\u001B[1;31m---------------------------------------------------------------------------\u001B[0m",
      "\u001B[1;31mAssertionError\u001B[0m                            Traceback (most recent call last)",
      "\u001B[1;32m~\\AppData\\Local\\Temp/ipykernel_16128/542673275.py\u001B[0m in \u001B[0;36m<module>\u001B[1;34m\u001B[0m\n\u001B[0;32m      2\u001B[0m \u001B[0mx\u001B[0m \u001B[1;33m=\u001B[0m \u001B[0mexperiments\u001B[0m\u001B[1;33m\u001B[0m\u001B[1;33m\u001B[0m\u001B[0m\n\u001B[0;32m      3\u001B[0m \u001B[0my\u001B[0m \u001B[1;33m=\u001B[0m \u001B[0moutcomes\u001B[0m\u001B[1;33m[\u001B[0m\u001B[1;34m\"A.2 Total Costs\"\u001B[0m\u001B[1;33m]\u001B[0m \u001B[1;33m<\u001B[0m \u001B[1;36m2.5e+08\u001B[0m\u001B[1;33m\u001B[0m\u001B[1;33m\u001B[0m\u001B[0m\n\u001B[1;32m----> 4\u001B[1;33m \u001B[0mprim_alg\u001B[0m \u001B[1;33m=\u001B[0m \u001B[0mprim\u001B[0m\u001B[1;33m.\u001B[0m\u001B[0mPrim\u001B[0m\u001B[1;33m(\u001B[0m\u001B[0mx\u001B[0m\u001B[1;33m,\u001B[0m \u001B[0my\u001B[0m\u001B[1;33m,\u001B[0m \u001B[0mthreshold\u001B[0m\u001B[1;33m=\u001B[0m\u001B[1;36m0.8\u001B[0m\u001B[1;33m)\u001B[0m\u001B[1;33m\u001B[0m\u001B[1;33m\u001B[0m\u001B[0m\n\u001B[0m\u001B[0;32m      5\u001B[0m \u001B[0mbox1\u001B[0m \u001B[1;33m=\u001B[0m \u001B[0mprim_alg\u001B[0m\u001B[1;33m.\u001B[0m\u001B[0mfind_box\u001B[0m\u001B[1;33m(\u001B[0m\u001B[1;33m)\u001B[0m\u001B[1;33m\u001B[0m\u001B[1;33m\u001B[0m\u001B[0m\n",
      "\u001B[1;32m~\\OneDrive\\Documents\\Python\\lib\\site-packages\\ema_workbench\\analysis\\prim.py\u001B[0m in \u001B[0;36m__init__\u001B[1;34m(self, x, y, threshold, obj_function, peel_alpha, paste_alpha, mass_min, threshold_type, mode, update_function)\u001B[0m\n\u001B[0;32m    966\u001B[0m             \u001B[0msdutil\u001B[0m\u001B[1;33m.\u001B[0m\u001B[0mRuleInductionType\u001B[0m\u001B[1;33m.\u001B[0m\u001B[0mREGRESSION\u001B[0m\u001B[1;33m,\u001B[0m\u001B[1;33m\u001B[0m\u001B[1;33m\u001B[0m\u001B[0m\n\u001B[0;32m    967\u001B[0m         }\n\u001B[1;32m--> 968\u001B[1;33m         \u001B[1;32massert\u001B[0m \u001B[0mself\u001B[0m\u001B[1;33m.\u001B[0m\u001B[0m_assert_mode\u001B[0m\u001B[1;33m(\u001B[0m\u001B[0my\u001B[0m\u001B[1;33m,\u001B[0m \u001B[0mmode\u001B[0m\u001B[1;33m,\u001B[0m \u001B[0mupdate_function\u001B[0m\u001B[1;33m)\u001B[0m\u001B[1;33m\u001B[0m\u001B[1;33m\u001B[0m\u001B[0m\n\u001B[0m\u001B[0;32m    969\u001B[0m         \u001B[1;31m# preprocess x\u001B[0m\u001B[1;33m\u001B[0m\u001B[1;33m\u001B[0m\u001B[1;33m\u001B[0m\u001B[0m\n\u001B[0;32m    970\u001B[0m         \u001B[1;32mtry\u001B[0m\u001B[1;33m:\u001B[0m\u001B[1;33m\u001B[0m\u001B[1;33m\u001B[0m\u001B[0m\n",
      "\u001B[1;31mAssertionError\u001B[0m: "
     ]
    }
   ],
   "source": [
    "from ema_workbench.analysis import prim\n",
    "x = experiments\n",
    "y = outcomes[\"A.2 Total Costs\"] < 2.5e+08\n",
    "prim_alg = prim.Prim(x, y, threshold=0.8)\n",
    "box1 = prim_alg.find_box()"
   ]
  },
  {
   "cell_type": "code",
   "execution_count": 95,
   "metadata": {
    "collapsed": false,
    "jupyter": {
     "outputs_hidden": false
    },
    "pycharm": {
     "name": "#%%\n"
    }
   },
   "outputs": [
    {
     "data": {
      "image/png": "[encoded data removed]",
      "text/plain": [
       "<Figure size 432x288 with 2 Axes>"
      ]
     },
     "metadata": {
      "needs_background": "light"
     },
     "output_type": "display_data"
    }
   ],
   "source": [
    "box1.show_tradeoff()\n",
    "plt.show()"
   ]
  },
  {
   "cell_type": "markdown",
   "metadata": {
    "pycharm": {
     "name": "#%% md\n"
    }
   },
   "source": [
    "### Edit the column for outcome to see different results"
   ]
  },
  {
   "cell_type": "code",
   "execution_count": 96,
   "metadata": {
    "collapsed": false,
    "jupyter": {
     "outputs_hidden": false
    },
    "pycharm": {
     "name": "#%%\n"
    }
   },
   "outputs": [
    {
     "name": "stderr",
     "output_type": "stream",
     "text": [
      "[MainProcess/INFO] policy dropped from analysis because only a single category\n",
      "[MainProcess/INFO] model dropped from analysis because only a single category\n"
     ]
    },
    {
     "data": {
      "image/png": "[encoded data removed]",
      "text/plain": [
       "<Figure size 720x720 with 4 Axes>"
      ]
     },
     "metadata": {},
     "output_type": "display_data"
    },
    {
     "name": "stdout",
     "output_type": "stream",
     "text": [
      "1000\n"
     ]
    }
   ],
   "source": [
    "from ema_workbench.analysis import dimensional_stacking\n",
    "\n",
    "x = experiments\n",
    "y = outcomes[\"A.2 Total Costs\"] < 2.5e08\n",
    "\n",
    "dimensional_stacking.create_pivot_plot(x, y, 2, nbins=3)\n",
    "plt.show()\n",
    "print(len(y))"
   ]
  },
  {
   "cell_type": "markdown",
   "metadata": {
    "pycharm": {
     "name": "#%% md\n"
    }
   },
   "source": [
    "\n",
    "### change which parts of the experiments table it outputs to see the figure better"
   ]
  },
  {
   "cell_type": "code",
   "execution_count": 97,
   "metadata": {
    "collapsed": false,
    "jupyter": {
     "outputs_hidden": false
    },
    "pycharm": {
     "name": "#%%\n"
    }
   },
   "outputs": [
    {
     "data": {
      "image/png": "[encoded data removed]",
      "text/plain": [
       "<Figure size 720x360 with 2 Axes>"
      ]
     },
     "metadata": {
      "needs_background": "light"
     },
     "output_type": "display_data"
    }
   ],
   "source": [
    "from ema_workbench.analysis import feature_scoring\n",
    "\n",
    "x = experiments.loc[:,['A.1_pfail', 'A.2_pfail', 'A.3_pfail', 'A.4_pfail', 'A.5_pfail']]\n",
    "y = outcomes\n",
    "\n",
    "plt.figure(figsize = (10,5))\n",
    "\n",
    "fs = feature_scoring.get_feature_scores_all(x, y)\n",
    "sns.heatmap(fs, cmap=\"viridis\", annot=True, )\n",
    "\n",
    "plt.show()"
   ]
  },
  {
   "cell_type": "markdown",
   "metadata": {
    "pycharm": {
     "name": "#%% md\n"
    }
   },
   "source": [
    "__OUTPUT PLOTTER__"
   ]
  },
  {
   "cell_type": "markdown",
   "metadata": {
    "pycharm": {
     "name": "#%% md\n"
    }
   },
   "source": [
    "The first cell just creates the dictionaries from the output, the second and third cell do the plots. Then we make the Dataframe"
   ]
  },
  {
   "cell_type": "markdown",
   "metadata": {
    "pycharm": {
     "name": "#%% md\n"
    }
   },
   "source": [
    " __First fill in the run number below__  (as a string, just fill it in between the quotation marks)"
   ]
  },
  {
   "cell_type": "code",
   "execution_count": 98,
   "metadata": {
    "pycharm": {
     "name": "#%%\n"
    }
   },
   "outputs": [],
   "source": [
    "run_number = \"1_3\" # Run number plz"
   ]
  },
  {
   "cell_type": "code",
   "execution_count": 99,
   "metadata": {
    "pycharm": {
     "name": "#%%\n"
    }
   },
   "outputs": [],
   "source": [
    "A1_cost = outcomes[\"A.1 Total Costs\"]\n",
    "A2_cost = outcomes[\"A.2 Total Costs\"]\n",
    "A3_cost = outcomes[\"A.3 Total Costs\"]\n",
    "A4_cost = outcomes[\"A.4 Total Costs\"]\n",
    "A5_cost = outcomes[\"A.5 Total Costs\"]\n",
    "A1_death = outcomes[\"A.1_Expected Number of Deaths\"]\n",
    "A2_death = outcomes[\"A.2_Expected Number of Deaths\"]\n",
    "A3_death = outcomes[\"A.3_Expected Number of Deaths\"]\n",
    "A4_death = outcomes[\"A.4_Expected Number of Deaths\"]\n",
    "A5_death = outcomes[\"A.5_Expected Number of Deaths\"]\n",
    "costs = [A1_cost,A2_cost,A3_cost,A4_cost,A5_cost]\n",
    "death = [A1_death,A2_death,A3_death,A4_death,A5_death]\n",
    "costs_dict = {}\n",
    "death_dict = {}\n",
    "for i in range(len(costs)):\n",
    "    segment_costs = costs[i]\n",
    "    segment_death = death[i]\n",
    "    avg_costs = np.average(segment_costs)\n",
    "    avg_death = np.average(segment_death)\n",
    "    costs_dict['Costs A' + str(i+1)] = avg_costs\n",
    "    death_dict['Deaths A' + str(i+1)] = avg_death\n"
   ]
  },
  {
   "cell_type": "code",
   "execution_count": 100,
   "metadata": {
    "pycharm": {
     "name": "#%%\n"
    }
   },
   "outputs": [
    {
     "data": {
      "image/png": "[encoded data removed]",
      "text/plain": [
       "<Figure size 432x288 with 1 Axes>"
      ]
     },
     "metadata": {
      "needs_background": "light"
     },
     "output_type": "display_data"
    }
   ],
   "source": [
    "names = list(costs_dict.keys())\n",
    "values = list(costs_dict.values())\n",
    "\n",
    "plt.bar(range(len(costs_dict)), values, tick_label=names)\n",
    "plt.xlabel('Segment')\n",
    "plt.ylabel('Average Total Costs')\n",
    "plt.title(\"Policy\" + str(run_number))\n",
    "plt.show()"
   ]
  },
  {
   "cell_type": "code",
   "execution_count": 101,
   "metadata": {
    "pycharm": {
     "name": "#%%\n"
    }
   },
   "outputs": [
    {
     "data": {
      "image/png": "[encoded data removed]",
      "text/plain": [
       "<Figure size 432x288 with 1 Axes>"
      ]
     },
     "metadata": {
      "needs_background": "light"
     },
     "output_type": "display_data"
    }
   ],
   "source": [
    "names = list(death_dict.keys())\n",
    "values = list(death_dict.values())\n",
    "\n",
    "plt.bar(range(len(death_dict)), values, tick_label=names)\n",
    "plt.xlabel('Segment')\n",
    "plt.ylabel('Averge Expected Deaths')\n",
    "plt.title(\"Policy\" + str(run_number))\n",
    "plt.show()"
   ]
  },
  {
   "cell_type": "code",
   "execution_count": 102,
   "metadata": {
    "pycharm": {
     "name": "#%%\n"
    }
   },
   "outputs": [],
   "source": [
    "df_costs = pd.DataFrame([costs_dict], index=[\"Policy\" + str(run_number),])\n",
    "df_death = pd.DataFrame([death_dict], index=[\"Policy\" + str(run_number),])"
   ]
  },
  {
   "cell_type": "code",
   "execution_count": 103,
   "metadata": {
    "pycharm": {
     "name": "#%%\n"
    }
   },
   "outputs": [
    {
     "data": {
      "text/html": [
       "<div>\n",
       "<style scoped>\n",
       "    .dataframe tbody tr th:only-of-type {\n",
       "        vertical-align: middle;\n",
       "    }\n",
       "\n",
       "    .dataframe tbody tr th {\n",
       "        vertical-align: top;\n",
       "    }\n",
       "\n",
       "    .dataframe thead th {\n",
       "        text-align: right;\n",
       "    }\n",
       "</style>\n",
       "<table border=\"1\" class=\"dataframe\">\n",
       "  <thead>\n",
       "    <tr style=\"text-align: right;\">\n",
       "      <th></th>\n",
       "      <th>Costs A1</th>\n",
       "      <th>Costs A2</th>\n",
       "      <th>Costs A3</th>\n",
       "      <th>Costs A4</th>\n",
       "      <th>Costs A5</th>\n",
       "      <th>Deaths A1</th>\n",
       "      <th>Deaths A2</th>\n",
       "      <th>Deaths A3</th>\n",
       "      <th>Deaths A4</th>\n",
       "      <th>Deaths A5</th>\n",
       "    </tr>\n",
       "  </thead>\n",
       "  <tbody>\n",
       "    <tr>\n",
       "      <th>Policy1_3</th>\n",
       "      <td>3.569375e+08</td>\n",
       "      <td>3.767015e+08</td>\n",
       "      <td>1.703431e+08</td>\n",
       "      <td>7.596520e+07</td>\n",
       "      <td>2.228586e+08</td>\n",
       "      <td>0.000179</td>\n",
       "      <td>0.000172</td>\n",
       "      <td>0.000904</td>\n",
       "      <td>0.00003</td>\n",
       "      <td>0.000606</td>\n",
       "    </tr>\n",
       "  </tbody>\n",
       "</table>\n",
       "</div>"
      ],
      "text/plain": [
       "               Costs A1      Costs A2      Costs A3      Costs A4  \\\n",
       "Policy1_3  3.569375e+08  3.767015e+08  1.703431e+08  7.596520e+07   \n",
       "\n",
       "               Costs A5  Deaths A1  Deaths A2  Deaths A3  Deaths A4  Deaths A5  \n",
       "Policy1_3  2.228586e+08   0.000179   0.000172   0.000904    0.00003   0.000606  "
      ]
     },
     "execution_count": 103,
     "metadata": {},
     "output_type": "execute_result"
    }
   ],
   "source": [
    "df = pd.concat([df_costs,df_death],axis=1)\n",
    "df "
   ]
  },
  {
   "cell_type": "markdown",
   "metadata": {
    "pycharm": {
     "name": "#%% md\n"
    }
   },
   "source": [
    "__RUN THIS ONLY ONCE__ on the first time you run the code"
   ]
  },
  {
   "cell_type": "code",
   "execution_count": 24,
   "metadata": {
    "pycharm": {
     "name": "#%%\n"
    }
   },
   "outputs": [],
   "source": [
    "Master_df = df #RUN THIS ONLY ONCE!!!!!!"
   ]
  },
  {
   "cell_type": "markdown",
   "metadata": {
    "pycharm": {
     "name": "#%% md\n"
    }
   },
   "source": [
    "__RUN THIS EVERY TIME YOU DO A NEW RUN__"
   ]
  },
  {
   "cell_type": "code",
   "execution_count": 104,
   "metadata": {
    "pycharm": {
     "name": "#%%\n"
    }
   },
   "outputs": [],
   "source": [
    "Master_df = pd.concat([Master_df,df],axis=0)"
   ]
  },
  {
   "cell_type": "code",
   "execution_count": 105,
   "metadata": {
    "pycharm": {
     "name": "#%%\n"
    }
   },
   "outputs": [
    {
     "data": {
      "text/html": [
       "<div>\n",
       "<style scoped>\n",
       "    .dataframe tbody tr th:only-of-type {\n",
       "        vertical-align: middle;\n",
       "    }\n",
       "\n",
       "    .dataframe tbody tr th {\n",
       "        vertical-align: top;\n",
       "    }\n",
       "\n",
       "    .dataframe thead th {\n",
       "        text-align: right;\n",
       "    }\n",
       "</style>\n",
       "<table border=\"1\" class=\"dataframe\">\n",
       "  <thead>\n",
       "    <tr style=\"text-align: right;\">\n",
       "      <th></th>\n",
       "      <th>Costs A1</th>\n",
       "      <th>Costs A2</th>\n",
       "      <th>Costs A3</th>\n",
       "      <th>Costs A4</th>\n",
       "      <th>Costs A5</th>\n",
       "      <th>Deaths A1</th>\n",
       "      <th>Deaths A2</th>\n",
       "      <th>Deaths A3</th>\n",
       "      <th>Deaths A4</th>\n",
       "      <th>Deaths A5</th>\n",
       "    </tr>\n",
       "  </thead>\n",
       "  <tbody>\n",
       "    <tr>\n",
       "      <th>Policy02</th>\n",
       "      <td>0.000000e+00</td>\n",
       "      <td>6.968472e+07</td>\n",
       "      <td>3.922454e+07</td>\n",
       "      <td>4.355095e+06</td>\n",
       "      <td>2.159082e+07</td>\n",
       "      <td>0.000000</td>\n",
       "      <td>0.061400</td>\n",
       "      <td>0.064770</td>\n",
       "      <td>0.001651</td>\n",
       "      <td>0.018641</td>\n",
       "    </tr>\n",
       "    <tr>\n",
       "      <th>Policy03</th>\n",
       "      <td>9.632164e+08</td>\n",
       "      <td>5.969716e+07</td>\n",
       "      <td>5.998819e+07</td>\n",
       "      <td>9.111950e+06</td>\n",
       "      <td>1.084604e+08</td>\n",
       "      <td>0.663954</td>\n",
       "      <td>0.052468</td>\n",
       "      <td>0.097947</td>\n",
       "      <td>0.003796</td>\n",
       "      <td>0.097662</td>\n",
       "    </tr>\n",
       "    <tr>\n",
       "      <th>Policy04</th>\n",
       "      <td>0.000000e+00</td>\n",
       "      <td>1.566413e+08</td>\n",
       "      <td>3.139588e+08</td>\n",
       "      <td>1.037409e+07</td>\n",
       "      <td>1.265881e+07</td>\n",
       "      <td>0.000000</td>\n",
       "      <td>0.142060</td>\n",
       "      <td>0.532062</td>\n",
       "      <td>0.004263</td>\n",
       "      <td>0.010936</td>\n",
       "    </tr>\n",
       "    <tr>\n",
       "      <th>Policy1_3</th>\n",
       "      <td>3.569375e+08</td>\n",
       "      <td>3.767015e+08</td>\n",
       "      <td>1.703431e+08</td>\n",
       "      <td>7.596520e+07</td>\n",
       "      <td>2.228586e+08</td>\n",
       "      <td>0.000179</td>\n",
       "      <td>0.000172</td>\n",
       "      <td>0.000904</td>\n",
       "      <td>0.000030</td>\n",
       "      <td>0.000606</td>\n",
       "    </tr>\n",
       "  </tbody>\n",
       "</table>\n",
       "</div>"
      ],
      "text/plain": [
       "               Costs A1      Costs A2      Costs A3      Costs A4  \\\n",
       "Policy02   0.000000e+00  6.968472e+07  3.922454e+07  4.355095e+06   \n",
       "Policy03   9.632164e+08  5.969716e+07  5.998819e+07  9.111950e+06   \n",
       "Policy04   0.000000e+00  1.566413e+08  3.139588e+08  1.037409e+07   \n",
       "Policy1_3  3.569375e+08  3.767015e+08  1.703431e+08  7.596520e+07   \n",
       "\n",
       "               Costs A5  Deaths A1  Deaths A2  Deaths A3  Deaths A4  Deaths A5  \n",
       "Policy02   2.159082e+07   0.000000   0.061400   0.064770   0.001651   0.018641  \n",
       "Policy03   1.084604e+08   0.663954   0.052468   0.097947   0.003796   0.097662  \n",
       "Policy04   1.265881e+07   0.000000   0.142060   0.532062   0.004263   0.010936  \n",
       "Policy1_3  2.228586e+08   0.000179   0.000172   0.000904   0.000030   0.000606  "
      ]
     },
     "execution_count": 105,
     "metadata": {},
     "output_type": "execute_result"
    }
   ],
   "source": [
    "Master_df"
   ]
  },
  {
   "cell_type": "code",
   "execution_count": 117,
   "metadata": {
    "pycharm": {
     "name": "#%%\n"
    }
   },
   "outputs": [
    {
     "data": {
      "text/html": [
       "<div>\n",
       "<style scoped>\n",
       "    .dataframe tbody tr th:only-of-type {\n",
       "        vertical-align: middle;\n",
       "    }\n",
       "\n",
       "    .dataframe tbody tr th {\n",
       "        vertical-align: top;\n",
       "    }\n",
       "\n",
       "    .dataframe thead th {\n",
       "        text-align: right;\n",
       "    }\n",
       "</style>\n",
       "<table border=\"1\" class=\"dataframe\">\n",
       "  <thead>\n",
       "    <tr style=\"text-align: right;\">\n",
       "      <th></th>\n",
       "      <th>Costs A1</th>\n",
       "      <th>Costs A2</th>\n",
       "      <th>Costs A3</th>\n",
       "      <th>Costs A4</th>\n",
       "      <th>Costs A5</th>\n",
       "      <th>Deaths A1</th>\n",
       "      <th>Deaths A2</th>\n",
       "      <th>Deaths A3</th>\n",
       "      <th>Deaths A4</th>\n",
       "      <th>Deaths A5</th>\n",
       "    </tr>\n",
       "  </thead>\n",
       "  <tbody>\n",
       "    <tr>\n",
       "      <th>Policy0_0</th>\n",
       "      <td>1.172700e+09</td>\n",
       "      <td>1.542487e+08</td>\n",
       "      <td>4.299761e+08</td>\n",
       "      <td>1.900943e+07</td>\n",
       "      <td>6.362715e+07</td>\n",
       "      <td>0.799299</td>\n",
       "      <td>0.140017</td>\n",
       "      <td>0.745159</td>\n",
       "      <td>0.008403</td>\n",
       "      <td>0.055620</td>\n",
       "    </tr>\n",
       "    <tr>\n",
       "      <th>Policy1_1</th>\n",
       "      <td>5.809244e+08</td>\n",
       "      <td>1.909016e+08</td>\n",
       "      <td>2.768656e+08</td>\n",
       "      <td>3.243985e+07</td>\n",
       "      <td>1.321141e+08</td>\n",
       "      <td>0.325999</td>\n",
       "      <td>0.068695</td>\n",
       "      <td>0.377923</td>\n",
       "      <td>0.006021</td>\n",
       "      <td>0.049289</td>\n",
       "    </tr>\n",
       "    <tr>\n",
       "      <th>Policy1_2</th>\n",
       "      <td>5.809244e+08</td>\n",
       "      <td>1.909016e+08</td>\n",
       "      <td>2.768656e+08</td>\n",
       "      <td>3.243985e+07</td>\n",
       "      <td>1.321141e+08</td>\n",
       "      <td>0.325999</td>\n",
       "      <td>0.068695</td>\n",
       "      <td>0.377923</td>\n",
       "      <td>0.006021</td>\n",
       "      <td>0.049289</td>\n",
       "    </tr>\n",
       "  </tbody>\n",
       "</table>\n",
       "</div>"
      ],
      "text/plain": [
       "               Costs A1      Costs A2      Costs A3      Costs A4  \\\n",
       "Policy0_0  1.172700e+09  1.542487e+08  4.299761e+08  1.900943e+07   \n",
       "Policy1_1  5.809244e+08  1.909016e+08  2.768656e+08  3.243985e+07   \n",
       "Policy1_2  5.809244e+08  1.909016e+08  2.768656e+08  3.243985e+07   \n",
       "\n",
       "               Costs A5  Deaths A1  Deaths A2  Deaths A3  Deaths A4  Deaths A5  \n",
       "Policy0_0  6.362715e+07   0.799299   0.140017   0.745159   0.008403   0.055620  \n",
       "Policy1_1  1.321141e+08   0.325999   0.068695   0.377923   0.006021   0.049289  \n",
       "Policy1_2  1.321141e+08   0.325999   0.068695   0.377923   0.006021   0.049289  "
      ]
     },
     "execution_count": 117,
     "metadata": {},
     "output_type": "execute_result"
    }
   ],
   "source": [
    "merge = pd.read_csv('intermediate.csv', index_col=0)\n",
    "merge"
   ]
  },
  {
   "cell_type": "code",
   "execution_count": 121,
   "metadata": {
    "pycharm": {
     "name": "#%%\n"
    }
   },
   "outputs": [
    {
     "data": {
      "text/html": [
       "<div>\n",
       "<style scoped>\n",
       "    .dataframe tbody tr th:only-of-type {\n",
       "        vertical-align: middle;\n",
       "    }\n",
       "\n",
       "    .dataframe tbody tr th {\n",
       "        vertical-align: top;\n",
       "    }\n",
       "\n",
       "    .dataframe thead th {\n",
       "        text-align: right;\n",
       "    }\n",
       "</style>\n",
       "<table border=\"1\" class=\"dataframe\">\n",
       "  <thead>\n",
       "    <tr style=\"text-align: right;\">\n",
       "      <th></th>\n",
       "      <th>Costs A1</th>\n",
       "      <th>Costs A2</th>\n",
       "      <th>Costs A3</th>\n",
       "      <th>Costs A4</th>\n",
       "      <th>Costs A5</th>\n",
       "      <th>Deaths A1</th>\n",
       "      <th>Deaths A2</th>\n",
       "      <th>Deaths A3</th>\n",
       "      <th>Deaths A4</th>\n",
       "      <th>Deaths A5</th>\n",
       "    </tr>\n",
       "  </thead>\n",
       "  <tbody>\n",
       "    <tr>\n",
       "      <th>Policy02</th>\n",
       "      <td>0.000000e+00</td>\n",
       "      <td>6.968472e+07</td>\n",
       "      <td>3.922454e+07</td>\n",
       "      <td>4.355095e+06</td>\n",
       "      <td>2.159082e+07</td>\n",
       "      <td>0.000000</td>\n",
       "      <td>0.061400</td>\n",
       "      <td>0.064770</td>\n",
       "      <td>0.001651</td>\n",
       "      <td>0.018641</td>\n",
       "    </tr>\n",
       "    <tr>\n",
       "      <th>Policy03</th>\n",
       "      <td>9.632164e+08</td>\n",
       "      <td>5.969716e+07</td>\n",
       "      <td>5.998819e+07</td>\n",
       "      <td>9.111950e+06</td>\n",
       "      <td>1.084604e+08</td>\n",
       "      <td>0.663954</td>\n",
       "      <td>0.052468</td>\n",
       "      <td>0.097947</td>\n",
       "      <td>0.003796</td>\n",
       "      <td>0.097662</td>\n",
       "    </tr>\n",
       "    <tr>\n",
       "      <th>Policy04</th>\n",
       "      <td>0.000000e+00</td>\n",
       "      <td>1.566413e+08</td>\n",
       "      <td>3.139588e+08</td>\n",
       "      <td>1.037409e+07</td>\n",
       "      <td>1.265881e+07</td>\n",
       "      <td>0.000000</td>\n",
       "      <td>0.142060</td>\n",
       "      <td>0.532062</td>\n",
       "      <td>0.004263</td>\n",
       "      <td>0.010936</td>\n",
       "    </tr>\n",
       "    <tr>\n",
       "      <th>Policy1_3</th>\n",
       "      <td>3.569375e+08</td>\n",
       "      <td>3.767015e+08</td>\n",
       "      <td>1.703431e+08</td>\n",
       "      <td>7.596520e+07</td>\n",
       "      <td>2.228586e+08</td>\n",
       "      <td>0.000179</td>\n",
       "      <td>0.000172</td>\n",
       "      <td>0.000904</td>\n",
       "      <td>0.000030</td>\n",
       "      <td>0.000606</td>\n",
       "    </tr>\n",
       "    <tr>\n",
       "      <th>Policy0_0</th>\n",
       "      <td>1.172700e+09</td>\n",
       "      <td>1.542487e+08</td>\n",
       "      <td>4.299761e+08</td>\n",
       "      <td>1.900943e+07</td>\n",
       "      <td>6.362715e+07</td>\n",
       "      <td>0.799299</td>\n",
       "      <td>0.140017</td>\n",
       "      <td>0.745159</td>\n",
       "      <td>0.008403</td>\n",
       "      <td>0.055620</td>\n",
       "    </tr>\n",
       "    <tr>\n",
       "      <th>Policy1_1</th>\n",
       "      <td>5.809244e+08</td>\n",
       "      <td>1.909016e+08</td>\n",
       "      <td>2.768656e+08</td>\n",
       "      <td>3.243985e+07</td>\n",
       "      <td>1.321141e+08</td>\n",
       "      <td>0.325999</td>\n",
       "      <td>0.068695</td>\n",
       "      <td>0.377923</td>\n",
       "      <td>0.006021</td>\n",
       "      <td>0.049289</td>\n",
       "    </tr>\n",
       "    <tr>\n",
       "      <th>Policy1_2</th>\n",
       "      <td>5.809244e+08</td>\n",
       "      <td>1.909016e+08</td>\n",
       "      <td>2.768656e+08</td>\n",
       "      <td>3.243985e+07</td>\n",
       "      <td>1.321141e+08</td>\n",
       "      <td>0.325999</td>\n",
       "      <td>0.068695</td>\n",
       "      <td>0.377923</td>\n",
       "      <td>0.006021</td>\n",
       "      <td>0.049289</td>\n",
       "    </tr>\n",
       "  </tbody>\n",
       "</table>\n",
       "</div>"
      ],
      "text/plain": [
       "               Costs A1      Costs A2      Costs A3      Costs A4  \\\n",
       "Policy02   0.000000e+00  6.968472e+07  3.922454e+07  4.355095e+06   \n",
       "Policy03   9.632164e+08  5.969716e+07  5.998819e+07  9.111950e+06   \n",
       "Policy04   0.000000e+00  1.566413e+08  3.139588e+08  1.037409e+07   \n",
       "Policy1_3  3.569375e+08  3.767015e+08  1.703431e+08  7.596520e+07   \n",
       "Policy0_0  1.172700e+09  1.542487e+08  4.299761e+08  1.900943e+07   \n",
       "Policy1_1  5.809244e+08  1.909016e+08  2.768656e+08  3.243985e+07   \n",
       "Policy1_2  5.809244e+08  1.909016e+08  2.768656e+08  3.243985e+07   \n",
       "\n",
       "               Costs A5  Deaths A1  Deaths A2  Deaths A3  Deaths A4  Deaths A5  \n",
       "Policy02   2.159082e+07   0.000000   0.061400   0.064770   0.001651   0.018641  \n",
       "Policy03   1.084604e+08   0.663954   0.052468   0.097947   0.003796   0.097662  \n",
       "Policy04   1.265881e+07   0.000000   0.142060   0.532062   0.004263   0.010936  \n",
       "Policy1_3  2.228586e+08   0.000179   0.000172   0.000904   0.000030   0.000606  \n",
       "Policy0_0  6.362715e+07   0.799299   0.140017   0.745159   0.008403   0.055620  \n",
       "Policy1_1  1.321141e+08   0.325999   0.068695   0.377923   0.006021   0.049289  \n",
       "Policy1_2  1.321141e+08   0.325999   0.068695   0.377923   0.006021   0.049289  "
      ]
     },
     "execution_count": 121,
     "metadata": {},
     "output_type": "execute_result"
    }
   ],
   "source": [
    "master_df = pd.concat([Master_df,merge])\n",
    "master_df"
   ]
  },
  {
   "cell_type": "code",
   "execution_count": 166,
   "metadata": {
    "pycharm": {
     "name": "#%%\n"
    }
   },
   "outputs": [
    {
     "ename": "KeyError",
     "evalue": "\"None of [Index(['Policy0_0', 'Policy1_1', 'Policy1_2', 'Policy1_3', 'Policy02',\\n       'Policy03', 'Policy04'],\\n      dtype='object')] are in the [columns]\"",
     "output_type": "error",
     "traceback": [
      "\u001B[1;31m---------------------------------------------------------------------------\u001B[0m",
      "\u001B[1;31mKeyError\u001B[0m                                  Traceback (most recent call last)",
      "\u001B[1;32m~\\AppData\\Local\\Temp/ipykernel_16128/1379206203.py\u001B[0m in \u001B[0;36m<module>\u001B[1;34m\u001B[0m\n\u001B[0;32m      1\u001B[0m \u001B[0mmaster_df\u001B[0m \u001B[1;33m=\u001B[0m \u001B[0mmaster_df\u001B[0m\u001B[1;33m.\u001B[0m\u001B[0msort_index\u001B[0m\u001B[1;33m(\u001B[0m\u001B[1;33m)\u001B[0m\u001B[1;33m\u001B[0m\u001B[1;33m\u001B[0m\u001B[0m\n\u001B[0;32m      2\u001B[0m \u001B[0mmaster_df\u001B[0m \u001B[1;33m=\u001B[0m \u001B[0mmaster_df\u001B[0m\u001B[1;33m.\u001B[0m\u001B[0mT\u001B[0m\u001B[1;33m\u001B[0m\u001B[1;33m\u001B[0m\u001B[0m\n\u001B[1;32m----> 3\u001B[1;33m \u001B[0mmaster_df\u001B[0m \u001B[1;33m=\u001B[0m \u001B[0mmaster_df\u001B[0m\u001B[1;33m[\u001B[0m\u001B[1;33m[\u001B[0m\u001B[1;34m'Policy0_0'\u001B[0m\u001B[1;33m,\u001B[0m \u001B[1;34m'Policy1_1'\u001B[0m\u001B[1;33m,\u001B[0m \u001B[1;34m'Policy1_2'\u001B[0m\u001B[1;33m,\u001B[0m \u001B[1;34m'Policy1_3'\u001B[0m\u001B[1;33m,\u001B[0m \u001B[1;34m'Policy02'\u001B[0m\u001B[1;33m,\u001B[0m \u001B[1;34m'Policy03'\u001B[0m\u001B[1;33m,\u001B[0m \u001B[1;34m'Policy04'\u001B[0m\u001B[1;33m]\u001B[0m\u001B[1;33m]\u001B[0m\u001B[1;33m\u001B[0m\u001B[1;33m\u001B[0m\u001B[0m\n\u001B[0m\u001B[0;32m      4\u001B[0m \u001B[0mmaster_df\u001B[0m\u001B[1;33m\u001B[0m\u001B[1;33m\u001B[0m\u001B[0m\n",
      "\u001B[1;32m~\\OneDrive\\Documents\\Python\\lib\\site-packages\\pandas\\core\\frame.py\u001B[0m in \u001B[0;36m__getitem__\u001B[1;34m(self, key)\u001B[0m\n\u001B[0;32m   3459\u001B[0m             \u001B[1;32mif\u001B[0m \u001B[0mis_iterator\u001B[0m\u001B[1;33m(\u001B[0m\u001B[0mkey\u001B[0m\u001B[1;33m)\u001B[0m\u001B[1;33m:\u001B[0m\u001B[1;33m\u001B[0m\u001B[1;33m\u001B[0m\u001B[0m\n\u001B[0;32m   3460\u001B[0m                 \u001B[0mkey\u001B[0m \u001B[1;33m=\u001B[0m \u001B[0mlist\u001B[0m\u001B[1;33m(\u001B[0m\u001B[0mkey\u001B[0m\u001B[1;33m)\u001B[0m\u001B[1;33m\u001B[0m\u001B[1;33m\u001B[0m\u001B[0m\n\u001B[1;32m-> 3461\u001B[1;33m             \u001B[0mindexer\u001B[0m \u001B[1;33m=\u001B[0m \u001B[0mself\u001B[0m\u001B[1;33m.\u001B[0m\u001B[0mloc\u001B[0m\u001B[1;33m.\u001B[0m\u001B[0m_get_listlike_indexer\u001B[0m\u001B[1;33m(\u001B[0m\u001B[0mkey\u001B[0m\u001B[1;33m,\u001B[0m \u001B[0maxis\u001B[0m\u001B[1;33m=\u001B[0m\u001B[1;36m1\u001B[0m\u001B[1;33m)\u001B[0m\u001B[1;33m[\u001B[0m\u001B[1;36m1\u001B[0m\u001B[1;33m]\u001B[0m\u001B[1;33m\u001B[0m\u001B[1;33m\u001B[0m\u001B[0m\n\u001B[0m\u001B[0;32m   3462\u001B[0m \u001B[1;33m\u001B[0m\u001B[0m\n\u001B[0;32m   3463\u001B[0m         \u001B[1;31m# take() does not accept boolean indexers\u001B[0m\u001B[1;33m\u001B[0m\u001B[1;33m\u001B[0m\u001B[1;33m\u001B[0m\u001B[0m\n",
      "\u001B[1;32m~\\OneDrive\\Documents\\Python\\lib\\site-packages\\pandas\\core\\indexing.py\u001B[0m in \u001B[0;36m_get_listlike_indexer\u001B[1;34m(self, key, axis)\u001B[0m\n\u001B[0;32m   1312\u001B[0m             \u001B[0mkeyarr\u001B[0m\u001B[1;33m,\u001B[0m \u001B[0mindexer\u001B[0m\u001B[1;33m,\u001B[0m \u001B[0mnew_indexer\u001B[0m \u001B[1;33m=\u001B[0m \u001B[0max\u001B[0m\u001B[1;33m.\u001B[0m\u001B[0m_reindex_non_unique\u001B[0m\u001B[1;33m(\u001B[0m\u001B[0mkeyarr\u001B[0m\u001B[1;33m)\u001B[0m\u001B[1;33m\u001B[0m\u001B[1;33m\u001B[0m\u001B[0m\n\u001B[0;32m   1313\u001B[0m \u001B[1;33m\u001B[0m\u001B[0m\n\u001B[1;32m-> 1314\u001B[1;33m         \u001B[0mself\u001B[0m\u001B[1;33m.\u001B[0m\u001B[0m_validate_read_indexer\u001B[0m\u001B[1;33m(\u001B[0m\u001B[0mkeyarr\u001B[0m\u001B[1;33m,\u001B[0m \u001B[0mindexer\u001B[0m\u001B[1;33m,\u001B[0m \u001B[0maxis\u001B[0m\u001B[1;33m)\u001B[0m\u001B[1;33m\u001B[0m\u001B[1;33m\u001B[0m\u001B[0m\n\u001B[0m\u001B[0;32m   1315\u001B[0m \u001B[1;33m\u001B[0m\u001B[0m\n\u001B[0;32m   1316\u001B[0m         if needs_i8_conversion(ax.dtype) or isinstance(\n",
      "\u001B[1;32m~\\OneDrive\\Documents\\Python\\lib\\site-packages\\pandas\\core\\indexing.py\u001B[0m in \u001B[0;36m_validate_read_indexer\u001B[1;34m(self, key, indexer, axis)\u001B[0m\n\u001B[0;32m   1372\u001B[0m                 \u001B[1;32mif\u001B[0m \u001B[0muse_interval_msg\u001B[0m\u001B[1;33m:\u001B[0m\u001B[1;33m\u001B[0m\u001B[1;33m\u001B[0m\u001B[0m\n\u001B[0;32m   1373\u001B[0m                     \u001B[0mkey\u001B[0m \u001B[1;33m=\u001B[0m \u001B[0mlist\u001B[0m\u001B[1;33m(\u001B[0m\u001B[0mkey\u001B[0m\u001B[1;33m)\u001B[0m\u001B[1;33m\u001B[0m\u001B[1;33m\u001B[0m\u001B[0m\n\u001B[1;32m-> 1374\u001B[1;33m                 \u001B[1;32mraise\u001B[0m \u001B[0mKeyError\u001B[0m\u001B[1;33m(\u001B[0m\u001B[1;34mf\"None of [{key}] are in the [{axis_name}]\"\u001B[0m\u001B[1;33m)\u001B[0m\u001B[1;33m\u001B[0m\u001B[1;33m\u001B[0m\u001B[0m\n\u001B[0m\u001B[0;32m   1375\u001B[0m \u001B[1;33m\u001B[0m\u001B[0m\n\u001B[0;32m   1376\u001B[0m             \u001B[0mnot_found\u001B[0m \u001B[1;33m=\u001B[0m \u001B[0mlist\u001B[0m\u001B[1;33m(\u001B[0m\u001B[0mensure_index\u001B[0m\u001B[1;33m(\u001B[0m\u001B[0mkey\u001B[0m\u001B[1;33m)\u001B[0m\u001B[1;33m[\u001B[0m\u001B[0mmissing_mask\u001B[0m\u001B[1;33m.\u001B[0m\u001B[0mnonzero\u001B[0m\u001B[1;33m(\u001B[0m\u001B[1;33m)\u001B[0m\u001B[1;33m[\u001B[0m\u001B[1;36m0\u001B[0m\u001B[1;33m]\u001B[0m\u001B[1;33m]\u001B[0m\u001B[1;33m.\u001B[0m\u001B[0munique\u001B[0m\u001B[1;33m(\u001B[0m\u001B[1;33m)\u001B[0m\u001B[1;33m)\u001B[0m\u001B[1;33m\u001B[0m\u001B[1;33m\u001B[0m\u001B[0m\n",
      "\u001B[1;31mKeyError\u001B[0m: \"None of [Index(['Policy0_0', 'Policy1_1', 'Policy1_2', 'Policy1_3', 'Policy02',\\n       'Policy03', 'Policy04'],\\n      dtype='object')] are in the [columns]\""
     ]
    }
   ],
   "source": [
    "master_df = master_df.sort_index()\n",
    "master_df = master_df.T\n",
    "master_df = master_df[['Policy0_0', 'Policy1_1', 'Policy1_2', 'Policy1_3', 'Policy02', 'Policy03', 'Policy04']]\n",
    "master_df"
   ]
  },
  {
   "cell_type": "code",
   "execution_count": 162,
   "metadata": {
    "pycharm": {
     "name": "#%%\n"
    }
   },
   "outputs": [
    {
     "data": {
      "text/html": [
       "<div>\n",
       "<style scoped>\n",
       "    .dataframe tbody tr th:only-of-type {\n",
       "        vertical-align: middle;\n",
       "    }\n",
       "\n",
       "    .dataframe tbody tr th {\n",
       "        vertical-align: top;\n",
       "    }\n",
       "\n",
       "    .dataframe thead th {\n",
       "        text-align: right;\n",
       "    }\n",
       "</style>\n",
       "<table border=\"1\" class=\"dataframe\">\n",
       "  <thead>\n",
       "    <tr style=\"text-align: right;\">\n",
       "      <th></th>\n",
       "      <th>Policy0_0</th>\n",
       "      <th>Policy1_1</th>\n",
       "      <th>Policy1_2</th>\n",
       "      <th>Policy1_3</th>\n",
       "      <th>Policy02</th>\n",
       "      <th>Policy03</th>\n",
       "      <th>Policy04</th>\n",
       "    </tr>\n",
       "  </thead>\n",
       "  <tbody>\n",
       "    <tr>\n",
       "      <th>Costs A1</th>\n",
       "      <td>1.172700e+09</td>\n",
       "      <td>5.809244e+08</td>\n",
       "      <td>5.809244e+08</td>\n",
       "      <td>3.569375e+08</td>\n",
       "      <td>0.000000e+00</td>\n",
       "      <td>9.632164e+08</td>\n",
       "      <td>0.000000e+00</td>\n",
       "    </tr>\n",
       "    <tr>\n",
       "      <th>Costs A2</th>\n",
       "      <td>1.542487e+08</td>\n",
       "      <td>1.909016e+08</td>\n",
       "      <td>1.909016e+08</td>\n",
       "      <td>3.767015e+08</td>\n",
       "      <td>6.968472e+07</td>\n",
       "      <td>5.969716e+07</td>\n",
       "      <td>1.566413e+08</td>\n",
       "    </tr>\n",
       "    <tr>\n",
       "      <th>Costs A3</th>\n",
       "      <td>4.299761e+08</td>\n",
       "      <td>2.768656e+08</td>\n",
       "      <td>2.768656e+08</td>\n",
       "      <td>1.703431e+08</td>\n",
       "      <td>3.922454e+07</td>\n",
       "      <td>5.998819e+07</td>\n",
       "      <td>3.139588e+08</td>\n",
       "    </tr>\n",
       "    <tr>\n",
       "      <th>Costs A4</th>\n",
       "      <td>1.900943e+07</td>\n",
       "      <td>3.243985e+07</td>\n",
       "      <td>3.243985e+07</td>\n",
       "      <td>7.596520e+07</td>\n",
       "      <td>4.355095e+06</td>\n",
       "      <td>9.111950e+06</td>\n",
       "      <td>1.037409e+07</td>\n",
       "    </tr>\n",
       "    <tr>\n",
       "      <th>Costs A5</th>\n",
       "      <td>6.362715e+07</td>\n",
       "      <td>1.321141e+08</td>\n",
       "      <td>1.321141e+08</td>\n",
       "      <td>2.228586e+08</td>\n",
       "      <td>2.159082e+07</td>\n",
       "      <td>1.084604e+08</td>\n",
       "      <td>1.265881e+07</td>\n",
       "    </tr>\n",
       "    <tr>\n",
       "      <th>Deaths A1</th>\n",
       "      <td>7.992990e-01</td>\n",
       "      <td>3.259991e-01</td>\n",
       "      <td>3.259991e-01</td>\n",
       "      <td>1.790869e-04</td>\n",
       "      <td>0.000000e+00</td>\n",
       "      <td>6.639543e-01</td>\n",
       "      <td>0.000000e+00</td>\n",
       "    </tr>\n",
       "    <tr>\n",
       "      <th>Deaths A2</th>\n",
       "      <td>1.400171e-01</td>\n",
       "      <td>6.869536e-02</td>\n",
       "      <td>6.869536e-02</td>\n",
       "      <td>1.716192e-04</td>\n",
       "      <td>6.139959e-02</td>\n",
       "      <td>5.246836e-02</td>\n",
       "      <td>1.420596e-01</td>\n",
       "    </tr>\n",
       "    <tr>\n",
       "      <th>Deaths A3</th>\n",
       "      <td>7.451591e-01</td>\n",
       "      <td>3.779232e-01</td>\n",
       "      <td>3.779232e-01</td>\n",
       "      <td>9.044317e-04</td>\n",
       "      <td>6.476956e-02</td>\n",
       "      <td>9.794718e-02</td>\n",
       "      <td>5.320620e-01</td>\n",
       "    </tr>\n",
       "    <tr>\n",
       "      <th>Deaths A4</th>\n",
       "      <td>8.403454e-03</td>\n",
       "      <td>6.020826e-03</td>\n",
       "      <td>6.020826e-03</td>\n",
       "      <td>3.049644e-05</td>\n",
       "      <td>1.650707e-03</td>\n",
       "      <td>3.796006e-03</td>\n",
       "      <td>4.263097e-03</td>\n",
       "    </tr>\n",
       "    <tr>\n",
       "      <th>Deaths A5</th>\n",
       "      <td>5.561964e-02</td>\n",
       "      <td>4.928892e-02</td>\n",
       "      <td>4.928892e-02</td>\n",
       "      <td>6.059673e-04</td>\n",
       "      <td>1.864109e-02</td>\n",
       "      <td>9.766202e-02</td>\n",
       "      <td>1.093615e-02</td>\n",
       "    </tr>\n",
       "  </tbody>\n",
       "</table>\n",
       "</div>"
      ],
      "text/plain": [
       "              Policy0_0     Policy1_1     Policy1_2     Policy1_3  \\\n",
       "Costs A1   1.172700e+09  5.809244e+08  5.809244e+08  3.569375e+08   \n",
       "Costs A2   1.542487e+08  1.909016e+08  1.909016e+08  3.767015e+08   \n",
       "Costs A3   4.299761e+08  2.768656e+08  2.768656e+08  1.703431e+08   \n",
       "Costs A4   1.900943e+07  3.243985e+07  3.243985e+07  7.596520e+07   \n",
       "Costs A5   6.362715e+07  1.321141e+08  1.321141e+08  2.228586e+08   \n",
       "Deaths A1  7.992990e-01  3.259991e-01  3.259991e-01  1.790869e-04   \n",
       "Deaths A2  1.400171e-01  6.869536e-02  6.869536e-02  1.716192e-04   \n",
       "Deaths A3  7.451591e-01  3.779232e-01  3.779232e-01  9.044317e-04   \n",
       "Deaths A4  8.403454e-03  6.020826e-03  6.020826e-03  3.049644e-05   \n",
       "Deaths A5  5.561964e-02  4.928892e-02  4.928892e-02  6.059673e-04   \n",
       "\n",
       "               Policy02      Policy03      Policy04  \n",
       "Costs A1   0.000000e+00  9.632164e+08  0.000000e+00  \n",
       "Costs A2   6.968472e+07  5.969716e+07  1.566413e+08  \n",
       "Costs A3   3.922454e+07  5.998819e+07  3.139588e+08  \n",
       "Costs A4   4.355095e+06  9.111950e+06  1.037409e+07  \n",
       "Costs A5   2.159082e+07  1.084604e+08  1.265881e+07  \n",
       "Deaths A1  0.000000e+00  6.639543e-01  0.000000e+00  \n",
       "Deaths A2  6.139959e-02  5.246836e-02  1.420596e-01  \n",
       "Deaths A3  6.476956e-02  9.794718e-02  5.320620e-01  \n",
       "Deaths A4  1.650707e-03  3.796006e-03  4.263097e-03  \n",
       "Deaths A5  1.864109e-02  9.766202e-02  1.093615e-02  "
      ]
     },
     "execution_count": 162,
     "metadata": {},
     "output_type": "execute_result"
    }
   ],
   "source": [
    "x = master_df.iloc[0,:].tolist()\n",
    "master_df"
   ]
  },
  {
   "cell_type": "code",
   "execution_count": 164,
   "metadata": {
    "pycharm": {
     "name": "#%%\n"
    }
   },
   "outputs": [
    {
     "data": {
      "image/png": "[encoded data removed]",
      "text/plain": [
       "<Figure size 1440x720 with 1 Axes>"
      ]
     },
     "metadata": {
      "needs_background": "light"
     },
     "output_type": "display_data"
    }
   ],
   "source": [
    "import numpy as np\n",
    "import matplotlib.pyplot as plt\n",
    " \n",
    "# set width of bars\n",
    "barWidth = 0.15\n",
    "plt.figure(figsize = (20,10))\n",
    " \n",
    "# set heights of bars --> outputs\n",
    "bars1 = master_df.iloc[0,:].tolist()\n",
    "bars2 = master_df.iloc[1,:].tolist()\n",
    "bars3 = master_df.iloc[2,:].tolist()\n",
    "bars4 = master_df.iloc[3,:].tolist()\n",
    "bars5 = master_df.iloc[4,:].tolist()\n",
    " \n",
    "# Set position of bar on X axis\n",
    "r1 = np.arange(len(bars1))\n",
    "r2 = [x + barWidth for x in r1]\n",
    "r3 = [x + barWidth for x in r2]\n",
    "r4 = [x + barWidth for x in r3]\n",
    "r5 = [x + barWidth for x in r4]\n",
    "\n",
    "# Make the plot\n",
    "plt.bar(r1, bars1, color='#4A5E41', width=barWidth, edgecolor='white', label='A1')\n",
    "plt.bar(r2, bars2, color='#6A895E', width=barWidth, edgecolor='white', label='A2')\n",
    "plt.bar(r3, bars3, color='#8AB47C', width=barWidth, edgecolor='white', label='A3')\n",
    "plt.bar(r4, bars4, color='#A9DF99', width=barWidth, edgecolor='white', label='A4')\n",
    "plt.bar(r5, bars5, color='#D5E9B6', width=barWidth, edgecolor='white', label='A5')\n",
    "\n",
    "\n",
    "# Add xticks on the middle of the group bars\n",
    "plt.xlabel('Policy', fontweight='bold')\n",
    "plt.xticks([r + barWidth*2 for r in range(len(bars1))], ['00', '01.1','01,2','01.2','01.3', '02', '03', '04'])\n",
    "plt.ylabel('Costs', fontweight='bold')\n",
    "\n",
    "plt.title(\"Bar Plot Costs per Policy and Segment\")\n",
    "plt.legend()\n",
    "plt.show()"
   ]
  },
  {
   "cell_type": "code",
   "execution_count": 165,
   "metadata": {
    "pycharm": {
     "name": "#%%\n"
    }
   },
   "outputs": [
    {
     "data": {
      "image/png": "[encoded data removed]",
      "text/plain": [
       "<Figure size 1440x720 with 1 Axes>"
      ]
     },
     "metadata": {
      "needs_background": "light"
     },
     "output_type": "display_data"
    }
   ],
   "source": [
    "import numpy as np\n",
    "import matplotlib.pyplot as plt\n",
    " \n",
    "# set width of bars\n",
    "barWidth = 0.15\n",
    "plt.figure(figsize = (20,10))\n",
    " \n",
    "# set heights of bars --> outputs\n",
    "bars1 = master_df.iloc[5,:].tolist()\n",
    "bars2 = master_df.iloc[6,:].tolist()\n",
    "bars3 = master_df.iloc[7,:].tolist()\n",
    "bars4 = master_df.iloc[8,:].tolist()\n",
    "bars5 = master_df.iloc[9,:].tolist()\n",
    " \n",
    "# Set position of bar on X axis\n",
    "r1 = np.arange(len(bars1))\n",
    "r2 = [x + barWidth for x in r1]\n",
    "r3 = [x + barWidth for x in r2]\n",
    "r4 = [x + barWidth for x in r3]\n",
    "r5 = [x + barWidth for x in r4]\n",
    "\n",
    "# Make the plot\n",
    "plt.bar(r1, bars1, color='#4A5E41', width=barWidth, edgecolor='white', label='A1')\n",
    "plt.bar(r2, bars2, color='#6A895E', width=barWidth, edgecolor='white', label='A2')\n",
    "plt.bar(r3, bars3, color='#8AB47C', width=barWidth, edgecolor='white', label='A3')\n",
    "plt.bar(r4, bars4, color='#A9DF99', width=barWidth, edgecolor='white', label='A4')\n",
    "plt.bar(r5, bars5, color='#D5E9B6', width=barWidth, edgecolor='white', label='A5')\n",
    "\n",
    "\n",
    "# Add xticks on the middle of the group bars\n",
    "plt.xlabel('Policy', fontweight='bold')\n",
    "plt.xticks([r + barWidth*2 for r in range(len(bars1))], ['00', '01.1','01,2','01.2','01.3', '02', '03', '04'])\n",
    "plt.ylabel('Deaths', fontweight='bold')\n",
    "\n",
    "plt.title(\"Bar Plot Deaths per Policy and Segment\")\n",
    "plt.legend()\n",
    "plt.show()"
   ]
  }
 ],
 "metadata": {
  "kernelspec": {
   "display_name": "Python 3 (ipykernel)",
   "language": "python",
   "name": "python3"
  },
  "language_info": {
   "codemirror_mode": {
    "name": "ipython",
    "version": 3
   },
   "file_extension": ".py",
   "mimetype": "text/x-python",
   "name": "python",
   "nbconvert_exporter": "python",
   "pygments_lexer": "ipython3",
   "version": "3.8.10"
  }
 },
 "nbformat": 4,
 "nbformat_minor": 4
}