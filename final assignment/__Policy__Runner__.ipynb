{
 "cells": [
  {
   "cell_type": "markdown",
   "metadata": {
    "pycharm": {
     "name": "#%% md\n"
    }
   },
   "source": [
    "# Import Stuff"
   ]
  },
  {
   "cell_type": "code",
   "execution_count": 131,
   "metadata": {
    "pycharm": {
     "name": "#%%\n"
    }
   },
   "outputs": [],
   "source": [
    "import numpy as np\n",
    "import scipy as sp\n",
    "import pandas as pd\n",
    "import matplotlib.pyplot as plt\n",
    "import seaborn as sns\n",
    "import networkx as nx"
   ]
  },
  {
   "cell_type": "markdown",
   "metadata": {
    "pycharm": {
     "name": "#%% md\n"
    }
   },
   "source": [
    "# Default Code, Don't Edit This"
   ]
  },
  {
   "cell_type": "code",
   "execution_count": 132,
   "metadata": {
    "pycharm": {
     "name": "#%%\n"
    },
    "scrolled": true
   },
   "outputs": [],
   "source": [
    "from ema_workbench import (Model, CategoricalParameter,\n",
    "                           ScalarOutcome, IntegerParameter, RealParameter)\n",
    "from dike_model_function import DikeNetwork  # @UnresolvedImport\n",
    "\n",
    "def sum_over(*args):\n",
    "    return sum(args)"
   ]
  },
  {
   "cell_type": "code",
   "execution_count": 133,
   "metadata": {
    "pycharm": {
     "name": "#%%\n"
    }
   },
   "outputs": [],
   "source": [
    "from ema_workbench import (Model, MultiprocessingEvaluator, Policy, Scenario, SequentialEvaluator)\n",
    "\n",
    "from ema_workbench.em_framework.evaluators import perform_experiments\n",
    "from ema_workbench.em_framework.samplers import sample_uncertainties\n",
    "from ema_workbench.util import ema_logging\n",
    "import time\n",
    "from problem_formulation import get_model_for_problem_formulation\n",
    "\n",
    "\n",
    "ema_logging.log_to_stderr(ema_logging.INFO)\n",
    "\n",
    "#choose problem formulation number, between 0-5\n",
    "#each problem formulation has its own list of outcomes\n",
    "dike_model, planning_steps = get_model_for_problem_formulation(3)"
   ]
  },
  {
   "cell_type": "code",
   "execution_count": 134,
   "metadata": {
    "pycharm": {
     "name": "#%%\n"
    }
   },
   "outputs": [],
   "source": [
    "#enlisting uncertainties, their types (RealParameter/IntegerParameter/CategoricalParameter), lower boundary, and upper boundary\n",
    "#for unc in dike_model.uncertainties:\n",
    "    #print(repr(unc))\n",
    "    \n",
    "uncertainties = dike_model.uncertainties\n",
    "\n",
    "import copy\n",
    "uncertainties = copy.deepcopy(dike_model.uncertainties)"
   ]
  },
  {
   "cell_type": "code",
   "execution_count": 135,
   "metadata": {
    "pycharm": {
     "name": "#%%\n"
    }
   },
   "outputs": [],
   "source": [
    "#enlisting policy levers, their types (RealParameter/IntegerParameter), lower boundary, and upper boundary\n",
    "#for policy in dike_model.levers:\n",
    "    #print(repr(policy))\n",
    "    \n",
    "levers = dike_model.levers \n",
    "\n",
    "import copy\n",
    "levers = copy.deepcopy(dike_model.levers)"
   ]
  },
  {
   "cell_type": "code",
   "execution_count": 6,
   "metadata": {
    "pycharm": {
     "name": "#%%\n"
    }
   },
   "outputs": [],
   "source": [
    "#enlisting outcomes\n",
    "#for outcome in dike_model.outcomes:\n",
    "    #print(repr(outcome))"
   ]
  },
  {
   "cell_type": "markdown",
   "metadata": {
    "pycharm": {
     "name": "#%% md\n"
    }
   },
   "source": [
    "# Creating the Policies\n",
    "### Edit this stuff"
   ]
  },
  {
   "cell_type": "code",
   "execution_count": 195,
   "metadata": {
    "pycharm": {
     "name": "#%%\n"
    }
   },
   "outputs": [],
   "source": [
    "#defining specific policies\n",
    "#for example, policy 1 is about extra protection in upper boundary\n",
    "#policy 2 is about extra protection in lower boundary\n",
    "#policy 3 is extra protection in random locations\n",
    "from ema_workbench import Policy\n",
    "#testing Secnario 0 - Baseline\n",
    "policies = [Policy('policy 0', **{'0_RfR 0':0,\n",
    "                                  '0_RfR 1':0,\n",
    "                                  '0_RfR 2':0,\n",
    "                                  'A.1_DikeIncrease 0':8,\n",
    "                                  'A.1_DikeIncrease 1':8,\n",
    "                                  'A.1_DikeIncrease 2':8,\n",
    "                                  '1_RfR 0':0,\n",
    "                                  '1_RfR 1':0,\n",
    "                                  '1_RfR 2':0,\n",
    "                                  'A.2_DikeIncrease 0':8,\n",
    "                                  'A.2_DikeIncrease 1':8,\n",
    "                                  'A.2_DikeIncrease 2':8,\n",
    "                                  '2_RfR 0':0,\n",
    "                                  '2_RfR 1':0,\n",
    "                                  '2_RfR 2':0,\n",
    "                                  'A.3_DikeIncrease 0':8,\n",
    "                                  'A.3_DikeIncrease 1':8,\n",
    "                                  'A.3_DikeIncrease 2':8,\n",
    "                                  '3_RfR 0':0,\n",
    "                                  '3_RfR 1':0,\n",
    "                                  '3_RfR 2':0,\n",
    "                                  'A.4_DikeIncrease 0':8,\n",
    "                                  'A.4_DikeIncrease 1':8,\n",
    "                                  'A.4_DikeIncrease 2':8,\n",
    "                                  '4_RfR 0':0,\n",
    "                                  '4_RfR 1':0,\n",
    "                                  '4_RfR 2':0,\n",
    "                                  'A.5_DikeIncrease 0':8,\n",
    "                                  'A.5_DikeIncrease 1':8,\n",
    "                                  'A.5_DikeIncrease 2':8,\n",
    "                                  'EWS_DaysToThreat':0\n",
    "                                  })]"
   ]
  },
  {
   "cell_type": "markdown",
   "metadata": {
    "pycharm": {
     "name": "#%% md\n"
    }
   },
   "source": [
    "# Running the Model\n",
    "### You can edit the number of scenarios to help adjust runtime, more is kind of better"
   ]
  },
  {
   "cell_type": "code",
   "execution_count": 196,
   "metadata": {
    "pycharm": {
     "name": "#%%\n"
    }
   },
   "outputs": [
    {
     "name": "stderr",
     "output_type": "stream",
     "text": [
      "[MainProcess/INFO] pool started with 8 workers\n",
      "[MainProcess/INFO] performing 1000 scenarios * 1 policies * 1 model(s) = 1000 experiments\n",
      "100%|██████████████████████████████████████| 1000/1000 [15:26<00:00,  1.08it/s]\n",
      "[MainProcess/INFO] experiments finished\n",
      "[MainProcess/INFO] terminating pool\n"
     ]
    }
   ],
   "source": [
    "#pass the policies list to EMA workbench experiment runs\n",
    "n_scenarios = 1000\n",
    "with MultiprocessingEvaluator(dike_model) as evaluator:\n",
    "    results = evaluator.perform_experiments(n_scenarios, policies)"
   ]
  },
  {
   "cell_type": "code",
   "execution_count": null,
   "metadata": {
    "pycharm": {
     "name": "#%%\n"
    },
    "tags": []
   },
   "outputs": [],
   "source": []
  },
  {
   "cell_type": "code",
   "execution_count": 198,
   "metadata": {
    "collapsed": false,
    "jupyter": {
     "outputs_hidden": false
    },
    "pycharm": {
     "name": "#%%\n"
    }
   },
   "outputs": [],
   "source": [
    "experiments, outcomes = results\n",
    "experiments.to_csv('./output/00_Policy_0_Experiments.csv', index=False)\n",
    "pd.DataFrame.from_dict(outcomes).to_csv('./output/00_Policy_0_Outcomes.csv', index=False)"
   ]
  },
  {
   "cell_type": "markdown",
   "metadata": {
    "pycharm": {
     "name": "#%% md\n"
    }
   },
   "source": [
    "### Edit the column for outcome to see different results"
   ]
  },
  {
   "cell_type": "code",
   "execution_count": 199,
   "metadata": {
    "collapsed": false,
    "jupyter": {
     "outputs_hidden": false
    },
    "pycharm": {
     "name": "#%%\n"
    }
   },
   "outputs": [
    {
     "ename": "AssertionError",
     "evalue": "",
     "output_type": "error",
     "traceback": [
      "\u001b[1;31m---------------------------------------------------------------------------\u001b[0m",
      "\u001b[1;31mAssertionError\u001b[0m                            Traceback (most recent call last)",
      "\u001b[1;32m~\\AppData\\Local\\Temp/ipykernel_12300/542673275.py\u001b[0m in \u001b[0;36m<module>\u001b[1;34m\u001b[0m\n\u001b[0;32m      2\u001b[0m \u001b[0mx\u001b[0m \u001b[1;33m=\u001b[0m \u001b[0mexperiments\u001b[0m\u001b[1;33m\u001b[0m\u001b[1;33m\u001b[0m\u001b[0m\n\u001b[0;32m      3\u001b[0m \u001b[0my\u001b[0m \u001b[1;33m=\u001b[0m \u001b[0moutcomes\u001b[0m\u001b[1;33m[\u001b[0m\u001b[1;34m\"A.2 Total Costs\"\u001b[0m\u001b[1;33m]\u001b[0m \u001b[1;33m<\u001b[0m \u001b[1;36m2.5e+08\u001b[0m\u001b[1;33m\u001b[0m\u001b[1;33m\u001b[0m\u001b[0m\n\u001b[1;32m----> 4\u001b[1;33m \u001b[0mprim_alg\u001b[0m \u001b[1;33m=\u001b[0m \u001b[0mprim\u001b[0m\u001b[1;33m.\u001b[0m\u001b[0mPrim\u001b[0m\u001b[1;33m(\u001b[0m\u001b[0mx\u001b[0m\u001b[1;33m,\u001b[0m \u001b[0my\u001b[0m\u001b[1;33m,\u001b[0m \u001b[0mthreshold\u001b[0m\u001b[1;33m=\u001b[0m\u001b[1;36m0.8\u001b[0m\u001b[1;33m)\u001b[0m\u001b[1;33m\u001b[0m\u001b[1;33m\u001b[0m\u001b[0m\n\u001b[0m\u001b[0;32m      5\u001b[0m \u001b[0mbox1\u001b[0m \u001b[1;33m=\u001b[0m \u001b[0mprim_alg\u001b[0m\u001b[1;33m.\u001b[0m\u001b[0mfind_box\u001b[0m\u001b[1;33m(\u001b[0m\u001b[1;33m)\u001b[0m\u001b[1;33m\u001b[0m\u001b[1;33m\u001b[0m\u001b[0m\n",
      "\u001b[1;32m~\\OneDrive\\Documents\\Python\\lib\\site-packages\\ema_workbench\\analysis\\prim.py\u001b[0m in \u001b[0;36m__init__\u001b[1;34m(self, x, y, threshold, obj_function, peel_alpha, paste_alpha, mass_min, threshold_type, mode, update_function)\u001b[0m\n\u001b[0;32m    966\u001b[0m             \u001b[0msdutil\u001b[0m\u001b[1;33m.\u001b[0m\u001b[0mRuleInductionType\u001b[0m\u001b[1;33m.\u001b[0m\u001b[0mREGRESSION\u001b[0m\u001b[1;33m,\u001b[0m\u001b[1;33m\u001b[0m\u001b[1;33m\u001b[0m\u001b[0m\n\u001b[0;32m    967\u001b[0m         }\n\u001b[1;32m--> 968\u001b[1;33m         \u001b[1;32massert\u001b[0m \u001b[0mself\u001b[0m\u001b[1;33m.\u001b[0m\u001b[0m_assert_mode\u001b[0m\u001b[1;33m(\u001b[0m\u001b[0my\u001b[0m\u001b[1;33m,\u001b[0m \u001b[0mmode\u001b[0m\u001b[1;33m,\u001b[0m \u001b[0mupdate_function\u001b[0m\u001b[1;33m)\u001b[0m\u001b[1;33m\u001b[0m\u001b[1;33m\u001b[0m\u001b[0m\n\u001b[0m\u001b[0;32m    969\u001b[0m         \u001b[1;31m# preprocess x\u001b[0m\u001b[1;33m\u001b[0m\u001b[1;33m\u001b[0m\u001b[1;33m\u001b[0m\u001b[0m\n\u001b[0;32m    970\u001b[0m         \u001b[1;32mtry\u001b[0m\u001b[1;33m:\u001b[0m\u001b[1;33m\u001b[0m\u001b[1;33m\u001b[0m\u001b[0m\n",
      "\u001b[1;31mAssertionError\u001b[0m: "
     ]
    }
   ],
   "source": [
    "from ema_workbench.analysis import prim\n",
    "x = experiments\n",
    "y = outcomes[\"A.2 Total Costs\"] < 2.5e+08\n",
    "prim_alg = prim.Prim(x, y, threshold=0.8)\n",
    "box1 = prim_alg.find_box()"
   ]
  },
  {
   "cell_type": "code",
   "execution_count": 200,
   "metadata": {
    "collapsed": false,
    "jupyter": {
     "outputs_hidden": false
    },
    "pycharm": {
     "name": "#%%\n"
    }
   },
   "outputs": [
    {
     "data": {
      "image/png": "[encoded data removed]",
      "text/plain": [
       "<Figure size 432x288 with 2 Axes>"
      ]
     },
     "metadata": {
      "needs_background": "light"
     },
     "output_type": "display_data"
    }
   ],
   "source": [
    "box1.show_tradeoff()\n",
    "plt.show()"
   ]
  },
  {
   "cell_type": "markdown",
   "metadata": {
    "pycharm": {
     "name": "#%% md\n"
    }
   },
   "source": [
    "### Edit the column for outcome to see different results"
   ]
  },
  {
   "cell_type": "code",
   "execution_count": 201,
   "metadata": {
    "collapsed": false,
    "jupyter": {
     "outputs_hidden": false
    },
    "pycharm": {
     "name": "#%%\n"
    }
   },
   "outputs": [
    {
     "name": "stderr",
     "output_type": "stream",
     "text": [
      "[MainProcess/INFO] policy dropped from analysis because only a single category\n",
      "[MainProcess/INFO] model dropped from analysis because only a single category\n"
     ]
    },
    {
     "data": {
      "image/png": "[encoded data removed]",
      "text/plain": [
       "<Figure size 720x720 with 4 Axes>"
      ]
     },
     "metadata": {},
     "output_type": "display_data"
    },
    {
     "name": "stdout",
     "output_type": "stream",
     "text": [
      "1000\n"
     ]
    }
   ],
   "source": [
    "from ema_workbench.analysis import dimensional_stacking\n",
    "\n",
    "x = experiments\n",
    "y = outcomes[\"A.2 Total Costs\"] < 2.5e08\n",
    "\n",
    "dimensional_stacking.create_pivot_plot(x, y, 2, nbins=3)\n",
    "plt.show()\n",
    "print(len(y))"
   ]
  },
  {
   "cell_type": "markdown",
   "metadata": {
    "pycharm": {
     "name": "#%% md\n"
    }
   },
   "source": [
    "\n",
    "### change which parts of the experiments table it outputs to see the figure better"
   ]
  },
  {
   "cell_type": "code",
   "execution_count": 204,
   "metadata": {
    "collapsed": false,
    "jupyter": {
     "outputs_hidden": false
    },
    "pycharm": {
     "name": "#%%\n"
    }
   },
   "outputs": [
    {
     "data": {
      "image/png": "[encoded data removed]",
      "text/plain": [
       "<Figure size 720x360 with 2 Axes>"
      ]
     },
     "metadata": {
      "needs_background": "light"
     },
     "output_type": "display_data"
    }
   ],
   "source": [
    "from ema_workbench.analysis import feature_scoring\n",
    "\n",
    "x = experiments.loc[:,['A.1_pfail', 'A.2_pfail', 'A.3_pfail', 'A.4_pfail', 'A.5_pfail']]\n",
    "y = outcomes\n",
    "\n",
    "plt.figure(figsize = (10,5))\n",
    "\n",
    "fs = feature_scoring.get_feature_scores_all(x, y)\n",
    "sns.heatmap(fs, cmap=\"viridis\", annot=True, )\n",
    "\n",
    "plt.show()"
   ]
  },
  {
   "cell_type": "markdown",
   "metadata": {},
   "source": [
    "__OUTPUT PLOTTER__"
   ]
  },
  {
   "cell_type": "markdown",
   "metadata": {},
   "source": [
    "The first cell just creates the dictionaries from the output, the second and third cell do the plots. Then we make the Dataframe"
   ]
  },
  {
   "cell_type": "markdown",
   "metadata": {},
   "source": [
    " __First fill in the run number below__  (as a string, just fill it in between the quotation marks)"
   ]
  },
  {
   "cell_type": "code",
   "execution_count": 203,
   "metadata": {},
   "outputs": [],
   "source": [
    "run_number = \"6_2\" # Run number plz"
   ]
  },
  {
   "cell_type": "code",
   "execution_count": 205,
   "metadata": {},
   "outputs": [],
   "source": [
    "A1_cost = outcomes[\"A.1 Total Costs\"]\n",
    "A2_cost = outcomes[\"A.2 Total Costs\"]\n",
    "A3_cost = outcomes[\"A.3 Total Costs\"]\n",
    "A4_cost = outcomes[\"A.4 Total Costs\"]\n",
    "A5_cost = outcomes[\"A.5 Total Costs\"]\n",
    "A1_death = outcomes[\"A.1_Expected Number of Deaths\"]\n",
    "A2_death = outcomes[\"A.2_Expected Number of Deaths\"]\n",
    "A3_death = outcomes[\"A.3_Expected Number of Deaths\"]\n",
    "A4_death = outcomes[\"A.4_Expected Number of Deaths\"]\n",
    "A5_death = outcomes[\"A.5_Expected Number of Deaths\"]\n",
    "costs = [A1_cost,A2_cost,A3_cost,A4_cost,A5_cost]\n",
    "death = [A1_death,A2_death,A3_death,A4_death,A5_death]\n",
    "costs_dict = {}\n",
    "death_dict = {}\n",
    "for i in range(len(costs)):\n",
    "    segment_costs = costs[i]\n",
    "    segment_death = death[i]\n",
    "    avg_costs = np.average(segment_costs)\n",
    "    avg_death = np.average(segment_death)\n",
    "    costs_dict['Costs A' + str(i+1)] = avg_costs\n",
    "    death_dict['Deaths A' + str(i+1)] = avg_death\n"
   ]
  },
  {
   "cell_type": "code",
   "execution_count": 206,
   "metadata": {},
   "outputs": [
    {
     "data": {
      "image/png": "[encoded data removed]",
      "text/plain": [
       "<Figure size 432x288 with 1 Axes>"
      ]
     },
     "metadata": {
      "needs_background": "light"
     },
     "output_type": "display_data"
    }
   ],
   "source": [
    "names = list(costs_dict.keys())\n",
    "values = list(costs_dict.values())\n",
    "\n",
    "plt.bar(range(len(costs_dict)), values, tick_label=names)\n",
    "plt.xlabel('Segment')\n",
    "plt.ylabel('Average Total Costs')\n",
    "plt.title(\"Policy\" + str(run_number))\n",
    "plt.show()"
   ]
  },
  {
   "cell_type": "code",
   "execution_count": 207,
   "metadata": {},
   "outputs": [
    {
     "data": {
      "image/png": "[encoded data removed]",
      "text/plain": [
       "<Figure size 432x288 with 1 Axes>"
      ]
     },
     "metadata": {
      "needs_background": "light"
     },
     "output_type": "display_data"
    }
   ],
   "source": [
    "names = list(death_dict.keys())\n",
    "values = list(death_dict.values())\n",
    "\n",
    "plt.bar(range(len(death_dict)), values, tick_label=names)\n",
    "plt.xlabel('Segment')\n",
    "plt.ylabel('Averge Expected Deaths')\n",
    "plt.title(\"Policy\" + str(run_number))\n",
    "plt.show()"
   ]
  },
  {
   "cell_type": "code",
   "execution_count": 208,
   "metadata": {},
   "outputs": [],
   "source": [
    "df_costs = pd.DataFrame([costs_dict], index=[\"Policy\" + str(run_number),])\n",
    "df_death = pd.DataFrame([death_dict], index=[\"Policy\" + str(run_number),])"
   ]
  },
  {
   "cell_type": "code",
   "execution_count": 209,
   "metadata": {},
   "outputs": [
    {
     "data": {
      "text/html": [
       "<div>\n",
       "<style scoped>\n",
       "    .dataframe tbody tr th:only-of-type {\n",
       "        vertical-align: middle;\n",
       "    }\n",
       "\n",
       "    .dataframe tbody tr th {\n",
       "        vertical-align: top;\n",
       "    }\n",
       "\n",
       "    .dataframe thead th {\n",
       "        text-align: right;\n",
       "    }\n",
       "</style>\n",
       "<table border=\"1\" class=\"dataframe\">\n",
       "  <thead>\n",
       "    <tr style=\"text-align: right;\">\n",
       "      <th></th>\n",
       "      <th>Costs A1</th>\n",
       "      <th>Costs A2</th>\n",
       "      <th>Costs A3</th>\n",
       "      <th>Costs A4</th>\n",
       "      <th>Costs A5</th>\n",
       "      <th>Deaths A1</th>\n",
       "      <th>Deaths A2</th>\n",
       "      <th>Deaths A3</th>\n",
       "      <th>Deaths A4</th>\n",
       "      <th>Deaths A5</th>\n",
       "    </tr>\n",
       "  </thead>\n",
       "  <tbody>\n",
       "    <tr>\n",
       "      <th>Policy6_2</th>\n",
       "      <td>3.083531e+08</td>\n",
       "      <td>3.272189e+08</td>\n",
       "      <td>1.517537e+08</td>\n",
       "      <td>6.488382e+07</td>\n",
       "      <td>1.961347e+08</td>\n",
       "      <td>0.001366</td>\n",
       "      <td>0.000448</td>\n",
       "      <td>0.003032</td>\n",
       "      <td>0.000067</td>\n",
       "      <td>0.001207</td>\n",
       "    </tr>\n",
       "  </tbody>\n",
       "</table>\n",
       "</div>"
      ],
      "text/plain": [
       "               Costs A1      Costs A2      Costs A3      Costs A4  \\\n",
       "Policy6_2  3.083531e+08  3.272189e+08  1.517537e+08  6.488382e+07   \n",
       "\n",
       "               Costs A5  Deaths A1  Deaths A2  Deaths A3  Deaths A4  Deaths A5  \n",
       "Policy6_2  1.961347e+08   0.001366   0.000448   0.003032   0.000067   0.001207  "
      ]
     },
     "execution_count": 209,
     "metadata": {},
     "output_type": "execute_result"
    }
   ],
   "source": [
    "df = pd.concat([df_costs,df_death],axis=1)\n",
    "df "
   ]
  },
  {
   "cell_type": "markdown",
   "metadata": {},
   "source": [
    "__RUN THIS ONLY ONCE__ on the first time you run the code"
   ]
  },
  {
   "cell_type": "code",
   "execution_count": 177,
   "metadata": {},
   "outputs": [],
   "source": [
    "Master_df = df #RUN THIS ONLY ONCE!!!!!!"
   ]
  },
  {
   "cell_type": "markdown",
   "metadata": {},
   "source": [
    "__RUN THIS EVERY TIME YOU DO A NEW RUN after the first run__"
   ]
  },
  {
   "cell_type": "code",
   "execution_count": 210,
   "metadata": {},
   "outputs": [],
   "source": [
    "Master_df = pd.concat([Master_df,df],axis=0)"
   ]
  },
  {
   "cell_type": "code",
   "execution_count": 211,
   "metadata": {},
   "outputs": [
    {
     "data": {
      "text/html": [
       "<div>\n",
       "<style scoped>\n",
       "    .dataframe tbody tr th:only-of-type {\n",
       "        vertical-align: middle;\n",
       "    }\n",
       "\n",
       "    .dataframe tbody tr th {\n",
       "        vertical-align: top;\n",
       "    }\n",
       "\n",
       "    .dataframe thead th {\n",
       "        text-align: right;\n",
       "    }\n",
       "</style>\n",
       "<table border=\"1\" class=\"dataframe\">\n",
       "  <thead>\n",
       "    <tr style=\"text-align: right;\">\n",
       "      <th></th>\n",
       "      <th>Policy6_1</th>\n",
       "      <th>Costs A1</th>\n",
       "      <th>Costs A2</th>\n",
       "      <th>Costs A3</th>\n",
       "      <th>Costs A4</th>\n",
       "      <th>Costs A5</th>\n",
       "      <th>Deaths A1</th>\n",
       "      <th>Deaths A2</th>\n",
       "      <th>Deaths A3</th>\n",
       "      <th>Deaths A4</th>\n",
       "      <th>Deaths A5</th>\n",
       "    </tr>\n",
       "  </thead>\n",
       "  <tbody>\n",
       "    <tr>\n",
       "      <th>Costs A1</th>\n",
       "      <td>2.680545e+08</td>\n",
       "      <td>NaN</td>\n",
       "      <td>NaN</td>\n",
       "      <td>NaN</td>\n",
       "      <td>NaN</td>\n",
       "      <td>NaN</td>\n",
       "      <td>NaN</td>\n",
       "      <td>NaN</td>\n",
       "      <td>NaN</td>\n",
       "      <td>NaN</td>\n",
       "      <td>NaN</td>\n",
       "    </tr>\n",
       "    <tr>\n",
       "      <th>Costs A2</th>\n",
       "      <td>2.843642e+08</td>\n",
       "      <td>NaN</td>\n",
       "      <td>NaN</td>\n",
       "      <td>NaN</td>\n",
       "      <td>NaN</td>\n",
       "      <td>NaN</td>\n",
       "      <td>NaN</td>\n",
       "      <td>NaN</td>\n",
       "      <td>NaN</td>\n",
       "      <td>NaN</td>\n",
       "      <td>NaN</td>\n",
       "    </tr>\n",
       "    <tr>\n",
       "      <th>Costs A3</th>\n",
       "      <td>1.355728e+08</td>\n",
       "      <td>NaN</td>\n",
       "      <td>NaN</td>\n",
       "      <td>NaN</td>\n",
       "      <td>NaN</td>\n",
       "      <td>NaN</td>\n",
       "      <td>NaN</td>\n",
       "      <td>NaN</td>\n",
       "      <td>NaN</td>\n",
       "      <td>NaN</td>\n",
       "      <td>NaN</td>\n",
       "    </tr>\n",
       "    <tr>\n",
       "      <th>Costs A4</th>\n",
       "      <td>5.539420e+07</td>\n",
       "      <td>NaN</td>\n",
       "      <td>NaN</td>\n",
       "      <td>NaN</td>\n",
       "      <td>NaN</td>\n",
       "      <td>NaN</td>\n",
       "      <td>NaN</td>\n",
       "      <td>NaN</td>\n",
       "      <td>NaN</td>\n",
       "      <td>NaN</td>\n",
       "      <td>NaN</td>\n",
       "    </tr>\n",
       "    <tr>\n",
       "      <th>Costs A5</th>\n",
       "      <td>1.733557e+08</td>\n",
       "      <td>NaN</td>\n",
       "      <td>NaN</td>\n",
       "      <td>NaN</td>\n",
       "      <td>NaN</td>\n",
       "      <td>NaN</td>\n",
       "      <td>NaN</td>\n",
       "      <td>NaN</td>\n",
       "      <td>NaN</td>\n",
       "      <td>NaN</td>\n",
       "      <td>NaN</td>\n",
       "    </tr>\n",
       "    <tr>\n",
       "      <th>Deaths A1</th>\n",
       "      <td>3.332582e-03</td>\n",
       "      <td>NaN</td>\n",
       "      <td>NaN</td>\n",
       "      <td>NaN</td>\n",
       "      <td>NaN</td>\n",
       "      <td>NaN</td>\n",
       "      <td>NaN</td>\n",
       "      <td>NaN</td>\n",
       "      <td>NaN</td>\n",
       "      <td>NaN</td>\n",
       "      <td>NaN</td>\n",
       "    </tr>\n",
       "    <tr>\n",
       "      <th>Deaths A2</th>\n",
       "      <td>1.002432e-03</td>\n",
       "      <td>NaN</td>\n",
       "      <td>NaN</td>\n",
       "      <td>NaN</td>\n",
       "      <td>NaN</td>\n",
       "      <td>NaN</td>\n",
       "      <td>NaN</td>\n",
       "      <td>NaN</td>\n",
       "      <td>NaN</td>\n",
       "      <td>NaN</td>\n",
       "      <td>NaN</td>\n",
       "    </tr>\n",
       "    <tr>\n",
       "      <th>Deaths A3</th>\n",
       "      <td>6.104992e-03</td>\n",
       "      <td>NaN</td>\n",
       "      <td>NaN</td>\n",
       "      <td>NaN</td>\n",
       "      <td>NaN</td>\n",
       "      <td>NaN</td>\n",
       "      <td>NaN</td>\n",
       "      <td>NaN</td>\n",
       "      <td>NaN</td>\n",
       "      <td>NaN</td>\n",
       "      <td>NaN</td>\n",
       "    </tr>\n",
       "    <tr>\n",
       "      <th>Deaths A4</th>\n",
       "      <td>1.482161e-04</td>\n",
       "      <td>NaN</td>\n",
       "      <td>NaN</td>\n",
       "      <td>NaN</td>\n",
       "      <td>NaN</td>\n",
       "      <td>NaN</td>\n",
       "      <td>NaN</td>\n",
       "      <td>NaN</td>\n",
       "      <td>NaN</td>\n",
       "      <td>NaN</td>\n",
       "      <td>NaN</td>\n",
       "    </tr>\n",
       "    <tr>\n",
       "      <th>Deaths A5</th>\n",
       "      <td>2.319112e-03</td>\n",
       "      <td>NaN</td>\n",
       "      <td>NaN</td>\n",
       "      <td>NaN</td>\n",
       "      <td>NaN</td>\n",
       "      <td>NaN</td>\n",
       "      <td>NaN</td>\n",
       "      <td>NaN</td>\n",
       "      <td>NaN</td>\n",
       "      <td>NaN</td>\n",
       "      <td>NaN</td>\n",
       "    </tr>\n",
       "    <tr>\n",
       "      <th>Policy6_2</th>\n",
       "      <td>NaN</td>\n",
       "      <td>3.083531e+08</td>\n",
       "      <td>3.272189e+08</td>\n",
       "      <td>1.517537e+08</td>\n",
       "      <td>6.488382e+07</td>\n",
       "      <td>1.961347e+08</td>\n",
       "      <td>0.001366</td>\n",
       "      <td>0.000448</td>\n",
       "      <td>0.003032</td>\n",
       "      <td>0.000067</td>\n",
       "      <td>0.001207</td>\n",
       "    </tr>\n",
       "  </tbody>\n",
       "</table>\n",
       "</div>"
      ],
      "text/plain": [
       "              Policy6_1      Costs A1      Costs A2      Costs A3  \\\n",
       "Costs A1   2.680545e+08           NaN           NaN           NaN   \n",
       "Costs A2   2.843642e+08           NaN           NaN           NaN   \n",
       "Costs A3   1.355728e+08           NaN           NaN           NaN   \n",
       "Costs A4   5.539420e+07           NaN           NaN           NaN   \n",
       "Costs A5   1.733557e+08           NaN           NaN           NaN   \n",
       "Deaths A1  3.332582e-03           NaN           NaN           NaN   \n",
       "Deaths A2  1.002432e-03           NaN           NaN           NaN   \n",
       "Deaths A3  6.104992e-03           NaN           NaN           NaN   \n",
       "Deaths A4  1.482161e-04           NaN           NaN           NaN   \n",
       "Deaths A5  2.319112e-03           NaN           NaN           NaN   \n",
       "Policy6_2           NaN  3.083531e+08  3.272189e+08  1.517537e+08   \n",
       "\n",
       "               Costs A4      Costs A5  Deaths A1  Deaths A2  Deaths A3  \\\n",
       "Costs A1            NaN           NaN        NaN        NaN        NaN   \n",
       "Costs A2            NaN           NaN        NaN        NaN        NaN   \n",
       "Costs A3            NaN           NaN        NaN        NaN        NaN   \n",
       "Costs A4            NaN           NaN        NaN        NaN        NaN   \n",
       "Costs A5            NaN           NaN        NaN        NaN        NaN   \n",
       "Deaths A1           NaN           NaN        NaN        NaN        NaN   \n",
       "Deaths A2           NaN           NaN        NaN        NaN        NaN   \n",
       "Deaths A3           NaN           NaN        NaN        NaN        NaN   \n",
       "Deaths A4           NaN           NaN        NaN        NaN        NaN   \n",
       "Deaths A5           NaN           NaN        NaN        NaN        NaN   \n",
       "Policy6_2  6.488382e+07  1.961347e+08   0.001366   0.000448   0.003032   \n",
       "\n",
       "           Deaths A4  Deaths A5  \n",
       "Costs A1         NaN        NaN  \n",
       "Costs A2         NaN        NaN  \n",
       "Costs A3         NaN        NaN  \n",
       "Costs A4         NaN        NaN  \n",
       "Costs A5         NaN        NaN  \n",
       "Deaths A1        NaN        NaN  \n",
       "Deaths A2        NaN        NaN  \n",
       "Deaths A3        NaN        NaN  \n",
       "Deaths A4        NaN        NaN  \n",
       "Deaths A5        NaN        NaN  \n",
       "Policy6_2   0.000067   0.001207  "
      ]
     },
     "execution_count": 211,
     "metadata": {},
     "output_type": "execute_result"
    }
   ],
   "source": [
    "Master_df\n",
    "Master_df"
   ]
  },
  {
   "cell_type": "code",
   "execution_count": 212,
   "metadata": {},
   "outputs": [
    {
     "data": {
      "text/html": [
       "<div>\n",
       "<style scoped>\n",
       "    .dataframe tbody tr th:only-of-type {\n",
       "        vertical-align: middle;\n",
       "    }\n",
       "\n",
       "    .dataframe tbody tr th {\n",
       "        vertical-align: top;\n",
       "    }\n",
       "\n",
       "    .dataframe thead th {\n",
       "        text-align: right;\n",
       "    }\n",
       "</style>\n",
       "<table border=\"1\" class=\"dataframe\">\n",
       "  <thead>\n",
       "    <tr style=\"text-align: right;\">\n",
       "      <th></th>\n",
       "      <th>Costs A1</th>\n",
       "      <th>Costs A2</th>\n",
       "      <th>Costs A3</th>\n",
       "      <th>Costs A4</th>\n",
       "      <th>Costs A5</th>\n",
       "      <th>Deaths A1</th>\n",
       "      <th>Deaths A2</th>\n",
       "      <th>Deaths A3</th>\n",
       "      <th>Deaths A4</th>\n",
       "      <th>Deaths A5</th>\n",
       "      <th>Policy6_2</th>\n",
       "    </tr>\n",
       "  </thead>\n",
       "  <tbody>\n",
       "    <tr>\n",
       "      <th>Policy6_1</th>\n",
       "      <td>2.680545e+08</td>\n",
       "      <td>2.843642e+08</td>\n",
       "      <td>1.355728e+08</td>\n",
       "      <td>5.539420e+07</td>\n",
       "      <td>1.733557e+08</td>\n",
       "      <td>0.003333</td>\n",
       "      <td>0.001002</td>\n",
       "      <td>0.006105</td>\n",
       "      <td>0.000148</td>\n",
       "      <td>0.002319</td>\n",
       "      <td>NaN</td>\n",
       "    </tr>\n",
       "    <tr>\n",
       "      <th>Costs A1</th>\n",
       "      <td>NaN</td>\n",
       "      <td>NaN</td>\n",
       "      <td>NaN</td>\n",
       "      <td>NaN</td>\n",
       "      <td>NaN</td>\n",
       "      <td>NaN</td>\n",
       "      <td>NaN</td>\n",
       "      <td>NaN</td>\n",
       "      <td>NaN</td>\n",
       "      <td>NaN</td>\n",
       "      <td>3.083531e+08</td>\n",
       "    </tr>\n",
       "    <tr>\n",
       "      <th>Costs A2</th>\n",
       "      <td>NaN</td>\n",
       "      <td>NaN</td>\n",
       "      <td>NaN</td>\n",
       "      <td>NaN</td>\n",
       "      <td>NaN</td>\n",
       "      <td>NaN</td>\n",
       "      <td>NaN</td>\n",
       "      <td>NaN</td>\n",
       "      <td>NaN</td>\n",
       "      <td>NaN</td>\n",
       "      <td>3.272189e+08</td>\n",
       "    </tr>\n",
       "    <tr>\n",
       "      <th>Costs A3</th>\n",
       "      <td>NaN</td>\n",
       "      <td>NaN</td>\n",
       "      <td>NaN</td>\n",
       "      <td>NaN</td>\n",
       "      <td>NaN</td>\n",
       "      <td>NaN</td>\n",
       "      <td>NaN</td>\n",
       "      <td>NaN</td>\n",
       "      <td>NaN</td>\n",
       "      <td>NaN</td>\n",
       "      <td>1.517537e+08</td>\n",
       "    </tr>\n",
       "    <tr>\n",
       "      <th>Costs A4</th>\n",
       "      <td>NaN</td>\n",
       "      <td>NaN</td>\n",
       "      <td>NaN</td>\n",
       "      <td>NaN</td>\n",
       "      <td>NaN</td>\n",
       "      <td>NaN</td>\n",
       "      <td>NaN</td>\n",
       "      <td>NaN</td>\n",
       "      <td>NaN</td>\n",
       "      <td>NaN</td>\n",
       "      <td>6.488382e+07</td>\n",
       "    </tr>\n",
       "    <tr>\n",
       "      <th>Costs A5</th>\n",
       "      <td>NaN</td>\n",
       "      <td>NaN</td>\n",
       "      <td>NaN</td>\n",
       "      <td>NaN</td>\n",
       "      <td>NaN</td>\n",
       "      <td>NaN</td>\n",
       "      <td>NaN</td>\n",
       "      <td>NaN</td>\n",
       "      <td>NaN</td>\n",
       "      <td>NaN</td>\n",
       "      <td>1.961347e+08</td>\n",
       "    </tr>\n",
       "    <tr>\n",
       "      <th>Deaths A1</th>\n",
       "      <td>NaN</td>\n",
       "      <td>NaN</td>\n",
       "      <td>NaN</td>\n",
       "      <td>NaN</td>\n",
       "      <td>NaN</td>\n",
       "      <td>NaN</td>\n",
       "      <td>NaN</td>\n",
       "      <td>NaN</td>\n",
       "      <td>NaN</td>\n",
       "      <td>NaN</td>\n",
       "      <td>1.366062e-03</td>\n",
       "    </tr>\n",
       "    <tr>\n",
       "      <th>Deaths A2</th>\n",
       "      <td>NaN</td>\n",
       "      <td>NaN</td>\n",
       "      <td>NaN</td>\n",
       "      <td>NaN</td>\n",
       "      <td>NaN</td>\n",
       "      <td>NaN</td>\n",
       "      <td>NaN</td>\n",
       "      <td>NaN</td>\n",
       "      <td>NaN</td>\n",
       "      <td>NaN</td>\n",
       "      <td>4.478304e-04</td>\n",
       "    </tr>\n",
       "    <tr>\n",
       "      <th>Deaths A3</th>\n",
       "      <td>NaN</td>\n",
       "      <td>NaN</td>\n",
       "      <td>NaN</td>\n",
       "      <td>NaN</td>\n",
       "      <td>NaN</td>\n",
       "      <td>NaN</td>\n",
       "      <td>NaN</td>\n",
       "      <td>NaN</td>\n",
       "      <td>NaN</td>\n",
       "      <td>NaN</td>\n",
       "      <td>3.032203e-03</td>\n",
       "    </tr>\n",
       "    <tr>\n",
       "      <th>Deaths A4</th>\n",
       "      <td>NaN</td>\n",
       "      <td>NaN</td>\n",
       "      <td>NaN</td>\n",
       "      <td>NaN</td>\n",
       "      <td>NaN</td>\n",
       "      <td>NaN</td>\n",
       "      <td>NaN</td>\n",
       "      <td>NaN</td>\n",
       "      <td>NaN</td>\n",
       "      <td>NaN</td>\n",
       "      <td>6.718252e-05</td>\n",
       "    </tr>\n",
       "    <tr>\n",
       "      <th>Deaths A5</th>\n",
       "      <td>NaN</td>\n",
       "      <td>NaN</td>\n",
       "      <td>NaN</td>\n",
       "      <td>NaN</td>\n",
       "      <td>NaN</td>\n",
       "      <td>NaN</td>\n",
       "      <td>NaN</td>\n",
       "      <td>NaN</td>\n",
       "      <td>NaN</td>\n",
       "      <td>NaN</td>\n",
       "      <td>1.206894e-03</td>\n",
       "    </tr>\n",
       "  </tbody>\n",
       "</table>\n",
       "</div>"
      ],
      "text/plain": [
       "               Costs A1      Costs A2      Costs A3      Costs A4  \\\n",
       "Policy6_1  2.680545e+08  2.843642e+08  1.355728e+08  5.539420e+07   \n",
       "Costs A1            NaN           NaN           NaN           NaN   \n",
       "Costs A2            NaN           NaN           NaN           NaN   \n",
       "Costs A3            NaN           NaN           NaN           NaN   \n",
       "Costs A4            NaN           NaN           NaN           NaN   \n",
       "Costs A5            NaN           NaN           NaN           NaN   \n",
       "Deaths A1           NaN           NaN           NaN           NaN   \n",
       "Deaths A2           NaN           NaN           NaN           NaN   \n",
       "Deaths A3           NaN           NaN           NaN           NaN   \n",
       "Deaths A4           NaN           NaN           NaN           NaN   \n",
       "Deaths A5           NaN           NaN           NaN           NaN   \n",
       "\n",
       "               Costs A5  Deaths A1  Deaths A2  Deaths A3  Deaths A4  \\\n",
       "Policy6_1  1.733557e+08   0.003333   0.001002   0.006105   0.000148   \n",
       "Costs A1            NaN        NaN        NaN        NaN        NaN   \n",
       "Costs A2            NaN        NaN        NaN        NaN        NaN   \n",
       "Costs A3            NaN        NaN        NaN        NaN        NaN   \n",
       "Costs A4            NaN        NaN        NaN        NaN        NaN   \n",
       "Costs A5            NaN        NaN        NaN        NaN        NaN   \n",
       "Deaths A1           NaN        NaN        NaN        NaN        NaN   \n",
       "Deaths A2           NaN        NaN        NaN        NaN        NaN   \n",
       "Deaths A3           NaN        NaN        NaN        NaN        NaN   \n",
       "Deaths A4           NaN        NaN        NaN        NaN        NaN   \n",
       "Deaths A5           NaN        NaN        NaN        NaN        NaN   \n",
       "\n",
       "           Deaths A5     Policy6_2  \n",
       "Policy6_1   0.002319           NaN  \n",
       "Costs A1         NaN  3.083531e+08  \n",
       "Costs A2         NaN  3.272189e+08  \n",
       "Costs A3         NaN  1.517537e+08  \n",
       "Costs A4         NaN  6.488382e+07  \n",
       "Costs A5         NaN  1.961347e+08  \n",
       "Deaths A1        NaN  1.366062e-03  \n",
       "Deaths A2        NaN  4.478304e-04  \n",
       "Deaths A3        NaN  3.032203e-03  \n",
       "Deaths A4        NaN  6.718252e-05  \n",
       "Deaths A5        NaN  1.206894e-03  "
      ]
     },
     "execution_count": 212,
     "metadata": {},
     "output_type": "execute_result"
    }
   ],
   "source": [
    "Master_df = Master_df.T\n",
    "Master_df"
   ]
  },
  {
   "cell_type": "code",
   "execution_count": 164,
   "metadata": {
    "tags": []
   },
   "outputs": [],
   "source": [
    "# merge = pd.read_csv('old_table.csv', index_col=0, delimiter=',')\n",
    "# merge = merge.T\n",
    "# merge"
   ]
  },
  {
   "cell_type": "code",
   "execution_count": 167,
   "metadata": {
    "tags": []
   },
   "outputs": [],
   "source": [
    "# master_df = pd.concat([Master_df,merge])\n",
    "# master_df"
   ]
  },
  {
   "cell_type": "code",
   "execution_count": 180,
   "metadata": {},
   "outputs": [],
   "source": [
    "# master_df = master_df.sort_index()\n",
    "# master_df = master_df.T\n",
    "# # master_df = master_df[['Policy0_0', 'Policy1_1', 'Policy1_2', 'Policy1_3', 'Policy02', 'Policy03', 'Policy04', 'Policy5_1', 'Policy5_2']]\n",
    "# master_df"
   ]
  },
  {
   "cell_type": "code",
   "execution_count": 190,
   "metadata": {},
   "outputs": [
    {
     "data": {
      "text/html": [
       "<div>\n",
       "<style scoped>\n",
       "    .dataframe tbody tr th:only-of-type {\n",
       "        vertical-align: middle;\n",
       "    }\n",
       "\n",
       "    .dataframe tbody tr th {\n",
       "        vertical-align: top;\n",
       "    }\n",
       "\n",
       "    .dataframe thead th {\n",
       "        text-align: right;\n",
       "    }\n",
       "</style>\n",
       "<table border=\"1\" class=\"dataframe\">\n",
       "  <thead>\n",
       "    <tr style=\"text-align: right;\">\n",
       "      <th></th>\n",
       "      <th>Policy6_1</th>\n",
       "    </tr>\n",
       "  </thead>\n",
       "  <tbody>\n",
       "    <tr>\n",
       "      <th>Costs A1</th>\n",
       "      <td>2.680545e+08</td>\n",
       "    </tr>\n",
       "    <tr>\n",
       "      <th>Costs A2</th>\n",
       "      <td>2.843642e+08</td>\n",
       "    </tr>\n",
       "    <tr>\n",
       "      <th>Costs A3</th>\n",
       "      <td>1.355728e+08</td>\n",
       "    </tr>\n",
       "    <tr>\n",
       "      <th>Costs A4</th>\n",
       "      <td>5.539420e+07</td>\n",
       "    </tr>\n",
       "    <tr>\n",
       "      <th>Costs A5</th>\n",
       "      <td>1.733557e+08</td>\n",
       "    </tr>\n",
       "    <tr>\n",
       "      <th>Deaths A1</th>\n",
       "      <td>3.332582e-03</td>\n",
       "    </tr>\n",
       "    <tr>\n",
       "      <th>Deaths A2</th>\n",
       "      <td>1.002432e-03</td>\n",
       "    </tr>\n",
       "    <tr>\n",
       "      <th>Deaths A3</th>\n",
       "      <td>6.104992e-03</td>\n",
       "    </tr>\n",
       "    <tr>\n",
       "      <th>Deaths A4</th>\n",
       "      <td>1.482161e-04</td>\n",
       "    </tr>\n",
       "    <tr>\n",
       "      <th>Deaths A5</th>\n",
       "      <td>2.319112e-03</td>\n",
       "    </tr>\n",
       "  </tbody>\n",
       "</table>\n",
       "</div>"
      ],
      "text/plain": [
       "              Policy6_1\n",
       "Costs A1   2.680545e+08\n",
       "Costs A2   2.843642e+08\n",
       "Costs A3   1.355728e+08\n",
       "Costs A4   5.539420e+07\n",
       "Costs A5   1.733557e+08\n",
       "Deaths A1  3.332582e-03\n",
       "Deaths A2  1.002432e-03\n",
       "Deaths A3  6.104992e-03\n",
       "Deaths A4  1.482161e-04\n",
       "Deaths A5  2.319112e-03"
      ]
     },
     "execution_count": 190,
     "metadata": {},
     "output_type": "execute_result"
    }
   ],
   "source": [
    "x = Master_df.iloc[0,:].tolist()\n",
    "Master_df"
   ]
  },
  {
   "cell_type": "code",
   "execution_count": 191,
   "metadata": {},
   "outputs": [],
   "source": [
    "# master_df.to_csv('Sensitivity_Table.csv')"
   ]
  },
  {
   "cell_type": "code",
   "execution_count": 192,
   "metadata": {},
   "outputs": [
    {
     "data": {
      "image/png": "[encoded data removed]",
      "text/plain": [
       "<Figure size 1440x720 with 1 Axes>"
      ]
     },
     "metadata": {
      "needs_background": "light"
     },
     "output_type": "display_data"
    }
   ],
   "source": [
    "import numpy as np\n",
    "import matplotlib.pyplot as plt\n",
    " \n",
    "# set width of bars\n",
    "barWidth = 0.15\n",
    "plt.figure(figsize = (20,10))\n",
    " \n",
    "# set heights of bars --> outputs\n",
    "bars1 = Master_df.iloc[0,:].tolist()\n",
    "bars2 = Master_df.iloc[1,:].tolist()\n",
    "bars3 = Master_df.iloc[2,:].tolist()\n",
    "bars4 = Master_df.iloc[3,:].tolist()\n",
    "bars5 = Master_df.iloc[4,:].tolist()\n",
    " \n",
    "# Set position of bar on X axis\n",
    "r1 = np.arange(len(bars1))\n",
    "r2 = [x + barWidth for x in r1]\n",
    "r3 = [x + barWidth for x in r2]\n",
    "r4 = [x + barWidth for x in r3]\n",
    "r5 = [x + barWidth for x in r4]\n",
    "\n",
    "# Make the plot\n",
    "plt.bar(r1, bars1, color='#4A5E41', width=barWidth, edgecolor='white', label='A1')\n",
    "plt.bar(r2, bars2, color='#6A895E', width=barWidth, edgecolor='white', label='A2')\n",
    "plt.bar(r3, bars3, color='#8AB47C', width=barWidth, edgecolor='white', label='A3')\n",
    "plt.bar(r4, bars4, color='#A9DF99', width=barWidth, edgecolor='white', label='A4')\n",
    "plt.bar(r5, bars5, color='#D5E9B6', width=barWidth, edgecolor='white', label='A5')\n",
    "\n",
    "\n",
    "# Add xticks on the middle of the group bars\n",
    "plt.xlabel('Policy', fontweight='bold')\n",
    "plt.xticks([r + barWidth*2 for r in range(len(bars1))], ['06.1', '01.1','01,2','01.3','02', '03', '04', '05.1', '05.2'])\n",
    "plt.ylabel('Costs', fontweight='bold')\n",
    "\n",
    "plt.title(\"Bar Plot Costs per Policy and Segment\")\n",
    "plt.legend()\n",
    "plt.show()"
   ]
  },
  {
   "cell_type": "code",
   "execution_count": 194,
   "metadata": {},
   "outputs": [
    {
     "data": {
      "image/png": "[encoded data removed]",
      "text/plain": [
       "<Figure size 1440x720 with 1 Axes>"
      ]
     },
     "metadata": {
      "needs_background": "light"
     },
     "output_type": "display_data"
    }
   ],
   "source": [
    "import numpy as np\n",
    "import matplotlib.pyplot as plt\n",
    " \n",
    "# set width of bars\n",
    "barWidth = 0.15\n",
    "plt.figure(figsize = (20,10))\n",
    " \n",
    "# set heights of bars --> outputs\n",
    "bars1 = Master_df.iloc[5,:].tolist()\n",
    "bars2 = Master_df.iloc[6,:].tolist()\n",
    "bars3 = Master_df.iloc[7,:].tolist()\n",
    "bars4 = Master_df.iloc[8,:].tolist()\n",
    "bars5 = Master_df.iloc[9,:].tolist()\n",
    " \n",
    "# Set position of bar on X axis\n",
    "r1 = np.arange(len(bars1))\n",
    "r2 = [x + barWidth for x in r1]\n",
    "r3 = [x + barWidth for x in r2]\n",
    "r4 = [x + barWidth for x in r3]\n",
    "r5 = [x + barWidth for x in r4]\n",
    "\n",
    "# Make the plot\n",
    "plt.bar(r1, bars1, color='#4A5E41', width=barWidth, edgecolor='white', label='A1')\n",
    "plt.bar(r2, bars2, color='#6A895E', width=barWidth, edgecolor='white', label='A2')\n",
    "plt.bar(r3, bars3, color='#8AB47C', width=barWidth, edgecolor='white', label='A3')\n",
    "plt.bar(r4, bars4, color='#A9DF99', width=barWidth, edgecolor='white', label='A4')\n",
    "plt.bar(r5, bars5, color='#D5E9B6', width=barWidth, edgecolor='white', label='A5')\n",
    "\n",
    "\n",
    "# Add xticks on the middle of the group bars\n",
    "plt.xlabel('Policy', fontweight='bold')\n",
    "plt.xticks([r + barWidth*2 for r in range(len(bars1))], ['06.1', '01.1','01,2','01.3','02', '03', '04', '05.1','05.2'])\n",
    "plt.ylabel('Deaths', fontweight='bold')\n",
    "\n",
    "plt.title(\"Bar Plot Deaths per Policy and Segment\")\n",
    "plt.legend()\n",
    "plt.show()"
   ]
  }
 ],
 "metadata": {
  "kernelspec": {
   "display_name": "Python 3 (ipykernel)",
   "language": "python",
   "name": "python3"
  },
  "language_info": {
   "codemirror_mode": {
    "name": "ipython",
    "version": 3
   },
   "file_extension": ".py",
   "mimetype": "text/x-python",
   "name": "python",
   "nbconvert_exporter": "python",
   "pygments_lexer": "ipython3",
   "version": "3.8.10"
  }
 },
 "nbformat": 4,
 "nbformat_minor": 4
}
