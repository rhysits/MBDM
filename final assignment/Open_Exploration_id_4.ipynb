{
 "cells": [
  {
   "cell_type": "markdown",
   "source": [
    "### Set Parameters"
   ],
   "metadata": {
    "collapsed": false,
    "pycharm": {
     "name": "#%% md\n"
    }
   }
  },
  {
   "cell_type": "code",
   "execution_count": 4,
   "outputs": [],
   "source": [
    "pf_id = 4 #problem formulation id; should match file name\n",
    "n_scenarios = 5000 #should be run with 5000\n",
    "#n_policies = 0 #doesn't work, ignore"
   ],
   "metadata": {
    "collapsed": false,
    "pycharm": {
     "name": "#%%\n"
    }
   }
  },
  {
   "cell_type": "markdown",
   "source": [
    "### Run Model for Open Exploration"
   ],
   "metadata": {
    "collapsed": false,
    "pycharm": {
     "name": "#%% md\n"
    }
   }
  },
  {
   "cell_type": "markdown",
   "source": [
    "##### Define a nothing policy (necessary for the code to run)"
   ],
   "metadata": {
    "collapsed": false,
    "pycharm": {
     "name": "#%% md\n"
    }
   }
  },
  {
   "cell_type": "code",
   "execution_count": 2,
   "outputs": [],
   "source": [
    "# don't @ me it has to be set up this way to work\n",
    "from ema_workbench import Policy\n",
    "policies = [Policy('policy 0', **{'0_RfR 0':0,\n",
    "                                  '0_RfR 1':0,\n",
    "                                  '0_RfR 2':0,\n",
    "                                  'A.1_DikeIncrease 0':0,\n",
    "                                  'A.1_DikeIncrease 1':0,\n",
    "                                  'A.1_DikeIncrease 2':0,\n",
    "                                  '1_RfR 0':0,\n",
    "                                  '1_RfR 1':0,\n",
    "                                  '1_RfR 2':0,\n",
    "                                  'A.2_DikeIncrease 0':0,\n",
    "                                  'A.2_DikeIncrease 1':0,\n",
    "                                  'A.2_DikeIncrease 2':0,\n",
    "                                  '2_RfR 0':0,\n",
    "                                  '2_RfR 1':0,\n",
    "                                  '2_RfR 2':0,\n",
    "                                  'A.3_DikeIncrease 0':0,\n",
    "                                  'A.3_DikeIncrease 1':0,\n",
    "                                  'A.3_DikeIncrease 2':0,\n",
    "                                  '3_RfR 0':0,\n",
    "                                  '3_RfR 1':0,\n",
    "                                  '3_RfR 2':0,\n",
    "                                  'A.4_DikeIncrease 0':0,\n",
    "                                  'A.4_DikeIncrease 1':0,\n",
    "                                  'A.4_DikeIncrease 2':0,\n",
    "                                  '4_RfR 0':0,\n",
    "                                  '4_RfR 1':0,\n",
    "                                  '4_RfR 2':0,\n",
    "                                  'A.5_DikeIncrease 0':0,\n",
    "                                  'A.5_DikeIncrease 1':0,\n",
    "                                  'A.5_DikeIncrease 2':0,\n",
    "                                  'EWS_DaysToThreat':0\n",
    "                                  })]"
   ],
   "metadata": {
    "collapsed": false,
    "pycharm": {
     "name": "#%%\n"
    }
   }
  },
  {
   "cell_type": "markdown",
   "source": [
    "##### Import packages\n"
   ],
   "metadata": {
    "collapsed": false,
    "pycharm": {
     "name": "#%% md\n"
    }
   }
  },
  {
   "cell_type": "code",
   "execution_count": 3,
   "metadata": {
    "pycharm": {
     "name": "#%%\n"
    }
   },
   "outputs": [],
   "source": [
    "import pandas as pd\n",
    "import matplotlib.pyplot as plt\n",
    "import seaborn as sns\n",
    "import numpy as np"
   ]
  },
  {
   "cell_type": "markdown",
   "source": [
    "##### Import things and set up model (with the selected problem formulation)\n"
   ],
   "metadata": {
    "collapsed": false,
    "pycharm": {
     "name": "#%% md\n"
    }
   }
  },
  {
   "cell_type": "code",
   "execution_count": 4,
   "metadata": {
    "pycharm": {
     "name": "#%%\n"
    }
   },
   "outputs": [],
   "source": [
    "from ema_workbench.util import ema_logging\n",
    "from problem_formulation import get_model_for_problem_formulation\n",
    "\n",
    "ema_logging.log_to_stderr(ema_logging.INFO)\n",
    "\n",
    "dike_model, planning_steps = get_model_for_problem_formulation(pf_id) #changes for each file"
   ]
  },
  {
   "cell_type": "markdown",
   "source": [
    "##### Define uncertainties and levers"
   ],
   "metadata": {
    "collapsed": false,
    "pycharm": {
     "name": "#%% md\n"
    }
   }
  },
  {
   "cell_type": "code",
   "execution_count": 5,
   "metadata": {
    "pycharm": {
     "name": "#%%\n"
    }
   },
   "outputs": [],
   "source": [
    "import copy\n",
    "uncertainties = copy.deepcopy(dike_model.uncertainties)\n",
    "levers = copy.deepcopy(dike_model.levers)"
   ]
  },
  {
   "cell_type": "markdown",
   "source": [
    "##### Run the model with the defined number of scenarios and the nothing policy"
   ],
   "metadata": {
    "collapsed": false,
    "pycharm": {
     "name": "#%% md\n"
    }
   }
  },
  {
   "cell_type": "code",
   "execution_count": 6,
   "metadata": {
    "pycharm": {
     "name": "#%%\n"
    }
   },
   "outputs": [
    {
     "name": "stderr",
     "output_type": "stream",
     "text": [
      "[MainProcess/INFO] pool started with 12 workers\n",
      "[MainProcess/INFO] performing 5000 scenarios * 1 policies * 1 model(s) = 5000 experiments\n",
      "  0%|                                       | 1/5000 [00:03<5:23:36,  3.88s/it]Traceback (most recent call last):\n",
      "  File \"C:\\Users\\rhys_\\anaconda3\\lib\\site-packages\\ema_workbench\\em_framework\\callbacks.py\", line 246, in _store_outcomes\n",
      "    self.results[outcome][case_id,] = outcome_res\n",
      "KeyError: 'Dike Investment Costs 0'\n",
      "\n",
      "During handling of the above exception, another exception occurred:\n",
      "\n",
      "Traceback (most recent call last):\n",
      "  File \"C:\\Users\\rhys_\\anaconda3\\lib\\site-packages\\ema_workbench\\em_framework\\ema_multiprocessing.py\", line 253, in run\n",
      "    self.callback(*result.get())\n",
      "  File \"C:\\Users\\rhys_\\anaconda3\\lib\\site-packages\\ema_workbench\\em_framework\\callbacks.py\", line 281, in __call__\n",
      "    self._store_outcomes(experiment.experiment_id, outcomes)\n",
      "  File \"C:\\Users\\rhys_\\anaconda3\\lib\\site-packages\\ema_workbench\\em_framework\\callbacks.py\", line 260, in _store_outcomes\n",
      "    self.results[outcome][:] = np.nan\n",
      "ValueError: cannot convert float NaN to integer\n",
      "Traceback (most recent call last):\n",
      "  File \"C:\\Users\\rhys_\\anaconda3\\lib\\site-packages\\ema_workbench\\em_framework\\callbacks.py\", line 246, in _store_outcomes\n",
      "    self.results[outcome][case_id,] = outcome_res\n",
      "KeyError: 'Dike Investment Costs 1'\n",
      "\n",
      "During handling of the above exception, another exception occurred:\n",
      "\n",
      "Traceback (most recent call last):\n",
      "  File \"C:\\Users\\rhys_\\anaconda3\\lib\\site-packages\\ema_workbench\\em_framework\\ema_multiprocessing.py\", line 253, in run\n",
      "    self.callback(*result.get())\n",
      "  File \"C:\\Users\\rhys_\\anaconda3\\lib\\site-packages\\ema_workbench\\em_framework\\callbacks.py\", line 281, in __call__\n",
      "    self._store_outcomes(experiment.experiment_id, outcomes)\n",
      "  File \"C:\\Users\\rhys_\\anaconda3\\lib\\site-packages\\ema_workbench\\em_framework\\callbacks.py\", line 260, in _store_outcomes\n",
      "    self.results[outcome][:] = np.nan\n",
      "ValueError: cannot convert float NaN to integer\n",
      "Traceback (most recent call last):\n",
      "  File \"C:\\Users\\rhys_\\anaconda3\\lib\\site-packages\\ema_workbench\\em_framework\\callbacks.py\", line 246, in _store_outcomes\n",
      "    self.results[outcome][case_id,] = outcome_res\n",
      "KeyError: 'Dike Investment Costs 2'\n",
      "\n",
      "During handling of the above exception, another exception occurred:\n",
      "\n",
      "Traceback (most recent call last):\n",
      "  File \"C:\\Users\\rhys_\\anaconda3\\lib\\site-packages\\ema_workbench\\em_framework\\ema_multiprocessing.py\", line 253, in run\n",
      "    self.callback(*result.get())\n",
      "  File \"C:\\Users\\rhys_\\anaconda3\\lib\\site-packages\\ema_workbench\\em_framework\\callbacks.py\", line 281, in __call__\n",
      "    self._store_outcomes(experiment.experiment_id, outcomes)\n",
      "  File \"C:\\Users\\rhys_\\anaconda3\\lib\\site-packages\\ema_workbench\\em_framework\\callbacks.py\", line 260, in _store_outcomes\n",
      "    self.results[outcome][:] = np.nan\n",
      "ValueError: cannot convert float NaN to integer\n",
      "100%|██████████████████████████████████████| 5000/5000 [27:36<00:00,  3.02it/s]\n",
      "[MainProcess/INFO] experiments finished\n",
      "[MainProcess/INFO] terminating pool\n"
     ]
    }
   ],
   "source": [
    "from ema_workbench import (ema_logging, MultiprocessingEvaluator, Samplers)\n",
    "ema_logging.log_to_stderr(ema_logging.INFO)\n",
    " \n",
    "with MultiprocessingEvaluator(dike_model) as evaluator:\n",
    "    results = evaluator.perform_experiments(n_scenarios, policies, uncertainty_sampling=Samplers.SOBOL)"
   ]
  },
  {
   "cell_type": "markdown",
   "source": [
    "##### Define experiments and outcome; print names of the outcomes"
   ],
   "metadata": {
    "collapsed": false,
    "pycharm": {
     "name": "#%% md\n"
    }
   }
  },
  {
   "cell_type": "code",
   "execution_count": 7,
   "outputs": [
    {
     "name": "stdout",
     "output_type": "stream",
     "text": [
      "dict_keys(['Expected Annual Damage 0', 'Dike Investment Costs 0', 'Expected Number of Deaths 0', 'RfR Total Costs 0', 'Expected Evacuation Costs 0', 'Expected Annual Damage 1', 'Dike Investment Costs 1', 'Expected Number of Deaths 1', 'RfR Total Costs 1', 'Expected Evacuation Costs 1', 'Expected Annual Damage 2', 'Dike Investment Costs 2', 'Expected Number of Deaths 2', 'RfR Total Costs 2', 'Expected Evacuation Costs 2'])\n"
     ]
    }
   ],
   "source": [
    "experiments, outcomes = results\n",
    "print(outcomes.keys())"
   ],
   "metadata": {
    "collapsed": false,
    "pycharm": {
     "name": "#%%\n"
    }
   }
  },
  {
   "cell_type": "markdown",
   "source": [
    "### Save Results"
   ],
   "metadata": {
    "collapsed": false,
    "pycharm": {
     "name": "#%% md\n"
    }
   }
  },
  {
   "cell_type": "code",
   "execution_count": 8,
   "outputs": [
    {
     "name": "stderr",
     "output_type": "stream",
     "text": [
      "[MainProcess/INFO] results saved successfully to C:\\Users\\rhys_\\OneDrive - Maastricht University\\Documents\\GitHub\\MBDM\\final assignment\\output\\open_exploration\\Open_Exploration_id_4.tar.gz\n"
     ]
    }
   ],
   "source": [
    "from ema_workbench import save_results\n",
    "\n",
    "save_results(results, './output/open_exploration/Open_Exploration_id_%s.tar.gz'%pf_id)"
   ],
   "metadata": {
    "collapsed": false,
    "pycharm": {
     "name": "#%%\n"
    }
   }
  },
  {
   "cell_type": "code",
   "execution_count": 9,
   "outputs": [],
   "source": [
    "experiments.to_csv('./output/open_exploration/Open_Exploration_id_%s_exp.csv'%pf_id, index=False)\n",
    "pd.DataFrame.from_dict(outcomes).to_csv('./output/open_exploration/Open_Exploration_id_%s_out.csv'%pf_id, index=False)"
   ],
   "metadata": {
    "collapsed": false,
    "pycharm": {
     "name": "#%%\n"
    }
   }
  },
  {
   "cell_type": "markdown",
   "source": [
    "### Visualization"
   ],
   "metadata": {
    "collapsed": false,
    "pycharm": {
     "name": "#%% md\n"
    }
   }
  },
  {
   "cell_type": "markdown",
   "source": [
    "##### Load in previously saved results; can visualize without rerunning the whole notebook"
   ],
   "metadata": {
    "collapsed": false,
    "pycharm": {
     "name": "#%% md\n"
    }
   }
  },
  {
   "cell_type": "code",
   "execution_count": 105,
   "outputs": [],
   "source": [
    "from ema_workbench import load_results\n",
    "\n",
    "results = load_results('./output/open_exploration/Open_Exploration_id_%s.tar.gz'%pf_id)\n",
    "experiments, outcomes = results"
   ],
   "metadata": {
    "collapsed": false,
    "pycharm": {
     "name": "#%%\n"
    }
   }
  },
  {
   "cell_type": "markdown",
   "source": [
    "##### Import stuff"
   ],
   "metadata": {
    "collapsed": false,
    "pycharm": {
     "name": "#%% md\n"
    }
   }
  },
  {
   "cell_type": "code",
   "execution_count": 106,
   "outputs": [],
   "source": [
    "from ema_workbench.analysis import prim, dimensional_stacking, feature_scoring"
   ],
   "metadata": {
    "collapsed": false,
    "pycharm": {
     "name": "#%%\n"
    }
   }
  },
  {
   "cell_type": "markdown",
   "source": [
    "##### As a failsafe, drop NaN outcomes by converting to pandas DataFrame"
   ],
   "metadata": {
    "collapsed": false,
    "pycharm": {
     "name": "#%% md\n"
    }
   }
  },
  {
   "cell_type": "code",
   "execution_count": 107,
   "outputs": [],
   "source": [
    "outcomes_pd = pd.DataFrame.from_dict(outcomes)\n",
    "outcomes_pd.dropna(inplace=True)"
   ],
   "metadata": {
    "collapsed": false,
    "pycharm": {
     "name": "#%%\n"
    }
   }
  },
  {
   "cell_type": "markdown",
   "source": [
    "##### Convert outcomes back into array dict"
   ],
   "metadata": {
    "collapsed": false,
    "pycharm": {
     "name": "#%% md\n"
    }
   }
  },
  {
   "cell_type": "code",
   "execution_count": 108,
   "outputs": [],
   "source": [
    "outcomes_nonan = outcomes_pd.to_dict('list')\n",
    "\n",
    "for outcome in outcomes_nonan.keys():\n",
    "    outcomes_nonan[outcome] = np.array(outcomes_nonan[outcome])\n",
    "\n",
    "outcomes = outcomes_nonan"
   ],
   "metadata": {
    "collapsed": false,
    "pycharm": {
     "name": "#%%\n"
    }
   }
  },
  {
   "cell_type": "markdown",
   "source": [
    "##### Drop corresponding runs from experiments"
   ],
   "metadata": {
    "collapsed": false,
    "pycharm": {
     "name": "#%% md\n"
    }
   }
  },
  {
   "cell_type": "code",
   "execution_count": 109,
   "outputs": [],
   "source": [
    "experiments.drop(list(set(experiments.index) - set(outcomes_pd.index)), inplace=True)"
   ],
   "metadata": {
    "collapsed": false,
    "pycharm": {
     "name": "#%%\n"
    }
   }
  },
  {
   "cell_type": "markdown",
   "source": [
    "## Subspace Partitioning"
   ],
   "metadata": {
    "collapsed": false,
    "pycharm": {
     "name": "#%% md\n"
    }
   }
  },
  {
   "cell_type": "markdown",
   "source": [
    "This is where the names of each outcome will need to be fed into the visualizations to get reasonable outputs, ignore this for now or change the names yourself."
   ],
   "metadata": {
    "collapsed": false,
    "pycharm": {
     "name": "#%% md\n"
    }
   }
  },
  {
   "cell_type": "markdown",
   "source": [
    "#### Outcome: All Costs"
   ],
   "metadata": {
    "collapsed": false,
    "pycharm": {
     "name": "#%% md\n"
    }
   }
  },
  {
   "cell_type": "markdown",
   "source": [
    "##### Define x, y, and threshold"
   ],
   "metadata": {
    "collapsed": false,
    "pycharm": {
     "name": "#%% md\n"
    }
   }
  },
  {
   "cell_type": "code",
   "execution_count": 133,
   "outputs": [
    {
     "name": "stdout",
     "output_type": "stream",
     "text": [
      "dict_keys(['Expected Annual Damage 0', 'Dike Investment Costs 0', 'Expected Number of Deaths 0', 'RfR Total Costs 0', 'Expected Evacuation Costs 0', 'Expected Annual Damage 1', 'Dike Investment Costs 1', 'Expected Number of Deaths 1', 'RfR Total Costs 1', 'Expected Evacuation Costs 1', 'Expected Annual Damage 2', 'Dike Investment Costs 2', 'Expected Number of Deaths 2', 'RfR Total Costs 2', 'Expected Evacuation Costs 2'])\n"
     ]
    }
   ],
   "source": [
    "x = experiments\n",
    "data = outcomes[list(outcomes.keys())[0]] #outcomes[\"Expected Annual Damage 0\"]\n",
    "y = data <  np.percentile(data, 10) # 10 percent of worst outcomes\n",
    "\n",
    "print(outcomes.keys())"
   ],
   "metadata": {
    "collapsed": false,
    "pycharm": {
     "name": "#%%\n"
    }
   }
  },
  {
   "cell_type": "markdown",
   "source": [
    "##### Tradeoff density and coverage"
   ],
   "metadata": {
    "collapsed": false,
    "pycharm": {
     "name": "#%% md\n"
    }
   }
  },
  {
   "cell_type": "code",
   "execution_count": 134,
   "outputs": [
    {
     "data": {
      "text/plain": "<Figure size 432x288 with 2 Axes>",
      "image/png": "[encoded data removed]"
     },
     "metadata": {
      "needs_background": "light"
     },
     "output_type": "display_data"
    }
   ],
   "source": [
    "prim_alg = prim.Prim(x, y, threshold=0.8)\n",
    "box1 = prim_alg.find_box()\n",
    "box1.show_tradeoff()\n",
    "plt.show()"
   ],
   "metadata": {
    "collapsed": false,
    "pycharm": {
     "name": "#%%\n"
    }
   }
  },
  {
   "cell_type": "markdown",
   "source": [
    "##### Dimensional stacking"
   ],
   "metadata": {
    "collapsed": false,
    "pycharm": {
     "name": "#%% md\n"
    }
   }
  },
  {
   "cell_type": "code",
   "execution_count": 135,
   "outputs": [
    {
     "data": {
      "text/plain": "<Figure size 720x720 with 4 Axes>",
      "image/png": "[encoded data removed]"
     },
     "metadata": {},
     "output_type": "display_data"
    }
   ],
   "source": [
    "dimensional_stacking.create_pivot_plot(x, y, 2, nbins=3)\n",
    "plt.show()"
   ],
   "metadata": {
    "collapsed": false,
    "pycharm": {
     "name": "#%%\n"
    }
   }
  },
  {
   "cell_type": "markdown",
   "source": [
    "#### Outcome: Expected Number of Deaths"
   ],
   "metadata": {
    "collapsed": false,
    "pycharm": {
     "name": "#%% md\n"
    }
   }
  },
  {
   "cell_type": "markdown",
   "source": [
    "##### Define x, y, and threshold"
   ],
   "metadata": {
    "collapsed": false,
    "pycharm": {
     "name": "#%% md\n"
    }
   }
  },
  {
   "cell_type": "code",
   "execution_count": 136,
   "outputs": [
    {
     "name": "stdout",
     "output_type": "stream",
     "text": [
      "dict_keys(['Expected Annual Damage 0', 'Dike Investment Costs 0', 'Expected Number of Deaths 0', 'RfR Total Costs 0', 'Expected Evacuation Costs 0', 'Expected Annual Damage 1', 'Dike Investment Costs 1', 'Expected Number of Deaths 1', 'RfR Total Costs 1', 'Expected Evacuation Costs 1', 'Expected Annual Damage 2', 'Dike Investment Costs 2', 'Expected Number of Deaths 2', 'RfR Total Costs 2', 'Expected Evacuation Costs 2'])\n"
     ]
    }
   ],
   "source": [
    "x = experiments\n",
    "data = outcomes[list(outcomes.keys())[2]] #outcomes[\"Expected Number of Deaths 0\"]\n",
    "y = data <  np.percentile(data, 10) # 10 percent of worst outcomes\n",
    "\n",
    "print(outcomes.keys())"
   ],
   "metadata": {
    "collapsed": false,
    "pycharm": {
     "name": "#%%\n"
    }
   }
  },
  {
   "cell_type": "markdown",
   "source": [
    "##### Tradeoff density and coverage"
   ],
   "metadata": {
    "collapsed": false,
    "pycharm": {
     "name": "#%% md\n"
    }
   }
  },
  {
   "cell_type": "code",
   "execution_count": 137,
   "outputs": [
    {
     "data": {
      "text/plain": "<Figure size 432x288 with 2 Axes>",
      "image/png": "[encoded data removed]"
     },
     "metadata": {
      "needs_background": "light"
     },
     "output_type": "display_data"
    }
   ],
   "source": [
    "prim_alg = prim.Prim(x, y, threshold=0.8)\n",
    "box1 = prim_alg.find_box()\n",
    "box1.show_tradeoff()\n",
    "plt.show()"
   ],
   "metadata": {
    "collapsed": false,
    "pycharm": {
     "name": "#%%\n"
    }
   }
  },
  {
   "cell_type": "markdown",
   "source": [
    "##### Dimensional stacking\n"
   ],
   "metadata": {
    "collapsed": false,
    "pycharm": {
     "name": "#%% md\n"
    }
   }
  },
  {
   "cell_type": "code",
   "execution_count": 138,
   "outputs": [
    {
     "data": {
      "text/plain": "<Figure size 720x720 with 4 Axes>",
      "image/png": "[encoded data removed]"
     },
     "metadata": {},
     "output_type": "display_data"
    }
   ],
   "source": [
    "dimensional_stacking.create_pivot_plot(x, y, 2, nbins=3)\n",
    "plt.show()"
   ],
   "metadata": {
    "collapsed": false,
    "pycharm": {
     "name": "#%%\n"
    }
   }
  },
  {
   "cell_type": "markdown",
   "source": [
    "### Sensitivity Analysis"
   ],
   "metadata": {
    "collapsed": false,
    "pycharm": {
     "name": "#%% md\n"
    }
   }
  },
  {
   "cell_type": "markdown",
   "source": [
    "### Feature Scoring"
   ],
   "metadata": {
    "collapsed": false,
    "pycharm": {
     "name": "#%% md\n"
    }
   }
  },
  {
   "cell_type": "code",
   "execution_count": 139,
   "outputs": [
    {
     "data": {
      "text/plain": "<Figure size 720x504 with 2 Axes>",
      "image/png": "[encoded data removed]"
     },
     "metadata": {
      "needs_background": "light"
     },
     "output_type": "display_data"
    }
   ],
   "source": [
    "x = experiments.loc[:,['A.0_ID flood wave shape', 'A.1_pfail', 'A.2_pfail', 'A.3_pfail', 'A.4_pfail', 'A.5_pfail', 'A.1_Bmax', 'A.2_Bmax', 'A.3_Bmax', 'A.4_Bmax', 'A.5_Bmax',  'A.1_Brate', 'A.2_Brate', 'A.3_Brate', 'A.4_Brate', 'A.5_Brate', 'discount rate 0', 'discount rate 1', 'discount rate 2']]\n",
    "y = outcomes\n",
    "\n",
    "plt.figure(figsize = (10,7))\n",
    "\n",
    "fs = feature_scoring.get_feature_scores_all(x, y)\n",
    "sns.heatmap(fs, cmap=\"viridis\", annot=True, )\n",
    "\n",
    "plt.show()"
   ],
   "metadata": {
    "collapsed": false,
    "pycharm": {
     "name": "#%%\n"
    }
   }
  }
 ],
 "metadata": {
  "kernelspec": {
   "display_name": "Python 3",
   "language": "python",
   "name": "python3"
  },
  "language_info": {
   "codemirror_mode": {
    "name": "ipython",
    "version": 3
   },
   "file_extension": ".py",
   "mimetype": "text/x-python",
   "name": "python",
   "nbconvert_exporter": "python",
   "pygments_lexer": "ipython3",
   "version": "3.8.5"
  }
 },
 "nbformat": 4,
 "nbformat_minor": 4
}