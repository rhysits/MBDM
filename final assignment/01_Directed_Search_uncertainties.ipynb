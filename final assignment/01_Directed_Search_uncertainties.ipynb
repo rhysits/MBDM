{
 "cells": [
  {
   "cell_type": "markdown",
   "id": "3636b2b9",
   "metadata": {
    "pycharm": {
     "name": "#%% md\n"
    }
   },
   "source": [
    "**Imports and Setup**"
   ]
  },
  {
   "cell_type": "code",
   "execution_count": 1,
   "id": "f1185008",
   "metadata": {
    "collapsed": false,
    "jupyter": {
     "outputs_hidden": false
    },
    "pycharm": {
     "name": "#%%\n"
    }
   },
   "outputs": [],
   "source": [
    "pf_id = 2\n",
    "policies = 5"
   ]
  },
  {
   "cell_type": "code",
   "execution_count": 2,
   "id": "8c9651eb",
   "metadata": {
    "pycharm": {
     "name": "#%%\n"
    }
   },
   "outputs": [],
   "source": [
    "from ema_workbench import (MultiprocessingEvaluator, SequentialEvaluator)\n",
    "from ema_workbench.em_framework.optimization import (HyperVolume,\n",
    "                                                     EpsilonProgress)"
   ]
  },
  {
   "cell_type": "code",
   "execution_count": 3,
   "id": "c891233b",
   "metadata": {
    "pycharm": {
     "name": "#%%\n"
    }
   },
   "outputs": [],
   "source": [
    "from problem_formulation import get_model_for_problem_formulation\n",
    "from ema_workbench.util import ema_logging\n",
    "\n",
    "from ema_workbench import (ScalarOutcome, Scenario)\n",
    "\n",
    "ema_logging.log_to_stderr(ema_logging.INFO)\n",
    "\n",
    "model, planning_steps = get_model_for_problem_formulation(pf_id) #changes for each file\n",
    "\n"
   ]
  },
  {
   "cell_type": "code",
   "execution_count": 4,
   "id": "ef86a586",
   "metadata": {
    "collapsed": false,
    "jupyter": {
     "outputs_hidden": false
    },
    "pycharm": {
     "name": "#%%\n"
    }
   },
   "outputs": [],
   "source": [
    "# # don't @ me it has to be set up this way to work\n",
    "# from ema_workbench import Policy\n",
    "# policies = [Policy('policy 0', **{'0_RfR 0':0,\n",
    "#                                   '0_RfR 1':0,\n",
    "#                                   '0_RfR 2':0,\n",
    "#                                   'A.1_DikeIncrease 0':0,\n",
    "#                                   'A.1_DikeIncrease 1':0,\n",
    "#                                   'A.1_DikeIncrease 2':0,\n",
    "#                                   '1_RfR 0':0,\n",
    "#                                   '1_RfR 1':0,\n",
    "#                                   '1_RfR 2':0,\n",
    "#                                   'A.2_DikeIncrease 0':0,\n",
    "#                                   'A.2_DikeIncrease 1':0,\n",
    "#                                   'A.2_DikeIncrease 2':0,\n",
    "#                                   '2_RfR 0':0,\n",
    "#                                   '2_RfR 1':0,\n",
    "#                                   '2_RfR 2':0,\n",
    "#                                   'A.3_DikeIncrease 0':0,\n",
    "#                                   'A.3_DikeIncrease 1':0,\n",
    "#                                   'A.3_DikeIncrease 2':0,\n",
    "#                                   '3_RfR 0':0,\n",
    "#                                   '3_RfR 1':0,\n",
    "#                                   '3_RfR 2':0,\n",
    "#                                   'A.4_DikeIncrease 0':0,\n",
    "#                                   'A.4_DikeIncrease 1':0,\n",
    "#                                   'A.4_DikeIncrease 2':0,\n",
    "#                                   '4_RfR 0':0,\n",
    "#                                   '4_RfR 1':0,\n",
    "#                                   '4_RfR 2':0,\n",
    "#                                   'A.5_DikeIncrease 0':0,\n",
    "#                                   'A.5_DikeIncrease 1':0,\n",
    "#                                   'A.5_DikeIncrease 2':0,\n",
    "#                                   'EWS_DaysToThreat':0\n",
    "#                                   })]\n",
    "# policies"
   ]
  },
  {
   "cell_type": "code",
   "execution_count": 5,
   "outputs": [],
   "source": [
    "#this is the base scenario; it's the average of the range of each uncertainty\n",
    "scenarios = [Scenario('scenario 1', **{'discount rate 0':3,\n",
    "                                       'discount rate 1':3,\n",
    "                                       'discount rate 2':3,\n",
    "                                       'A.1_Bmax' : 190,\n",
    "                                       'A.1_Brate':1.5,\n",
    "                                       'A.1_pfail':0.5,\n",
    "                                       'A.2_Bmax': 190,\n",
    "                                       'A.2_Brate':1.5,\n",
    "                                       'A.2_pfail':0.5,\n",
    "                                       'A.3_Bmax' : 190,\n",
    "                                       'A.3_Brate':1.5,\n",
    "                                       'A.3_pfail':0.5,\n",
    "                                       'A.4_Bmax':190,\n",
    "                                       'A.4_Brate':1.5,\n",
    "                                       'A.4_pfail':0.5,\n",
    "                                       'A.5_Bmax' : 190,\n",
    "                                       'A.5_Brate':1.5,\n",
    "                                       'A.5_pfail':0.5,\n",
    "                                       'A.0_ID flood wave shape' :66})]"
   ],
   "metadata": {
    "collapsed": false,
    "pycharm": {
     "name": "#%%\n"
    }
   }
  },
  {
   "cell_type": "markdown",
   "id": "88617b1c",
   "metadata": {
    "pycharm": {
     "name": "#%% md\n"
    }
   },
   "source": [
    "reference; If we are searching over levers, what values should we assume for the uncertainties? Reference allows us to specify this. If searchover is set to levers, reference should be a Scenario or None, while if searchover is uncertainties, reference should be a Policy or None. In case of a None, the default values of the underlying model are unchanged"
   ]
  },
  {
   "cell_type": "code",
   "execution_count": 6,
   "id": "7345d9b4",
   "metadata": {
    "collapsed": false,
    "jupyter": {
     "outputs_hidden": false
    },
    "pycharm": {
     "name": "#%%\n"
    }
   },
   "outputs": [
    {
     "name": "stderr",
     "output_type": "stream",
     "text": [
      "100it [02:39,  1.60s/it]                                                       \n",
      "[MainProcess/INFO] optimization completed, found 13 solutions\n"
     ]
    }
   ],
   "source": [
    "\n",
    "with SequentialEvaluator(model) as evaluator:\n",
    "    results = evaluator.optimize(nfe=10, searchover='levers', reference=scenarios[0], epsilons=[1, 1, 1, 1, 1])\n"
   ]
  },
  {
   "cell_type": "code",
   "execution_count": 7,
   "outputs": [
    {
     "data": {
      "text/plain": "13"
     },
     "execution_count": 7,
     "metadata": {},
     "output_type": "execute_result"
    }
   ],
   "source": [
    "outcomes = results.loc[:,['Expected Annual Damage','Dike Investment Costs','RfR Investment Costs','Evacuation Costs','Expected Number of Deaths']]\n",
    "len(outcomes)"
   ],
   "metadata": {
    "collapsed": false,
    "pycharm": {
     "name": "#%%\n"
    }
   }
  },
  {
   "cell_type": "code",
   "execution_count": 8,
   "outputs": [
    {
     "data": {
      "text/plain": "<Figure size 432x288 with 4 Axes>",
      "image/png": "[encoded data removed]"
     },
     "metadata": {},
     "output_type": "display_data"
    }
   ],
   "source": [
    "from ema_workbench.analysis import parcoords\n",
    "import matplotlib.pyplot as plt\n",
    "\n",
    "limits = parcoords.get_limits(outcomes)\n",
    "axes = parcoords.ParallelAxes(limits)\n",
    "axes.plot(outcomes)\n",
    "\n",
    "# we invert this axis so direction of desirability is the same\n",
    "#axes.invert_axis('max_P')\n",
    "plt.show()"
   ],
   "metadata": {
    "collapsed": false,
    "pycharm": {
     "name": "#%%\n"
    }
   }
  },
  {
   "cell_type": "code",
   "execution_count": 9,
   "outputs": [
    {
     "data": {
      "text/plain": "    Expected Annual Damage  Dike Investment Costs  RfR Investment Costs  \\\n0             0.000000e+00           5.293593e+08          9.665000e+08   \n1             0.000000e+00           6.204577e+08          6.182000e+08   \n2             1.592997e+07           4.860740e+08          1.065000e+09   \n3             2.952169e+06           5.462713e+08          5.696000e+08   \n4             0.000000e+00           5.260622e+08          1.185700e+09   \n5             3.254264e+07           5.206046e+08          4.619000e+08   \n6             7.417049e+06           5.124300e+08          1.012800e+09   \n7             9.432834e+07           5.250527e+08          1.349900e+09   \n8             1.095018e+06           6.059182e+08          7.950000e+08   \n9             0.000000e+00           7.070651e+08          5.755000e+08   \n10            1.082338e+06           5.348407e+08          6.062000e+08   \n11            0.000000e+00           5.794515e+08          9.648000e+08   \n12            1.018936e+06           5.508571e+08          9.162000e+08   \n\n    Evacuation Costs  Expected Number of Deaths  \n0           0.000000                   0.000000  \n1           0.000000                   0.000000  \n2        1101.843216                   0.002001  \n3           0.000000                   0.002072  \n4           0.000000                   0.000000  \n5        2621.234185                   0.003899  \n6         418.399262                   0.001756  \n7           0.000000                   0.101074  \n8           0.000000                   0.000645  \n9           0.000000                   0.000000  \n10         93.241491                   0.000076  \n11          0.000000                   0.000000  \n12         90.750750                   0.000069  ",
      "text/html": "<div>\n<style scoped>\n    .dataframe tbody tr th:only-of-type {\n        vertical-align: middle;\n    }\n\n    .dataframe tbody tr th {\n        vertical-align: top;\n    }\n\n    .dataframe thead th {\n        text-align: right;\n    }\n</style>\n<table border=\"1\" class=\"dataframe\">\n  <thead>\n    <tr style=\"text-align: right;\">\n      <th></th>\n      <th>Expected Annual Damage</th>\n      <th>Dike Investment Costs</th>\n      <th>RfR Investment Costs</th>\n      <th>Evacuation Costs</th>\n      <th>Expected Number of Deaths</th>\n    </tr>\n  </thead>\n  <tbody>\n    <tr>\n      <th>0</th>\n      <td>0.000000e+00</td>\n      <td>5.293593e+08</td>\n      <td>9.665000e+08</td>\n      <td>0.000000</td>\n      <td>0.000000</td>\n    </tr>\n    <tr>\n      <th>1</th>\n      <td>0.000000e+00</td>\n      <td>6.204577e+08</td>\n      <td>6.182000e+08</td>\n      <td>0.000000</td>\n      <td>0.000000</td>\n    </tr>\n    <tr>\n      <th>2</th>\n      <td>1.592997e+07</td>\n      <td>4.860740e+08</td>\n      <td>1.065000e+09</td>\n      <td>1101.843216</td>\n      <td>0.002001</td>\n    </tr>\n    <tr>\n      <th>3</th>\n      <td>2.952169e+06</td>\n      <td>5.462713e+08</td>\n      <td>5.696000e+08</td>\n      <td>0.000000</td>\n      <td>0.002072</td>\n    </tr>\n    <tr>\n      <th>4</th>\n      <td>0.000000e+00</td>\n      <td>5.260622e+08</td>\n      <td>1.185700e+09</td>\n      <td>0.000000</td>\n      <td>0.000000</td>\n    </tr>\n    <tr>\n      <th>5</th>\n      <td>3.254264e+07</td>\n      <td>5.206046e+08</td>\n      <td>4.619000e+08</td>\n      <td>2621.234185</td>\n      <td>0.003899</td>\n    </tr>\n    <tr>\n      <th>6</th>\n      <td>7.417049e+06</td>\n      <td>5.124300e+08</td>\n      <td>1.012800e+09</td>\n      <td>418.399262</td>\n      <td>0.001756</td>\n    </tr>\n    <tr>\n      <th>7</th>\n      <td>9.432834e+07</td>\n      <td>5.250527e+08</td>\n      <td>1.349900e+09</td>\n      <td>0.000000</td>\n      <td>0.101074</td>\n    </tr>\n    <tr>\n      <th>8</th>\n      <td>1.095018e+06</td>\n      <td>6.059182e+08</td>\n      <td>7.950000e+08</td>\n      <td>0.000000</td>\n      <td>0.000645</td>\n    </tr>\n    <tr>\n      <th>9</th>\n      <td>0.000000e+00</td>\n      <td>7.070651e+08</td>\n      <td>5.755000e+08</td>\n      <td>0.000000</td>\n      <td>0.000000</td>\n    </tr>\n    <tr>\n      <th>10</th>\n      <td>1.082338e+06</td>\n      <td>5.348407e+08</td>\n      <td>6.062000e+08</td>\n      <td>93.241491</td>\n      <td>0.000076</td>\n    </tr>\n    <tr>\n      <th>11</th>\n      <td>0.000000e+00</td>\n      <td>5.794515e+08</td>\n      <td>9.648000e+08</td>\n      <td>0.000000</td>\n      <td>0.000000</td>\n    </tr>\n    <tr>\n      <th>12</th>\n      <td>1.018936e+06</td>\n      <td>5.508571e+08</td>\n      <td>9.162000e+08</td>\n      <td>90.750750</td>\n      <td>0.000069</td>\n    </tr>\n  </tbody>\n</table>\n</div>"
     },
     "execution_count": 9,
     "metadata": {},
     "output_type": "execute_result"
    }
   ],
   "source": [
    "outcomes"
   ],
   "metadata": {
    "collapsed": false,
    "pycharm": {
     "name": "#%%\n"
    }
   }
  },
  {
   "cell_type": "markdown",
   "id": "7ef439c5",
   "metadata": {
    "pycharm": {
     "name": "#%% md\n"
    }
   },
   "source": [
    "***Save Outputs***"
   ]
  },
  {
   "cell_type": "code",
   "execution_count": 9,
   "id": "c66bdf9a",
   "metadata": {
    "pycharm": {
     "name": "#%%\n"
    }
   },
   "outputs": [],
   "source": []
  },
  {
   "cell_type": "markdown",
   "id": "283db6ff",
   "metadata": {
    "pycharm": {
     "name": "#%% md\n"
    }
   },
   "source": [
    "**Narrow Down Using epsilon progress and hypervolume**"
   ]
  },
  {
   "cell_type": "code",
   "execution_count": 10,
   "id": "3c67356a",
   "metadata": {
    "pycharm": {
     "name": "#%%\n"
    }
   },
   "outputs": [],
   "source": [
    "model.outcomes = [ScalarOutcome('Expected Annual Damage', kind=ScalarOutcome.MINIMIZE,\n",
    "                                     expected_range=(0,1e+08)),\n",
    "                       ScalarOutcome('Dike Investment Costs', kind=ScalarOutcome.MINIMIZE,\n",
    "                                     expected_range=(0,1e+09)),\n",
    "                       ScalarOutcome('RfR Investment Costs', kind=ScalarOutcome.MINIMIZE,\n",
    "                                    expected_range=(0,1e+10)),\n",
    "                       ScalarOutcome('Evacuation Costs', kind=ScalarOutcome.MINIMIZE,\n",
    "                                     expected_range=(0,1000)),\n",
    "                    ScalarOutcome('Expected Number of Deaths', kind=ScalarOutcome.MINIMIZE,\n",
    "                                     expected_range=(0,.1))]\n"
   ]
  },
  {
   "cell_type": "code",
   "execution_count": 11,
   "id": "3b6f88f3",
   "metadata": {
    "pycharm": {
     "name": "#%%\n"
    }
   },
   "outputs": [],
   "source": [
    "# convergence = [EpsilonProgress()]\n",
    "# convergence = [HyperVolume(minimum=[0,0,0,0,0], maximum=[1, 1, 1, 1, 1]),\n",
    "#                EpsilonProgress()]\n",
    "convergence = [HyperVolume(minimum=[0,0,0,0,0], maximum=[1e+08, 1e+09, 1e+10, 1000, .1]),\n",
    "               EpsilonProgress()]"
   ]
  },
  {
   "cell_type": "code",
   "execution_count": 12,
   "outputs": [],
   "source": [
    "import functools\n",
    "\n",
    "def robustness(direction, threshold, data):\n",
    "    if direction == SMALLER:\n",
    "        return np.sum(data<=threshold)/data.shape[0]\n",
    "    else:\n",
    "        return np.sum(data>=threshold)/data.shape[0]\n",
    "\n",
    "SMALLER = 'SMALLER'\n",
    "\n",
    "\n",
    "Expected_Annual_Damage = functools.partial(robustness, SMALLER, 0) #THOSE NUMBERS NEED TO BE SPECIFIED AGAINS\n",
    "Dike_Investment_Costs = functools.partial(robustness, SMALLER, 5.4e8)\n",
    "RfR_Investment_Costs = functools.partial(robustness, SMALLER, 5.3e8)\n",
    "Evacuation_Costs = functools.partial(robustness, SMALLER, 0)\n",
    "Expected_Number_of_Deaths = functools.partial(robustness, SMALLER, 0) #not ok"
   ],
   "metadata": {
    "collapsed": false,
    "pycharm": {
     "name": "#%%\n"
    }
   }
  },
  {
   "cell_type": "code",
   "execution_count": 13,
   "outputs": [],
   "source": [
    "MAXIMIZE = ScalarOutcome.MAXIMIZE\n",
    "MINIMIZE = ScalarOutcome.MINIMIZE\n",
    "\n",
    "funcs = {\"Expected Annual Damage\": Expected_Annual_Damage,\n",
    "         \"Dike Investment Costs\": Dike_Investment_Costs,\n",
    "         \"RfR Investment Costs\": RfR_Investment_Costs,\n",
    "         \"Evacuation Costs\": Evacuation_Costs,\n",
    "         \"Expected Number of Deaths\": Expected_Number_of_Deaths}\n",
    "\n",
    "robustness_functions = [ScalarOutcome('Expected Annual Damage', kind=MINIMIZE,\n",
    "                                     function=Expected_Annual_Damage),\n",
    "                       ScalarOutcome('Dike Investment Costs', kind=MINIMIZE,\n",
    "                                     function=Dike_Investment_Costs),\n",
    "                       ScalarOutcome('RfR Investment Costs', kind=MINIMIZE,\n",
    "                                     function=RfR_Investment_Costs),\n",
    "                       ScalarOutcome('Evacuation Costs', kind=MINIMIZE,\n",
    "                                     function=Evacuation_Costs),\n",
    "                       ScalarOutcome('Expected Number of Deaths', kind=MINIMIZE,\n",
    "                                     function=Expected_Number_of_Deaths)\n",
    "                       ]"
   ],
   "metadata": {
    "collapsed": false,
    "pycharm": {
     "name": "#%%\n"
    }
   }
  },
  {
   "cell_type": "code",
   "execution_count": 14,
   "outputs": [],
   "source": [
    "epsilons= [1, 1, 1, 1, 1] #[0.125, 0.05, 0.01, 0.01]"
   ],
   "metadata": {
    "collapsed": false,
    "pycharm": {
     "name": "#%%\n"
    }
   }
  },
  {
   "cell_type": "code",
   "execution_count": null,
   "outputs": [
    {
     "name": "stderr",
     "output_type": "stream",
     "text": [
      "[MainProcess/INFO] pool started with 12 workers\n",
      "  0%|                                                | 0/10000 [00:00<?, ?it/s]"
     ]
    }
   ],
   "source": [
    "#this is MORO\n",
    "with MultiprocessingEvaluator(model) as evaluator:\n",
    "    results = evaluator.robust_optimize(robustness_functions, scenarios,#nfe=nfe,\n",
    "                                        convergence=convergence, epsilons=epsilons)"
   ],
   "metadata": {
    "collapsed": false,
    "pycharm": {
     "name": "#%%\n"
    }
   }
  },
  {
   "cell_type": "code",
   "execution_count": null,
   "outputs": [],
   "source": [
    "#this is MORDM\n",
    "with MultiprocessingEvaluator(model) as evaluator:\n",
    "    results, convergence = evaluator.optimize(nfe=10, searchover='levers',\n",
    "                                              epsilons=epsilons,\n",
    "                                              convergence=convergence)"
   ],
   "metadata": {
    "collapsed": false,
    "pycharm": {
     "name": "#%%\n"
    }
   }
  },
  {
   "cell_type": "markdown",
   "id": "9b026949",
   "metadata": {
    "pycharm": {
     "name": "#%% md\n"
    }
   },
   "source": [
    "**Robustness**"
   ]
  },
  {
   "cell_type": "markdown",
   "id": "f7c4a89a",
   "metadata": {
    "pycharm": {
     "name": "#%% md\n"
    }
   },
   "source": [
    "**Robustness Function**"
   ]
  },
  {
   "cell_type": "code",
   "execution_count": null,
   "id": "0109937f",
   "metadata": {
    "pycharm": {
     "name": "#%%\n"
    }
   },
   "outputs": [],
   "source": [
    "import functools\n",
    "import pandas as pd\n",
    "\n",
    "def robustness(direction, threshold, data):\n",
    "    if direction == SMALLER:\n",
    "        return np.sum(data<=threshold)/data.shape[0]\n",
    "    else:\n",
    "        return np.sum(data>=threshold)/data.shape[0]\n",
    "\n",
    "SMALLER = 'SMALLER'\n",
    "\n",
    "Expected_Annual_Damage = functools.partial(robustness, SMALLER, 1000) #THOSE NUMBERS NEED TO BE SPECIFIED AGAINS\n",
    "Dike_Investment_Costs = functools.partial(robustness, SMALLER, 1000)\n",
    "RfR_Investment_Costs = functools.partial(robustness, SMALLER, 1000)\n",
    "Evacuation_Costs = functools.partial(robustness, SMALLER, 1000)\n",
    "Expected_Number_of_Deaths = functools.partial(robustness, SMALLER, 0.000001) #not ok"
   ]
  },
  {
   "cell_type": "code",
   "execution_count": null,
   "id": "eefb2b08",
   "metadata": {
    "pycharm": {
     "name": "#%%\n"
    }
   },
   "outputs": [],
   "source": [
    "import matplotlib.pyplot as plt\n",
    "import numpy as np\n",
    "fig, axes = plt.subplots(ncols=2, nrows=3, figsize=(10,10),\n",
    "                        sharex=True)\n",
    "axes = [axes[0,0],axes[0,1],axes[1,0],axes[1,1]]                             #axes[1,1]\n",
    "\n",
    "robustness_funcs = {\"Expected Annual Damage\": Expected_Annual_Damage,\n",
    "                    \"Dike Investment Costs\": Dike_Investment_Costs,\n",
    "                    \"RfR Investment Costs\": RfR_Investment_Costs,\n",
    "                    \"Evacuation Costs\": Evacuation_Costs,\n",
    "                    \"Expected Number of Deaths\": Expected_Number_of_Deaths}\n",
    "\n",
    "experiments, outcomes = results\n",
    "\n",
    "for ax, (outcome, value) in zip(axes, outcomes.items()):\n",
    "    for policy in np.unique(experiments['policy']):\n",
    "        logical = experiments['policy'] == policy\n",
    "        data = value[logical]\n",
    "        \n",
    "        robustness = []\n",
    "      \n",
    "        for i in range(1, data.shape[0]):\n",
    "            robustness.append(robustness_funcs[outcome](data[0:i]))\n",
    "        ax.plot(robustness, label=policy)\n",
    "\n",
    "    ax.set_xlabel(\"# experiments\")\n",
    "    ax.set_ylabel(outcome)"
   ]
  },
  {
   "cell_type": "code",
   "execution_count": null,
   "id": "a955a3b6",
   "metadata": {
    "pycharm": {
     "name": "#%%\n"
    }
   },
   "outputs": [],
   "source": []
  },
  {
   "cell_type": "code",
   "execution_count": null,
   "id": "39a2c168",
   "metadata": {
    "pycharm": {
     "name": "#%%\n"
    }
   },
   "outputs": [],
   "source": []
  }
 ],
 "metadata": {
  "kernelspec": {
   "display_name": "Python 3 (ipykernel)",
   "language": "python",
   "name": "python3"
  },
  "language_info": {
   "codemirror_mode": {
    "name": "ipython",
    "version": 3
   },
   "file_extension": ".py",
   "mimetype": "text/x-python",
   "name": "python",
   "nbconvert_exporter": "python",
   "pygments_lexer": "ipython3",
   "version": "3.8.10"
  }
 },
 "nbformat": 4,
 "nbformat_minor": 5
}