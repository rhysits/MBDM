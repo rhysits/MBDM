{
 "cells": [
  {
   "cell_type": "markdown",
   "source": [
    "# Import Stuff"
   ],
   "metadata": {
    "collapsed": false,
    "pycharm": {
     "name": "#%% md\n"
    }
   }
  },
  {
   "cell_type": "code",
   "execution_count": 1,
   "metadata": {
    "pycharm": {
     "name": "#%%\n"
    }
   },
   "outputs": [],
   "source": [
    "import numpy as np\n",
    "import scipy as sp\n",
    "import pandas as pd\n",
    "import matplotlib.pyplot as plt\n",
    "import seaborn as sns\n",
    "import networkx as nx"
   ]
  },
  {
   "cell_type": "markdown",
   "source": [
    "# Default Code, Don't Edit This"
   ],
   "metadata": {
    "collapsed": false,
    "pycharm": {
     "name": "#%% md\n"
    }
   }
  },
  {
   "cell_type": "code",
   "execution_count": 2,
   "metadata": {
    "scrolled": true,
    "pycharm": {
     "name": "#%%\n"
    }
   },
   "outputs": [],
   "source": [
    "from ema_workbench import (Model, CategoricalParameter,\n",
    "                           ScalarOutcome, IntegerParameter, RealParameter)\n",
    "from dike_model_function import DikeNetwork  # @UnresolvedImport\n",
    "\n",
    "def sum_over(*args):\n",
    "    return sum(args)"
   ]
  },
  {
   "cell_type": "code",
   "execution_count": 3,
   "metadata": {
    "pycharm": {
     "name": "#%%\n"
    }
   },
   "outputs": [],
   "source": [
    "from ema_workbench import (Model, MultiprocessingEvaluator, Policy, Scenario)\n",
    "\n",
    "from ema_workbench.em_framework.evaluators import perform_experiments\n",
    "from ema_workbench.em_framework.samplers import sample_uncertainties\n",
    "from ema_workbench.util import ema_logging\n",
    "import time\n",
    "from problem_formulation import get_model_for_problem_formulation\n",
    "\n",
    "\n",
    "ema_logging.log_to_stderr(ema_logging.INFO)\n",
    "\n",
    "#choose problem formulation number, between 0-5\n",
    "#each problem formulation has its own list of outcomes\n",
    "dike_model, planning_steps = get_model_for_problem_formulation(3)"
   ]
  },
  {
   "cell_type": "code",
   "execution_count": 4,
   "metadata": {
    "pycharm": {
     "name": "#%%\n"
    }
   },
   "outputs": [],
   "source": [
    "#enlisting uncertainties, their types (RealParameter/IntegerParameter/CategoricalParameter), lower boundary, and upper boundary\n",
    "#for unc in dike_model.uncertainties:\n",
    "    #print(repr(unc))\n",
    "    \n",
    "uncertainties = dike_model.uncertainties\n",
    "\n",
    "import copy\n",
    "uncertainties = copy.deepcopy(dike_model.uncertainties)"
   ]
  },
  {
   "cell_type": "code",
   "execution_count": 5,
   "metadata": {
    "pycharm": {
     "name": "#%%\n"
    }
   },
   "outputs": [],
   "source": [
    "#enlisting policy levers, their types (RealParameter/IntegerParameter), lower boundary, and upper boundary\n",
    "#for policy in dike_model.levers:\n",
    "    #print(repr(policy))\n",
    "    \n",
    "levers = dike_model.levers \n",
    "\n",
    "import copy\n",
    "levers = copy.deepcopy(dike_model.levers)"
   ]
  },
  {
   "cell_type": "code",
   "execution_count": 6,
   "metadata": {
    "pycharm": {
     "name": "#%%\n"
    }
   },
   "outputs": [],
   "source": [
    "#enlisting outcomes\n",
    "#for outcome in dike_model.outcomes:\n",
    "    #print(repr(outcome))"
   ]
  },
  {
   "cell_type": "markdown",
   "source": [
    "# Creating the Policies\n",
    "### Edit this stuff"
   ],
   "metadata": {
    "collapsed": false,
    "pycharm": {
     "name": "#%% md\n"
    }
   }
  },
  {
   "cell_type": "code",
   "execution_count": 7,
   "metadata": {
    "pycharm": {
     "name": "#%%\n"
    }
   },
   "outputs": [],
   "source": [
    "#defining specific policies\n",
    "#for example, policy 1 is about extra protection in upper boundary\n",
    "#policy 2 is about extra protection in lower boundary\n",
    "#policy 3 is extra protection in random locations\n",
    "from ema_workbench import Policy\n",
    "#testing Secnario 0 - Baseline\n",
    "policies = [Policy('policy 0', **{'0_RfR 0':0,\n",
    "                                  '0_RfR 1':0,\n",
    "                                  '0_RfR 2':0,\n",
    "                                  'A.1_DikeIncrease 0':0,\n",
    "                                  'A.1_DikeIncrease 1':0,\n",
    "                                  'A.1_DikeIncrease 2':0,\n",
    "                                  '1_RfR 0':0,\n",
    "                                  '1_RfR 1':0,\n",
    "                                  '1_RfR 2':0,\n",
    "                                  'A.2_DikeIncrease 0':0,\n",
    "                                  'A.2_DikeIncrease 1':0,\n",
    "                                  'A.2_DikeIncrease 2':0,\n",
    "                                  '2_RfR 0':0,\n",
    "                                  '2_RfR 1':0,\n",
    "                                  '2_RfR 2':0,\n",
    "                                  'A.3_DikeIncrease 0':0,\n",
    "                                  'A.3_DikeIncrease 1':0,\n",
    "                                  'A.3_DikeIncrease 2':0,\n",
    "                                  '3_RfR 0':0,\n",
    "                                  '3_RfR 1':0,\n",
    "                                  '3_RfR 2':0,\n",
    "                                  'A.4_DikeIncrease 0':0,\n",
    "                                  'A.4_DikeIncrease 1':0,\n",
    "                                  'A.4_DikeIncrease 2':0,\n",
    "                                  '4_RfR 0':0,\n",
    "                                  '4_RfR 1':0,\n",
    "                                  '4_RfR 2':0,\n",
    "                                  'A.5_DikeIncrease 0':0,\n",
    "                                  'A.5_DikeIncrease 1':0,\n",
    "                                  'A.5_DikeIncrease 2':0,\n",
    "                                  'EWS_DaysToThreat':1\n",
    "                                  })]"
   ]
  },
  {
   "cell_type": "markdown",
   "source": [
    "# Running the Model\n",
    "### You can edit the number of scenarios to help adjust runtime, more is kind of better"
   ],
   "metadata": {
    "collapsed": false,
    "pycharm": {
     "name": "#%% md\n"
    }
   }
  },
  {
   "cell_type": "code",
   "execution_count": 8,
   "metadata": {
    "pycharm": {
     "name": "#%%\n"
    }
   },
   "outputs": [
    {
     "name": "stderr",
     "output_type": "stream",
     "text": [
      "[MainProcess/INFO] pool started with 12 workers\n",
      "[MainProcess/INFO] performing 10 scenarios * 1 policies * 1 model(s) = 10 experiments\n",
      "100%|██████████████████████████████████████████| 10/10 [00:05<00:00,  1.89it/s]\n",
      "[MainProcess/INFO] experiments finished\n",
      "[MainProcess/INFO] terminating pool\n"
     ]
    }
   ],
   "source": [
    "#pass the policies list to EMA workbench experiment runs\n",
    "n_scenarios = 10\n",
    "with MultiprocessingEvaluator(dike_model) as evaluator:\n",
    "    results = evaluator.perform_experiments(n_scenarios,\n",
    "                                            policies)"
   ]
  },
  {
   "cell_type": "code",
   "execution_count": 9,
   "metadata": {
    "collapsed": true,
    "jupyter": {
     "outputs_hidden": true
    },
    "pycharm": {
     "name": "#%%\n"
    }
   },
   "outputs": [],
   "source": [
    "#print(results)"
   ]
  },
  {
   "cell_type": "code",
   "execution_count": 10,
   "outputs": [],
   "source": [
    "experiments, outcomes = results"
   ],
   "metadata": {
    "collapsed": false,
    "pycharm": {
     "name": "#%%\n"
    }
   }
  },
  {
   "cell_type": "markdown",
   "source": [
    "### Edit the column for outcome to see different results"
   ],
   "metadata": {
    "collapsed": false,
    "pycharm": {
     "name": "#%% md\n"
    }
   }
  },
  {
   "cell_type": "code",
   "execution_count": 11,
   "outputs": [
    {
     "name": "stderr",
     "output_type": "stream",
     "text": [
      "[MainProcess/INFO] policy dropped from analysis because only a single category\n",
      "[MainProcess/INFO] model dropped from analysis because only a single category\n",
      "[MainProcess/INFO] 10 points remaining, containing 8 cases of interest\n",
      "[MainProcess/INFO] mean: 1.0, mass: 0.8, coverage: 1.0, density: 1.0 restricted_dimensions: 2\n"
     ]
    }
   ],
   "source": [
    "from ema_workbench.analysis import prim\n",
    "x = experiments\n",
    "y = outcomes[\"A.2 Total Costs\"] < 2.5e+08\n",
    "prim_alg = prim.Prim(x, y, threshold=0.8)\n",
    "box1 = prim_alg.find_box()"
   ],
   "metadata": {
    "collapsed": false,
    "pycharm": {
     "name": "#%%\n"
    }
   }
  },
  {
   "cell_type": "code",
   "execution_count": 12,
   "outputs": [
    {
     "data": {
      "text/plain": "<Figure size 432x288 with 2 Axes>",
      "image/png": "[encoded data removed]"
     },
     "metadata": {},
     "output_type": "display_data"
    }
   ],
   "source": [
    "box1.show_tradeoff()\n",
    "plt.show()"
   ],
   "metadata": {
    "collapsed": false,
    "pycharm": {
     "name": "#%%\n"
    }
   }
  },
  {
   "cell_type": "markdown",
   "source": [
    "### Edit the column for outcome to see different results"
   ],
   "metadata": {
    "collapsed": false,
    "pycharm": {
     "name": "#%% md\n"
    }
   }
  },
  {
   "cell_type": "code",
   "execution_count": 13,
   "outputs": [
    {
     "name": "stderr",
     "output_type": "stream",
     "text": [
      "[MainProcess/INFO] policy dropped from analysis because only a single category\n",
      "[MainProcess/INFO] model dropped from analysis because only a single category\n"
     ]
    },
    {
     "data": {
      "text/plain": "<Figure size 720x720 with 4 Axes>",
      "image/png": "[encoded data removed]"
     },
     "metadata": {},
     "output_type": "display_data"
    }
   ],
   "source": [
    "from ema_workbench.analysis import dimensional_stacking\n",
    "\n",
    "x = experiments\n",
    "y = outcomes[\"A.2 Total Costs\"] < 1\n",
    "dimensional_stacking.create_pivot_plot(x, y, 2, nbins=3)\n",
    "plt.show()"
   ],
   "metadata": {
    "collapsed": false,
    "pycharm": {
     "name": "#%%\n"
    }
   }
  },
  {
   "cell_type": "markdown",
   "source": [
    "\n",
    "### change which parts of the experiments table it outputs to see the figure better"
   ],
   "metadata": {
    "collapsed": false,
    "pycharm": {
     "name": "#%% md\n"
    }
   }
  },
  {
   "cell_type": "code",
   "execution_count": 14,
   "outputs": [
    {
     "data": {
      "text/plain": "<Figure size 432x288 with 2 Axes>",
      "image/png": "[encoded data removed]"
     },
     "metadata": {},
     "output_type": "display_data"
    },
    {
     "data": {
      "text/plain": "<Figure size 7200x7200 with 0 Axes>"
     },
     "metadata": {},
     "output_type": "display_data"
    }
   ],
   "source": [
    "from ema_workbench.analysis import feature_scoring\n",
    "\n",
    "x = experiments.loc[:,['A.1_pfail', 'A.2_pfail', 'A.3_pfail', 'A.4_pfail', 'A.5_pfail']]\n",
    "y = outcomes\n",
    "\n",
    "fs = feature_scoring.get_feature_scores_all(x, y)\n",
    "sns.heatmap(fs, cmap=\"viridis\", annot=True, )\n",
    "plt.figure(figsize = (100,100))\n",
    "plt.show()"
   ],
   "metadata": {
    "collapsed": false,
    "pycharm": {
     "name": "#%%\n"
    }
   }
  }
 ],
 "metadata": {
  "kernelspec": {
   "display_name": "Python 3",
   "language": "python",
   "name": "python3"
  },
  "language_info": {
   "codemirror_mode": {
    "name": "ipython",
    "version": 3
   },
   "file_extension": ".py",
   "mimetype": "text/x-python",
   "name": "python",
   "nbconvert_exporter": "python",
   "pygments_lexer": "ipython3",
   "version": "3.8.5"
  }
 },
 "nbformat": 4,
 "nbformat_minor": 4
}