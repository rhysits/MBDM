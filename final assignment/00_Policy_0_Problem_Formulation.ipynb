{
 "cells": [
  {
   "cell_type": "markdown",
   "metadata": {
    "pycharm": {
     "name": "#%% md\n"
    }
   },
   "source": [
    "# Import Stuff"
   ]
  },
  {
   "cell_type": "code",
   "execution_count": 1,
   "metadata": {
    "pycharm": {
     "name": "#%%\n"
    }
   },
   "outputs": [],
   "source": [
    "import numpy as np\n",
    "import scipy as sp\n",
    "import pandas as pd\n",
    "import matplotlib.pyplot as plt\n",
    "import seaborn as sns\n",
    "import networkx as nx"
   ]
  },
  {
   "cell_type": "markdown",
   "metadata": {
    "pycharm": {
     "name": "#%% md\n"
    }
   },
   "source": [
    "# Default Code, Don't Edit This"
   ]
  },
  {
   "cell_type": "code",
   "execution_count": 2,
   "metadata": {
    "pycharm": {
     "name": "#%%\n"
    },
    "scrolled": true
   },
   "outputs": [],
   "source": [
    "from ema_workbench import (Model, CategoricalParameter,\n",
    "                           ScalarOutcome, IntegerParameter, RealParameter)\n",
    "from dike_model_function import DikeNetwork  # @UnresolvedImport\n",
    "\n",
    "def sum_over(*args):\n",
    "    return sum(args)"
   ]
  },
  {
   "cell_type": "code",
   "execution_count": 3,
   "metadata": {
    "pycharm": {
     "name": "#%%\n"
    }
   },
   "outputs": [],
   "source": [
    "from ema_workbench import (Model, MultiprocessingEvaluator, Policy, Scenario, SequentialEvaluator)\n",
    "\n",
    "from ema_workbench.em_framework.evaluators import perform_experiments\n",
    "from ema_workbench.em_framework.samplers import sample_uncertainties\n",
    "from ema_workbench.util import ema_logging\n",
    "import time\n",
    "from problem_formulation import get_model_for_problem_formulation\n",
    "\n",
    "\n",
    "ema_logging.log_to_stderr(ema_logging.INFO)\n",
    "\n",
    "#choose problem formulation number, between 0-5\n",
    "#each problem formulation has its own list of outcomes\n",
    "dike_model, planning_steps = get_model_for_problem_formulation(3)"
   ]
  },
  {
   "cell_type": "code",
   "execution_count": 4,
   "metadata": {
    "pycharm": {
     "name": "#%%\n"
    }
   },
   "outputs": [],
   "source": [
    "#enlisting uncertainties, their types (RealParameter/IntegerParameter/CategoricalParameter), lower boundary, and upper boundary\n",
    "#for unc in dike_model.uncertainties:\n",
    "    #print(repr(unc))\n",
    "    \n",
    "uncertainties = dike_model.uncertainties\n",
    "\n",
    "import copy\n",
    "uncertainties = copy.deepcopy(dike_model.uncertainties)"
   ]
  },
  {
   "cell_type": "code",
   "execution_count": 5,
   "metadata": {
    "pycharm": {
     "name": "#%%\n"
    }
   },
   "outputs": [],
   "source": [
    "#enlisting policy levers, their types (RealParameter/IntegerParameter), lower boundary, and upper boundary\n",
    "#for policy in dike_model.levers:\n",
    "    #print(repr(policy))\n",
    "    \n",
    "levers = dike_model.levers \n",
    "\n",
    "import copy\n",
    "levers = copy.deepcopy(dike_model.levers)"
   ]
  },
  {
   "cell_type": "code",
   "execution_count": 6,
   "metadata": {
    "pycharm": {
     "name": "#%%\n"
    }
   },
   "outputs": [],
   "source": [
    "#enlisting outcomes\n",
    "#for outcome in dike_model.outcomes:\n",
    "    #print(repr(outcome))"
   ]
  },
  {
   "cell_type": "markdown",
   "metadata": {
    "pycharm": {
     "name": "#%% md\n"
    }
   },
   "source": [
    "# Creating the Policies\n",
    "### Edit this stuff"
   ]
  },
  {
   "cell_type": "code",
   "execution_count": 7,
   "metadata": {
    "pycharm": {
     "name": "#%%\n"
    }
   },
   "outputs": [],
   "source": [
    "#defining specific policies\n",
    "#for example, policy 1 is about extra protection in upper boundary\n",
    "#policy 2 is about extra protection in lower boundary\n",
    "#policy 3 is extra protection in random locations\n",
    "from ema_workbench import Policy\n",
    "#testing Secnario 0 - Baseline\n",
    "policies = [Policy('policy 0', **{'0_RfR 0':0,\n",
    "                                  '0_RfR 1':0,\n",
    "                                  '0_RfR 2':0,\n",
    "                                  'A.1_DikeIncrease 0':0,\n",
    "                                  'A.1_DikeIncrease 1':0,\n",
    "                                  'A.1_DikeIncrease 2':0,\n",
    "                                  '1_RfR 0':0,\n",
    "                                  '1_RfR 1':0,\n",
    "                                  '1_RfR 2':0,\n",
    "                                  'A.2_DikeIncrease 0':0,\n",
    "                                  'A.2_DikeIncrease 1':0,\n",
    "                                  'A.2_DikeIncrease 2':0,\n",
    "                                  '2_RfR 0':0,\n",
    "                                  '2_RfR 1':0,\n",
    "                                  '2_RfR 2':0,\n",
    "                                  'A.3_DikeIncrease 0':0,\n",
    "                                  'A.3_DikeIncrease 1':0,\n",
    "                                  'A.3_DikeIncrease 2':0,\n",
    "                                  '3_RfR 0':0,\n",
    "                                  '3_RfR 1':0,\n",
    "                                  '3_RfR 2':0,\n",
    "                                  'A.4_DikeIncrease 0':0,\n",
    "                                  'A.4_DikeIncrease 1':0,\n",
    "                                  'A.4_DikeIncrease 2':0,\n",
    "                                  '4_RfR 0':0,\n",
    "                                  '4_RfR 1':0,\n",
    "                                  '4_RfR 2':0,\n",
    "                                  'A.5_DikeIncrease 0':0,\n",
    "                                  'A.5_DikeIncrease 1':0,\n",
    "                                  'A.5_DikeIncrease 2':0,\n",
    "                                  'EWS_DaysToThreat':0\n",
    "                                  })]"
   ]
  },
  {
   "cell_type": "markdown",
   "metadata": {
    "pycharm": {
     "name": "#%% md\n"
    }
   },
   "source": [
    "# Running the Model\n",
    "### You can edit the number of scenarios to help adjust runtime, more is kind of better"
   ]
  },
  {
   "cell_type": "code",
   "execution_count": 9,
   "metadata": {
    "pycharm": {
     "name": "#%%\n"
    }
   },
   "outputs": [
    {
     "name": "stderr",
     "output_type": "stream",
     "text": [
      "[MainProcess/INFO] performing 1000 scenarios * 1 policies * 1 model(s) = 1000 experiments\n",
      "  0%|                                                 | 0/1000 [00:00<?, ?it/s][MainProcess/INFO] performing experiments sequentially\n",
      "  0%|                                       | 1/1000 [00:06<1:40:27,  6.03s/it]"
     ]
    },
    {
     "ename": "KeyboardInterrupt",
     "evalue": "",
     "output_type": "error",
     "traceback": [
      "\u001B[1;31m---------------------------------------------------------------------------\u001B[0m",
      "\u001B[1;31mKeyboardInterrupt\u001B[0m                         Traceback (most recent call last)",
      "\u001B[1;32m~\\AppData\\Local\\Temp/ipykernel_25256/3025829675.py\u001B[0m in \u001B[0;36m<module>\u001B[1;34m\u001B[0m\n\u001B[0;32m      2\u001B[0m \u001B[0mn_scenarios\u001B[0m \u001B[1;33m=\u001B[0m \u001B[1;36m1000\u001B[0m\u001B[1;33m\u001B[0m\u001B[1;33m\u001B[0m\u001B[0m\n\u001B[0;32m      3\u001B[0m \u001B[1;32mwith\u001B[0m \u001B[0mSequentialEvaluator\u001B[0m\u001B[1;33m(\u001B[0m\u001B[0mdike_model\u001B[0m\u001B[1;33m)\u001B[0m \u001B[1;32mas\u001B[0m \u001B[0mevaluator\u001B[0m\u001B[1;33m:\u001B[0m\u001B[1;33m\u001B[0m\u001B[1;33m\u001B[0m\u001B[0m\n\u001B[1;32m----> 4\u001B[1;33m     \u001B[0mresults\u001B[0m \u001B[1;33m=\u001B[0m \u001B[0mevaluator\u001B[0m\u001B[1;33m.\u001B[0m\u001B[0mperform_experiments\u001B[0m\u001B[1;33m(\u001B[0m\u001B[0mn_scenarios\u001B[0m\u001B[1;33m,\u001B[0m \u001B[0mpolicies\u001B[0m\u001B[1;33m)\u001B[0m\u001B[1;33m\u001B[0m\u001B[1;33m\u001B[0m\u001B[0m\n\u001B[0m",
      "\u001B[1;32m~\\anaconda3\\lib\\site-packages\\ema_workbench\\em_framework\\evaluators.py\u001B[0m in \u001B[0;36mperform_experiments\u001B[1;34m(self, scenarios, policies, reporting_interval, reporting_frequency, uncertainty_union, lever_union, outcome_union, uncertainty_sampling, lever_sampling, callback, combine)\u001B[0m\n\u001B[0;32m    199\u001B[0m \u001B[1;33m\u001B[0m\u001B[0m\n\u001B[0;32m    200\u001B[0m         \"\"\"\n\u001B[1;32m--> 201\u001B[1;33m         return perform_experiments(\n\u001B[0m\u001B[0;32m    202\u001B[0m             \u001B[0mself\u001B[0m\u001B[1;33m.\u001B[0m\u001B[0m_msis\u001B[0m\u001B[1;33m,\u001B[0m\u001B[1;33m\u001B[0m\u001B[1;33m\u001B[0m\u001B[0m\n\u001B[0;32m    203\u001B[0m             \u001B[0mscenarios\u001B[0m\u001B[1;33m=\u001B[0m\u001B[0mscenarios\u001B[0m\u001B[1;33m,\u001B[0m\u001B[1;33m\u001B[0m\u001B[1;33m\u001B[0m\u001B[0m\n",
      "\u001B[1;32m~\\anaconda3\\lib\\site-packages\\ema_workbench\\em_framework\\evaluators.py\u001B[0m in \u001B[0;36mperform_experiments\u001B[1;34m(models, scenarios, policies, evaluator, reporting_interval, reporting_frequency, uncertainty_union, lever_union, outcome_union, uncertainty_sampling, lever_sampling, callback, return_callback, combine, log_progress)\u001B[0m\n\u001B[0;32m    537\u001B[0m         \u001B[0mevaluator\u001B[0m \u001B[1;33m=\u001B[0m \u001B[0mSequentialEvaluator\u001B[0m\u001B[1;33m(\u001B[0m\u001B[0mmodels\u001B[0m\u001B[1;33m)\u001B[0m\u001B[1;33m\u001B[0m\u001B[1;33m\u001B[0m\u001B[0m\n\u001B[0;32m    538\u001B[0m \u001B[1;33m\u001B[0m\u001B[0m\n\u001B[1;32m--> 539\u001B[1;33m     \u001B[0mevaluator\u001B[0m\u001B[1;33m.\u001B[0m\u001B[0mevaluate_experiments\u001B[0m\u001B[1;33m(\u001B[0m\u001B[0mscenarios\u001B[0m\u001B[1;33m,\u001B[0m \u001B[0mpolicies\u001B[0m\u001B[1;33m,\u001B[0m \u001B[0mcallback\u001B[0m\u001B[1;33m,\u001B[0m \u001B[0mcombine\u001B[0m\u001B[1;33m=\u001B[0m\u001B[0mcombine\u001B[0m\u001B[1;33m)\u001B[0m\u001B[1;33m\u001B[0m\u001B[1;33m\u001B[0m\u001B[0m\n\u001B[0m\u001B[0;32m    540\u001B[0m \u001B[1;33m\u001B[0m\u001B[0m\n\u001B[0;32m    541\u001B[0m     \u001B[1;32mif\u001B[0m \u001B[0mcallback\u001B[0m\u001B[1;33m.\u001B[0m\u001B[0mi\u001B[0m \u001B[1;33m!=\u001B[0m \u001B[0mnr_of_exp\u001B[0m\u001B[1;33m:\u001B[0m\u001B[1;33m\u001B[0m\u001B[1;33m\u001B[0m\u001B[0m\n",
      "\u001B[1;32m~\\anaconda3\\lib\\site-packages\\ema_workbench\\em_framework\\evaluators.py\u001B[0m in \u001B[0;36mevaluate_experiments\u001B[1;34m(self, scenarios, policies, callback, combine)\u001B[0m\n\u001B[0;32m    297\u001B[0m \u001B[1;33m\u001B[0m\u001B[0m\n\u001B[0;32m    298\u001B[0m         \u001B[1;32mfor\u001B[0m \u001B[0mexperiment\u001B[0m \u001B[1;32min\u001B[0m \u001B[0mex_gen\u001B[0m\u001B[1;33m:\u001B[0m\u001B[1;33m\u001B[0m\u001B[1;33m\u001B[0m\u001B[0m\n\u001B[1;32m--> 299\u001B[1;33m             \u001B[0moutcomes\u001B[0m \u001B[1;33m=\u001B[0m \u001B[0mrunner\u001B[0m\u001B[1;33m.\u001B[0m\u001B[0mrun_experiment\u001B[0m\u001B[1;33m(\u001B[0m\u001B[0mexperiment\u001B[0m\u001B[1;33m)\u001B[0m\u001B[1;33m\u001B[0m\u001B[1;33m\u001B[0m\u001B[0m\n\u001B[0m\u001B[0;32m    300\u001B[0m             \u001B[0mcallback\u001B[0m\u001B[1;33m(\u001B[0m\u001B[0mexperiment\u001B[0m\u001B[1;33m,\u001B[0m \u001B[0moutcomes\u001B[0m\u001B[1;33m)\u001B[0m\u001B[1;33m\u001B[0m\u001B[1;33m\u001B[0m\u001B[0m\n\u001B[0;32m    301\u001B[0m         \u001B[0mrunner\u001B[0m\u001B[1;33m.\u001B[0m\u001B[0mcleanup\u001B[0m\u001B[1;33m(\u001B[0m\u001B[1;33m)\u001B[0m\u001B[1;33m\u001B[0m\u001B[1;33m\u001B[0m\u001B[0m\n",
      "\u001B[1;32m~\\anaconda3\\lib\\site-packages\\ema_workbench\\util\\ema_logging.py\u001B[0m in \u001B[0;36mwrapper\u001B[1;34m(*args, **kwargs)\u001B[0m\n\u001B[0;32m    150\u001B[0m             \u001B[1;31m# object instance as first arguments in args\u001B[0m\u001B[1;33m\u001B[0m\u001B[1;33m\u001B[0m\u001B[0m\n\u001B[0;32m    151\u001B[0m             \u001B[0mlogger\u001B[0m\u001B[1;33m.\u001B[0m\u001B[0mdebug\u001B[0m\u001B[1;33m(\u001B[0m\u001B[1;34m\"calling {} on {}\"\u001B[0m\u001B[1;33m.\u001B[0m\u001B[0mformat\u001B[0m\u001B[1;33m(\u001B[0m\u001B[0mfunc\u001B[0m\u001B[1;33m.\u001B[0m\u001B[0m__name__\u001B[0m\u001B[1;33m,\u001B[0m \u001B[0mclassname\u001B[0m\u001B[1;33m)\u001B[0m\u001B[1;33m)\u001B[0m\u001B[1;33m\u001B[0m\u001B[1;33m\u001B[0m\u001B[0m\n\u001B[1;32m--> 152\u001B[1;33m             \u001B[0mres\u001B[0m \u001B[1;33m=\u001B[0m \u001B[0mfunc\u001B[0m\u001B[1;33m(\u001B[0m\u001B[1;33m*\u001B[0m\u001B[0margs\u001B[0m\u001B[1;33m,\u001B[0m \u001B[1;33m**\u001B[0m\u001B[0mkwargs\u001B[0m\u001B[1;33m)\u001B[0m\u001B[1;33m\u001B[0m\u001B[1;33m\u001B[0m\u001B[0m\n\u001B[0m\u001B[0;32m    153\u001B[0m             \u001B[0mlogger\u001B[0m\u001B[1;33m.\u001B[0m\u001B[0mdebug\u001B[0m\u001B[1;33m(\u001B[0m\u001B[1;34m\"completed calling {} on {}\"\u001B[0m\u001B[1;33m.\u001B[0m\u001B[0mformat\u001B[0m\u001B[1;33m(\u001B[0m\u001B[0mfunc\u001B[0m\u001B[1;33m.\u001B[0m\u001B[0m__name__\u001B[0m\u001B[1;33m,\u001B[0m \u001B[0mclassname\u001B[0m\u001B[1;33m)\u001B[0m\u001B[1;33m)\u001B[0m\u001B[1;33m\u001B[0m\u001B[1;33m\u001B[0m\u001B[0m\n\u001B[0;32m    154\u001B[0m             \u001B[1;32mreturn\u001B[0m \u001B[0mres\u001B[0m\u001B[1;33m\u001B[0m\u001B[1;33m\u001B[0m\u001B[0m\n",
      "\u001B[1;32m~\\anaconda3\\lib\\site-packages\\ema_workbench\\em_framework\\experiment_runner.py\u001B[0m in \u001B[0;36mrun_experiment\u001B[1;34m(self, experiment)\u001B[0m\n\u001B[0;32m     90\u001B[0m \u001B[1;33m\u001B[0m\u001B[0m\n\u001B[0;32m     91\u001B[0m         \u001B[1;32mtry\u001B[0m\u001B[1;33m:\u001B[0m\u001B[1;33m\u001B[0m\u001B[1;33m\u001B[0m\u001B[0m\n\u001B[1;32m---> 92\u001B[1;33m             \u001B[0mmodel\u001B[0m\u001B[1;33m.\u001B[0m\u001B[0mrun_model\u001B[0m\u001B[1;33m(\u001B[0m\u001B[0mscenario\u001B[0m\u001B[1;33m,\u001B[0m \u001B[0mpolicy\u001B[0m\u001B[1;33m)\u001B[0m\u001B[1;33m\u001B[0m\u001B[1;33m\u001B[0m\u001B[0m\n\u001B[0m\u001B[0;32m     93\u001B[0m         \u001B[1;32mexcept\u001B[0m \u001B[0mCaseError\u001B[0m \u001B[1;32mas\u001B[0m \u001B[0me\u001B[0m\u001B[1;33m:\u001B[0m\u001B[1;33m\u001B[0m\u001B[1;33m\u001B[0m\u001B[0m\n\u001B[0;32m     94\u001B[0m             \u001B[0m_logger\u001B[0m\u001B[1;33m.\u001B[0m\u001B[0mwarning\u001B[0m\u001B[1;33m(\u001B[0m\u001B[0mstr\u001B[0m\u001B[1;33m(\u001B[0m\u001B[0me\u001B[0m\u001B[1;33m)\u001B[0m\u001B[1;33m)\u001B[0m\u001B[1;33m\u001B[0m\u001B[1;33m\u001B[0m\u001B[0m\n",
      "\u001B[1;32m~\\anaconda3\\lib\\site-packages\\ema_workbench\\util\\ema_logging.py\u001B[0m in \u001B[0;36mwrapper\u001B[1;34m(*args, **kwargs)\u001B[0m\n\u001B[0;32m    150\u001B[0m             \u001B[1;31m# object instance as first arguments in args\u001B[0m\u001B[1;33m\u001B[0m\u001B[1;33m\u001B[0m\u001B[0m\n\u001B[0;32m    151\u001B[0m             \u001B[0mlogger\u001B[0m\u001B[1;33m.\u001B[0m\u001B[0mdebug\u001B[0m\u001B[1;33m(\u001B[0m\u001B[1;34m\"calling {} on {}\"\u001B[0m\u001B[1;33m.\u001B[0m\u001B[0mformat\u001B[0m\u001B[1;33m(\u001B[0m\u001B[0mfunc\u001B[0m\u001B[1;33m.\u001B[0m\u001B[0m__name__\u001B[0m\u001B[1;33m,\u001B[0m \u001B[0mclassname\u001B[0m\u001B[1;33m)\u001B[0m\u001B[1;33m)\u001B[0m\u001B[1;33m\u001B[0m\u001B[1;33m\u001B[0m\u001B[0m\n\u001B[1;32m--> 152\u001B[1;33m             \u001B[0mres\u001B[0m \u001B[1;33m=\u001B[0m \u001B[0mfunc\u001B[0m\u001B[1;33m(\u001B[0m\u001B[1;33m*\u001B[0m\u001B[0margs\u001B[0m\u001B[1;33m,\u001B[0m \u001B[1;33m**\u001B[0m\u001B[0mkwargs\u001B[0m\u001B[1;33m)\u001B[0m\u001B[1;33m\u001B[0m\u001B[1;33m\u001B[0m\u001B[0m\n\u001B[0m\u001B[0;32m    153\u001B[0m             \u001B[0mlogger\u001B[0m\u001B[1;33m.\u001B[0m\u001B[0mdebug\u001B[0m\u001B[1;33m(\u001B[0m\u001B[1;34m\"completed calling {} on {}\"\u001B[0m\u001B[1;33m.\u001B[0m\u001B[0mformat\u001B[0m\u001B[1;33m(\u001B[0m\u001B[0mfunc\u001B[0m\u001B[1;33m.\u001B[0m\u001B[0m__name__\u001B[0m\u001B[1;33m,\u001B[0m \u001B[0mclassname\u001B[0m\u001B[1;33m)\u001B[0m\u001B[1;33m)\u001B[0m\u001B[1;33m\u001B[0m\u001B[1;33m\u001B[0m\u001B[0m\n\u001B[0;32m    154\u001B[0m             \u001B[1;32mreturn\u001B[0m \u001B[0mres\u001B[0m\u001B[1;33m\u001B[0m\u001B[1;33m\u001B[0m\u001B[0m\n",
      "\u001B[1;32m~\\anaconda3\\lib\\site-packages\\ema_workbench\\em_framework\\model.py\u001B[0m in \u001B[0;36mrun_model\u001B[1;34m(self, scenario, policy)\u001B[0m\n\u001B[0;32m    348\u001B[0m         \u001B[0mexperiment\u001B[0m \u001B[1;33m=\u001B[0m \u001B[0mExperimentReplication\u001B[0m\u001B[1;33m(\u001B[0m\u001B[0mscenario\u001B[0m\u001B[1;33m,\u001B[0m \u001B[0mself\u001B[0m\u001B[1;33m.\u001B[0m\u001B[0mpolicy\u001B[0m\u001B[1;33m,\u001B[0m \u001B[0mconstants\u001B[0m\u001B[1;33m)\u001B[0m\u001B[1;33m\u001B[0m\u001B[1;33m\u001B[0m\u001B[0m\n\u001B[0;32m    349\u001B[0m \u001B[1;33m\u001B[0m\u001B[0m\n\u001B[1;32m--> 350\u001B[1;33m         \u001B[0moutputs\u001B[0m \u001B[1;33m=\u001B[0m \u001B[0mself\u001B[0m\u001B[1;33m.\u001B[0m\u001B[0mrun_experiment\u001B[0m\u001B[1;33m(\u001B[0m\u001B[0mexperiment\u001B[0m\u001B[1;33m)\u001B[0m\u001B[1;33m\u001B[0m\u001B[1;33m\u001B[0m\u001B[0m\n\u001B[0m\u001B[0;32m    351\u001B[0m \u001B[1;33m\u001B[0m\u001B[0m\n\u001B[0;32m    352\u001B[0m         \u001B[0mself\u001B[0m\u001B[1;33m.\u001B[0m\u001B[0moutcomes_output\u001B[0m \u001B[1;33m=\u001B[0m \u001B[0moutputs\u001B[0m\u001B[1;33m\u001B[0m\u001B[1;33m\u001B[0m\u001B[0m\n",
      "\u001B[1;32m~\\anaconda3\\lib\\site-packages\\ema_workbench\\util\\ema_logging.py\u001B[0m in \u001B[0;36mwrapper\u001B[1;34m(*args, **kwargs)\u001B[0m\n\u001B[0;32m    150\u001B[0m             \u001B[1;31m# object instance as first arguments in args\u001B[0m\u001B[1;33m\u001B[0m\u001B[1;33m\u001B[0m\u001B[0m\n\u001B[0;32m    151\u001B[0m             \u001B[0mlogger\u001B[0m\u001B[1;33m.\u001B[0m\u001B[0mdebug\u001B[0m\u001B[1;33m(\u001B[0m\u001B[1;34m\"calling {} on {}\"\u001B[0m\u001B[1;33m.\u001B[0m\u001B[0mformat\u001B[0m\u001B[1;33m(\u001B[0m\u001B[0mfunc\u001B[0m\u001B[1;33m.\u001B[0m\u001B[0m__name__\u001B[0m\u001B[1;33m,\u001B[0m \u001B[0mclassname\u001B[0m\u001B[1;33m)\u001B[0m\u001B[1;33m)\u001B[0m\u001B[1;33m\u001B[0m\u001B[1;33m\u001B[0m\u001B[0m\n\u001B[1;32m--> 152\u001B[1;33m             \u001B[0mres\u001B[0m \u001B[1;33m=\u001B[0m \u001B[0mfunc\u001B[0m\u001B[1;33m(\u001B[0m\u001B[1;33m*\u001B[0m\u001B[0margs\u001B[0m\u001B[1;33m,\u001B[0m \u001B[1;33m**\u001B[0m\u001B[0mkwargs\u001B[0m\u001B[1;33m)\u001B[0m\u001B[1;33m\u001B[0m\u001B[1;33m\u001B[0m\u001B[0m\n\u001B[0m\u001B[0;32m    153\u001B[0m             \u001B[0mlogger\u001B[0m\u001B[1;33m.\u001B[0m\u001B[0mdebug\u001B[0m\u001B[1;33m(\u001B[0m\u001B[1;34m\"completed calling {} on {}\"\u001B[0m\u001B[1;33m.\u001B[0m\u001B[0mformat\u001B[0m\u001B[1;33m(\u001B[0m\u001B[0mfunc\u001B[0m\u001B[1;33m.\u001B[0m\u001B[0m__name__\u001B[0m\u001B[1;33m,\u001B[0m \u001B[0mclassname\u001B[0m\u001B[1;33m)\u001B[0m\u001B[1;33m)\u001B[0m\u001B[1;33m\u001B[0m\u001B[1;33m\u001B[0m\u001B[0m\n\u001B[0;32m    154\u001B[0m             \u001B[1;32mreturn\u001B[0m \u001B[0mres\u001B[0m\u001B[1;33m\u001B[0m\u001B[1;33m\u001B[0m\u001B[0m\n",
      "\u001B[1;32m~\\anaconda3\\lib\\site-packages\\ema_workbench\\em_framework\\model.py\u001B[0m in \u001B[0;36mrun_experiment\u001B[1;34m(self, experiment)\u001B[0m\n\u001B[0;32m    401\u001B[0m \u001B[1;33m\u001B[0m\u001B[0m\n\u001B[0;32m    402\u001B[0m         \"\"\"\n\u001B[1;32m--> 403\u001B[1;33m         \u001B[0mmodel_output\u001B[0m \u001B[1;33m=\u001B[0m \u001B[0mself\u001B[0m\u001B[1;33m.\u001B[0m\u001B[0mfunction\u001B[0m\u001B[1;33m(\u001B[0m\u001B[1;33m**\u001B[0m\u001B[0mexperiment\u001B[0m\u001B[1;33m)\u001B[0m\u001B[1;33m\u001B[0m\u001B[1;33m\u001B[0m\u001B[0m\n\u001B[0m\u001B[0;32m    404\u001B[0m \u001B[1;33m\u001B[0m\u001B[0m\n\u001B[0;32m    405\u001B[0m         \u001B[1;31m# TODO: might it be possible to somehow abstract this\u001B[0m\u001B[1;33m\u001B[0m\u001B[1;33m\u001B[0m\u001B[0m\n",
      "\u001B[1;32m~\\OneDrive - Maastricht University\\Documents\\GitHub\\MBDM\\final assignment\\dike_model_function.py\u001B[0m in \u001B[0;36m__call__\u001B[1;34m(self, timestep, **kwargs)\u001B[0m\n\u001B[0;32m    208\u001B[0m \u001B[1;33m\u001B[0m\u001B[0m\n\u001B[0;32m    209\u001B[0m                             \u001B[1;31m# Transform Q in water levels:\u001B[0m\u001B[1;33m\u001B[0m\u001B[1;33m\u001B[0m\u001B[0m\n\u001B[1;32m--> 210\u001B[1;33m                             node['wl'][t] = Lookuplin(\n\u001B[0m\u001B[0;32m    211\u001B[0m                                             node['rnew'], 0, 1, node['Qin'][t])\n\u001B[0;32m    212\u001B[0m \u001B[1;33m\u001B[0m\u001B[0m\n",
      "\u001B[1;32m~\\OneDrive - Maastricht University\\Documents\\GitHub\\MBDM\\final assignment\\funs_dikes.py\u001B[0m in \u001B[0;36mLookuplin\u001B[1;34m(MyFile, inputcol, searchcol, inputvalue)\u001B[0m\n\u001B[0;32m     70\u001B[0m         \u001B[0minputvalue\u001B[0m \u001B[1;33m=\u001B[0m \u001B[0mminTableValue\u001B[0m \u001B[1;33m+\u001B[0m \u001B[1;36m0.01\u001B[0m\u001B[1;33m\u001B[0m\u001B[1;33m\u001B[0m\u001B[0m\n\u001B[0;32m     71\u001B[0m \u001B[1;33m\u001B[0m\u001B[0m\n\u001B[1;32m---> 72\u001B[1;33m     \u001B[0mA\u001B[0m \u001B[1;33m=\u001B[0m \u001B[0mnp\u001B[0m\u001B[1;33m.\u001B[0m\u001B[0mmax\u001B[0m\u001B[1;33m(\u001B[0m\u001B[0mMyFile\u001B[0m\u001B[1;33m[\u001B[0m\u001B[0mMyFile\u001B[0m\u001B[1;33m[\u001B[0m\u001B[1;33m:\u001B[0m\u001B[1;33m,\u001B[0m \u001B[0minputcol\u001B[0m\u001B[1;33m]\u001B[0m \u001B[1;33m<=\u001B[0m \u001B[0minputvalue\u001B[0m\u001B[1;33m,\u001B[0m \u001B[0minputcol\u001B[0m\u001B[1;33m]\u001B[0m\u001B[1;33m)\u001B[0m\u001B[1;33m\u001B[0m\u001B[1;33m\u001B[0m\u001B[0m\n\u001B[0m\u001B[0;32m     73\u001B[0m     \u001B[0mB\u001B[0m \u001B[1;33m=\u001B[0m \u001B[0mnp\u001B[0m\u001B[1;33m.\u001B[0m\u001B[0mmin\u001B[0m\u001B[1;33m(\u001B[0m\u001B[0mMyFile\u001B[0m\u001B[1;33m[\u001B[0m\u001B[0mMyFile\u001B[0m\u001B[1;33m[\u001B[0m\u001B[1;33m:\u001B[0m\u001B[1;33m,\u001B[0m \u001B[0minputcol\u001B[0m\u001B[1;33m]\u001B[0m \u001B[1;33m>\u001B[0m \u001B[0minputvalue\u001B[0m\u001B[1;33m,\u001B[0m \u001B[0minputcol\u001B[0m\u001B[1;33m]\u001B[0m\u001B[1;33m)\u001B[0m\u001B[1;33m\u001B[0m\u001B[1;33m\u001B[0m\u001B[0m\n\u001B[0;32m     74\u001B[0m     \u001B[0mC\u001B[0m \u001B[1;33m=\u001B[0m \u001B[0mnp\u001B[0m\u001B[1;33m.\u001B[0m\u001B[0mmax\u001B[0m\u001B[1;33m(\u001B[0m\u001B[0mMyFile\u001B[0m\u001B[1;33m[\u001B[0m\u001B[0mMyFile\u001B[0m\u001B[1;33m[\u001B[0m\u001B[1;33m:\u001B[0m\u001B[1;33m,\u001B[0m \u001B[0minputcol\u001B[0m\u001B[1;33m]\u001B[0m \u001B[1;33m==\u001B[0m \u001B[0mA\u001B[0m\u001B[1;33m,\u001B[0m \u001B[0msearchcol\u001B[0m\u001B[1;33m]\u001B[0m\u001B[1;33m)\u001B[0m\u001B[1;33m\u001B[0m\u001B[1;33m\u001B[0m\u001B[0m\n",
      "\u001B[1;31mKeyboardInterrupt\u001B[0m: "
     ]
    }
   ],
   "source": [
    "#pass the policies list to EMA workbench experiment runs\n",
    "n_scenarios = 1000\n",
    "with MultiprocessingEvaluator(dike_model) as evaluator:\n",
    "    results = evaluator.perform_experiments(n_scenarios, policies)"
   ]
  },
  {
   "cell_type": "code",
   "execution_count": null,
   "metadata": {
    "pycharm": {
     "name": "#%%\n"
    },
    "tags": []
   },
   "outputs": [],
   "source": []
  },
  {
   "cell_type": "code",
   "execution_count": 105,
   "metadata": {
    "collapsed": false,
    "jupyter": {
     "outputs_hidden": false
    },
    "pycharm": {
     "name": "#%%\n"
    }
   },
   "outputs": [],
   "source": [
    "experiments, outcomes = results\n",
    "experiments.to_csv('./output/00_Policy_0_Experiments.csv', index=False)\n",
    "pd.DataFrame.from_dict(outcomes).to_csv('./output/00_Policy_0_Outcomes.csv', index=False)"
   ]
  },
  {
   "cell_type": "markdown",
   "metadata": {
    "pycharm": {
     "name": "#%% md\n"
    }
   },
   "source": [
    "### Edit the column for outcome to see different results"
   ]
  },
  {
   "cell_type": "code",
   "execution_count": 106,
   "metadata": {
    "collapsed": false,
    "jupyter": {
     "outputs_hidden": false
    },
    "pycharm": {
     "name": "#%%\n"
    }
   },
   "outputs": [
    {
     "name": "stderr",
     "output_type": "stream",
     "text": [
      "[MainProcess/INFO] policy dropped from analysis because only a single category\n",
      "[MainProcess/INFO] model dropped from analysis because only a single category\n",
      "[MainProcess/INFO] 1000 points remaining, containing 819 cases of interest\n",
      "[MainProcess/INFO] mean: 1.0, mass: 0.661, coverage: 0.8070818070818071, density: 1.0 restricted_dimensions: 1\n"
     ]
    }
   ],
   "source": [
    "from ema_workbench.analysis import prim\n",
    "x = experiments\n",
    "y = outcomes[\"A.2 Total Costs\"] < 2.5e+08\n",
    "prim_alg = prim.Prim(x, y, threshold=0.8)\n",
    "box1 = prim_alg.find_box()"
   ]
  },
  {
   "cell_type": "code",
   "execution_count": 107,
   "metadata": {
    "collapsed": false,
    "jupyter": {
     "outputs_hidden": false
    },
    "pycharm": {
     "name": "#%%\n"
    }
   },
   "outputs": [
    {
     "data": {
      "image/png": "[encoded data removed]",
      "text/plain": [
       "<Figure size 432x288 with 2 Axes>"
      ]
     },
     "metadata": {
      "needs_background": "light"
     },
     "output_type": "display_data"
    }
   ],
   "source": [
    "box1.show_tradeoff()\n",
    "plt.show()"
   ]
  },
  {
   "cell_type": "code",
   "execution_count": null,
   "metadata": {
    "tags": []
   },
   "outputs": [],
   "source": []
  },
  {
   "cell_type": "markdown",
   "metadata": {
    "pycharm": {
     "name": "#%% md\n"
    }
   },
   "source": [
    "### Edit the column for outcome to see different results"
   ]
  },
  {
   "cell_type": "code",
   "execution_count": 109,
   "metadata": {
    "collapsed": false,
    "jupyter": {
     "outputs_hidden": false
    },
    "pycharm": {
     "name": "#%%\n"
    }
   },
   "outputs": [
    {
     "name": "stderr",
     "output_type": "stream",
     "text": [
      "[MainProcess/INFO] policy dropped from analysis because only a single category\n",
      "[MainProcess/INFO] model dropped from analysis because only a single category\n"
     ]
    },
    {
     "data": {
      "image/png": "[encoded data removed]",
      "text/plain": [
       "<Figure size 720x720 with 4 Axes>"
      ]
     },
     "metadata": {},
     "output_type": "display_data"
    },
    {
     "name": "stdout",
     "output_type": "stream",
     "text": [
      "1000\n"
     ]
    }
   ],
   "source": [
    "from ema_workbench.analysis import dimensional_stacking\n",
    "\n",
    "x = experiments\n",
    "y = outcomes[\"A.2 Total Costs\"] < 2.5e08\n",
    "\n",
    "dimensional_stacking.create_pivot_plot(x, y, 2, nbins=3)\n",
    "plt.show()\n",
    "print(len(y))"
   ]
  },
  {
   "cell_type": "markdown",
   "metadata": {
    "pycharm": {
     "name": "#%% md\n"
    }
   },
   "source": [
    "\n",
    "### change which parts of the experiments table it outputs to see the figure better"
   ]
  },
  {
   "cell_type": "code",
   "execution_count": 110,
   "metadata": {
    "collapsed": false,
    "jupyter": {
     "outputs_hidden": false
    },
    "pycharm": {
     "name": "#%%\n"
    }
   },
   "outputs": [
    {
     "data": {
      "image/png": "[encoded data removed]",
      "text/plain": [
       "<Figure size 720x360 with 2 Axes>"
      ]
     },
     "metadata": {
      "needs_background": "light"
     },
     "output_type": "display_data"
    }
   ],
   "source": [
    "from ema_workbench.analysis import feature_scoring\n",
    "\n",
    "x = experiments.loc[:,['A.1_pfail', 'A.2_pfail', 'A.3_pfail', 'A.4_pfail', 'A.5_pfail']]\n",
    "y = outcomes\n",
    "\n",
    "plt.figure(figsize = (10,5))\n",
    "\n",
    "fs = feature_scoring.get_feature_scores_all(x, y)\n",
    "sns.heatmap(fs, cmap=\"viridis\", annot=True, )\n",
    "\n",
    "plt.show()"
   ]
  },
  {
   "cell_type": "markdown",
   "metadata": {},
   "source": [
    "__OUTPUT PLOTTER__"
   ]
  },
  {
   "cell_type": "markdown",
   "metadata": {},
   "source": [
    "The first cell just creates the dictionaries from the output, the second and third cell do the plots. Then we make the Dataframe"
   ]
  },
  {
   "cell_type": "markdown",
   "metadata": {},
   "source": [
    " __First fill in the run number below__  (as a string, just fill it in between the quotation marks)"
   ]
  },
  {
   "cell_type": "code",
   "execution_count": 171,
   "metadata": {},
   "outputs": [],
   "source": [
    "run_number = \"0_0\" # Run number plz"
   ]
  },
  {
   "cell_type": "code",
   "execution_count": 176,
   "metadata": {},
   "outputs": [],
   "source": [
    "A1_cost = outcomes[\"A.1 Total Costs\"]\n",
    "A2_cost = outcomes[\"A.2 Total Costs\"]\n",
    "A3_cost = outcomes[\"A.3 Total Costs\"]\n",
    "A4_cost = outcomes[\"A.4 Total Costs\"]\n",
    "A5_cost = outcomes[\"A.5 Total Costs\"]\n",
    "A1_death = outcomes[\"A.1_Expected Number of Deaths\"]\n",
    "A2_death = outcomes[\"A.2_Expected Number of Deaths\"]\n",
    "A3_death = outcomes[\"A.3_Expected Number of Deaths\"]\n",
    "A4_death = outcomes[\"A.4_Expected Number of Deaths\"]\n",
    "A5_death = outcomes[\"A.5_Expected Number of Deaths\"]\n",
    "costs = [A1_cost,A2_cost,A3_cost,A4_cost,A5_cost]\n",
    "death = [A1_death,A2_death,A3_death,A4_death,A5_death]\n",
    "costs_dict = {}\n",
    "death_dict = {}\n",
    "for i in range(len(costs)):\n",
    "    segment_costs = costs[i]\n",
    "    segment_death = death[i]\n",
    "    avg_costs = np.average(segment_costs)\n",
    "    avg_death = np.average(segment_death)\n",
    "    costs_dict['Costs A' + str(i+1)] = avg_costs\n",
    "    death_dict['Deaths A' + str(i+1)] = avg_death\n"
   ]
  },
  {
   "cell_type": "code",
   "execution_count": 177,
   "metadata": {},
   "outputs": [
    {
     "data": {
      "image/png": "[encoded data removed]",
      "text/plain": [
       "<Figure size 432x288 with 1 Axes>"
      ]
     },
     "metadata": {
      "needs_background": "light"
     },
     "output_type": "display_data"
    }
   ],
   "source": [
    "names = list(costs_dict.keys())\n",
    "values = list(costs_dict.values())\n",
    "\n",
    "plt.bar(range(len(costs_dict)), values, tick_label=names)\n",
    "plt.xlabel('Segment')\n",
    "plt.ylabel('Average Total Costs')\n",
    "plt.title(\"Policy\" + str(run_number))\n",
    "plt.show()"
   ]
  },
  {
   "cell_type": "code",
   "execution_count": 178,
   "metadata": {},
   "outputs": [
    {
     "data": {
      "image/png": "[encoded data removed]",
      "text/plain": [
       "<Figure size 432x288 with 1 Axes>"
      ]
     },
     "metadata": {
      "needs_background": "light"
     },
     "output_type": "display_data"
    }
   ],
   "source": [
    "names = list(death_dict.keys())\n",
    "values = list(death_dict.values())\n",
    "\n",
    "plt.bar(range(len(death_dict)), values, tick_label=names)\n",
    "plt.xlabel('Segment')\n",
    "plt.ylabel('Averge Expected Deaths')\n",
    "plt.title(\"Policy\" + str(run_number))\n",
    "plt.show()"
   ]
  },
  {
   "cell_type": "code",
   "execution_count": 179,
   "metadata": {},
   "outputs": [],
   "source": [
    "df_costs = pd.DataFrame([costs_dict], index=[\"Policy\" + str(run_number),])\n",
    "df_death = pd.DataFrame([death_dict], index=[\"Policy\" + str(run_number),])"
   ]
  },
  {
   "cell_type": "code",
   "execution_count": 181,
   "metadata": {},
   "outputs": [
    {
     "data": {
      "text/html": [
       "<div>\n",
       "<style scoped>\n",
       "    .dataframe tbody tr th:only-of-type {\n",
       "        vertical-align: middle;\n",
       "    }\n",
       "\n",
       "    .dataframe tbody tr th {\n",
       "        vertical-align: top;\n",
       "    }\n",
       "\n",
       "    .dataframe thead th {\n",
       "        text-align: right;\n",
       "    }\n",
       "</style>\n",
       "<table border=\"1\" class=\"dataframe\">\n",
       "  <thead>\n",
       "    <tr style=\"text-align: right;\">\n",
       "      <th></th>\n",
       "      <th>Costs A1</th>\n",
       "      <th>Costs A2</th>\n",
       "      <th>Costs A3</th>\n",
       "      <th>Costs A4</th>\n",
       "      <th>Costs A5</th>\n",
       "      <th>Deaths A1</th>\n",
       "      <th>Deaths A2</th>\n",
       "      <th>Deaths A3</th>\n",
       "      <th>Deaths A4</th>\n",
       "      <th>Deaths A5</th>\n",
       "    </tr>\n",
       "  </thead>\n",
       "  <tbody>\n",
       "    <tr>\n",
       "      <th>Policy0_0</th>\n",
       "      <td>1.172700e+09</td>\n",
       "      <td>1.542487e+08</td>\n",
       "      <td>4.299761e+08</td>\n",
       "      <td>1.900943e+07</td>\n",
       "      <td>6.362715e+07</td>\n",
       "      <td>0.799299</td>\n",
       "      <td>0.140017</td>\n",
       "      <td>0.745159</td>\n",
       "      <td>0.008403</td>\n",
       "      <td>0.05562</td>\n",
       "    </tr>\n",
       "  </tbody>\n",
       "</table>\n",
       "</div>"
      ],
      "text/plain": [
       "               Costs A1      Costs A2      Costs A3      Costs A4  \\\n",
       "Policy0_0  1.172700e+09  1.542487e+08  4.299761e+08  1.900943e+07   \n",
       "\n",
       "               Costs A5  Deaths A1  Deaths A2  Deaths A3  Deaths A4  Deaths A5  \n",
       "Policy0_0  6.362715e+07   0.799299   0.140017   0.745159   0.008403    0.05562  "
      ]
     },
     "execution_count": 181,
     "metadata": {},
     "output_type": "execute_result"
    }
   ],
   "source": [
    "df = pd.concat([df_costs,df_death],axis=1)\n",
    "df "
   ]
  },
  {
   "cell_type": "markdown",
   "metadata": {},
   "source": [
    "__RUN THIS ONLY ONCE__ on the first time you run the code"
   ]
  },
  {
   "cell_type": "code",
   "execution_count": 186,
   "metadata": {},
   "outputs": [],
   "source": [
    "Master_df = df #RUN THIS ONLY ONCE!!!!!!"
   ]
  },
  {
   "cell_type": "markdown",
   "metadata": {},
   "source": [
    "__RUN THIS EVERY TIME YOU DO A NEW RUN__"
   ]
  },
  {
   "cell_type": "code",
   "execution_count": 187,
   "metadata": {},
   "outputs": [],
   "source": [
    "Master_df = pd.concat([Master_df,df],axis=0)"
   ]
  },
  {
   "cell_type": "code",
   "execution_count": 188,
   "metadata": {},
   "outputs": [
    {
     "data": {
      "text/html": [
       "<div>\n",
       "<style scoped>\n",
       "    .dataframe tbody tr th:only-of-type {\n",
       "        vertical-align: middle;\n",
       "    }\n",
       "\n",
       "    .dataframe tbody tr th {\n",
       "        vertical-align: top;\n",
       "    }\n",
       "\n",
       "    .dataframe thead th {\n",
       "        text-align: right;\n",
       "    }\n",
       "</style>\n",
       "<table border=\"1\" class=\"dataframe\">\n",
       "  <thead>\n",
       "    <tr style=\"text-align: right;\">\n",
       "      <th></th>\n",
       "      <th>Costs A1</th>\n",
       "      <th>Costs A2</th>\n",
       "      <th>Costs A3</th>\n",
       "      <th>Costs A4</th>\n",
       "      <th>Costs A5</th>\n",
       "      <th>Deaths A1</th>\n",
       "      <th>Deaths A2</th>\n",
       "      <th>Deaths A3</th>\n",
       "      <th>Deaths A4</th>\n",
       "      <th>Deaths A5</th>\n",
       "    </tr>\n",
       "  </thead>\n",
       "  <tbody>\n",
       "    <tr>\n",
       "      <th>Policy0_0</th>\n",
       "      <td>1.172700e+09</td>\n",
       "      <td>1.542487e+08</td>\n",
       "      <td>4.299761e+08</td>\n",
       "      <td>1.900943e+07</td>\n",
       "      <td>6.362715e+07</td>\n",
       "      <td>0.799299</td>\n",
       "      <td>0.140017</td>\n",
       "      <td>0.745159</td>\n",
       "      <td>0.008403</td>\n",
       "      <td>0.05562</td>\n",
       "    </tr>\n",
       "    <tr>\n",
       "      <th>Policy0_0</th>\n",
       "      <td>1.172700e+09</td>\n",
       "      <td>1.542487e+08</td>\n",
       "      <td>4.299761e+08</td>\n",
       "      <td>1.900943e+07</td>\n",
       "      <td>6.362715e+07</td>\n",
       "      <td>0.799299</td>\n",
       "      <td>0.140017</td>\n",
       "      <td>0.745159</td>\n",
       "      <td>0.008403</td>\n",
       "      <td>0.05562</td>\n",
       "    </tr>\n",
       "  </tbody>\n",
       "</table>\n",
       "</div>"
      ],
      "text/plain": [
       "               Costs A1      Costs A2      Costs A3      Costs A4  \\\n",
       "Policy0_0  1.172700e+09  1.542487e+08  4.299761e+08  1.900943e+07   \n",
       "Policy0_0  1.172700e+09  1.542487e+08  4.299761e+08  1.900943e+07   \n",
       "\n",
       "               Costs A5  Deaths A1  Deaths A2  Deaths A3  Deaths A4  Deaths A5  \n",
       "Policy0_0  6.362715e+07   0.799299   0.140017   0.745159   0.008403    0.05562  \n",
       "Policy0_0  6.362715e+07   0.799299   0.140017   0.745159   0.008403    0.05562  "
      ]
     },
     "execution_count": 188,
     "metadata": {},
     "output_type": "execute_result"
    }
   ],
   "source": [
    "Master_df"
   ]
  },
  {
   "cell_type": "code",
   "execution_count": null,
   "metadata": {},
   "outputs": [],
   "source": []
  }
 ],
 "metadata": {
  "kernelspec": {
   "display_name": "Python 3 (ipykernel)",
   "language": "python",
   "name": "python3"
  },
  "language_info": {
   "codemirror_mode": {
    "name": "ipython",
    "version": 3
   },
   "file_extension": ".py",
   "mimetype": "text/x-python",
   "name": "python",
   "nbconvert_exporter": "python",
   "pygments_lexer": "ipython3",
   "version": "3.8.10"
  }
 },
 "nbformat": 4,
 "nbformat_minor": 4
}