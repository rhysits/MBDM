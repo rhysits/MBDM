{
 "cells": [
  {
   "cell_type": "markdown",
   "source": [
    "# Directed_Search_Merged_Output.ipynb"
   ],
   "metadata": {
    "collapsed": false,
    "pycharm": {
     "name": "#%% md\n"
    }
   }
  },
  {
   "cell_type": "markdown",
   "source": [
    "This file merges the outputs from the previous baseline, worst case and best case runs and does rudiminary visualisations on them."
   ],
   "metadata": {
    "collapsed": false,
    "pycharm": {
     "name": "#%% md\n"
    }
   }
  },
  {
   "cell_type": "markdown",
   "source": [
    "**Imports and Setup**"
   ],
   "metadata": {
    "collapsed": false,
    "pycharm": {
     "name": "#%% md\n"
    }
   }
  },
  {
   "cell_type": "code",
   "execution_count": null,
   "outputs": [],
   "source": [
    "pf_id = 2 #The problem formulation ID"
   ],
   "metadata": {
    "collapsed": false,
    "pycharm": {
     "name": "#%%\n"
    }
   }
  },
  {
   "cell_type": "code",
   "execution_count": null,
   "outputs": [],
   "source": [
    "import pickle\n",
    "\n",
    "output_dict = {}\n",
    "for Case in range(0,3):\n",
    "    for experiment_number in range(1,3):\n",
    "        try:\n",
    "            with open(f'../final assignment/output/directed_search/compressed outputs/Directed_Search_{Case}_{experiment_number}.kwakkel', 'rb') as filehandler:\n",
    "                output_dict[(Case, experiment_number)] = pickle.load(filehandler)\n",
    "                filehandler.close()\n",
    "        except:\n",
    "            print(f\"No presaved output found for experiment_number {experiment_number} in Case {Case}\")\n",
    "#output_dict.keys()"
   ],
   "metadata": {
    "collapsed": false,
    "pycharm": {
     "name": "#%%\n"
    }
   }
  },
  {
   "cell_type": "markdown",
   "source": [
    "Every case aligns with a specific scenario: 0 is baseline, 1 is worst case, and 2 is best case."
   ],
   "metadata": {
    "collapsed": false,
    "pycharm": {
     "name": "#%% md\n"
    }
   }
  },
  {
   "cell_type": "markdown",
   "source": [
    "**nfe vs epsilon_progress in each scenario Case**"
   ],
   "metadata": {
    "collapsed": false,
    "pycharm": {
     "name": "#%% md\n"
    }
   }
  },
  {
   "cell_type": "code",
   "execution_count": null,
   "outputs": [],
   "source": [
    "import matplotlib.pyplot as plt\n",
    "Case = 0\n",
    "experiment_number = 1\n",
    "\n",
    "fig, ax1 = plt.subplots()\n",
    "#ax1.plot(convergence.nfe, convergence.epsilon_progress)\n",
    "\n",
    "for Case in range(0,3):\n",
    "    convergence = output_dict[(Case, experiment_number)][1]\n",
    "    ax1.plot(convergence.nfe, convergence.epsilon_progress, label =f'Case: {Case}')\n",
    "\n",
    "ax1.set_ylabel('$\\epsilon$-progress')\n",
    "ax1.set_xlabel('number of function evaluations')\n",
    "\n",
    "ax1.legend()\n",
    "ax1.set_title(\"nfe vs epsilon_progress in each scenario Case\")\n",
    "\n",
    "plt.figure(figsize=(15,15))\n",
    "\n",
    "fig.savefig(f\".\\output\\directed_search\\Directed_Search_combined_{experiment_number}_epsilon_progress.svg\", dpi=600, bbox_inches='tight')\n",
    "fig.savefig(f\".\\output\\directed_search\\Directed_Search_combined_{experiment_number}_epsilon_progress.png\", dpi=600, bbox_inches='tight')\n",
    "plt.show()"
   ],
   "metadata": {
    "collapsed": false,
    "pycharm": {
     "name": "#%%\n"
    }
   }
  },
  {
   "cell_type": "markdown",
   "source": [
    "**Paracord plots**"
   ],
   "metadata": {
    "collapsed": false,
    "pycharm": {
     "name": "#%% md\n"
    }
   }
  },
  {
   "cell_type": "code",
   "execution_count": null,
   "outputs": [],
   "source": [
    "from ema_workbench.analysis import parcoords\n",
    "import matplotlib.pyplot as plt\n",
    "import seaborn as sns\n",
    "import pandas as pd\n",
    "\n",
    "Case = 0\n",
    "experiment_number = 1\n",
    "\n",
    "colors = sns.color_palette()\n",
    "\n",
    "merged_outcomes = None\n",
    "merged_convergence = None\n",
    "for Case in range(0,3):\n",
    "    output_dict[(Case, experiment_number)][0][\"Case\"] = int(Case)\n",
    "    output_dict[(Case, experiment_number)][1][\"Case\"] = int(Case)\n",
    "    if merged_outcomes is None:\n",
    "        merged_outcomes = pd.DataFrame(output_dict[(Case, experiment_number)][0])\n",
    "    else:\n",
    "        merged_outcomes = pd.concat([merged_outcomes, pd.DataFrame(output_dict[(Case, experiment_number)][0])])\n",
    "    if merged_convergence is None:\n",
    "        merged_convergence = pd.DataFrame(output_dict[(Case, experiment_number)][1])\n",
    "    else:\n",
    "        merged_convergence = pd.concat([merged_convergence, pd.DataFrame(output_dict[(Case, experiment_number)][1])])\n",
    "\n",
    "outcomes = merged_outcomes.loc[:,['Expected Annual Damage','Dike Investment Costs','RfR Investment Costs','Evacuation Costs','Expected Number of Deaths','Case']]\n",
    "\n",
    "limits = parcoords.get_limits(outcomes)\n",
    "axes = parcoords.ParallelAxes(limits, fontsize=10, rot=45)\n",
    "\n",
    "# axes.plot(outcomes, label =f'Case: {Case}')\n",
    "cases = []\n",
    "for i, (index, row) in enumerate(outcomes.iterrows()):\n",
    "    if row['Case'] in cases:\n",
    "        axes.plot(row.to_frame().T, color=colors[int(row['Case'])], alpha=0.1)\n",
    "    else:\n",
    "        cases.append(row['Case'])\n",
    "        axes.plot(row.to_frame().T, label=f\"Case: {int(row['Case'])}\", color=colors[int(row['Case'])], alpha=0.1)\n",
    "\n",
    "axes.legend()\n",
    "\n",
    "plt.savefig(f\".\\output\\directed_search\\Directed_Search_combined_{experiment_number}_paracord_scores.svg\", dpi=600, bbox_inches='tight')\n",
    "plt.savefig(f\".\\output\\directed_search\\Directed_Search_combined_{experiment_number}_paracord_scores.png\", dpi=600, bbox_inches='tight')\n",
    "plt.show()"
   ],
   "metadata": {
    "collapsed": false,
    "pycharm": {
     "name": "#%%\n"
    }
   }
  },
  {
   "cell_type": "markdown",
   "source": [
    "**Save merged output**"
   ],
   "metadata": {
    "collapsed": false,
    "pycharm": {
     "name": "#%% md\n"
    }
   }
  },
  {
   "cell_type": "code",
   "execution_count": null,
   "outputs": [],
   "source": [
    "# results, convergence = output\n",
    "\n",
    "import pickle\n",
    "with open(f'./output/directed_search/Directed_Search_combined_{experiment_number}.kwakkel', 'wb') as filehandler:\n",
    "    pickle.dump((merged_outcomes,merged_convergence), filehandler)\n",
    "    filehandler.close()\n",
    "\n",
    "try:\n",
    "    merged_outcomes.to_csv(f'./output/directed_search/Directed_Search_combined_{experiment_number}_results.csv', index=False)\n",
    "    merged_convergence.to_csv(f'./output/directed_search/Directed_Search_combined_{experiment_number}_convergence.csv', index=False)\n",
    "except:\n",
    "    print(\"Unable to save as csv files\")"
   ],
   "metadata": {
    "collapsed": false,
    "pycharm": {
     "name": "#%%\n"
    }
   }
  },
  {
   "cell_type": "markdown",
   "source": [
    "**Load files**"
   ],
   "metadata": {
    "collapsed": false,
    "pycharm": {
     "name": "#%% md\n"
    }
   }
  },
  {
   "cell_type": "code",
   "execution_count": null,
   "outputs": [],
   "source": [
    "experiment_number = 2\n",
    "\n",
    "experiments = None\n",
    "outcomes = None\n",
    "for Case in range(0,3):\n",
    "    try:\n",
    "        output_dict[(Case, experiment_number)][0][\"Case\"] = int(Case)\n",
    "        output_dict[(Case, experiment_number)][1][\"Case\"] = int(Case)\n",
    "        if experiments is None:\n",
    "            experiments = pd.DataFrame(output_dict[(Case, experiment_number)][0])\n",
    "        else:\n",
    "            experiments = pd.concat([experiments, pd.DataFrame(output_dict[(Case, experiment_number)][0])])\n",
    "    except KeyError as e:\n",
    "        print(f\"No presaved experiments output found for experiment_number {experiment_number} in Case {Case}\")\n",
    "    try:\n",
    "        if outcomes is None:\n",
    "            outcomes = pd.DataFrame(output_dict[(Case, experiment_number)][1])\n",
    "        else:\n",
    "            outcomes = pd.concat([outcomes, pd.DataFrame(output_dict[(Case, experiment_number)][1])])\n",
    "    except KeyError as e:\n",
    "        print(f\"No presaved outcomes output found for experiment_number {experiment_number} in Case {Case}\")\n",
    "outcomes = pd.DataFrame(outcomes).reset_index().drop(columns=\"index\")\n",
    "experiments = pd.DataFrame(experiments).reset_index().drop(columns=\"index\")\n",
    "\n",
    "experiments['scenario'] = experiments.index"
   ],
   "metadata": {
    "collapsed": false,
    "pycharm": {
     "name": "#%%\n"
    }
   }
  },
  {
   "cell_type": "code",
   "execution_count": null,
   "outputs": [],
   "source": [
    "exp_group = experiments.groupby(by = 'policy')\n",
    "experiments = None\n",
    "for name, group in exp_group:\n",
    "    group.reset_index(inplace = True)\n",
    "    group['scenario'] = group.index\n",
    "    group.index = group['index']\n",
    "    group = group.drop(columns = 'index')\n",
    "    #exp_group.groups[name] = group\n",
    "    if experiments is None:\n",
    "        experiments = group\n",
    "    else:\n",
    "        experiments = pd.concat([experiments, group])\n",
    "\n",
    "experiments.sort_values(['Case','policy','scenario'], inplace=True)"
   ],
   "metadata": {
    "collapsed": false,
    "pycharm": {
     "name": "#%%\n"
    }
   }
  },
  {
   "cell_type": "markdown",
   "source": [
    "**Save merged output**"
   ],
   "metadata": {
    "collapsed": false,
    "pycharm": {
     "name": "#%% md\n"
    }
   }
  },
  {
   "cell_type": "code",
   "execution_count": null,
   "outputs": [],
   "source": [
    "# experiments, outcomes = results\n",
    "\n",
    "import pickle\n",
    "with open(f'./output/directed_search/Directed_Search_combined_{experiment_number}.kwakkel', 'wb') as filehandler:\n",
    "    pickle.dump((experiments,outcomes), filehandler)\n",
    "    filehandler.close()\n",
    "\n",
    "try:\n",
    "    experiments.to_csv(f'./output/directed_search/Directed_Search_combined_{experiment_number}_exp.csv', index=False)\n",
    "    outcomes.to_csv(f'./output/directed_search/Directed_Search_combined_{experiment_number}_out.csv', index=False)\n",
    "except:\n",
    "    print(\"Unable to save as csv files\")"
   ],
   "metadata": {
    "collapsed": false,
    "pycharm": {
     "name": "#%%\n"
    }
   }
  },
  {
   "cell_type": "markdown",
   "source": [
    "**More visualisations**"
   ],
   "metadata": {
    "collapsed": false,
    "pycharm": {
     "name": "#%% md\n"
    }
   }
  },
  {
   "cell_type": "code",
   "execution_count": null,
   "outputs": [],
   "source": [
    "from ema_workbench import (ScalarOutcome, Scenario, MultiprocessingEvaluator, SequentialEvaluator)\n",
    "from ema_workbench.em_framework.optimization import (HyperVolume, EpsilonProgress)\n",
    "from problem_formulation import get_model_for_problem_formulation\n",
    "from ema_workbench.util import ema_logging\n",
    "import pandas as pd\n",
    "import numpy as np\n",
    "import seaborn as sns\n",
    "\n",
    "ema_logging.log_to_stderr(ema_logging.INFO)\n",
    "\n",
    "model, planning_steps = get_model_for_problem_formulation(pf_id)\n",
    "\n",
    "def s_to_n(data, direction):\n",
    "    mean = np.mean(data)\n",
    "    std = np.std(data)\n",
    "\n",
    "    if direction==ScalarOutcome.MAXIMIZE:\n",
    "        return mean/std\n",
    "    else:\n",
    "        return mean*std\n",
    "\n",
    "overall_scores = {}\n",
    "for policy in np.unique(experiments['policy']):\n",
    "    scores = {}\n",
    "\n",
    "    logical = experiments['policy']==policy\n",
    "\n",
    "    for outcome in model.outcomes:\n",
    "        value  = outcomes[outcome.name][logical]\n",
    "        sn_ratio = s_to_n(value, outcome.kind)\n",
    "        scores[outcome.name] = sn_ratio\n",
    "    overall_scores[policy] = scores\n",
    "scores = pd.DataFrame.from_dict(overall_scores).T\n",
    "\n",
    "def calculate_regret(data, best):\n",
    "    return np.abs(best-data)\n",
    "\n",
    "overall_regret = {}\n",
    "max_regret = {}\n",
    "regret_by_case = {}\n",
    "overall_by_case = {}\n",
    "\n",
    "exp_group = experiments.groupby(by = 'Case')\n",
    "out_group = outcomes.groupby(by = 'Case')\n",
    "\n",
    "exp_group = dict(tuple(exp_group))\n",
    "out_group = dict(tuple(out_group))\n",
    "\n",
    "for outcome in model.outcomes:\n",
    "    for Case in experiments['Case'].unique():\n",
    "        policy_column = exp_group[Case]['policy']\n",
    "\n",
    "        # create a DataFrame with all the relevent information\n",
    "        # i.e., policy, scenario_id, and scores\n",
    "        data = pd.DataFrame({outcome.name: out_group[Case][outcome.name],\n",
    "                             \"Case\":exp_group[Case]['Case'],\n",
    "                             \"policy\":exp_group[Case]['policy'],\n",
    "                             \"scenario\":exp_group[Case]['scenario']})\n",
    "\n",
    "        # reorient the data by indexing with policy and scenario id\n",
    "        data = data.pivot(index='scenario', columns='policy')\n",
    "\n",
    "        # flatten the resulting hierarchical index resulting from\n",
    "        # pivoting, (might be a nicer solution possible)\n",
    "        data.columns = data.columns.get_level_values(1)\n",
    "\n",
    "        # we need to control the broadcasting.\n",
    "        # max returns a 1d vector across scenario id. By passing\n",
    "        # np.newaxis we ensure that the shape is the same as the data\n",
    "        # next we take the absolute value\n",
    "        #\n",
    "        # basically we take the difference of the maximum across\n",
    "        # the row and the actual values in the row\n",
    "        #\n",
    "        outcome_regret = (data.max(axis=1)[:, np.newaxis] - data).abs()\n",
    "\n",
    "        overall_regret[outcome.name] = outcome_regret\n",
    "\n",
    "        # overall_by_case[Case] = {}\n",
    "        # overall_by_case[Case][outcome.name] = outcome_regret\n",
    "        # overall_by_case[Case]['Case'] = pd.Series([Case]).repeat(len(outcome_regret))\n",
    "        # overall_by_case[Case]['Case'].reset_index(drop=True, inplace=True)\n",
    "\n",
    "        regret_by_case[Case] = {}\n",
    "        regret_by_case[Case][outcome.name] = outcome_regret.max()\n",
    "        regret_by_case[Case]['Case'] = pd.Series([Case]).repeat(len(outcome_regret.max()))\n",
    "        regret_by_case[Case]['Case'].reset_index(drop=True, inplace=True)\n",
    "\n",
    "    for Case in regret_by_case:\n",
    "        if outcome.name in max_regret:\n",
    "            max_regret['Case'] = pd.concat([max_regret['Case'], regret_by_case[Case]['Case']])\n",
    "            max_regret[outcome.name] = pd.concat([max_regret[outcome.name], regret_by_case[Case][outcome.name]])\n",
    "        else:\n",
    "            max_regret['Case'] = regret_by_case[Case]['Case']\n",
    "            max_regret[outcome.name] = regret_by_case[Case][outcome.name]\n",
    "        # if outcome.name in overall_regret:\n",
    "        #     overall_regret['Case'] = pd.concat([overall_regret['Case'], overall_by_case[Case]['Case']])\n",
    "        #     overall_regret[outcome.name] = overall_regret[outcome.name] + overall_by_case[Case][outcome.name]\n",
    "        # else:\n",
    "        #     overall_regret['Case'] = overall_by_case[Case]['Case']\n",
    "        #     overall_regret[outcome.name] = overall_by_case[Case][outcome.name]\n",
    "#max_regret['index'] = pd.Series(range(0,len(max_regret['Case'])))\n",
    "for item in max_regret.keys():\n",
    "    max_regret[item].reset_index(drop=True, inplace=True)\n",
    "# for item in overall_regret.keys():\n",
    "#     overall_regret[item].reset_index(drop=True, inplace=True)"
   ],
   "metadata": {
    "collapsed": false,
    "pycharm": {
     "name": "#%%\n"
    }
   }
  },
  {
   "cell_type": "code",
   "execution_count": null,
   "outputs": [],
   "source": [
    "max_regret = pd.DataFrame.from_dict(max_regret)\n",
    "\n",
    "fig, ax = plt.subplots(ncols=1, nrows=1, figsize=(10,100),\n",
    "                         sharey=True, sharex=True)\n",
    "ax.set_title(\"Heatmap\")\n",
    "sns.heatmap(max_regret/max_regret.max(),annot_kws={'size': 10}, cmap='viridis', square=True, annot=True, ax=ax)\n",
    "\n",
    "plt.savefig(f\".\\output\\directed_search\\Directed_Search_combined_{experiment_number}_heatmap.svg\", dpi=600, bbox_inches='tight')\n",
    "plt.savefig(f\".\\output\\directed_search\\Directed_Search_combined_{experiment_number}_heatmap.png\", dpi=600, bbox_inches='tight')\n",
    "\n",
    "plt.show()"
   ],
   "metadata": {
    "collapsed": false,
    "pycharm": {
     "name": "#%%\n"
    }
   }
  },
  {
   "cell_type": "code",
   "execution_count": null,
   "outputs": [],
   "source": [
    "data = max_regret\n",
    "\n",
    "colors = sns.color_palette()\n",
    "\n",
    "\n",
    "# makes it easier to identify the policy associated with each line\n",
    "# in the parcoords plot\n",
    "# data['policy'] = data.index.astype(\"float64\")\n",
    "\n",
    "limits = parcoords.get_limits(data)\n",
    "#limits.loc[0, ['utility', 'inertia', 'reliability', 'max_P']] = 0\n",
    "\n",
    "# fig = plt.figure(figsize=(15,15))\n",
    "# ax  = fig.add_subplot(111)\n",
    "\n",
    "plt.figure(figsize=(15,15))\n",
    "paraxes = parcoords.ParallelAxes(limits, fontsize=10, rot=45)\n",
    "cases = []\n",
    "for i, (index, row) in enumerate(data.iterrows()):\n",
    "    if row['Case'] in cases:\n",
    "        paraxes.plot(row.to_frame().T, color=colors[int(row['Case'])], alpha=0.1)\n",
    "    else:\n",
    "        cases.append(row['Case'])\n",
    "        paraxes.plot(row.to_frame().T, label=f\"Case: {int(row['Case'])}\", color=colors[int(row['Case'])], alpha=0.1)\n",
    "\n",
    "paraxes.legend()\n",
    "\n",
    "plt.savefig(f\".\\output\\directed_search\\Directed_Search_combined_{experiment_number}_paracord_regret.svg\", dpi=600, bbox_inches='tight')\n",
    "plt.savefig(f\".\\output\\directed_search\\Directed_Search_combined_{experiment_number}_paracord_regret.png\", dpi=600, bbox_inches='tight')\n",
    "\n",
    "plt.show()"
   ],
   "metadata": {
    "collapsed": false,
    "pycharm": {
     "name": "#%%\n"
    }
   }
  },
  {
   "cell_type": "code",
   "execution_count": null,
   "outputs": [],
   "source": [
    "from collections import defaultdict\n",
    "\n",
    "max_regret2 = {}\n",
    "overall_regret2 = {}\n",
    "for outcome in model.outcomes:\n",
    "    policy_column = experiments['policy']\n",
    "\n",
    "    data = pd.DataFrame({outcome.name: outcomes[outcome.name],\n",
    "                         \"policy\":experiments['policy'],\n",
    "                         \"scenario\":experiments['scenario']})\n",
    "    data = data.pivot(index='scenario', columns='policy')\n",
    "    data.columns = data.columns.get_level_values(1)\n",
    "    outcome_regret2 = (data.max(axis=1)[:, np.newaxis] - data).abs()\n",
    "    overall_regret2[outcome.name] = outcome_regret2\n",
    "    max_regret2[outcome.name] = outcome_regret2.max()\n",
    "\n",
    "max_regret2 = pd.DataFrame(max_regret2)\n",
    "\n",
    "policy_regret = defaultdict(dict)\n",
    "for key, value in overall_regret2.items():\n",
    "    for policy in value:\n",
    "        policy_regret[policy][key] = value[policy]"
   ],
   "metadata": {
    "collapsed": false,
    "pycharm": {
     "name": "#%%\n"
    }
   }
  },
  {
   "cell_type": "code",
   "execution_count": null,
   "outputs": [],
   "source": [
    "# this generates a 2 by 2 axes grid, with a shared X and Y axis\n",
    "# accross all plots\n",
    "fig, axes = plt.subplots(ncols=2, nrows=2, figsize=(15,15),\n",
    "                         sharey=True, sharex=True)\n",
    "\n",
    "# to ensure easy iteration over the axes grid, we turn it\n",
    "# into a list. Because there are four plots, I hard coded\n",
    "# this.\n",
    "axes = [axes[0,0], axes[0,1],\n",
    "        axes[1,0], axes[1,1]]\n",
    "\n",
    "# zip allows us to zip together the list of axes and the list of\n",
    "# key value pairs return by items. If we iterate over this\n",
    "# it returns a tuple of length 2. The first item is the ax\n",
    "# the second items is the key value pair.\n",
    "for ax, (policy, regret) in zip(axes, policy_regret.items()):\n",
    "    data = pd.DataFrame(regret)\n",
    "\n",
    "    # we need to scale the regret to ensure fair visual\n",
    "    # comparison. We can do that by divding by the maximum regret\n",
    "    data = data/max_regret.max(axis=0)\n",
    "    sns.boxplot(data=data, ax=ax)\n",
    "\n",
    "    # removes top and left hand black outline of axes\n",
    "    sns.despine()\n",
    "\n",
    "    # ensure we know which policy the figure is for\n",
    "    ax.set_title(str(policy))\n",
    "\n",
    "    ax.tick_params(axis='x', rotation=45)\n",
    "\n",
    "\n",
    "# plt.tight_layout()\n",
    "\n",
    "plt.savefig(f\".\\output\\directed_search\\Directed_Search_combined_{experiment_number}_box_and_whiskers.svg\", dpi=600, bbox_inches='tight')\n",
    "plt.savefig(f\".\\output\\directed_search\\Directed_Search_combined_{experiment_number}_box_and_whiskers.png\", dpi=600, bbox_inches='tight')\n",
    "\n",
    "plt.show()"
   ],
   "metadata": {
    "collapsed": false,
    "pycharm": {
     "name": "#%%\n"
    }
   }
  }
 ],
 "metadata": {
  "kernelspec": {
   "display_name": "Python 3 (ipykernel)",
   "language": "python",
   "name": "python3"
  },
  "language_info": {
   "codemirror_mode": {
    "name": "ipython",
    "version": 3
   },
   "file_extension": ".py",
   "mimetype": "text/x-python",
   "name": "python",
   "nbconvert_exporter": "python",
   "pygments_lexer": "ipython3",
   "version": "3.8.10"
  }
 },
 "nbformat": 4,
 "nbformat_minor": 5
}